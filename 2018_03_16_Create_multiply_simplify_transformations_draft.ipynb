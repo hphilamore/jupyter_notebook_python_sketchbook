{
 "cells": [
  {
   "cell_type": "code",
   "execution_count": 115,
   "metadata": {
    "collapsed": true
   },
   "outputs": [],
   "source": [
    "import sympy as sp\n",
    "# initialize printing so that all of the mathematical expressions can be rendered in standard mathematical notation\n",
    "from sympy.physics.vector import init_vprinting\n",
    "init_vprinting(use_latex='mathjax', pretty_print=False)\n",
    "from sympy.physics.mechanics import dynamicsymbols, Point, ReferenceFrame"
   ]
  },
  {
   "cell_type": "code",
   "execution_count": 116,
   "metadata": {
    "collapsed": true
   },
   "outputs": [],
   "source": [
    "theta1, theta2, l1, l2, theta, d, alpha, a = dynamicsymbols('theta1, theta2, l1, l2, theta, d, alpha, a')\n",
    "theta1, theta2, l1, l2, theta, d, alpha, a\n",
    "\n",
    "rot = sp.Matrix([[sp.cos(theta), -sp.sin(theta), 0],\n",
    "                 [sp.sin(theta),  sp.cos(theta), 0],\n",
    "                 [0,              0,             1]])\n",
    "\n",
    "trans = sp.Matrix([a * sp.cos(theta),\n",
    "                   a * sp.sin(theta),\n",
    "                   d])\n",
    "\n",
    "last_row = sp.Matrix([[0, 0, 0, 1]])\n",
    "\n",
    "m = sp.Matrix.vstack(sp.Matrix.hstack(rot, trans), last_row)"
   ]
  },
  {
   "cell_type": "code",
   "execution_count": 117,
   "metadata": {},
   "outputs": [
    {
     "data": {
      "text/latex": [
       "$$\\left[\\begin{matrix}\\operatorname{cos}\\left(\\theta\\right) & - \\operatorname{sin}\\left(\\theta\\right) & 0 & a \\operatorname{cos}\\left(\\theta\\right)\\\\\\operatorname{sin}\\left(\\theta\\right) & \\operatorname{cos}\\left(\\theta\\right) & 0 & a \\operatorname{sin}\\left(\\theta\\right)\\\\0 & 0 & 1 & d\\\\0 & 0 & 0 & 1\\end{matrix}\\right]$$"
      ],
      "text/plain": [
       "Matrix([\n",
       "[cos(theta), -sin(theta), 0, a*cos(theta)],\n",
       "[sin(theta),  cos(theta), 0, a*sin(theta)],\n",
       "[         0,           0, 1,            d],\n",
       "[         0,           0, 0,            1]])"
      ]
     },
     "execution_count": 117,
     "metadata": {},
     "output_type": "execute_result"
    }
   ],
   "source": [
    "m"
   ]
  },
  {
   "cell_type": "code",
   "execution_count": 118,
   "metadata": {},
   "outputs": [
    {
     "data": {
      "text/latex": [
       "$$\\left[\\begin{matrix}\\operatorname{cos}\\left(\\theta_{1}\\right) & - \\operatorname{sin}\\left(\\theta_{1}\\right) & 0 & l_{1} \\operatorname{cos}\\left(\\theta_{1}\\right)\\\\\\operatorname{sin}\\left(\\theta_{1}\\right) & \\operatorname{cos}\\left(\\theta_{1}\\right) & 0 & l_{1} \\operatorname{sin}\\left(\\theta_{1}\\right)\\\\0 & 0 & 1 & d\\\\0 & 0 & 0 & 1\\end{matrix}\\right]$$"
      ],
      "text/plain": [
       "Matrix([\n",
       "[cos(theta1), -sin(theta1), 0, l1*cos(theta1)],\n",
       "[sin(theta1),  cos(theta1), 0, l1*sin(theta1)],\n",
       "[          0,            0, 1,              d],\n",
       "[          0,            0, 0,              1]])"
      ]
     },
     "execution_count": 118,
     "metadata": {},
     "output_type": "execute_result"
    }
   ],
   "source": [
    "m01 = m.subs({alpha:0, a:l1, theta:theta1})\n",
    "m01"
   ]
  },
  {
   "cell_type": "code",
   "execution_count": 119,
   "metadata": {},
   "outputs": [
    {
     "data": {
      "text/latex": [
       "$$\\left[\\begin{matrix}\\operatorname{cos}\\left(\\theta_{2}\\right) & - \\operatorname{sin}\\left(\\theta_{2}\\right) & 0 & l_{2} \\operatorname{cos}\\left(\\theta_{2}\\right)\\\\\\operatorname{sin}\\left(\\theta_{2}\\right) & \\operatorname{cos}\\left(\\theta_{2}\\right) & 0 & l_{2} \\operatorname{sin}\\left(\\theta_{2}\\right)\\\\0 & 0 & 1 & d\\\\0 & 0 & 0 & 1\\end{matrix}\\right]$$"
      ],
      "text/plain": [
       "Matrix([\n",
       "[cos(theta2), -sin(theta2), 0, l2*cos(theta2)],\n",
       "[sin(theta2),  cos(theta2), 0, l2*sin(theta2)],\n",
       "[          0,            0, 1,              d],\n",
       "[          0,            0, 0,              1]])"
      ]
     },
     "execution_count": 119,
     "metadata": {},
     "output_type": "execute_result"
    }
   ],
   "source": [
    "m12 = m.subs({alpha:0, a:l2, theta:theta2})\n",
    "m12"
   ]
  },
  {
   "cell_type": "code",
   "execution_count": 120,
   "metadata": {},
   "outputs": [
    {
     "data": {
      "text/latex": [
       "$$\\left[\\begin{matrix}- \\operatorname{sin}\\left(\\theta_{1}\\right) \\operatorname{sin}\\left(\\theta_{2}\\right) + \\operatorname{cos}\\left(\\theta_{1}\\right) \\operatorname{cos}\\left(\\theta_{2}\\right) & - \\operatorname{sin}\\left(\\theta_{1}\\right) \\operatorname{cos}\\left(\\theta_{2}\\right) - \\operatorname{sin}\\left(\\theta_{2}\\right) \\operatorname{cos}\\left(\\theta_{1}\\right) & 0 & l_{1} \\operatorname{cos}\\left(\\theta_{1}\\right) - l_{2} \\operatorname{sin}\\left(\\theta_{1}\\right) \\operatorname{sin}\\left(\\theta_{2}\\right) + l_{2} \\operatorname{cos}\\left(\\theta_{1}\\right) \\operatorname{cos}\\left(\\theta_{2}\\right)\\\\\\operatorname{sin}\\left(\\theta_{1}\\right) \\operatorname{cos}\\left(\\theta_{2}\\right) + \\operatorname{sin}\\left(\\theta_{2}\\right) \\operatorname{cos}\\left(\\theta_{1}\\right) & - \\operatorname{sin}\\left(\\theta_{1}\\right) \\operatorname{sin}\\left(\\theta_{2}\\right) + \\operatorname{cos}\\left(\\theta_{1}\\right) \\operatorname{cos}\\left(\\theta_{2}\\right) & 0 & l_{1} \\operatorname{sin}\\left(\\theta_{1}\\right) + l_{2} \\operatorname{sin}\\left(\\theta_{1}\\right) \\operatorname{cos}\\left(\\theta_{2}\\right) + l_{2} \\operatorname{sin}\\left(\\theta_{2}\\right) \\operatorname{cos}\\left(\\theta_{1}\\right)\\\\0 & 0 & 1 & 2 d\\\\0 & 0 & 0 & 1\\end{matrix}\\right]$$"
      ],
      "text/plain": [
       "Matrix([\n",
       "[-sin(theta1)*sin(theta2) + cos(theta1)*cos(theta2), -sin(theta1)*cos(theta2) - sin(theta2)*cos(theta1), 0, l1*cos(theta1) - l2*sin(theta1)*sin(theta2) + l2*cos(theta1)*cos(theta2)],\n",
       "[ sin(theta1)*cos(theta2) + sin(theta2)*cos(theta1), -sin(theta1)*sin(theta2) + cos(theta1)*cos(theta2), 0, l1*sin(theta1) + l2*sin(theta1)*cos(theta2) + l2*sin(theta2)*cos(theta1)],\n",
       "[                                                 0,                                                  0, 1,                                                                      2*d],\n",
       "[                                                 0,                                                  0, 0,                                                                        1]])"
      ]
     },
     "execution_count": 120,
     "metadata": {},
     "output_type": "execute_result"
    }
   ],
   "source": [
    "m02 = (m01*m12)\n",
    "m02"
   ]
  },
  {
   "cell_type": "code",
   "execution_count": 104,
   "metadata": {},
   "outputs": [
    {
     "data": {
      "text/latex": [
       "$$4$$"
      ],
      "text/plain": [
       "4"
      ]
     },
     "execution_count": 104,
     "metadata": {},
     "output_type": "execute_result"
    }
   ],
   "source": [
    "m02.shape[0]"
   ]
  },
  {
   "cell_type": "code",
   "execution_count": 105,
   "metadata": {},
   "outputs": [
    {
     "data": {
      "text/latex": [
       "$$\\left[\\begin{matrix}\\operatorname{cos}\\left(\\theta_{1} + \\theta_{2}\\right) & - \\operatorname{sin}\\left(\\theta_{1} + \\theta_{2}\\right) & 0 & l_{1} \\operatorname{cos}\\left(\\theta_{1}\\right) + l_{2} \\operatorname{cos}\\left(\\theta_{1} + \\theta_{2}\\right)\\\\\\operatorname{sin}\\left(\\theta_{1} + \\theta_{2}\\right) & \\operatorname{cos}\\left(\\theta_{1} + \\theta_{2}\\right) & 0 & l_{1} \\operatorname{sin}\\left(\\theta_{1}\\right) + l_{2} \\operatorname{sin}\\left(\\theta_{1} + \\theta_{2}\\right)\\\\0 & 0 & 1 & 2 d\\\\0 & 0 & 0 & 1\\end{matrix}\\right]$$"
      ],
      "text/plain": [
       "Matrix([\n",
       "[cos(theta1 + theta2), -sin(theta1 + theta2), 0, l1*cos(theta1) + l2*cos(theta1 + theta2)],\n",
       "[sin(theta1 + theta2),  cos(theta1 + theta2), 0, l1*sin(theta1) + l2*sin(theta1 + theta2)],\n",
       "[                   0,                     0, 1,                                      2*d],\n",
       "[                   0,                     0, 0,                                        1]])"
      ]
     },
     "execution_count": 105,
     "metadata": {},
     "output_type": "execute_result"
    }
   ],
   "source": [
    "mbee= sp.Matrix([[m02[0,0].simplify(), m02[0,1].simplify(), m02[0,2].simplify(), sp.trigsimp(m02[0,3].simplify())],\n",
    "                 [m02[1,0].simplify(), m02[1,1].simplify(), m02[1,2].simplify(), sp.trigsimp(m02[1,3].simplify())],\n",
    "                 [m02[2,0].simplify(), m02[2,1].simplify(), m02[2,2].simplify(), m02[2,3].simplify()],\n",
    "                 [m02[3,0].simplify(), m02[3,1].simplify(), m02[3,2].simplify(), m02[3,3].simplify()]])\n",
    "\n",
    "mbee"
   ]
  },
  {
   "cell_type": "code",
   "execution_count": 121,
   "metadata": {
    "collapsed": true
   },
   "outputs": [],
   "source": [
    "for x in range(m02.shape[0]):\n",
    "    for y in range(m02.shape[1]):\n",
    "        \n",
    "        pass"
   ]
  },
  {
   "cell_type": "code",
   "execution_count": 122,
   "metadata": {},
   "outputs": [
    {
     "data": {
      "text/latex": [
       "$$\\left[\\begin{matrix}k & k & k & k\\\\k & k & k & k\\\\k & k & k & k\\\\k & k & k & k\\end{matrix}\\right]$$"
      ],
      "text/plain": [
       "Matrix([\n",
       "[k, k, k, k],\n",
       "[k, k, k, k],\n",
       "[k, k, k, k],\n",
       "[k, k, k, k]])"
      ]
     },
     "execution_count": 122,
     "metadata": {},
     "output_type": "execute_result"
    }
   ],
   "source": [
    "T = sp.ones(m02.shape[0],\n",
    "            m02.shape[1])\n",
    "k = sp.Symbol('k')\n",
    "T *= k\n",
    "# T.subs(0, y)\n",
    "T"
   ]
  },
  {
   "cell_type": "code",
   "execution_count": 126,
   "metadata": {},
   "outputs": [
    {
     "name": "stdout",
     "output_type": "stream",
     "text": [
      "0 0\n",
      "cos(theta1(t) + theta2(t))\n",
      "\n",
      "1 0\n",
      "-sin(theta1(t) + theta2(t))\n",
      "\n",
      "2 0\n",
      "0\n",
      "\n",
      "3 0\n",
      "l1(t)*cos(theta1(t)) + l2(t)*cos(theta1(t) + theta2(t))\n",
      "\n",
      "0 1\n",
      "sin(theta1(t) + theta2(t))\n",
      "\n",
      "1 1\n",
      "cos(theta1(t) + theta2(t))\n",
      "\n",
      "2 1\n",
      "0\n",
      "\n",
      "3 1\n",
      "l1(t)*sin(theta1(t)) + l2(t)*sin(theta1(t) + theta2(t))\n",
      "\n",
      "0 2\n",
      "k\n",
      "\n",
      "1 2\n",
      "k\n",
      "\n",
      "2 2\n",
      "k\n",
      "\n",
      "3 2\n",
      "k\n",
      "\n",
      "0 3\n",
      "k\n",
      "\n",
      "1 3\n",
      "k\n",
      "\n",
      "2 3\n",
      "k\n",
      "\n",
      "3 3\n",
      "k\n",
      "\n"
     ]
    },
    {
     "data": {
      "text/latex": [
       "$$\\left[\\begin{matrix}\\operatorname{cos}\\left(\\theta_{1} + \\theta_{2}\\right) & - \\operatorname{sin}\\left(\\theta_{1} + \\theta_{2}\\right) & 0 & l_{1} \\operatorname{cos}\\left(\\theta_{1}\\right) + l_{2} \\operatorname{cos}\\left(\\theta_{1} + \\theta_{2}\\right)\\\\\\operatorname{sin}\\left(\\theta_{1} + \\theta_{2}\\right) & \\operatorname{cos}\\left(\\theta_{1} + \\theta_{2}\\right) & 0 & l_{1} \\operatorname{sin}\\left(\\theta_{1}\\right) + l_{2} \\operatorname{sin}\\left(\\theta_{1} + \\theta_{2}\\right)\\\\0 & 0 & 1 & 2 d\\\\0 & 0 & 0 & 1\\end{matrix}\\right]$$"
      ],
      "text/plain": [
       "Matrix([\n",
       "[cos(theta1 + theta2), -sin(theta1 + theta2), 0, l1*cos(theta1) + l2*cos(theta1 + theta2)],\n",
       "[sin(theta1 + theta2),  cos(theta1 + theta2), 0, l1*sin(theta1) + l2*sin(theta1 + theta2)],\n",
       "[                   0,                     0, 1,                                      2*d],\n",
       "[                   0,                     0, 0,                                        1]])"
      ]
     },
     "execution_count": 126,
     "metadata": {},
     "output_type": "execute_result"
    }
   ],
   "source": [
    "for y in range(m02.shape[0]):\n",
    "    for x in range(m02.shape[1]):\n",
    "        print(x,y)\n",
    "        print(T[y,x])\n",
    "        T[y,x] = sp.trigsimp(m02[y,x].simplify())\n",
    "        print()\n",
    "#         \n",
    "        \n",
    "T"
   ]
  },
  {
   "cell_type": "code",
   "execution_count": null,
   "metadata": {
    "collapsed": true
   },
   "outputs": [],
   "source": []
  }
 ],
 "metadata": {
  "kernelspec": {
   "display_name": "PMW_robot_env",
   "language": "python",
   "name": "pmw_robot_env"
  },
  "language_info": {
   "codemirror_mode": {
    "name": "ipython",
    "version": 3
   },
   "file_extension": ".py",
   "mimetype": "text/x-python",
   "name": "python",
   "nbconvert_exporter": "python",
   "pygments_lexer": "ipython3",
   "version": "3.6.2"
  }
 },
 "nbformat": 4,
 "nbformat_minor": 2
}
