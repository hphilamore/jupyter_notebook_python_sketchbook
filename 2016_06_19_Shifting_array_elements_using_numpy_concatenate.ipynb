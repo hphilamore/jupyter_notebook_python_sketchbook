{
 "cells": [
  {
   "cell_type": "markdown",
   "metadata": {},
   "source": [
    "example from: http://stackoverflow.com/questions/27000466/python-shifting-the-position-of-each-object-to-left-or-right-in-a-random-array"
   ]
  },
  {
   "cell_type": "code",
   "execution_count": 6,
   "metadata": {
    "collapsed": false
   },
   "outputs": [
    {
     "name": "stdout",
     "output_type": "stream",
     "text": [
      "[56.059958975108906 499.1012350715249 382.6026718607898 315.743716651261\n",
      " 130.29540417500695 443.6929880706663 449.56319736889117 76.27686289005725\n",
      " 234.76196843214908 187.63642778783262]\n",
      "[0.0 0.0 0.0 56.059958975108906 499.1012350715249 382.6026718607898\n",
      " 315.743716651261 130.29540417500695 443.6929880706663 449.56319736889117]\n"
     ]
    }
   ],
   "source": [
    "import random\n",
    "import numpy as np\n",
    "\n",
    "#rand creates array between 0,1. multiple by 500 and recast to int to get the range you want\n",
    "def randomArray(n_Elementi):    \n",
    "    #return np.array(np.random.rand(n_Elementi)*500,dtype=int) \n",
    "    return np.array(np.random.rand(n_Elementi)*500,dtype=object) \n",
    "\n",
    "#seq[-n:] takes the elements n from the end to the end [-n:]. This is called splicing. similarly [:-n] ...\n",
    "def npshift(seq, n):\n",
    "    #return np.concatenate((seq[-n:], seq[:-n]))\n",
    "    return np.concatenate((seq[-n:]*0, seq[:-n]))\n",
    "\n",
    "n_Elementi = 10\n",
    "my_vector=randomArray(n_Elementi)\n",
    "print(my_vector)\n",
    "print(npshift(my_vector, 3))"
   ]
  },
  {
   "cell_type": "code",
   "execution_count": null,
   "metadata": {
    "collapsed": true
   },
   "outputs": [],
   "source": []
  }
 ],
 "metadata": {
  "kernelspec": {
   "display_name": "Python 3",
   "language": "python",
   "name": "python3"
  },
  "language_info": {
   "codemirror_mode": {
    "name": "ipython",
    "version": 3
   },
   "file_extension": ".py",
   "mimetype": "text/x-python",
   "name": "python",
   "nbconvert_exporter": "python",
   "pygments_lexer": "ipython3",
   "version": "3.5.1+"
  }
 },
 "nbformat": 4,
 "nbformat_minor": 0
}
