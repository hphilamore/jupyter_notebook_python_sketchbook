{
 "cells": [
  {
   "cell_type": "code",
   "execution_count": 7,
   "metadata": {},
   "outputs": [
    {
     "name": "stdout",
     "output_type": "stream",
     "text": [
      "Socket Created\n",
      "Ip address of www.google.com is 172.217.161.228\n",
      "Socket Connected to www.google.com on ip 172.217.161.228\n",
      "Message send successfully\n",
      "b'HTTP/1.1 302 Found\\r\\nCache-Control: private\\r\\nContent-Type: text/html; charset=UTF-8\\r\\nReferrer-Policy: no-referrer\\r\\nLocation: http://www.google.co.jp/?gfe_rd=cr&dcr=0&ei=i1a_WqbiIs6uX83OiMgF\\r\\nContent-Length: 269\\r\\nDate: Sat, 31 Mar 2018 09:36:11 GMT\\r\\n\\r\\n<HTML><HEAD><meta http-equiv=\"content-type\" content=\"text/html;charset=utf-8\">\\n<TITLE>302 Moved</TITLE></HEAD><BODY>\\n<H1>302 Moved</H1>\\nThe document has moved\\n<A HREF=\"http://www.google.co.jp/?gfe_rd=cr&amp;dcr=0&amp;ei=i1a_WqbiIs6uX83OiMgF\">here</A>.\\r\\n</BODY></HTML>\\r\\n'\n"
     ]
    }
   ],
   "source": [
    "#Socket client example in python\n",
    "import socket   #for sockets\n",
    "import sys  #for exit\n",
    "\n",
    "try:\n",
    "    #create an AF_INET, STREAM socket (TCP)\n",
    "    s = socket.socket(socket.AF_INET, socket.SOCK_STREAM)\n",
    "except socket.error:\n",
    "    print('Failed to create socket. Error code: ' + str(msg[0]) + ' , Error message : ' + msg[1])\n",
    "    sys.exit();\n",
    "\n",
    "print('Socket Created')\n",
    "\n",
    "host = 'www.google.com'\n",
    " \n",
    "try:\n",
    "    remote_ip = socket.gethostbyname( host )\n",
    " \n",
    "except socket.gaierror:\n",
    "    #could not resolve\n",
    "    print('Hostname could not be resolved. Exiting')\n",
    "    sys.exit()\n",
    "     \n",
    "print('Ip address of ' + host + ' is ' + remote_ip)\n",
    "\n",
    "port = 80\n",
    "\n",
    "#Connect to remote server\n",
    "s.connect((remote_ip , port))\n",
    " \n",
    "print('Socket Connected to ' + host + ' on ip ' + remote_ip)\n",
    "\n",
    "#Send some data to remote server\n",
    "#https://stackoverflow.com/questions/42612002/python-sockets-error-typeerror-a-bytes-like-object-is-required-not-str-with?noredirect=1&lq=1\n",
    "message = (b\"GET / HTTP/1.1\\r\\n\\r\\n\")\n",
    " \n",
    "try :\n",
    "    #Set the whole string\n",
    "    s.sendall(message)\n",
    "except socket.error:\n",
    "    #Send failed\n",
    "    print('Send failed')\n",
    "    sys.exit()\n",
    " \n",
    "print('Message send successfully')\n",
    "\n",
    "#Now receive data\n",
    "reply = s.recv(4096)\n",
    " \n",
    "print(reply)\n",
    "\n",
    "s.close()\n",
    "\n"
   ]
  },
  {
   "cell_type": "code",
   "execution_count": null,
   "metadata": {},
   "outputs": [
    {
     "name": "stdout",
     "output_type": "stream",
     "text": [
      "Socket Created\n",
      "Socket bind complete\n",
      "Socket now listening\n"
     ]
    }
   ],
   "source": [
    "#Socket server example in python\n",
    "import socket   #for sockets\n",
    "import sys, traceback  #for exit\n",
    "\n",
    "HOST = ''   # Symbolic name meaning all available interfaces\n",
    "PORT = 8889 # Arbitrary non-privileged port\n",
    "\n",
    "try:\n",
    "    #create an AF_INET, STREAM socket (TCP)\n",
    "    s = socket.socket(socket.AF_INET, socket.SOCK_STREAM)\n",
    "except socket.error:\n",
    "    print('Failed to create socket')#. Error code: ' + str(msg[0]) + ' , Error message : ' + msg[1])\n",
    "    sys.exit();\n",
    "print('Socket Created')\n",
    "\n",
    "\n",
    "try:\n",
    "    s.bind((HOST, PORT))\n",
    "except socket.error:\n",
    "    exc_type, exc_value, exc_traceback = sys.exc_info()\n",
    "#     print (\"*** print_tb:\")\n",
    "#     traceback.print_tb(exc_traceback, limit=1, file=sys.stdout)\n",
    "#    print (\"*** print_exception:\")\n",
    "    print('Bind failed')#. Error Code : ' + str(msg[0]) + ' Message ' + msg[1])\n",
    "    sys.exit()\n",
    "    traceback.print_exception(exc_type, exc_value, exc_traceback,\n",
    "                              limit=2, file=sys.stdout)\n",
    "print('Socket bind complete')\n",
    "\n",
    "s.listen(10)\n",
    "print('Socket now listening')\n",
    "\n",
    "#wait to accept a connection - blocking call\n",
    "conn, addr = s.accept()\n",
    " \n",
    "#display client information\n",
    "print('Connected with ' + addr[0] + ':' + str(addr[1]))\n",
    "\n",
    "#now keep talking with the client\n",
    "data = conn.recv(1024)\n",
    "conn.sendall(data)\n",
    " \n",
    "conn.close()\n",
    "s.close()"
   ]
  },
  {
   "cell_type": "code",
   "execution_count": null,
   "metadata": {
    "collapsed": true
   },
   "outputs": [],
   "source": []
  }
 ],
 "metadata": {
  "kernelspec": {
   "display_name": "Python 3",
   "language": "python",
   "name": "python3"
  },
  "language_info": {
   "codemirror_mode": {
    "name": "ipython",
    "version": 3
   },
   "file_extension": ".py",
   "mimetype": "text/x-python",
   "name": "python",
   "nbconvert_exporter": "python",
   "pygments_lexer": "ipython3",
   "version": "3.6.2"
  }
 },
 "nbformat": 4,
 "nbformat_minor": 2
}
