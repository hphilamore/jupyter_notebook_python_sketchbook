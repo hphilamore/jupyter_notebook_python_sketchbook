{
 "cells": [
  {
   "cell_type": "code",
   "execution_count": 1,
   "metadata": {},
   "outputs": [
    {
     "name": "stdout",
     "output_type": "stream",
     "text": [
      "Enter player name: hemma\n"
     ]
    }
   ],
   "source": [
    "score = 15\n",
    "name = input(\"Enter player name: \")\n",
    "\n",
    "with open(\"scores.txt\", \"a\") as file:\n",
    "    file.write(name + \" \" + str(score) + \"\\n\")"
   ]
  },
  {
   "cell_type": "code",
   "execution_count": null,
   "metadata": {},
   "outputs": [],
   "source": [
    "import sys\n",
    "print(sys.argv[0]) # prints filename\n",
    "print(sys.argv[1]) # prints arg1\n",
    "print(sys.argv[2]) # prints arg2\n",
    "\n",
    "with open(\"scores.txt\", \"a\") as file:\n",
    "    file.write(sys.argv[1] + \" \" + str(sys.argv[2]) + \"\\n\")"
   ]
  },
  {
   "cell_type": "code",
   "execution_count": null,
   "metadata": {},
   "outputs": [],
   "source": [
    "for ((i=1; i<=10; i++))\n",
    "do\n",
    "    python cmd_line_args.py hemma $i\n",
    "done"
   ]
  }
 ],
 "metadata": {
  "kernelspec": {
   "display_name": "Python 3",
   "language": "python",
   "name": "python3"
  },
  "language_info": {
   "codemirror_mode": {
    "name": "ipython",
    "version": 3
   },
   "file_extension": ".py",
   "mimetype": "text/x-python",
   "name": "python",
   "nbconvert_exporter": "python",
   "pygments_lexer": "ipython3",
   "version": "3.7.4"
  }
 },
 "nbformat": 4,
 "nbformat_minor": 2
}
