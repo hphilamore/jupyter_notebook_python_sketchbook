{
 "cells": [
  {
   "cell_type": "code",
   "execution_count": 1,
   "metadata": {
    "collapsed": true
   },
   "outputs": [],
   "source": [
    "import sympy as sp\n",
    "import numpy as np\n",
    "import matplotlib.pyplot as plt\n",
    "%matplotlib inline\n",
    "from numpy import deg2rad as d2r\n",
    "from numpy import pi as pi\n",
    "# initialize printing so that all of the mathematical expressions can be rendered in standard mathematical notation\n",
    "from sympy.physics.vector import init_vprinting\n",
    "init_vprinting(use_latex='mathjax', pretty_print=False)\n",
    "from sympy.physics.mechanics import dynamicsymbols, Point, ReferenceFrame"
   ]
  },
  {
   "cell_type": "code",
   "execution_count": 2,
   "metadata": {
    "scrolled": false
   },
   "outputs": [
    {
     "data": {
      "text/latex": [
       "$$\\left ( \\theta, \\quad a, \\quad \\alpha, \\quad d\\right )$$"
      ],
      "text/plain": [
       "(theta, a, alpha, d)"
      ]
     },
     "execution_count": 2,
     "metadata": {},
     "output_type": "execute_result"
    }
   ],
   "source": [
    "# theta1, theta2, d, alpha, a1, a2 = dynamicsymbols('theta1, theta2, d, alpha, a1, a2')\n",
    "# theta1, theta2, d, alpha, a1, a2\n",
    "\n",
    "numLinks = 3\n",
    "sp.symbols('a0:%d'%numLinks)\n",
    "sp.symbols('theta0:%d'%numLinks)\n",
    "theta, a, alpha, d = sp.symbols('theta, a, alpha, d')\n",
    "theta, a, alpha, d\n"
   ]
  },
  {
   "cell_type": "code",
   "execution_count": 3,
   "metadata": {},
   "outputs": [
    {
     "data": {
      "text/latex": [
       "$$\\left[\\begin{matrix}\\operatorname{cos}\\left(\\theta\\right) & - \\operatorname{sin}\\left(\\theta\\right) & 0 & a \\operatorname{cos}\\left(\\theta\\right)\\\\\\operatorname{sin}\\left(\\theta\\right) & \\operatorname{cos}\\left(\\theta\\right) & 0 & a \\operatorname{sin}\\left(\\theta\\right)\\\\0 & 0 & 1 & d\\\\0 & 0 & 0 & 1\\end{matrix}\\right]$$"
      ],
      "text/plain": [
       "Matrix([\n",
       "[cos(theta), -sin(theta), 0, a*cos(theta)],\n",
       "[sin(theta),  cos(theta), 0, a*sin(theta)],\n",
       "[         0,           0, 1,            d],\n",
       "[         0,           0, 0,            1]])"
      ]
     },
     "execution_count": 3,
     "metadata": {},
     "output_type": "execute_result"
    }
   ],
   "source": [
    "rot = sp.Matrix([[sp.cos(theta), -sp.sin(theta), 0],\n",
    "                 [sp.sin(theta),  sp.cos(theta), 0],\n",
    "                 [0,              0,             1]])\n",
    "\n",
    "trans = sp.Matrix([a * sp.cos(theta),\n",
    "                   a * sp.sin(theta),\n",
    "                   d])\n",
    "\n",
    "last_row = sp.Matrix([[0, 0, 0, 1]])\n",
    "\n",
    "Ai = sp.Matrix.vstack(sp.Matrix.hstack(rot, trans), last_row)\n",
    "\n",
    "Ai"
   ]
  },
  {
   "cell_type": "code",
   "execution_count": 4,
   "metadata": {},
   "outputs": [
    {
     "data": {
      "text/latex": [
       "$$\\left[\\begin{matrix}- \\operatorname{sin}\\left(\\theta_{1}\\right) \\operatorname{sin}\\left(\\theta_{2}\\right) + \\operatorname{cos}\\left(\\theta_{1}\\right) \\operatorname{cos}\\left(\\theta_{2}\\right) & - \\operatorname{sin}\\left(\\theta_{1}\\right) \\operatorname{cos}\\left(\\theta_{2}\\right) - \\operatorname{sin}\\left(\\theta_{2}\\right) \\operatorname{cos}\\left(\\theta_{1}\\right) & 0 & a_{1} \\operatorname{cos}\\left(\\theta_{1}\\right) - a_{2} \\operatorname{sin}\\left(\\theta_{1}\\right) \\operatorname{sin}\\left(\\theta_{2}\\right) + a_{2} \\operatorname{cos}\\left(\\theta_{1}\\right) \\operatorname{cos}\\left(\\theta_{2}\\right)\\\\\\operatorname{sin}\\left(\\theta_{1}\\right) \\operatorname{cos}\\left(\\theta_{2}\\right) + \\operatorname{sin}\\left(\\theta_{2}\\right) \\operatorname{cos}\\left(\\theta_{1}\\right) & - \\operatorname{sin}\\left(\\theta_{1}\\right) \\operatorname{sin}\\left(\\theta_{2}\\right) + \\operatorname{cos}\\left(\\theta_{1}\\right) \\operatorname{cos}\\left(\\theta_{2}\\right) & 0 & a_{1} \\operatorname{sin}\\left(\\theta_{1}\\right) + a_{2} \\operatorname{sin}\\left(\\theta_{1}\\right) \\operatorname{cos}\\left(\\theta_{2}\\right) + a_{2} \\operatorname{sin}\\left(\\theta_{2}\\right) \\operatorname{cos}\\left(\\theta_{1}\\right)\\\\0 & 0 & 1 & 2 d\\\\0 & 0 & 0 & 1\\end{matrix}\\right]$$"
      ],
      "text/plain": [
       "Matrix([\n",
       "[-sin(theta1)*sin(theta2) + cos(theta1)*cos(theta2), -sin(theta1)*cos(theta2) - sin(theta2)*cos(theta1), 0, a1*cos(theta1) - a2*sin(theta1)*sin(theta2) + a2*cos(theta1)*cos(theta2)],\n",
       "[ sin(theta1)*cos(theta2) + sin(theta2)*cos(theta1), -sin(theta1)*sin(theta2) + cos(theta1)*cos(theta2), 0, a1*sin(theta1) + a2*sin(theta1)*cos(theta2) + a2*sin(theta2)*cos(theta1)],\n",
       "[                                                 0,                                                  0, 1,                                                                      2*d],\n",
       "[                                                 0,                                                  0, 0,                                                                        1]])"
      ]
     },
     "execution_count": 4,
     "metadata": {},
     "output_type": "execute_result"
    }
   ],
   "source": [
    "aList = list(sp.symbols('a1:%d'%numLinks))\n",
    "tList = list(sp.symbols('theta1:%d'%numLinks))\n",
    "\n",
    "H = 1\n",
    "for ai, ti in zip(aList, tList):\n",
    "    H *= Ai.subs({a:ai, theta:ti})\n",
    "    \n",
    "H"
   ]
  },
  {
   "cell_type": "code",
   "execution_count": 5,
   "metadata": {},
   "outputs": [
    {
     "data": {
      "text/latex": [
       "$$\\left[\\begin{matrix}\\operatorname{cos}\\left(\\theta_{1} + \\theta_{2}\\right) & - \\operatorname{sin}\\left(\\theta_{1} + \\theta_{2}\\right) & 0 & a_{1} \\operatorname{cos}\\left(\\theta_{1}\\right) + a_{2} \\operatorname{cos}\\left(\\theta_{1} + \\theta_{2}\\right)\\\\\\operatorname{sin}\\left(\\theta_{1} + \\theta_{2}\\right) & \\operatorname{cos}\\left(\\theta_{1} + \\theta_{2}\\right) & 0 & a_{1} \\operatorname{sin}\\left(\\theta_{1}\\right) + a_{2} \\operatorname{sin}\\left(\\theta_{1} + \\theta_{2}\\right)\\\\0 & 0 & 1 & 2 d\\\\0 & 0 & 0 & 1\\end{matrix}\\right]$$"
      ],
      "text/plain": [
       "Matrix([\n",
       "[cos(theta1 + theta2), -sin(theta1 + theta2), 0, a1*cos(theta1) + a2*cos(theta1 + theta2)],\n",
       "[sin(theta1 + theta2),  cos(theta1 + theta2), 0, a1*sin(theta1) + a2*sin(theta1 + theta2)],\n",
       "[                   0,                     0, 1,                                      2*d],\n",
       "[                   0,                     0, 0,                                        1]])"
      ]
     },
     "execution_count": 5,
     "metadata": {},
     "output_type": "execute_result"
    }
   ],
   "source": [
    "k = sp.Symbol('k')\n",
    "T = sp.ones(Ai.shape[0],\n",
    "            Ai.shape[1])*k\n",
    "\n",
    "for y in range(Ai.shape[0]):\n",
    "    for x in range(Ai.shape[1]):\n",
    "#         print(x,y)\n",
    "#         print(T[y,x])\n",
    "        T[y,x] = sp.trigsimp(H[y,x].simplify())\n",
    "#         print()\n",
    "T"
   ]
  },
  {
   "cell_type": "code",
   "execution_count": 6,
   "metadata": {},
   "outputs": [
    {
     "data": {
      "text/latex": [
       "$$\\left[\\begin{matrix}\\operatorname{cos}\\left(\\theta_{1} + \\theta_{2}\\right) & - \\operatorname{sin}\\left(\\theta_{1} + \\theta_{2}\\right) & 0 & a_{1} \\operatorname{cos}\\left(\\theta_{1}\\right) + a_{2} \\operatorname{cos}\\left(\\theta_{1} + \\theta_{2}\\right)\\\\\\operatorname{sin}\\left(\\theta_{1} + \\theta_{2}\\right) & \\operatorname{cos}\\left(\\theta_{1} + \\theta_{2}\\right) & 0 & a_{1} \\operatorname{sin}\\left(\\theta_{1}\\right) + a_{2} \\operatorname{sin}\\left(\\theta_{1} + \\theta_{2}\\right)\\\\0 & 0 & 1 & 2 d\\\\0 & 0 & 0 & 1\\end{matrix}\\right]$$"
      ],
      "text/plain": [
       "Matrix([\n",
       "[cos(theta1 + theta2), -sin(theta1 + theta2), 0, a1*cos(theta1) + a2*cos(theta1 + theta2)],\n",
       "[sin(theta1 + theta2),  cos(theta1 + theta2), 0, a1*sin(theta1) + a2*sin(theta1 + theta2)],\n",
       "[                   0,                     0, 1,                                      2*d],\n",
       "[                   0,                     0, 0,                                        1]])"
      ]
     },
     "execution_count": 6,
     "metadata": {},
     "output_type": "execute_result"
    }
   ],
   "source": [
    "for y in range(Ai.shape[0]):\n",
    "    for x in range(Ai.shape[1]):\n",
    "#         print(x,y)\n",
    "#         print(T[y,x])\n",
    "        H[y,x] = sp.trigsimp(H[y,x].simplify())\n",
    "#         print()\n",
    "H"
   ]
  },
  {
   "cell_type": "code",
   "execution_count": 59,
   "metadata": {
    "collapsed": true
   },
   "outputs": [],
   "source": [
    "# substitute in experimental params\n",
    "d_val = 0\n",
    "alpha_val = 0\n",
    "a_vals = [27, 27, 27]\n",
    "t_vals = [pi/4, pi/4, pi/4]\n",
    "\n",
    "Tn = T.subs({d:d_val, alpha:alpha_val})\n",
    "for ai, ti, av, tv in zip(aList, tList, a_vals, t_vals):\n",
    "    Tn = Tn.subs({ai:av, ti:tv})\n",
    "\n"
   ]
  },
  {
   "cell_type": "code",
   "execution_count": 60,
   "metadata": {},
   "outputs": [
    {
     "data": {
      "text/latex": [
       "$$\\left[\\begin{matrix}0\\\\0\\\\0\\\\1\\end{matrix}\\right]$$"
      ],
      "text/plain": [
       "Matrix([\n",
       "[0],\n",
       "[0],\n",
       "[0],\n",
       "[1]])"
      ]
     },
     "execution_count": 60,
     "metadata": {},
     "output_type": "execute_result"
    }
   ],
   "source": [
    "# apply transformation to base coordinate frame\n",
    "\n",
    "SP = trans = sp.Matrix([0,\n",
    "                        0,\n",
    "                        0,\n",
    "                        1])\n",
    "\n",
    "SP"
   ]
  },
  {
   "cell_type": "code",
   "execution_count": 61,
   "metadata": {},
   "outputs": [
    {
     "data": {
      "text/latex": [
       "$$\\left[\\begin{matrix}19.0918830920368\\\\46.0918830920368\\\\0\\\\1\\end{matrix}\\right]$$"
      ],
      "text/plain": [
       "Matrix([\n",
       "[19.0918830920368],\n",
       "[46.0918830920368],\n",
       "[               0],\n",
       "[               1]])"
      ]
     },
     "execution_count": 61,
     "metadata": {},
     "output_type": "execute_result"
    }
   ],
   "source": [
    "EP = Tn*SP\n",
    "EP"
   ]
  },
  {
   "cell_type": "code",
   "execution_count": null,
   "metadata": {
    "collapsed": true
   },
   "outputs": [],
   "source": []
  }
 ],
 "metadata": {
  "kernelspec": {
   "display_name": "PMW_robot_env",
   "language": "python",
   "name": "pmw_robot_env"
  },
  "language_info": {
   "codemirror_mode": {
    "name": "ipython",
    "version": 3
   },
   "file_extension": ".py",
   "mimetype": "text/x-python",
   "name": "python",
   "nbconvert_exporter": "python",
   "pygments_lexer": "ipython3",
   "version": "3.6.2"
  }
 },
 "nbformat": 4,
 "nbformat_minor": 2
}
