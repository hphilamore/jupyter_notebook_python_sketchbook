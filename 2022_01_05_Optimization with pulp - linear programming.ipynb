{
 "cells": [
  {
   "cell_type": "markdown",
   "metadata": {},
   "source": [
    "https://towardsdatascience.com/linear-programming-and-discrete-optimization-with-python-using-pulp-449f3c5f6e99\n",
    "\n",
    "Git repo\n",
    "https://github.com/tirthajyoti/Optimization-Python"
   ]
  },
  {
   "cell_type": "markdown",
   "metadata": {},
   "source": [
    "You are in charge of the diet plan for high school lunch. Your job is to make sure that the students get the right balance of nutrition from the chosen food.\n",
    "\n",
    "The discrete optimization problem is simple: Minimize the cost of the lunch given these constraints (on total calories but also on each of the nutritional component e.g. protein etc.)\n",
    "\n",
    "${minimize} \\sum C_i\\dot f_i$\n",
    "\n",
    "Constraints\n",
    "\n",
    "${carbs_{low}} < \\sum Carb_i \\dot f_i < carbs_{hi}$\n",
    "\n",
    "${fat_{low}} < \\sum Fat_i \\dot f_i < fat_{hi}$\n",
    "\n",
    "...\n",
    "\n",
    "Notice that the inequality relations are all linear in nature i.e. the variables f are multiplied by constant coefficients and the resulting terms are bounded by constant limits and that’s what makes this problem solvable by an LP technique."
   ]
  },
  {
   "cell_type": "code",
   "execution_count": 56,
   "metadata": {},
   "outputs": [],
   "source": [
    "import pulp \n",
    "from pulp import *\n",
    "import pandas as pd"
   ]
  },
  {
   "cell_type": "markdown",
   "metadata": {},
   "source": [
    "Create a linear programming minimization problem"
   ]
  },
  {
   "cell_type": "code",
   "execution_count": 67,
   "metadata": {},
   "outputs": [],
   "source": [
    "\n",
    "prob = LpProblem(\"Diet Problem\",LpMinimize)\n"
   ]
  },
  {
   "cell_type": "code",
   "execution_count": 58,
   "metadata": {},
   "outputs": [],
   "source": [
    "# Read the first few rows of dataset in a Pandas DataFrame\n",
    "# Reads only the nutrition info not the bounds/constraints\n",
    "df = pd.read_excel(\"data/diet - medium.xls\",nrows=17)"
   ]
  },
  {
   "cell_type": "markdown",
   "metadata": {},
   "source": [
    "Use dictionaries to store tabulated information for each nutrition componet of interest"
   ]
  },
  {
   "cell_type": "code",
   "execution_count": 59,
   "metadata": {},
   "outputs": [],
   "source": [
    "# Create a list of the food items\n",
    "food_items = list(df['Foods'])\n",
    "\n",
    "# Create a dictinary of costs for all food items\n",
    "costs = dict(zip(food_items,df['Price/Serving']))\n",
    "\n",
    "# Create a dictionary of calories for all food items\n",
    "calories = dict(zip(food_items,df['Calories']))\n",
    "\n",
    "# Create a dictionary of total fat for all food items\n",
    "fat = dict(zip(food_items,df['Total_Fat (g)']))\n",
    "\n",
    "# Create a dictionary of carbohydrates for all food items\n",
    "carbs = dict(zip(food_items,df['Carbohydrates (g)']))\n",
    "\n",
    "# Create a dictionary of carbohydrates for all food items\n",
    "fiber = dict(zip(food_items,df['Dietary_Fiber (g)']))\n",
    "\n",
    "# Create a dictionary of carbohydrates for all food items\n",
    "protein = dict(zip(food_items,df['Protein (g)']))"
   ]
  },
  {
   "cell_type": "markdown",
   "metadata": {},
   "source": [
    "Create a dictionary of food items variables with:\n",
    "- lower bound (e.g. 0) on the quantity assigned to each food\n",
    "- category `continuous` i.e. the optimization solution can take any real-numbered value greater than zero."
   ]
  },
  {
   "cell_type": "code",
   "execution_count": 60,
   "metadata": {},
   "outputs": [],
   "source": [
    "food_vars = LpVariable.dicts(\"Food\",           # name\n",
    "                             food_items,       # list of items we created earlier\n",
    "                             lowBound=0,       # lower bound\n",
    "                             cat='Continuous'  # solution data type\n",
    "                            )"
   ]
  },
  {
   "cell_type": "markdown",
   "metadata": {},
   "source": [
    "Main objective function (i.e. function to minimize)"
   ]
  },
  {
   "cell_type": "code",
   "execution_count": 61,
   "metadata": {},
   "outputs": [],
   "source": [
    "prob += lpSum([costs[i]*food_vars[i] for i in food_items])"
   ]
  },
  {
   "cell_type": "markdown",
   "metadata": {},
   "source": [
    "Constraints"
   ]
  },
  {
   "cell_type": "code",
   "execution_count": 62,
   "metadata": {},
   "outputs": [],
   "source": [
    "# Calories\n",
    "prob += lpSum([calories[f] * food_vars[f] for f in food_items]) >= 800.0,  \"CalsMinimum\"\n",
    "prob += lpSum([calories[f] * food_vars[f] for f in food_items]) <= 1300.0, \"CalsMaximum\"\n",
    "\n",
    "# Carbs\n",
    "prob += lpSum([carbs[f] * food_vars[f] for f in food_items]) >= 130.0, \"CarbsMinimum\"\n",
    "prob += lpSum([carbs[f] * food_vars[f] for f in food_items]) <= 200.0, \"CarbsMaximum\"\n",
    "\n",
    "# Fat\n",
    "prob += lpSum([fat[f] * food_vars[f] for f in food_items]) >= 20.0, \"FatMinimum\"\n",
    "prob += lpSum([fat[f] * food_vars[f] for f in food_items]) <= 50.0, \"FatMaximum\"\n",
    "\n",
    "# Fiber\n",
    "prob += lpSum([fiber[f] * food_vars[f] for f in food_items]) >= 60.0, \"FiberMinimum\"\n",
    "prob += lpSum([fiber[f] * food_vars[f] for f in food_items]) <= 125.0, \"FiberMaximum\"\n",
    "\n",
    "# Protein\n",
    "prob += lpSum([protein[f] * food_vars[f] for f in food_items]) >= 100.0, \"ProteinMinimum\"\n",
    "prob += lpSum([protein[f] * food_vars[f] for f in food_items]) <= 150.0, \"ProteinMaximum\"\n",
    "\n"
   ]
  },
  {
   "cell_type": "markdown",
   "metadata": {},
   "source": [
    "Find solution"
   ]
  },
  {
   "cell_type": "code",
   "execution_count": 63,
   "metadata": {},
   "outputs": [
    {
     "name": "stdout",
     "output_type": "stream",
     "text": [
      "Status: Optimal\n"
     ]
    }
   ],
   "source": [
    "prob.solve()\n",
    "\n",
    "print(\"Status:\", LpStatus[prob.status])"
   ]
  },
  {
   "cell_type": "markdown",
   "metadata": {},
   "source": [
    "Display solution"
   ]
  },
  {
   "cell_type": "code",
   "execution_count": 64,
   "metadata": {},
   "outputs": [
    {
     "name": "stdout",
     "output_type": "stream",
     "text": [
      "Food_Frozen_Broccoli = 6.9242113\n",
      "Food_Scrambled_Eggs = 6.060891\n",
      "Food__Baked_Potatoes = 1.0806324\n"
     ]
    }
   ],
   "source": [
    "for v in prob.variables():\n",
    "    if v.varValue>0:\n",
    "        print(v.name, \"=\", v.varValue)"
   ]
  },
  {
   "cell_type": "markdown",
   "metadata": {},
   "source": [
    "Objective function, total cost of meal. \n",
    "\n",
    "Optimized value is minimumm cost given nutritional constraints"
   ]
  },
  {
   "cell_type": "code",
   "execution_count": 66,
   "metadata": {},
   "outputs": [
    {
     "name": "stdout",
     "output_type": "stream",
     "text": [
      "The total cost of this balanced meal is: £ 5.52\n"
     ]
    }
   ],
   "source": [
    "obj = value(prob.objective)\n",
    "print(f\"The total cost of this balanced meal is: £ {round(obj,2)}\")"
   ]
  },
  {
   "cell_type": "code",
   "execution_count": null,
   "metadata": {},
   "outputs": [],
   "source": []
  }
 ],
 "metadata": {
  "kernelspec": {
   "display_name": "Python 3",
   "language": "python",
   "name": "python3"
  },
  "language_info": {
   "codemirror_mode": {
    "name": "ipython",
    "version": 3
   },
   "file_extension": ".py",
   "mimetype": "text/x-python",
   "name": "python",
   "nbconvert_exporter": "python",
   "pygments_lexer": "ipython3",
   "version": "3.8.3"
  }
 },
 "nbformat": 4,
 "nbformat_minor": 4
}
