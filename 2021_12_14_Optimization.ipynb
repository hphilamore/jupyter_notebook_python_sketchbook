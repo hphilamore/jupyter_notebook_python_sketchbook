{
 "cells": [
  {
   "cell_type": "markdown",
   "metadata": {},
   "source": [
    "# Knapsack\n",
    "Given a set of items, each with a weight and a value, determine the number of each item to include in a collection so that the total weight is less than or equal to a given limit and the total value is as large as possible."
   ]
  },
  {
   "cell_type": "code",
   "execution_count": 3,
   "metadata": {},
   "outputs": [],
   "source": [
    "import numpy as np"
   ]
  },
  {
   "cell_type": "code",
   "execution_count": 75,
   "metadata": {},
   "outputs": [],
   "source": [
    "W = 10\n",
    "v_ = [10, 40, 30, 50]\n",
    "w_ = [5, 4, 6, 3]\n",
    "\n",
    "\n",
    "def knapsack(v_, w_, W): \n",
    "    \"\"\"\n",
    "    v_ = values\n",
    "    w_ = weights\n",
    "    W = max weight\n",
    "    \"\"\"\n",
    "    n = len(v_)\n",
    "    \n",
    "    V = np.zeros((n+1,W+1))\n",
    "    keep = np.zeros((n+1,W+1))\n",
    "    \n",
    "#     for w in range(W+1):\n",
    "#         V[0,w] = 0\n",
    "\n",
    "    for i in range(1, n+1):\n",
    "        for w in range(W+1):\n",
    "            #print(i,w)\n",
    "            \n",
    "            # take item\n",
    "            if w >= w_[i-1] and (v_[i-1] + V[i-1, w-w_[i-1]] > V[i-1,w]):\n",
    "            \n",
    "                V[i,w] = v_[i-1] + V[i-1, w-w_[i-1]]\n",
    "                \n",
    "                keep[i,w] = 1\n",
    "                \n",
    "            # leave item\n",
    "            else:\n",
    "                V[i,w] = V[i-1,w]\n",
    "\n",
    "        \n",
    "        \n",
    "    return V, keep\n",
    "        \n",
    "    \n",
    "    "
   ]
  },
  {
   "cell_type": "code",
   "execution_count": 76,
   "metadata": {
    "scrolled": true
   },
   "outputs": [
    {
     "name": "stdout",
     "output_type": "stream",
     "text": [
      "[[ 0.  0.  0.  0.  0.  0.  0.  0.  0.  0.  0.]\n",
      " [ 0.  0.  0.  0.  0. 10. 10. 10. 10. 10. 10.]\n",
      " [ 0.  0.  0.  0. 40. 40. 40. 40. 40. 50. 50.]\n",
      " [ 0.  0.  0.  0. 40. 40. 40. 40. 40. 50. 70.]\n",
      " [ 0.  0.  0. 50. 50. 50. 50. 90. 90. 90. 90.]]\n",
      "[[0. 0. 0. 0. 0. 0. 0. 0. 0. 0. 0.]\n",
      " [0. 0. 0. 0. 0. 1. 1. 1. 1. 1. 1.]\n",
      " [0. 0. 0. 0. 1. 1. 1. 1. 1. 1. 1.]\n",
      " [0. 0. 0. 0. 0. 0. 0. 0. 0. 0. 1.]\n",
      " [0. 0. 0. 1. 1. 1. 1. 1. 1. 1. 1.]]\n"
     ]
    }
   ],
   "source": [
    "V, keep = knapsack(v_, w_, W)\n",
    "print(V)\n",
    "print(keep)"
   ]
  },
  {
   "cell_type": "code",
   "execution_count": 77,
   "metadata": {},
   "outputs": [
    {
     "name": "stdout",
     "output_type": "stream",
     "text": [
      "3\n",
      "7\n",
      "4\n",
      "3\n",
      "[4, 2]\n"
     ]
    }
   ],
   "source": [
    "T = []\n",
    "\n",
    "K = W\n",
    "\n",
    "for i in range(n, -1, -1):\n",
    "    if keep[i,K]==1:\n",
    "        print(w_[i-1])\n",
    "        K = K-w_[i-1]\n",
    "        print(K)\n",
    "        T.append(i)\n",
    "        \n",
    "print(T)"
   ]
  },
  {
   "cell_type": "code",
   "execution_count": null,
   "metadata": {},
   "outputs": [],
   "source": [
    "v_ = [60, 100, 120]\n",
    "w_ = [10, 20, 30]\n",
    "W = 50"
   ]
  },
  {
   "cell_type": "markdown",
   "metadata": {},
   "source": [
    "# Subset \n",
    "\n",
    "Subset with maximum value without exceeding limit (special case of Knapsack)"
   ]
  },
  {
   "cell_type": "code",
   "execution_count": 120,
   "metadata": {},
   "outputs": [],
   "source": [
    "def subset_sum(data, limit):\n",
    "    \n",
    "    cache = [None for _ in range(limit+1)]\n",
    "    cache[0] = []\n",
    "    \n",
    "    for d in data:\n",
    "        for i in range(limit - d, -1, -1):\n",
    "            print(i, end=',')\n",
    "            if cache[i] is not None:\n",
    "                cache[i + d] = cache[i] + [d]\n",
    "        print()\n",
    "        \n",
    "    return(cache)\n",
    "                \n",
    "                "
   ]
  },
  {
   "cell_type": "code",
   "execution_count": 119,
   "metadata": {
    "scrolled": true
   },
   "outputs": [
    {
     "name": "stdout",
     "output_type": "stream",
     "text": [
      "49,48,47,46,45,44,43,42,41,40,39,38,37,36,35,34,33,32,31,30,29,28,27,26,25,24,23,22,21,20,19,18,17,16,15,14,13,12,11,10,9,8,7,6,5,4,3,2,1,0,\n",
      "48,47,46,45,44,43,42,41,40,39,38,37,36,35,34,33,32,31,30,29,28,27,26,25,24,23,22,21,20,19,18,17,16,15,14,13,12,11,10,9,8,7,6,5,4,3,2,1,0,\n",
      "47,46,45,44,43,42,41,40,39,38,37,36,35,34,33,32,31,30,29,28,27,26,25,24,23,22,21,20,19,18,17,16,15,14,13,12,11,10,9,8,7,6,5,4,3,2,1,0,\n",
      "46,45,44,43,42,41,40,39,38,37,36,35,34,33,32,31,30,29,28,27,26,25,24,23,22,21,20,19,18,17,16,15,14,13,12,11,10,9,8,7,6,5,4,3,2,1,0,\n",
      "37,36,35,34,33,32,31,30,29,28,27,26,25,24,23,22,21,20,19,18,17,16,15,14,13,12,11,10,9,8,7,6,5,4,3,2,1,0,\n",
      "47,46,45,44,43,42,41,40,39,38,37,36,35,34,33,32,31,30,29,28,27,26,25,24,23,22,21,20,19,18,17,16,15,14,13,12,11,10,9,8,7,6,5,4,3,2,1,0,\n",
      "25,24,23,22,21,20,19,18,17,16,15,14,13,12,11,10,9,8,7,6,5,4,3,2,1,0,\n",
      "30,29,28,27,26,25,24,23,22,21,20,19,18,17,16,15,14,13,12,11,10,9,8,7,6,5,4,3,2,1,0,\n"
     ]
    },
    {
     "data": {
      "text/plain": [
       "[[],\n",
       " [1],\n",
       " [2],\n",
       " [3],\n",
       " [1, 3],\n",
       " [2, 3],\n",
       " [3, 3],\n",
       " [4, 3],\n",
       " [1, 4, 3],\n",
       " [2, 4, 3],\n",
       " [3, 4, 3],\n",
       " [1, 3, 4, 3],\n",
       " [2, 3, 4, 3],\n",
       " [1, 2, 3, 4, 3],\n",
       " [1, 13],\n",
       " [2, 13],\n",
       " [13, 3],\n",
       " [1, 13, 3],\n",
       " [2, 13, 3],\n",
       " [3, 13, 3],\n",
       " [20],\n",
       " [1, 20],\n",
       " [2, 20],\n",
       " [3, 20],\n",
       " [1, 3, 20],\n",
       " [2, 3, 20],\n",
       " [3, 3, 20],\n",
       " [4, 3, 20],\n",
       " [1, 4, 3, 20],\n",
       " [2, 4, 3, 20],\n",
       " [3, 4, 3, 20],\n",
       " [1, 3, 4, 3, 20],\n",
       " [2, 3, 4, 3, 20],\n",
       " [1, 2, 3, 4, 3, 20],\n",
       " [1, 13, 20],\n",
       " [2, 13, 20],\n",
       " [13, 3, 20],\n",
       " [1, 13, 3, 20],\n",
       " [2, 13, 3, 20],\n",
       " [3, 13, 3, 20],\n",
       " [4, 13, 3, 20],\n",
       " [1, 4, 13, 3, 20],\n",
       " [2, 4, 13, 3, 20],\n",
       " [3, 4, 13, 3, 20],\n",
       " [1, 3, 4, 13, 3, 20],\n",
       " [25, 20],\n",
       " [1, 25, 20],\n",
       " [2, 25, 20],\n",
       " [3, 25, 20],\n",
       " [1, 3, 25, 20],\n",
       " [2, 3, 25, 20]]"
      ]
     },
     "execution_count": 119,
     "metadata": {},
     "output_type": "execute_result"
    }
   ],
   "source": [
    "data = [1, 2, 3, 4, 13, 3, 25, 20]\n",
    "subset_sum(data, 50)\n",
    "\n"
   ]
  },
  {
   "cell_type": "markdown",
   "metadata": {},
   "source": [
    "# Subset sum "
   ]
  },
  {
   "cell_type": "code",
   "execution_count": null,
   "metadata": {},
   "outputs": [],
   "source": []
  }
 ],
 "metadata": {
  "kernelspec": {
   "display_name": "Python 3",
   "language": "python",
   "name": "python3"
  },
  "language_info": {
   "codemirror_mode": {
    "name": "ipython",
    "version": 3
   },
   "file_extension": ".py",
   "mimetype": "text/x-python",
   "name": "python",
   "nbconvert_exporter": "python",
   "pygments_lexer": "ipython3",
   "version": "3.7.4"
  }
 },
 "nbformat": 4,
 "nbformat_minor": 2
}
