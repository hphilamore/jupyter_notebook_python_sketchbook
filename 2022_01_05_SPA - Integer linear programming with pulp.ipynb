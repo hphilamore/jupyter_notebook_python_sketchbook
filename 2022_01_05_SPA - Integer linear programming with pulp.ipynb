{
 "cells": [
  {
   "cell_type": "code",
   "execution_count": null,
   "metadata": {},
   "outputs": [],
   "source": [
    "import pulp"
   ]
  },
  {
   "cell_type": "code",
   "execution_count": 2,
   "metadata": {},
   "outputs": [],
   "source": [
    "\n",
    "import csv\n",
    "import pandas as pd\n",
    "import numpy as np\n",
    "import itertools"
   ]
  },
  {
   "cell_type": "markdown",
   "metadata": {},
   "source": [
    "End of file name for data to be fed to model"
   ]
  },
  {
   "cell_type": "code",
   "execution_count": null,
   "metadata": {},
   "outputs": [],
   "source": [
    "# fname = 'ideal' # first choice of each student uniquely ranked 1\n",
    "\n",
    "fname = '0'     # randomly generated seelction form"
   ]
  },
  {
   "cell_type": "code",
   "execution_count": 3,
   "metadata": {},
   "outputs": [
    {
     "name": "stdout",
     "output_type": "stream",
     "text": [
      "[[1 0 0 0 0 0 0 0 0 4 3 2 5 0 0]\n",
      " [0 1 0 0 4 0 0 0 5 0 3 2 0 0 0]\n",
      " [0 0 1 0 2 0 0 0 3 4 0 0 0 5 0]\n",
      " [0 0 0 1 0 4 0 0 2 0 0 0 0 3 5]\n",
      " [0 0 0 0 1 5 0 0 2 0 0 0 4 0 3]\n",
      " [0 0 0 0 0 1 4 0 0 5 0 3 0 0 2]\n",
      " [0 0 0 4 0 0 1 0 3 0 0 0 5 0 2]\n",
      " [0 0 4 0 0 0 0 1 0 0 0 2 3 0 5]\n",
      " [0 0 0 0 0 0 0 2 1 4 0 3 5 0 0]\n",
      " [0 0 0 0 3 0 0 0 0 1 0 5 2 4 0]]\n"
     ]
    }
   ],
   "source": [
    "# build student project selection form by importing\n",
    "with open(f'data/student_preference_matrices/student_preference_matrix_{fname}.csv', 'r') as f:   \n",
    "        \n",
    "        cost_matrix = csv.reader(f)\n",
    "        \n",
    "        cost_matrix = [[int(i) for i in j] for j in cost_matrix] # convert from string\n",
    "        \n",
    "        cost_matrix = np.array(cost_matrix)\n",
    "        \n",
    "print(cost_matrix)\n",
    "        \n",
    "n_students, n_projects = cost_matrix.shape"
   ]
  },
  {
   "cell_type": "markdown",
   "metadata": {},
   "source": [
    "Student grades weighting, $\\alpha$ \n",
    "\n",
    "(set all weights as equal if not using this property)"
   ]
  },
  {
   "cell_type": "code",
   "execution_count": 4,
   "metadata": {},
   "outputs": [
    {
     "name": "stdout",
     "output_type": "stream",
     "text": [
      "[1. 1. 1. 1. 1. 1. 1. 1. 1. 1.]\n"
     ]
    }
   ],
   "source": [
    "alpha = np.ones(n_students)\n",
    "\n",
    "print(alpha)"
   ]
  },
  {
   "cell_type": "markdown",
   "metadata": {},
   "source": [
    "Max students each project can take, $\\chi$ (i.e. project capacity vector)"
   ]
  },
  {
   "cell_type": "code",
   "execution_count": 5,
   "metadata": {},
   "outputs": [
    {
     "name": "stdout",
     "output_type": "stream",
     "text": [
      "[1, 1, 2, 2, 1, 1, 1, 1, 1, 1, 3, 1, 3, 1, 1]\n"
     ]
    }
   ],
   "source": [
    "# chi = np.ones(n_projects) \n",
    "\n",
    "# chi[-2:] = 2\n",
    "\n",
    "# chi[-1] = 3\n",
    "\n",
    "with open(f'data/student_preference_matrices/project_capacity_{fname}.csv', 'r') as f:\n",
    "    capacity = list(csv.reader(f))\n",
    "    capacity = [int(i) for i in capacity[0]]\n",
    "    chi = capacity\n",
    "\n",
    "print(chi)"
   ]
  },
  {
   "cell_type": "markdown",
   "metadata": {},
   "source": [
    "Students who must be garunteed a project, $\\omega$"
   ]
  },
  {
   "cell_type": "code",
   "execution_count": 155,
   "metadata": {},
   "outputs": [
    {
     "name": "stdout",
     "output_type": "stream",
     "text": [
      "[1. 1. 1. 1. 1. 1. 1. 1. 1. 1.]\n"
     ]
    }
   ],
   "source": [
    "omega = np.ones(n_students)\n",
    "\n",
    "print(omega)"
   ]
  },
  {
   "cell_type": "markdown",
   "metadata": {},
   "source": [
    "Create a linear programming maximization problem"
   ]
  },
  {
   "cell_type": "code",
   "execution_count": 156,
   "metadata": {},
   "outputs": [],
   "source": [
    "prob = pulp.LpProblem(\"Project_matching\", pulp.LpMaximize)"
   ]
  },
  {
   "cell_type": "markdown",
   "metadata": {},
   "source": [
    "Create a dictionary of items (cartesian product of students and projects i.e. tuple for each combination of student i and porject j) with:\n",
    "- category `continuous` i.e. the optimization solution can take any real-numbered value greater than zero."
   ]
  },
  {
   "cell_type": "code",
   "execution_count": 157,
   "metadata": {},
   "outputs": [],
   "source": [
    "x = pulp.LpVariable.dicts(\"x\",                                  # name\n",
    "                          itertools.product(range(n_students),  # list of all possible student-project combinations \n",
    "                                            range(n_projects)),\n",
    "                          cat=pulp.LpBinary                     # binary output data\n",
    "                         )  "
   ]
  },
  {
   "cell_type": "markdown",
   "metadata": {},
   "source": [
    "Main objective function (i.e. function to maximize by setting values of $x_{ij}$ for each $ij$)\n",
    "\n",
    "${maximize} \\sum_{i=1}^{I} \\sum_{j=1}^{J} x_{ij} \\frac{\\alpha_{i}}{A_{ij}}$\n",
    "\n",
    "Where:\n",
    "\n",
    "$\\alpha_{i}$= grade, student $i$ \n",
    "<br> $x_{i}$= project selected $i \\in [0,1]$ \n",
    "<br> $A_{ij}$= element of project selection matrix $A$"
   ]
  },
  {
   "cell_type": "code",
   "execution_count": 158,
   "metadata": {},
   "outputs": [],
   "source": [
    "objective_function = 0                  # default value of solution is 0 (for all unselected projects)\n",
    "\n",
    "for student in range(n_students):\n",
    "    for project in range(n_projects):\n",
    "        if cost_matrix[(student, project)] > 0:  # if project selected (and ranked) by student\n",
    "            objective_function += x[(student, project)] * (alpha[student]) / ((cost_matrix[(student, project)]))\n",
    "                \n",
    "    prob += objective_function"
   ]
  },
  {
   "cell_type": "markdown",
   "metadata": {},
   "source": [
    "Constraints"
   ]
  },
  {
   "cell_type": "code",
   "execution_count": 159,
   "metadata": {},
   "outputs": [],
   "source": [
    "# Students can only be allocated projects they have chosen\n",
    "for student, project in x:\n",
    "    prob += x[student, project] <= float(cost_matrix[student, project])\n",
    "    \n",
    "# Max students per project = chi_j students for every project j\n",
    "for project in range(n_projects):\n",
    "    prob += sum(x[(student, project)] for student in range(n_students)) <= chi[project]\n",
    "    \n",
    "# At most 1 project per student\n",
    "for student in range(n_students):\n",
    "    prob += sum(x[(student, project)] for project in range(n_projects)) <= 1\n",
    "\n",
    "# At least omega_i project per student\n",
    "for student in range(n_students):\n",
    "    prob += sum(x[(student, project)] for project in range(n_projects)) >= omega[student]"
   ]
  },
  {
   "cell_type": "markdown",
   "metadata": {},
   "source": [
    "Find solution"
   ]
  },
  {
   "cell_type": "code",
   "execution_count": 160,
   "metadata": {},
   "outputs": [
    {
     "name": "stdout",
     "output_type": "stream",
     "text": [
      "Status: Optimal\n"
     ]
    }
   ],
   "source": [
    "prob.solve()\n",
    "\n",
    "print(\"Status:\", pulp.LpStatus[prob.status])"
   ]
  },
  {
   "cell_type": "markdown",
   "metadata": {},
   "source": [
    "Extract project assignments"
   ]
  },
  {
   "cell_type": "code",
   "execution_count": 6,
   "metadata": {},
   "outputs": [
    {
     "ename": "NameError",
     "evalue": "name 'prob' is not defined",
     "output_type": "error",
     "traceback": [
      "\u001b[0;31m---------------------------------------------------------------------------\u001b[0m",
      "\u001b[0;31mNameError\u001b[0m                                 Traceback (most recent call last)",
      "\u001b[0;32m<ipython-input-6-3fda895d127d>\u001b[0m in \u001b[0;36m<module>\u001b[0;34m\u001b[0m\n\u001b[1;32m      3\u001b[0m \u001b[0massign_matrix\u001b[0m \u001b[0;34m=\u001b[0m \u001b[0mnp\u001b[0m\u001b[0;34m.\u001b[0m\u001b[0mzeros\u001b[0m\u001b[0;34m(\u001b[0m\u001b[0mcost_matrix\u001b[0m\u001b[0;34m.\u001b[0m\u001b[0mshape\u001b[0m\u001b[0;34m)\u001b[0m \u001b[0;31m# create an array to display assignments\u001b[0m\u001b[0;34m\u001b[0m\u001b[0;34m\u001b[0m\u001b[0m\n\u001b[1;32m      4\u001b[0m \u001b[0;34m\u001b[0m\u001b[0m\n\u001b[0;32m----> 5\u001b[0;31m \u001b[0;32mfor\u001b[0m \u001b[0mv\u001b[0m \u001b[0;32min\u001b[0m \u001b[0mprob\u001b[0m\u001b[0;34m.\u001b[0m\u001b[0mvariables\u001b[0m\u001b[0;34m(\u001b[0m\u001b[0;34m)\u001b[0m\u001b[0;34m:\u001b[0m\u001b[0;34m\u001b[0m\u001b[0;34m\u001b[0m\u001b[0m\n\u001b[0m\u001b[1;32m      6\u001b[0m \u001b[0;34m\u001b[0m\u001b[0m\n\u001b[1;32m      7\u001b[0m     \u001b[0;32mif\u001b[0m \u001b[0mv\u001b[0m\u001b[0;34m.\u001b[0m\u001b[0mvarValue\u001b[0m\u001b[0;34m>\u001b[0m\u001b[0;36m0\u001b[0m\u001b[0;34m:\u001b[0m    \u001b[0;31m# choose all values where x_ij = 1\u001b[0m\u001b[0;34m\u001b[0m\u001b[0;34m\u001b[0m\u001b[0m\n",
      "\u001b[0;31mNameError\u001b[0m: name 'prob' is not defined"
     ]
    }
   ],
   "source": [
    "studentID, projectID = [], []               # store student project assignments\n",
    "\n",
    "assign_matrix = np.zeros(cost_matrix.shape) # create an array to display assignments\n",
    "\n",
    "for v in prob.variables():\n",
    "    \n",
    "    if v.varValue>0:    # choose all values where x_ij = 1\n",
    "        \n",
    "#         print(v.name, \"=\", v.varValue)\n",
    "#         print(type(v.name), \"=\", v.varValue)\n",
    "\n",
    "        # process the name string to get the student and project number \n",
    "        punc = '''x()_'''\n",
    "        name = v.name\n",
    "        for p in name:\n",
    "            if p in punc:\n",
    "                name = name.replace(p, '')\n",
    "        name = name.split(',')\n",
    "        name = [int(n) for n in name]\n",
    "\n",
    "        assign_matrix[name[0], name[1]] = 1\n",
    "        \n",
    "        studentID.append(name[0])\n",
    "        projectID.append(name[1])"
   ]
  },
  {
   "cell_type": "markdown",
   "metadata": {},
   "source": [
    "Check every student has a project"
   ]
  },
  {
   "cell_type": "code",
   "execution_count": null,
   "metadata": {},
   "outputs": [],
   "source": [
    "print('\\ntotal_projects_assigned=',\n",
    "      np.sum(assign_matrix), \n",
    "      '\\nequal to number of students=', \n",
    "      np.sum(assign_matrix)==n_students)"
   ]
  },
  {
   "cell_type": "markdown",
   "metadata": {},
   "source": [
    "Display outcome"
   ]
  },
  {
   "cell_type": "code",
   "execution_count": 162,
   "metadata": {},
   "outputs": [
    {
     "name": "stdout",
     "output_type": "stream",
     "text": [
      "\n",
      "assign matrix\n",
      " [[1. 0. 0. 0. 0. 0. 0. 0. 0. 0. 0. 0. 0. 0. 0.]\n",
      " [0. 1. 0. 0. 0. 0. 0. 0. 0. 0. 0. 0. 0. 0. 0.]\n",
      " [0. 0. 1. 0. 0. 0. 0. 0. 0. 0. 0. 0. 0. 0. 0.]\n",
      " [0. 0. 0. 1. 0. 0. 0. 0. 0. 0. 0. 0. 0. 0. 0.]\n",
      " [0. 0. 0. 0. 1. 0. 0. 0. 0. 0. 0. 0. 0. 0. 0.]\n",
      " [0. 0. 0. 0. 0. 1. 0. 0. 0. 0. 0. 0. 0. 0. 0.]\n",
      " [0. 0. 0. 0. 0. 0. 1. 0. 0. 0. 0. 0. 0. 0. 0.]\n",
      " [0. 0. 0. 0. 0. 0. 0. 1. 0. 0. 0. 0. 0. 0. 0.]\n",
      " [0. 0. 0. 0. 0. 0. 0. 0. 1. 0. 0. 0. 0. 0. 0.]\n",
      " [0. 0. 0. 0. 0. 0. 0. 0. 0. 1. 0. 0. 0. 0. 0.]]\n",
      "\n",
      "students [0, 1, 2, 3, 4, 5, 6, 7, 8, 9]\n",
      "project ID (this model) [0, 1, 2, 3, 4, 5, 6, 7, 8, 9]\n",
      "project rank [1. 1. 1. 1. 1. 1. 1. 1. 1. 1.]\n",
      "\n",
      "\n",
      "sum of all assignments (should be as low as possible)= 10.0\n"
     ]
    }
   ],
   "source": [
    "assign_matrix *= cost_matrix                                     # matrix showing cost of each assignment   \n",
    "\n",
    "ranks = assign_matrix[np.nonzero(assign_matrix)]\n",
    "\n",
    "print('\\nassign matrix\\n',np.matrix(np.absolute(assign_matrix)))\n",
    "\n",
    "\n",
    "print('student', studentID)\n",
    "print('project allocation', projectID)\n",
    "print('rank of allocated project', ranks)\n",
    "print('\\n\\nsum of all assignments (should be as low as possible)=', ranks.sum())"
   ]
  },
  {
   "cell_type": "code",
   "execution_count": null,
   "metadata": {},
   "outputs": [],
   "source": []
  },
  {
   "cell_type": "code",
   "execution_count": null,
   "metadata": {},
   "outputs": [],
   "source": []
  },
  {
   "cell_type": "code",
   "execution_count": null,
   "metadata": {},
   "outputs": [],
   "source": []
  }
 ],
 "metadata": {
  "kernelspec": {
   "display_name": "Python 3",
   "language": "python",
   "name": "python3"
  },
  "language_info": {
   "codemirror_mode": {
    "name": "ipython",
    "version": 3
   },
   "file_extension": ".py",
   "mimetype": "text/x-python",
   "name": "python",
   "nbconvert_exporter": "python",
   "pygments_lexer": "ipython3",
   "version": "3.7.4"
  }
 },
 "nbformat": 4,
 "nbformat_minor": 4
}
