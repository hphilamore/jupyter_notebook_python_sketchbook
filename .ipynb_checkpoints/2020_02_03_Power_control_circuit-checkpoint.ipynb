{
 "cells": [
  {
   "cell_type": "code",
   "execution_count": null,
   "metadata": {},
   "outputs": [],
   "source": []
  },
  {
   "cell_type": "code",
   "execution_count": 52,
   "metadata": {},
   "outputs": [],
   "source": [
    "import numpy as np"
   ]
  },
  {
   "cell_type": "code",
   "execution_count": 53,
   "metadata": {},
   "outputs": [],
   "source": [
    "# Energy from single batch feed MFC, Joules (J)\n",
    "\n",
    "Emax = np.array([36.09,  # COD = 900\n",
    "                 21.00,  # COD = 500\n",
    "                 14.33,  # COD = 300\n",
    "                 8.09    # COD = 70\n",
    "                ])\n",
    "\n",
    "Emax *= 0.5 # apply energy harvesting eff."
   ]
  },
  {
   "cell_type": "code",
   "execution_count": 54,
   "metadata": {},
   "outputs": [],
   "source": [
    "# max allowable voltage for comparator and voltage regulator, V\n",
    "\n",
    "Vmax = np.array([11, # comp:LTC1540, reg:LT3009\n",
    "                 6   # comp:MAX9117, reg:TPS7A02\n",
    "                 ])\n",
    "\n"
   ]
  },
  {
   "cell_type": "code",
   "execution_count": 55,
   "metadata": {},
   "outputs": [],
   "source": [
    "# min allowable voltage for comparator and voltage regulator, V\n",
    "\n",
    "Vmin = np.array([2,\n",
    "                 1.6\n",
    "                 ])"
   ]
  },
  {
   "cell_type": "code",
   "execution_count": 56,
   "metadata": {},
   "outputs": [
    {
     "data": {
      "text/plain": [
       "array([[0.29826446, 1.0025    ],\n",
       "       [0.17355372, 0.58333333],\n",
       "       [0.11842975, 0.39805556],\n",
       "       [0.0668595 , 0.22472222]])"
      ]
     },
     "execution_count": 56,
     "metadata": {},
     "output_type": "execute_result"
    }
   ],
   "source": [
    "# capacitor to store Emax at Vmax\n",
    "\n",
    "C = Emax[:, np.newaxis] / (0.5 * Vmax**2)\n",
    "C"
   ]
  },
  {
   "cell_type": "code",
   "execution_count": 57,
   "metadata": {},
   "outputs": [
    {
     "data": {
      "text/plain": [
       "array([[18.045],\n",
       "       [10.5  ],\n",
       "       [ 7.165],\n",
       "       [ 4.045]])"
      ]
     },
     "execution_count": 57,
     "metadata": {},
     "output_type": "execute_result"
    }
   ],
   "source": [
    "Emax[:, np.newaxis]"
   ]
  },
  {
   "cell_type": "code",
   "execution_count": 58,
   "metadata": {},
   "outputs": [
    {
     "data": {
      "text/plain": [
       "array([[0.59652893, 1.2832    ],\n",
       "       [0.34710744, 0.74666667],\n",
       "       [0.2368595 , 0.50951111],\n",
       "       [0.13371901, 0.28764444]])"
      ]
     },
     "execution_count": 58,
     "metadata": {},
     "output_type": "execute_result"
    }
   ],
   "source": [
    "# Energy at Vmin\n",
    "\n",
    "Emin = 0.5 * C * Vmin**2\n",
    "Emin"
   ]
  },
  {
   "cell_type": "code",
   "execution_count": 59,
   "metadata": {},
   "outputs": [
    {
     "data": {
      "text/plain": [
       "array([[ 5.20803033,  2.84074382],\n",
       "       [ 6.82743067,  3.72405309],\n",
       "       [ 8.26501889,  4.50819212],\n",
       "       [11.        ,  6.        ]])"
      ]
     },
     "execution_count": 59,
     "metadata": {},
     "output_type": "execute_result"
    }
   ],
   "source": [
    "# Capactor voltage after one batch feed at CODmin\n",
    "\n",
    "Vth = (2 * Emax[-1] / C) ** (1/2)\n",
    "Vth"
   ]
  },
  {
   "cell_type": "code",
   "execution_count": 60,
   "metadata": {},
   "outputs": [
    {
     "data": {
      "text/plain": [
       "array([[3.44847107, 2.7618    ],\n",
       "       [3.69789256, 3.29833333],\n",
       "       [3.8081405 , 3.53548889],\n",
       "       [3.91128099, 3.75735556]])"
      ]
     },
     "execution_count": 60,
     "metadata": {},
     "output_type": "execute_result"
    }
   ],
   "source": [
    "# Available energy between Vth and Vmin\n",
    "\n",
    "Ea = Emax[-1] - Emin\n",
    "Ea"
   ]
  },
  {
   "cell_type": "code",
   "execution_count": 61,
   "metadata": {},
   "outputs": [],
   "source": [
    "# Current consumption by each process\n",
    "\n",
    "# power mgmt (comp + reg)\n",
    "Ipw_mgmgt = np.array([ 0.3e-6 + 3e-6,\n",
    "                       0.68e-6 + 25e-9 \n",
    "                     ])\n",
    "\n",
    "\n",
    "Isamp = 1.18e-3 # sampling\n",
    "Icalc = 2.85e-3 # calculation\n",
    "Islp  = 100e-9  # sleep\n",
    "\n",
    "\n",
    "Iq = Ipw_mgmgt + Islp"
   ]
  },
  {
   "cell_type": "code",
   "execution_count": 62,
   "metadata": {},
   "outputs": [
    {
     "data": {
      "text/plain": [
       "array([[ 5.73484114, 23.6097004 ],\n",
       "       [ 5.75874392, 24.00373262],\n",
       "       [ 5.76937291, 24.18212335],\n",
       "       [ 5.77935226, 24.35143107]])"
      ]
     },
     "execution_count": 62,
     "metadata": {},
     "output_type": "execute_result"
    }
   ],
   "source": [
    "Vop = 1.8\n",
    "t_calc = 1\n",
    "t_samp = 1\n",
    "t_slp = 7 * 24 * 60 * 60\n",
    "\n",
    "Etot = Emax[:, np.newaxis] - Emin  \n",
    "\n",
    "#number of samples\n",
    "n = Etot - (Vop * ( Icalc * t_calc - Iq * t_slp)) / ( Vop * Isamp * t_samp)\n",
    "\n",
    "\n",
    "# sampling interval\n",
    "t_slp / (60 * n)"
   ]
  },
  {
   "cell_type": "code",
   "execution_count": null,
   "metadata": {},
   "outputs": [],
   "source": []
  },
  {
   "cell_type": "code",
   "execution_count": null,
   "metadata": {},
   "outputs": [],
   "source": []
  },
  {
   "cell_type": "code",
   "execution_count": null,
   "metadata": {},
   "outputs": [],
   "source": []
  }
 ],
 "metadata": {
  "kernelspec": {
   "display_name": "Python 3",
   "language": "python",
   "name": "python3"
  },
  "language_info": {
   "codemirror_mode": {
    "name": "ipython",
    "version": 3
   },
   "file_extension": ".py",
   "mimetype": "text/x-python",
   "name": "python",
   "nbconvert_exporter": "python",
   "pygments_lexer": "ipython3",
   "version": "3.7.4"
  }
 },
 "nbformat": 4,
 "nbformat_minor": 2
}
