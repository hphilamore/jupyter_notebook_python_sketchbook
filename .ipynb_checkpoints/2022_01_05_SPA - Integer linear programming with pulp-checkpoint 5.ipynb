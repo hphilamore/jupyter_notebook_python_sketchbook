{
 "cells": [
  {
   "cell_type": "code",
   "execution_count": 1,
   "metadata": {},
   "outputs": [
    {
     "ename": "ModuleNotFoundError",
     "evalue": "No module named 'pulp'",
     "output_type": "error",
     "traceback": [
      "\u001b[0;31m---------------------------------------------------------------------------\u001b[0m",
      "\u001b[0;31mModuleNotFoundError\u001b[0m                       Traceback (most recent call last)",
      "\u001b[0;32m<ipython-input-1-facf4de03a22>\u001b[0m in \u001b[0;36m<module>\u001b[0;34m\u001b[0m\n\u001b[0;32m----> 1\u001b[0;31m \u001b[0;32mimport\u001b[0m \u001b[0mpulp\u001b[0m\u001b[0;34m\u001b[0m\u001b[0;34m\u001b[0m\u001b[0m\n\u001b[0m\u001b[1;32m      2\u001b[0m \u001b[0;32mimport\u001b[0m \u001b[0mcsv\u001b[0m\u001b[0;34m\u001b[0m\u001b[0;34m\u001b[0m\u001b[0m\n\u001b[1;32m      3\u001b[0m \u001b[0;32mimport\u001b[0m \u001b[0mpandas\u001b[0m \u001b[0;32mas\u001b[0m \u001b[0mpd\u001b[0m\u001b[0;34m\u001b[0m\u001b[0;34m\u001b[0m\u001b[0m\n\u001b[1;32m      4\u001b[0m \u001b[0;32mimport\u001b[0m \u001b[0mnumpy\u001b[0m \u001b[0;32mas\u001b[0m \u001b[0mnp\u001b[0m\u001b[0;34m\u001b[0m\u001b[0;34m\u001b[0m\u001b[0m\n\u001b[1;32m      5\u001b[0m \u001b[0;32mimport\u001b[0m \u001b[0mitertools\u001b[0m\u001b[0;34m\u001b[0m\u001b[0;34m\u001b[0m\u001b[0m\n",
      "\u001b[0;31mModuleNotFoundError\u001b[0m: No module named 'pulp'"
     ]
    }
   ],
   "source": [
    "import pulp\n",
    "import csv\n",
    "import pandas as pd\n",
    "import numpy as np\n",
    "import itertools"
   ]
  },
  {
   "cell_type": "code",
   "execution_count": 2,
   "metadata": {},
   "outputs": [
    {
     "ename": "FileNotFoundError",
     "evalue": "[Errno 2] No such file or directory: 'data/student_preference_matrices/student_preference_matrix_0.csv'",
     "output_type": "error",
     "traceback": [
      "\u001b[0;31m---------------------------------------------------------------------------\u001b[0m",
      "\u001b[0;31mFileNotFoundError\u001b[0m                         Traceback (most recent call last)",
      "\u001b[0;32m<ipython-input-2-08016b9496d1>\u001b[0m in \u001b[0;36m<module>\u001b[0;34m\u001b[0m\n\u001b[1;32m      1\u001b[0m \u001b[0;31m# build student project selection form by importing\u001b[0m\u001b[0;34m\u001b[0m\u001b[0;34m\u001b[0m\u001b[0;34m\u001b[0m\u001b[0m\n\u001b[0;32m----> 2\u001b[0;31m \u001b[0;32mwith\u001b[0m \u001b[0mopen\u001b[0m\u001b[0;34m(\u001b[0m\u001b[0;34m'data/student_preference_matrices/student_preference_matrix_0.csv'\u001b[0m\u001b[0;34m,\u001b[0m \u001b[0;34m'r'\u001b[0m\u001b[0;34m)\u001b[0m \u001b[0;32mas\u001b[0m \u001b[0mf\u001b[0m\u001b[0;34m:\u001b[0m\u001b[0;34m\u001b[0m\u001b[0;34m\u001b[0m\u001b[0m\n\u001b[0m\u001b[1;32m      3\u001b[0m \u001b[0;34m\u001b[0m\u001b[0m\n\u001b[1;32m      4\u001b[0m         \u001b[0mcost_matrix\u001b[0m \u001b[0;34m=\u001b[0m \u001b[0mcsv\u001b[0m\u001b[0;34m.\u001b[0m\u001b[0mreader\u001b[0m\u001b[0;34m(\u001b[0m\u001b[0mf\u001b[0m\u001b[0;34m)\u001b[0m\u001b[0;34m\u001b[0m\u001b[0;34m\u001b[0m\u001b[0m\n\u001b[1;32m      5\u001b[0m \u001b[0;34m\u001b[0m\u001b[0m\n",
      "\u001b[0;31mFileNotFoundError\u001b[0m: [Errno 2] No such file or directory: 'data/student_preference_matrices/student_preference_matrix_0.csv'"
     ]
    }
   ],
   "source": [
    "# build student project selection form by importing\n",
    "with open('data/student_preference_matrices/student_preference_matrix_0.csv', 'r') as f:   \n",
    "        \n",
    "        cost_matrix = csv.reader(f)\n",
    "        \n",
    "        cost_matrix = [[int(i) for i in j] for j in cost_matrix] # convert from string\n",
    "        \n",
    "        cost_matrix = np.array(cost_matrix)\n",
    "        \n",
    "print(A)\n",
    "        \n",
    "n_students, n_projects = cost_matrix.shape"
   ]
  },
  {
   "cell_type": "markdown",
   "metadata": {},
   "source": [
    "Student grades weighting, $\\alpha$ \n",
    "\n",
    "(set all weights as equal if not using this property)"
   ]
  },
  {
   "cell_type": "code",
   "execution_count": 129,
   "metadata": {},
   "outputs": [
    {
     "name": "stdout",
     "output_type": "stream",
     "text": [
      "[1. 1. 1. 1. 1. 1. 1. 1. 1. 1.]\n"
     ]
    }
   ],
   "source": [
    "alpha = np.ones(n_students)\n",
    "\n",
    "print(alpha)"
   ]
  },
  {
   "cell_type": "markdown",
   "metadata": {},
   "source": [
    "Max students each project can take, $\\chi$"
   ]
  },
  {
   "cell_type": "code",
   "execution_count": 130,
   "metadata": {},
   "outputs": [
    {
     "name": "stdout",
     "output_type": "stream",
     "text": [
      "[1. 1. 1. 1. 1. 1. 1. 1. 1. 1. 1. 1. 1. 2. 2.]\n"
     ]
    }
   ],
   "source": [
    "\n",
    "chi = np.ones(n_projects)\n",
    "\n",
    "chi[-2:] = 2\n",
    "\n",
    "#chi[-1] = 3\n",
    "\n",
    "print(chi)"
   ]
  },
  {
   "cell_type": "markdown",
   "metadata": {},
   "source": [
    "Students who must be garunteed a project, $\\omega$"
   ]
  },
  {
   "cell_type": "code",
   "execution_count": 131,
   "metadata": {},
   "outputs": [
    {
     "name": "stdout",
     "output_type": "stream",
     "text": [
      "[1. 1. 1. 1. 1. 1. 1. 1. 1. 1.]\n"
     ]
    }
   ],
   "source": [
    "omega = np.ones(n_students)\n",
    "\n",
    "print(omega)"
   ]
  },
  {
   "cell_type": "markdown",
   "metadata": {},
   "source": [
    "Create a linear programming maximization problem"
   ]
  },
  {
   "cell_type": "code",
   "execution_count": 132,
   "metadata": {},
   "outputs": [],
   "source": [
    "prob = pulp.LpProblem(\"Project_matching\", pulp.LpMaximize)"
   ]
  },
  {
   "cell_type": "markdown",
   "metadata": {},
   "source": [
    "Create a dictionary of items (cartesian product of students and projects i.e. tuple for each combination of student i and porject j) with:\n",
    "- category `continuous` i.e. the optimization solution can take any real-numbered value greater than zero."
   ]
  },
  {
   "cell_type": "code",
   "execution_count": 133,
   "metadata": {},
   "outputs": [],
   "source": [
    "x = pulp.LpVariable.dicts(\"x\",                                  # name\n",
    "                          itertools.product(range(n_students),  # list of all possible student-project combinations \n",
    "                                            range(n_projects)),\n",
    "                          cat=pulp.LpBinary                     # binary output data\n",
    "                         )  "
   ]
  },
  {
   "cell_type": "markdown",
   "metadata": {},
   "source": [
    "Main objective function (i.e. function to maximize by setting values of $x_{ij}$ for each $ij$)\n",
    "\n",
    "${maximize} \\sum_{i=1}^{I} \\sum_{j=1}^{J} x_{ij} \\frac{\\alpha_{i}}{A_{ij}}$\n",
    "\n",
    "Where:\n",
    "\n",
    "$\\alpha_{i}$= grade, student $i$ \n",
    "<br> $x_{i}$= project selected $i \\in [0,1]$ \n",
    "<br> $A_{ij}$= element of project selection matrix $A$"
   ]
  },
  {
   "cell_type": "code",
   "execution_count": 134,
   "metadata": {},
   "outputs": [],
   "source": [
    "objective_function = 0                  # default value of solution is 0 (for all unselected projects)\n",
    "\n",
    "for student in range(n_students):\n",
    "    for project in range(n_projects):\n",
    "        if cost_matrix[(student, project)] > 0:  # if project selected (and ranked) by student\n",
    "            objective_function += x[(student, project)] * (alpha[student]) / ((cost_matrix[(student, project)]))\n",
    "                \n",
    "    prob += objective_function"
   ]
  },
  {
   "cell_type": "markdown",
   "metadata": {},
   "source": [
    "Constraints"
   ]
  },
  {
   "cell_type": "code",
   "execution_count": 135,
   "metadata": {},
   "outputs": [],
   "source": [
    "# Students can only be allocated projects they have chosen\n",
    "for student, project in x:\n",
    "    prob += x[student, project] <= float(cost_matrix[student, project])\n",
    "    \n",
    "# Max students per project = chi_j students for every project j\n",
    "for project in range(n_projects):\n",
    "    prob += sum(x[(student, project)] for student in range(n_students)) <= chi[project]\n",
    "    \n",
    "# At most 1 project per student\n",
    "for student in range(n_students):\n",
    "    prob += sum(x[(student, project)] for project in range(n_projects)) <= 1\n",
    "\n",
    "# At least omega_i project per student\n",
    "for student in range(n_students):\n",
    "    prob += sum(x[(student, project)] for project in range(n_projects)) >= omega[student]"
   ]
  },
  {
   "cell_type": "markdown",
   "metadata": {},
   "source": [
    "Find solution"
   ]
  },
  {
   "cell_type": "code",
   "execution_count": 136,
   "metadata": {},
   "outputs": [
    {
     "name": "stdout",
     "output_type": "stream",
     "text": [
      "Status: Optimal\n"
     ]
    }
   ],
   "source": [
    "prob.solve()\n",
    "\n",
    "print(\"Status:\", pulp.LpStatus[prob.status])"
   ]
  },
  {
   "cell_type": "markdown",
   "metadata": {},
   "source": [
    "Display solution"
   ]
  },
  {
   "cell_type": "code",
   "execution_count": 137,
   "metadata": {},
   "outputs": [
    {
     "name": "stdout",
     "output_type": "stream",
     "text": [
      "\n",
      "total_projects_assigned= 10.0 \n",
      "equal to number of students= True\n"
     ]
    }
   ],
   "source": [
    "studentID, projectID = [], []     # store student project assignments\n",
    "\n",
    "assign_matrix = np.zeros(cost_matrix.shape) # create an array to display assignments\n",
    "\n",
    "for v in prob.variables():\n",
    "    \n",
    "    if v.varValue>0:    # choose all values where x_ij = 1\n",
    "#         print(v.name, \"=\", v.varValue)\n",
    "#         print(type(v.name), \"=\", v.varValue)\n",
    "\n",
    "        # process the name string to get the student and project number \n",
    "        punc = '''x()_'''\n",
    "        name = v.name\n",
    "        for p in name:\n",
    "            if p in punc:\n",
    "                name = name.replace(p, '')\n",
    "        name = name.split(',')\n",
    "        name = [int(n) for n in name]\n",
    "\n",
    "        assign_matrix[name[0], name[1]] = 1\n",
    "        \n",
    "        studentID.append(name[0])\n",
    "        projectID.append(name[1])\n",
    "        \n",
    "\n",
    "# check every student has a project\n",
    "print('\\ntotal_projects_assigned=',\n",
    "      np.sum(assign_matrix), \n",
    "      '\\nequal to number of students=', \n",
    "      np.sum(assign_matrix)==n_students)"
   ]
  },
  {
   "cell_type": "code",
   "execution_count": 138,
   "metadata": {},
   "outputs": [
    {
     "name": "stdout",
     "output_type": "stream",
     "text": [
      "\n",
      "assign matrix\n",
      " [[0. 0. 0. 0. 0. 0. 0. 0. 0. 0. 0. 0. 1. 0. 0.]\n",
      " [0. 0. 0. 0. 0. 0. 0. 0. 0. 0. 1. 0. 0. 0. 0.]\n",
      " [0. 0. 0. 0. 2. 0. 0. 0. 0. 0. 0. 0. 0. 0. 0.]\n",
      " [0. 0. 0. 0. 0. 0. 0. 2. 0. 0. 0. 0. 0. 0. 0.]\n",
      " [0. 0. 0. 0. 0. 0. 0. 0. 0. 0. 0. 0. 0. 2. 0.]\n",
      " [0. 0. 3. 0. 0. 0. 0. 0. 0. 0. 0. 0. 0. 0. 0.]\n",
      " [0. 0. 0. 0. 0. 0. 0. 0. 0. 1. 0. 0. 0. 0. 0.]\n",
      " [0. 0. 0. 0. 0. 0. 0. 0. 0. 0. 0. 1. 0. 0. 0.]\n",
      " [0. 0. 0. 0. 0. 0. 0. 0. 1. 0. 0. 0. 0. 0. 0.]\n",
      " [0. 0. 0. 0. 0. 0. 0. 0. 0. 0. 0. 0. 0. 0. 1.]]\n",
      "\n",
      "students [0, 1, 2, 3, 4, 5, 6, 7, 8, 9]\n",
      "project ID (this model) [12, 10, 4, 7, 13, 2, 9, 11, 8, 14]\n",
      "project rank [1. 1. 2. 2. 2. 3. 1. 1. 1. 1.]\n",
      "\n",
      "\n",
      "sum of all assignments (should be as low as possible)= 15.0\n"
     ]
    }
   ],
   "source": [
    "assign_matrix *= cost_matrix                                     # matrix showing cost of each assignment   \n",
    "\n",
    "ranks = assign_matrix[np.nonzero(assign_matrix)]\n",
    "\n",
    "print('\\nassign matrix\\n',np.matrix(np.absolute(assign_matrix)))\n",
    "print('\\nstudents', studentID)\n",
    "print('project ID (this model)', projectID)\n",
    "print('project rank', ranks)\n",
    "print('\\n\\nsum of all assignments (should be as low as possible)=', ranks.sum())"
   ]
  },
  {
   "cell_type": "code",
   "execution_count": null,
   "metadata": {},
   "outputs": [],
   "source": []
  },
  {
   "cell_type": "code",
   "execution_count": null,
   "metadata": {},
   "outputs": [],
   "source": []
  },
  {
   "cell_type": "code",
   "execution_count": null,
   "metadata": {},
   "outputs": [],
   "source": []
  }
 ],
 "metadata": {
  "kernelspec": {
   "display_name": "Python 3",
   "language": "python",
   "name": "python3"
  },
  "language_info": {
   "codemirror_mode": {
    "name": "ipython",
    "version": 3
   },
   "file_extension": ".py",
   "mimetype": "text/x-python",
   "name": "python",
   "nbconvert_exporter": "python",
   "pygments_lexer": "ipython3",
   "version": "3.7.4"
  }
 },
 "nbformat": 4,
 "nbformat_minor": 4
}
