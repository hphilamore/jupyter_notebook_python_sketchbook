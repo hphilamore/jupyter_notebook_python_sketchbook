{
 "cells": [
  {
   "cell_type": "code",
   "execution_count": 1,
   "metadata": {},
   "outputs": [],
   "source": [
    "# 2nd order ODE\n",
    "# https://stackoverflow.com/questions/34735660/sympy-second-order-ode\n",
    "# https://stackoverflow.com/questions/48122704/substitute-a-constant-in-a-differential-equation-of-second-order    \n",
    "\n",
    "M = 6.02214076 * 10**23 \n",
    "\n",
    "L = 0.001     # up to 0.005 \n",
    "G = 1         # M, glucose 180.15588 g/mol\n",
    "E_T = 10**-6  # up to 10**5\n",
    "K_M = 0.019   # M\n",
    "k_cat = 10**3 # sec-1 : definition?\n",
    "D_H = 4.5 * 10**-9\n",
    "D_bH = D_H # D_H/0.8, D_H/0.5"
   ]
  },
  {
   "cell_type": "code",
   "execution_count": 2,
   "metadata": {},
   "outputs": [],
   "source": [
    "from sympy import Symbol, symbols, Function, dsolve, solve, simplify, Eq, sin, cos, diff\n",
    "from IPython.display import display"
   ]
  },
  {
   "cell_type": "markdown",
   "metadata": {},
   "source": [
    "Solve Equation (3) (uisng BCs: 9, 10) \n",
    "\n",
    "Glucose concentration along axis x within the enzyme layer region 0 < x < L"
   ]
  },
  {
   "cell_type": "code",
   "execution_count": 3,
   "metadata": {},
   "outputs": [],
   "source": [
    "# Solve Eqtn 3 to find c_G\n",
    "# BCs: 9, 10\n",
    "c_G = Function('c_G')\n",
    "x, D_G, k_cat, K_M, E_T, G, G0, g_1s, z, L= symbols(\n",
    "    'x D_G k_cat K_M E_T G G0 g_1s z, L')"
   ]
  },
  {
   "cell_type": "code",
   "execution_count": 4,
   "metadata": {},
   "outputs": [],
   "source": [
    "ode = Eq( D_G*diff(c_G(x), x, 2) - 2*k_cat*E_T*G / (K_M+G), 0 )"
   ]
  },
  {
   "cell_type": "code",
   "execution_count": 5,
   "metadata": {},
   "outputs": [
    {
     "data": {
      "text/latex": [
       "$\\displaystyle \\operatorname{c_{G}}{\\left(x \\right)} = C_{1} + \\frac{x \\left(C_{2} D_{G} \\left(G + K_{M}\\right) + E_{T} G k_{cat} x\\right)}{D_{G} \\left(G + K_{M}\\right)}$"
      ],
      "text/plain": [
       "Eq(c_G(x), C1 + x*(C2*D_G*(G + K_M) + E_T*G*k_cat*x)/(D_G*(G + K_M)))"
      ]
     },
     "metadata": {},
     "output_type": "display_data"
    }
   ],
   "source": [
    "# General solution\n",
    "gen_sol = dsolve(ode, c_G(x))\n",
    "display(gen_sol)\n",
    "# gen_expr = gen_sol.args[1]\n",
    "gen_expr = gen_sol.rhs         # take rhs only\n",
    "#display(gen_expr)"
   ]
  },
  {
   "cell_type": "code",
   "execution_count": 6,
   "metadata": {},
   "outputs": [],
   "source": [
    "# Boundary conditions \n",
    "cnd0 = Eq(gen_expr.subs(x, 0), G0)                     # c_G(0) = G0\n",
    "cnd1 = Eq(gen_expr.diff(x).subs(x, 0), -g_1s / z*D_G)  # c_G'(0) = -g_1s / z*D_G"
   ]
  },
  {
   "cell_type": "code",
   "execution_count": 7,
   "metadata": {},
   "outputs": [
    {
     "data": {
      "text/plain": [
       "{C2: -D_G*g_1s/z, C1: G0}"
      ]
     },
     "metadata": {},
     "output_type": "display_data"
    }
   ],
   "source": [
    "# Solve for C1, C2:\n",
    "C1, C2 = symbols(\"C1, C2\")  # generic constants\n",
    "C1C2_sl = solve([cnd0, cnd1], (C1, C2))\n",
    "display(C1C2_sl)"
   ]
  },
  {
   "cell_type": "code",
   "execution_count": 8,
   "metadata": {},
   "outputs": [
    {
     "name": "stdout",
     "output_type": "stream",
     "text": [
      "Solution RHS with BCs:\n"
     ]
    },
    {
     "data": {
      "text/latex": [
       "$\\displaystyle G_{0} + \\frac{x \\left(- \\frac{D_{G}^{2} g_{1s} \\left(G + K_{M}\\right)}{z} + E_{T} G k_{cat} x\\right)}{D_{G} \\left(G + K_{M}\\right)}$"
      ],
      "text/plain": [
       "G0 + x*(-D_G**2*g_1s*(G + K_M)/z + E_T*G*k_cat*x)/(D_G*(G + K_M))"
      ]
     },
     "metadata": {},
     "output_type": "display_data"
    },
    {
     "name": "stdout",
     "output_type": "stream",
     "text": [
      "...simplified:\n"
     ]
    },
    {
     "data": {
      "text/latex": [
       "$\\displaystyle \\frac{D_{G} G_{0} z \\left(G + K_{M}\\right) - x \\left(D_{G}^{2} g_{1s} \\left(G + K_{M}\\right) - E_{T} G k_{cat} x z\\right)}{D_{G} z \\left(G + K_{M}\\right)}$"
      ],
      "text/plain": [
       "(D_G*G0*z*(G + K_M) - x*(D_G**2*g_1s*(G + K_M) - E_T*G*k_cat*x*z))/(D_G*z*(G + K_M))"
      ]
     },
     "metadata": {},
     "output_type": "display_data"
    }
   ],
   "source": [
    "# Substitute back into solution:\n",
    "gen_expr = gen_expr.subs(C1C2_sl)\n",
    "print(\"Solution RHS with BCs:\")\n",
    "display(gen_expr)\n",
    "gen_expr = simplify(gen_expr)\n",
    "print(\"...simplified:\")\n",
    "display(gen_expr)"
   ]
  },
  {
   "cell_type": "code",
   "execution_count": 9,
   "metadata": {},
   "outputs": [
    {
     "data": {
      "text/latex": [
       "$\\displaystyle \\frac{D_{G} G_{0} z \\left(G + K_{M}\\right) - E_{T} k_{cat} x \\left(2 D_{G}^{2} L - G x z\\right)}{D_{G} z \\left(G + K_{M}\\right)}$"
      ],
      "text/plain": [
       "(D_G*G0*z*(G + K_M) - E_T*k_cat*x*(2*D_G**2*L - G*x*z))/(D_G*z*(G + K_M))"
      ]
     },
     "metadata": {},
     "output_type": "display_data"
    }
   ],
   "source": [
    "# Substitute in g_1s:\n",
    "gen_expr = gen_expr.subs({g_1s: 2*k_cat*E_T*L/(K_M+G)})\n",
    "# print(\"Solution RHS with BCs:\")\n",
    "#display(gen_expr)\n",
    "gen_expr = simplify(gen_expr)\n",
    "# print(\"...simplified:\")\n",
    "display(gen_expr)"
   ]
  },
  {
   "cell_type": "code",
   "execution_count": 10,
   "metadata": {},
   "outputs": [
    {
     "name": "stdout",
     "output_type": "stream",
     "text": [
      "Solution with BCs:\n"
     ]
    },
    {
     "data": {
      "text/latex": [
       "$\\displaystyle \\operatorname{c_{G}}{\\left(x \\right)} = \\frac{D_{G} G_{0} z \\left(G + K_{M}\\right) - E_{T} k_{cat} x \\left(2 D_{G}^{2} L - G x z\\right)}{D_{G} z \\left(G + K_{M}\\right)}$"
      ],
      "text/plain": [
       "Eq(c_G(x), (D_G*G0*z*(G + K_M) - E_T*k_cat*x*(2*D_G**2*L - G*x*z))/(D_G*z*(G + K_M)))"
      ]
     },
     "metadata": {},
     "output_type": "display_data"
    }
   ],
   "source": [
    "print(\"Solution with BCs:\")\n",
    "c_G_sol = Eq(c_G(x), gen_expr)\n",
    "display(c_G_sol)"
   ]
  },
  {
   "cell_type": "code",
   "execution_count": 11,
   "metadata": {},
   "outputs": [],
   "source": [
    "# G0?\n",
    "# z?"
   ]
  },
  {
   "cell_type": "markdown",
   "metadata": {},
   "source": [
    "Substitute this solution into the differential Equation (2)\n",
    "\n",
    "Hydrogen ions within the enzyme layer region (0 < x < L)"
   ]
  },
  {
   "cell_type": "code",
   "execution_count": 12,
   "metadata": {},
   "outputs": [],
   "source": [
    "c_H = Function('c_H')\n",
    "D_H = Symbol('D_H')"
   ]
  },
  {
   "cell_type": "code",
   "execution_count": 13,
   "metadata": {},
   "outputs": [
    {
     "data": {
      "text/latex": [
       "$\\displaystyle D_{H} \\frac{d^{2}}{d x^{2}} \\operatorname{c_{H}}{\\left(x \\right)} + \\frac{2 E_{T} k_{cat} \\left(D_{G} G_{0} z \\left(G + K_{M}\\right) - E_{T} k_{cat} x \\left(2 D_{G}^{2} L - G x z\\right)\\right)}{D_{G} z \\left(G + K_{M}\\right) \\left(K_{M} + \\frac{D_{G} G_{0} z \\left(G + K_{M}\\right) - E_{T} k_{cat} x \\left(2 D_{G}^{2} L - G x z\\right)}{D_{G} z \\left(G + K_{M}\\right)}\\right)} = 0$"
      ],
      "text/plain": [
       "Eq(D_H*Derivative(c_H(x), (x, 2)) + 2*E_T*k_cat*(D_G*G0*z*(G + K_M) - E_T*k_cat*x*(2*D_G**2*L - G*x*z))/(D_G*z*(G + K_M)*(K_M + (D_G*G0*z*(G + K_M) - E_T*k_cat*x*(2*D_G**2*L - G*x*z))/(D_G*z*(G + K_M)))), 0)"
      ]
     },
     "metadata": {},
     "output_type": "display_data"
    }
   ],
   "source": [
    "G = c_G_sol.rhs\n",
    "ode = Eq( D_H*diff(c_H(x), x, 2) + 2*k_cat*E_T*G / (K_M+G) , 0 )\n",
    "display(ode)"
   ]
  },
  {
   "cell_type": "code",
   "execution_count": null,
   "metadata": {},
   "outputs": [],
   "source": [
    "# General solution\n",
    "gen_sol = dsolve(ode, c_H(x))\n",
    "display(gen_sol)\n",
    "# gen_expr = gen_sol.args[1]\n",
    "gen_expr = gen_sol.rhs         # take rhs only\n",
    "#display(gen_expr)"
   ]
  },
  {
   "cell_type": "code",
   "execution_count": 124,
   "metadata": {},
   "outputs": [],
   "source": [
    "# Solve Eqtn 5 to find c_H\n",
    "# BCs: 9, 10\n"
   ]
  },
  {
   "cell_type": "code",
   "execution_count": 125,
   "metadata": {},
   "outputs": [],
   "source": [
    "# in the bulk (L < x < d)\n",
    "ode = Eq( D_H*diff(c_H(x), x, 2), 0 )"
   ]
  },
  {
   "cell_type": "code",
   "execution_count": 126,
   "metadata": {},
   "outputs": [
    {
     "data": {
      "text/latex": [
       "$\\displaystyle \\operatorname{c_{H}}{\\left(x \\right)} = C_{1} + C_{2} x$"
      ],
      "text/plain": [
       "Eq(c_H(x), C1 + C2*x)"
      ]
     },
     "metadata": {},
     "output_type": "display_data"
    }
   ],
   "source": [
    "# General solution\n",
    "gen_sol = dsolve(ode, c_H(x))\n",
    "display(gen_sol)\n",
    "# gen_expr = gen_sol.args[1]\n",
    "gen_expr = gen_sol.rhs         # take rhs only\n",
    "#display(gen_expr)"
   ]
  },
  {
   "cell_type": "code",
   "execution_count": null,
   "metadata": {},
   "outputs": [],
   "source": []
  }
 ],
 "metadata": {
  "kernelspec": {
   "display_name": "Python 3",
   "language": "python",
   "name": "python3"
  },
  "language_info": {
   "codemirror_mode": {
    "name": "ipython",
    "version": 3
   },
   "file_extension": ".py",
   "mimetype": "text/x-python",
   "name": "python",
   "nbconvert_exporter": "python",
   "pygments_lexer": "ipython3",
   "version": "3.8.3"
  }
 },
 "nbformat": 4,
 "nbformat_minor": 4
}
