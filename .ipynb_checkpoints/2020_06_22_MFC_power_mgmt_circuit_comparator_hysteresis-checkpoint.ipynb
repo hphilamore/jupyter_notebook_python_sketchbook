{
 "cells": [
  {
   "cell_type": "markdown",
   "metadata": {},
   "source": [
    "Find the resisters needed for comparator hysteresis, power management systems a and b, when:\n",
    "- $V_{cc} \\neq V_{in}$ ($V_{cc}$ = constant)\n",
    "- $V_{cc} = V_{in}$ (`_s` self powered)"
   ]
  },
  {
   "cell_type": "code",
   "execution_count": 2,
   "metadata": {},
   "outputs": [],
   "source": [
    "import numpy as np"
   ]
  },
  {
   "cell_type": "markdown",
   "metadata": {},
   "source": [
    "https://www.maximintegrated.com/en/design/technical-documents/app-notes/3/3616.html\n",
    "\n",
    "<br><img src=\"img/comparator.png\" alt=\"Drawing\" style=\"width: 500px;\"/>"
   ]
  },
  {
   "cell_type": "markdown",
   "metadata": {},
   "source": [
    "#### A function for each step"
   ]
  },
  {
   "cell_type": "code",
   "execution_count": 3,
   "metadata": {},
   "outputs": [],
   "source": [
    "# Step 1 : Calculate  R3\n",
    "\n",
    "def calc_R3(Vref, ir3=0.2E-6, Vcc=5):\n",
    "    \n",
    "    R3a = Vref / ir3\n",
    "    \n",
    "    R3b = (Vcc - Vref) / ir3\n",
    "    \n",
    "    R3 = [r for r in [R3a, R3b] if r>0] # only +ve values\n",
    "    \n",
    "    return( round( min(R3), -4) )                     # return minimum positive value of R3"
   ]
  },
  {
   "cell_type": "code",
   "execution_count": 4,
   "metadata": {},
   "outputs": [],
   "source": [
    "# Step 2 : Decide hysteresis bandwidth\n",
    "\n",
    "def Vhb(Vth, Vtl):\n",
    "    return Vth - Vtl"
   ]
  },
  {
   "cell_type": "code",
   "execution_count": 5,
   "metadata": {},
   "outputs": [],
   "source": [
    "# Step 3 : Calculate R1\n",
    "\n",
    "def calc_R1(R3, Vhb, Vcc=5):\n",
    "    return round( R3 * Vhb / Vcc, -4 )"
   ]
  },
  {
   "cell_type": "code",
   "execution_count": 6,
   "metadata": {},
   "outputs": [],
   "source": [
    "# Step 4 : Choose Vth\n",
    "# Vth = 5.2"
   ]
  },
  {
   "cell_type": "code",
   "execution_count": 7,
   "metadata": {},
   "outputs": [],
   "source": [
    "# Step 5 : Calculate R2\n",
    "def calc_R2(R1, R3, Vref, Vth):\n",
    "    return round( Vref / ( ((Vth - Vref)/R1) - (Vref/R3) ), -4)\n"
   ]
  },
  {
   "cell_type": "code",
   "execution_count": 8,
   "metadata": {},
   "outputs": [],
   "source": [
    "# Step 5 : Verify threshold voltages\n",
    "\n",
    "def VTH(R1, R2, R3, Vref):\n",
    "    return Vref * R1 * ((1/R1) + (1/R2) + (1/R3))\n",
    "\n",
    "def VTL(R1, R3, Vth, Vcc=5):\n",
    "    return Vth - (R1 * Vcc / R3)"
   ]
  },
  {
   "cell_type": "markdown",
   "metadata": {},
   "source": [
    "#### Find resister values for each system config"
   ]
  },
  {
   "cell_type": "code",
   "execution_count": 27,
   "metadata": {},
   "outputs": [],
   "source": [
    "# comparator:LTC1540\n",
    "# 1.8V voltage regulator: TPS7A02 \n",
    "Vref = 1.18\n",
    "Vth = 3.46\n",
    "Vtl = 2.3"
   ]
  },
  {
   "cell_type": "code",
   "execution_count": 28,
   "metadata": {},
   "outputs": [
    {
     "name": "stdout",
     "output_type": "stream",
     "text": [
      "5.900e+06 5.600e+06\n"
     ]
    }
   ],
   "source": [
    "# Step 1 : Calculate  R3 \n",
    "R3a = calc_R3(Vref_a)\n",
    "R3a_s = calc_R3(Vref_a, Vcc=Vtl)\n",
    "\n",
    "\n",
    "\n",
    "print('{:.3e}'.format(R3a), \n",
    "      '{:.3e}'.format(R3a_s))\n"
   ]
  },
  {
   "cell_type": "code",
   "execution_count": 29,
   "metadata": {},
   "outputs": [],
   "source": [
    "# Step 2 : Decide hysteresis bandwidth\n",
    "\n",
    "Vhb_a = Vhb(Vth, Vtl)\n"
   ]
  },
  {
   "cell_type": "code",
   "execution_count": 30,
   "metadata": {},
   "outputs": [
    {
     "name": "stdout",
     "output_type": "stream",
     "text": [
      "1.370e+06 2.820e+06\n"
     ]
    }
   ],
   "source": [
    "# Step 3 : Calculate R1\n",
    "\n",
    "R1a = calc_R1(R3a, Vhb_a)\n",
    "R1a_s = calc_R1(R3a_s, Vhb_a, Vcc=Vtl)\n",
    "\n",
    "\n",
    "print('{:.3e}'.format(R1a), \n",
    "      '{:.3e}'.format(R1a_s))\n"
   ]
  },
  {
   "cell_type": "code",
   "execution_count": 31,
   "metadata": {},
   "outputs": [
    {
     "name": "stdout",
     "output_type": "stream",
     "text": [
      "8.100000e+05 1.970000e+06\n"
     ]
    }
   ],
   "source": [
    "# Step 5 : Calculate R2\n",
    "R2a = calc_R2(R1a, R3a, Vref, Vth)\n",
    "R2a_s = calc_R2(R1a_s, R3a_s, Vref, Vth)\n",
    "\n",
    "\n",
    "\n",
    "print('{:.6e}'.format(R2a), \n",
    "      '{:.6e}'.format(R2a_s))\n",
    "\n"
   ]
  },
  {
   "cell_type": "code",
   "execution_count": 32,
   "metadata": {},
   "outputs": [],
   "source": [
    "# def calc_R2(R1, R3):\n",
    "#     return 1 / (3.7/(Vref*R1) - 1/R1 - 1/R3)\n",
    "\n",
    "# R2 = calc_R2(2.88, 6)\n",
    "\n",
    "# print('{:.3e}'.format(R2))"
   ]
  },
  {
   "cell_type": "code",
   "execution_count": 33,
   "metadata": {},
   "outputs": [
    {
     "name": "stdout",
     "output_type": "stream",
     "text": [
      "Vtha =3.450e+00\n",
      "Vtla =2.289e+00\n",
      "\n",
      "Vtha_s =3.463e+00\n",
      "Vtla_s =2.305e+00\n",
      "\n"
     ]
    }
   ],
   "source": [
    "VTHa = VTH(R1a, R2a, R3a, Vref)\n",
    "VTLa = VTL(R1a, R3a, VTHa)\n",
    "\n",
    "VTHa_s = VTH(R1a_s, R2a_s, R3a_s, Vref)\n",
    "VTLa_s = VTL(R1a_s, R3a_s, VTHa_s, Vcc=Vtl)\n",
    "\n",
    "\n",
    "\n",
    "print('Vtha =' + '{:.3e}'.format(VTHa) + '\\n' + 'Vtla =' + '{:.3e}'.format(VTLa))\n",
    "print()\n",
    "print('Vtha_s =' + '{:.3e}'.format(VTHa_s) + '\\n' + 'Vtla_s =' + '{:.3e}'.format(VTLa_s))\n",
    "print()\n"
   ]
  },
  {
   "cell_type": "markdown",
   "metadata": {},
   "source": [
    "<br><img src=\"img/Power_mgmt_circuit_calculations-page-001.jpg\" alt=\"Drawing\" style=\"width: 1500px;\"/>\n",
    "\n",
    "<br><img src=\"img/Power_mgmt_circuit_calculations-page-002.jpg\" alt=\"Drawing\" style=\"width: 1500px;\"/>\n",
    "\n",
    "<br><img src=\"img/Power_mgmt_circuit_calculations-page-003.jpg\" alt=\"Drawing\" style=\"width: 1500px;\"/>\n",
    "\n",
    "<br><img src=\"img/Power_mgmt_circuit_calculations-page-004.jpg\" alt=\"Drawing\" style=\"width: 1500px;\"/>\n",
    "\n"
   ]
  },
  {
   "cell_type": "code",
   "execution_count": null,
   "metadata": {},
   "outputs": [],
   "source": []
  },
  {
   "cell_type": "code",
   "execution_count": null,
   "metadata": {},
   "outputs": [],
   "source": []
  }
 ],
 "metadata": {
  "kernelspec": {
   "display_name": "Python 3",
   "language": "python",
   "name": "python3"
  },
  "language_info": {
   "codemirror_mode": {
    "name": "ipython",
    "version": 3
   },
   "file_extension": ".py",
   "mimetype": "text/x-python",
   "name": "python",
   "nbconvert_exporter": "python",
   "pygments_lexer": "ipython3",
   "version": "3.7.4"
  }
 },
 "nbformat": 4,
 "nbformat_minor": 2
}
