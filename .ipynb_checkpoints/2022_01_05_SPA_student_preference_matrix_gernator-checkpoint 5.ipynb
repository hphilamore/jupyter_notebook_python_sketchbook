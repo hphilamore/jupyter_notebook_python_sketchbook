{
 "cells": [
  {
   "cell_type": "code",
   "execution_count": null,
   "metadata": {},
   "outputs": [],
   "source": [
    "Generates n instances of a basic students project selection matrix and saves each as a csv file. \n",
    "\n",
    "Students may rank 5 selected projects. \n",
    "\n",
    "All unselected projects are ranked 0 unless otherwise specified. "
   ]
  },
  {
   "cell_type": "code",
   "execution_count": 8,
   "metadata": {},
   "outputs": [],
   "source": [
    "import numpy as np\n",
    "import random\n",
    "from scipy.optimize import linear_sum_assignment\n",
    "import csv"
   ]
  },
  {
   "cell_type": "code",
   "execution_count": 9,
   "metadata": {},
   "outputs": [],
   "source": [
    "n_students = 10\n",
    "n_projects = 15\n",
    "n_choices = 5"
   ]
  },
  {
   "cell_type": "code",
   "execution_count": 10,
   "metadata": {},
   "outputs": [],
   "source": [
    "def build_cost_matrix(n_students, n_projects, unselected=0):\n",
    "    \"\"\"\n",
    "    Creates a student project selection form\n",
    "    Unselected projects indicated by zero by default\n",
    "    \"\"\"\n",
    "    students = list(range(n_students))\n",
    "    projects = list(range(n_projects))\n",
    "\n",
    "    cost_matrix = []\n",
    "    \n",
    "    for s in students:\n",
    "        selections = [unselected for p in projects] # assigns a suitably high number to all unselected projects\n",
    "        \n",
    "        # selects n ranked choices per student for projects selected randomly from a weighted probability distribution\n",
    "        for n in range(1, n_choices+1):\n",
    "            \n",
    "            element = random.choices(np.arange(n_projects), weights=np.linspace(0, 1, n_projects))\n",
    "            \n",
    "            selections[element[0]] = n\n",
    "            \n",
    "        # repeat the last two entries to represent two projects that can each accept 2 students \n",
    "        # selections = selections + selections[-2:] \n",
    "            \n",
    "        cost_matrix.append(selections)\n",
    "    \n",
    "    return np.array(cost_matrix)"
   ]
  },
  {
   "cell_type": "code",
   "execution_count": 11,
   "metadata": {},
   "outputs": [],
   "source": [
    "def build_ideal_cost_matrix(n_students, n_projects):\n",
    "    \n",
    "    \"\"\"\n",
    "    Creates an ideal student project selection form where each \n",
    "    student has uniquely ranked their first choice 1\n",
    "    Unselected projects indicated by zero\n",
    "    \"\"\"\n",
    "\n",
    "    A = np.identity(n_students, dtype=int)                          # ensure all students have uniquely chosen first choice\n",
    "\n",
    "    B = np.zeros((n_students, n_projects-n_students), dtype=int)    # add extra projects\n",
    "\n",
    "    cost_matrix = np.hstack((A,B))                                  # combine to form project selection matrix\n",
    "\n",
    "    cost_matrix=cost_matrix.tolist()\n",
    "\n",
    "    for i in range(len(cost_matrix)):\n",
    "\n",
    "        # selects n ranked choices per student \n",
    "        for n in range(2, n_choices+1):\n",
    "\n",
    "            element = random.choices(np.arange(n_projects), weights=np.linspace(0, 1, n_projects))\n",
    "\n",
    "            while cost_matrix[i][element[0]]>0:\n",
    "                element = random.choices(np.arange(n_projects), weights=np.linspace(0, 1, n_projects))\n",
    "\n",
    "            cost_matrix[i][element[0]]=n"
   ]
  },
  {
   "cell_type": "markdown",
   "metadata": {},
   "source": [
    "Generate multiple sample data sets to use to test SPA algorithms "
   ]
  },
  {
   "cell_type": "code",
   "execution_count": null,
   "metadata": {},
   "outputs": [],
   "source": [
    "for i in range(5):\n",
    "\n",
    "    # build student project selection form\n",
    "    cost_matrix = build_cost_matrix(n_students, n_projects)        \n",
    "    \n",
    "    # store form \n",
    "    with open(f'data/student_preference_matrices/student_preference_matrix_{i}.csv', 'w') as f:   \n",
    "        \n",
    "        w = csv.writer(f)                  # writer object\n",
    "\n",
    "        w.writerows(cost_matrix)           # list to row"
   ]
  },
  {
   "cell_type": "markdown",
   "metadata": {},
   "source": [
    "Generate an ideal data set to test SPA algorithms "
   ]
  },
  {
   "cell_type": "code",
   "execution_count": 12,
   "metadata": {},
   "outputs": [
    {
     "ename": "TypeError",
     "evalue": "writerows() argument must be iterable",
     "output_type": "error",
     "traceback": [
      "\u001b[0;31m---------------------------------------------------------------------------\u001b[0m",
      "\u001b[0;31mTypeError\u001b[0m                                 Traceback (most recent call last)",
      "\u001b[0;32m<ipython-input-12-03cdcb33c080>\u001b[0m in \u001b[0;36m<module>\u001b[0;34m\u001b[0m\n\u001b[1;32m      7\u001b[0m     \u001b[0mw\u001b[0m \u001b[0;34m=\u001b[0m \u001b[0mcsv\u001b[0m\u001b[0;34m.\u001b[0m\u001b[0mwriter\u001b[0m\u001b[0;34m(\u001b[0m\u001b[0mf\u001b[0m\u001b[0;34m)\u001b[0m                  \u001b[0;31m# writer object\u001b[0m\u001b[0;34m\u001b[0m\u001b[0;34m\u001b[0m\u001b[0m\n\u001b[1;32m      8\u001b[0m \u001b[0;34m\u001b[0m\u001b[0m\n\u001b[0;32m----> 9\u001b[0;31m     \u001b[0mw\u001b[0m\u001b[0;34m.\u001b[0m\u001b[0mwriterows\u001b[0m\u001b[0;34m(\u001b[0m\u001b[0mcost_matrix\u001b[0m\u001b[0;34m)\u001b[0m           \u001b[0;31m# list to row\u001b[0m\u001b[0;34m\u001b[0m\u001b[0;34m\u001b[0m\u001b[0m\n\u001b[0m",
      "\u001b[0;31mTypeError\u001b[0m: writerows() argument must be iterable"
     ]
    }
   ],
   "source": [
    "\n",
    "\n",
    "# build student project selection form\n",
    "cost_matrix = build_ideal_cost_matrix(n_students, n_projects) \n",
    "\n",
    "# store form \n",
    "with open(f'data/student_preference_matrices/student_preference_matrix_ideal.csv', 'w') as f:   \n",
    "\n",
    "    w = csv.writer(f)                  # writer object\n",
    "\n",
    "    w.writerows(cost_matrix)           # list to row"
   ]
  },
  {
   "cell_type": "code",
   "execution_count": null,
   "metadata": {},
   "outputs": [],
   "source": []
  }
 ],
 "metadata": {
  "kernelspec": {
   "display_name": "Python 3",
   "language": "python",
   "name": "python3"
  },
  "language_info": {
   "codemirror_mode": {
    "name": "ipython",
    "version": 3
   },
   "file_extension": ".py",
   "mimetype": "text/x-python",
   "name": "python",
   "nbconvert_exporter": "python",
   "pygments_lexer": "ipython3",
   "version": "3.7.4"
  }
 },
 "nbformat": 4,
 "nbformat_minor": 4
}
