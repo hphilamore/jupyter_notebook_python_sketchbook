{
 "cells": [
  {
   "cell_type": "code",
   "execution_count": null,
   "metadata": {},
   "outputs": [],
   "source": []
  },
  {
   "cell_type": "code",
   "execution_count": 5,
   "metadata": {},
   "outputs": [
    {
     "data": {
      "text/plain": [
       "[(-sqrt(a0**2*w**2)/w, v0, asin(sin(f0 + t*w)) + pi),\n",
       " (-sqrt(a0**2*w**2)/w, v0, -asin(sin(f0 + t*w))),\n",
       " (-sqrt(-a0**2*w**2*cos(f0 + t*w)**2 + a0**2*w**2 + v0**2)/w,\n",
       "  a0*w*cos(f0 + t*w),\n",
       "  asin(a0*w*sin(f0 + t*w)/sqrt(-a0**2*w**2*cos(f0 + t*w)**2 + a0**2*w**2 + v0**2)) + pi),\n",
       " (-sqrt(-a0**2*w**2*cos(f0 + t*w)**2 + a0**2*w**2 + v0**2)/w,\n",
       "  a0*w*cos(f0 + t*w),\n",
       "  -asin(a0*w*sin(f0 + t*w)/sqrt(-a0**2*w**2*cos(f0 + t*w)**2 + a0**2*w**2 + v0**2)))]"
      ]
     },
     "execution_count": 5,
     "metadata": {},
     "output_type": "execute_result"
    }
   ],
   "source": [
    "import sympy as sp\n",
    "from sympy.solvers import solve\n",
    "from sympy import symbols, cos, sin\n",
    "\n",
    "v0, a0, f0 = symbols('v0 a0 f0')\n",
    "v1, a1, f1 = symbols('v1 a1 f1')\n",
    "w, t = symbols('w t')\n",
    "\n",
    "g1 = v0 + a0 * w * cos(w*t + f0) - v1 - a1 * w * cos(f1)\n",
    "g2 = v0**2 + a0**2*w**2 -v1**2 - a1**2*w**2\n",
    "g3 = a0 * sin(w*t + f0) - a1*sin(f1)\n",
    "\n",
    "solve((g1,g2,g3), (a1,v1,f1))"
   ]
  },
  {
   "cell_type": "code",
   "execution_count": 12,
   "metadata": {},
   "outputs": [
    {
     "data": {
      "text/plain": [
       "[(3769.40133037694, 496.350364963504)]"
      ]
     },
     "execution_count": 12,
     "metadata": {},
     "output_type": "execute_result"
    }
   ],
   "source": [
    "# Solving-Two-Equations-for-Two-Unknowns\n",
    "# https://problemsolvingwithpython.com/10-Symbolic-Math/10.07-Solving-Two-Equations-for-Two-Unknowns/\n",
    "    \n",
    "import sympy as sp\n",
    "from sympy.solvers import solve\n",
    "from sympy import symbols, Eq, solve\n",
    "\n",
    "R2, R3 = symbols('R2 R3')\n",
    "\n",
    "# Set R1 as 1kohm\n",
    "R1 = 1000\n",
    "\n",
    "# Reference voltage of comparator\n",
    "Vref = 1.25\n",
    "\n",
    "# Upper threshold voltage\n",
    "Vh = 4.1\n",
    "\n",
    "# Lower threshold voltage\n",
    "Vl = 1.36\n",
    "\n",
    "\n",
    "def par(Ra, Rb):\n",
    "    \"Returns equivalent resistance of two parellel resistors\"\n",
    "    return (1/(1/Ra + 1/Rb))\n",
    "\n",
    "\n",
    "\n",
    "# Upper threshold equation\n",
    "# 1.25 =  4.1 * par(R2, R3) / R1 + par(R2, R3)\n",
    "eq1 = Eq(par(R2, R3) / (R1 + par(R2, R3))  - Vref/Vh)\n",
    "\n",
    "# Lower threshold equation\n",
    "# 1.25 =  1.36 * R2 / R2 + par(R1, R3)\n",
    "eq2 = Eq(R2 / (R2 + par(R1, R3))  - Vref/Vl)\n",
    "\n",
    "solve((eq1,eq2), (R2, R3))"
   ]
  },
  {
   "cell_type": "code",
   "execution_count": null,
   "metadata": {},
   "outputs": [],
   "source": []
  }
 ],
 "metadata": {
  "kernelspec": {
   "display_name": "Python 3",
   "language": "python",
   "name": "python3"
  },
  "language_info": {
   "codemirror_mode": {
    "name": "ipython",
    "version": 3
   },
   "file_extension": ".py",
   "mimetype": "text/x-python",
   "name": "python",
   "nbconvert_exporter": "python",
   "pygments_lexer": "ipython3",
   "version": "3.7.4"
  }
 },
 "nbformat": 4,
 "nbformat_minor": 2
}
