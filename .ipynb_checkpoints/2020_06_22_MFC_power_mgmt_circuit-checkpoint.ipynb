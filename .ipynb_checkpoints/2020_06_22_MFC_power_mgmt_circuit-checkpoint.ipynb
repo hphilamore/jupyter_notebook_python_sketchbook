{
 "cells": [
  {
   "cell_type": "markdown",
   "metadata": {},
   "source": [
    "# Power management circuit\n",
    "\n",
    "- Determine values of PMGMT circuit components using MFC energy data\n",
    "- Estimate max number of samples that can be taken per cycle given the energy generated for each COD value\n",
    "\n",
    "<br><img src=\"img/PIC18LF46K22_CODsensorC.png\" alt=\"Drawing\" style=\"width: 500px;\"/>"
   ]
  },
  {
   "cell_type": "code",
   "execution_count": 1,
   "metadata": {},
   "outputs": [],
   "source": [
    "import numpy as np\n",
    "import pandas as pd"
   ]
  },
  {
   "cell_type": "markdown",
   "metadata": {},
   "source": [
    "## Contraints of MFCs and Power MGMT components\n",
    "\n",
    "Comparator: LTC1540 <br>https://www.analog.com/media/en/technical-documentation/data-sheets/1540fb.pdf\n",
    "<br>Required to allow cold-start of the device for in-field operation. \n",
    "\n",
    "Regulator: TPS7A02 <br>https://www.ti.com/lit/ds/symlink/tps7a02.pdf?ts=1592828671056&ref_url=https%253A%252F%252Fwww.google.com%252F\n",
    "Required to run the pic microcontroller at the lowest possible voltage thereby using the lowest possible power."
   ]
  },
  {
   "cell_type": "code",
   "execution_count": 2,
   "metadata": {},
   "outputs": [
    {
     "data": {
      "text/plain": [
       "array([10.14576,  8.64816,  3.9912 ,  1.1592 ])"
      ]
     },
     "execution_count": 2,
     "metadata": {},
     "output_type": "execute_result"
    }
   ],
   "source": [
    "# Energy harvested from single batch feed MFC, Joules (J) for different COD values\n",
    "\n",
    "Ea = np.array([21.137,  # COD = 900\n",
    "                 18.017,  # COD = 500\n",
    "                 8.315,   # COD = 300\n",
    "                 2.415    # COD = 70\n",
    "                ])\n",
    "\n",
    "Ea *= 0.48 # apply energy harvesting eff.\n",
    "Ea"
   ]
  },
  {
   "cell_type": "markdown",
   "metadata": {},
   "source": [
    "\n",
    "\n",
    "\n",
    "\n",
    "Maximum and minimum rated supply voltages."
   ]
  },
  {
   "cell_type": "code",
   "execution_count": 3,
   "metadata": {},
   "outputs": [],
   "source": [
    "# max, min allowable supply voltage for regulator\n",
    "Vmax = 6 \n",
    "Vmin = 2.3 # lowest Vin for Vout = 1.8V "
   ]
  },
  {
   "cell_type": "markdown",
   "metadata": {},
   "source": [
    "Max energy stored in supply capacitor"
   ]
  },
  {
   "cell_type": "code",
   "execution_count": 4,
   "metadata": {},
   "outputs": [
    {
     "data": {
      "text/plain": [
       "10.14576"
      ]
     },
     "execution_count": 4,
     "metadata": {},
     "output_type": "execute_result"
    }
   ],
   "source": [
    "E_cod900 = Ea[0]\n",
    "E_cod900"
   ]
  },
  {
   "cell_type": "markdown",
   "metadata": {},
   "source": [
    "Capacitor energy $E = \\frac{1}{2} CV^2$\n",
    "\n",
    "Capacitance needed to store:\n",
    "\n",
    "    `E_cod900` (max energy harvested) + \n",
    "    energy stored in capacitor at 2.3V @\n",
    "    max voltage of camparator and regulator\n",
    "    \n",
    "$0.5CV_{max}^2 = 0.5CV_{min}^2 + E_{cod=900}$ \n",
    "\n",
    "$C = \\frac{E_{max}}{\\frac{1}{2} (V_{max}^2-V_{min}^2)}$"
   ]
  },
  {
   "cell_type": "code",
   "execution_count": 5,
   "metadata": {},
   "outputs": [
    {
     "name": "stdout",
     "output_type": "stream",
     "text": [
      "capacitor = 0.66 F\n"
     ]
    }
   ],
   "source": [
    "# C = E_cod900 / (0.5 * Vmax**2)\n",
    "C = E_cod900 / (0.5 * (Vmax**2 - Vmin**2))\n",
    "\n",
    "C = round(C, 2)\n",
    "print(f'capacitor = {C} F')"
   ]
  },
  {
   "cell_type": "markdown",
   "metadata": {},
   "source": [
    "The energy stored in capacitor $C$ at the lower cut-off voltage $V_{min}$ \n",
    "\n",
    "$E_{min} = \\frac{1}{2} CV_{min}^2$"
   ]
  },
  {
   "cell_type": "code",
   "execution_count": 6,
   "metadata": {},
   "outputs": [
    {
     "data": {
      "text/plain": [
       "1.7456999999999998"
      ]
     },
     "execution_count": 6,
     "metadata": {},
     "output_type": "execute_result"
    }
   ],
   "source": [
    "Emin = 0.5 * C * Vmin**2\n",
    "Emin"
   ]
  },
  {
   "cell_type": "markdown",
   "metadata": {},
   "source": [
    "For each COD value, $E_a$ defines the energy budget accrued for use in the next COD estimation cycle\n",
    "\n",
    "$E_{out} = nE_{sa} + E_{e} + E_{sl} + E_{r} + E_{c}$\n",
    "\n",
    "where $n=$ number of samples"
   ]
  },
  {
   "cell_type": "markdown",
   "metadata": {},
   "source": [
    "For each COD value, we can compute:\n",
    "- the energy consumed by each of the main operations\n",
    "    - sampling\n",
    "    - COD estimation\n",
    "    - sleep\n",
    "    - voltage regulation \n",
    "    - comparator\n",
    "    \n",
    "- the maximum number of samples that can be taken given the amount of stored energy.\n",
    "    \n",
    "- the total energy stored in the capacitor, when charged by a single feed cycle of 1 MFC, assuming the starting voltage of the capacitor is $V_{min}$\n",
    "\n",
    "\n",
    " \n"
   ]
  },
  {
   "cell_type": "markdown",
   "metadata": {},
   "source": [
    "## Energy used by each process\n",
    "\n",
    "##### Micro-controller operations"
   ]
  },
  {
   "cell_type": "code",
   "execution_count": 7,
   "metadata": {},
   "outputs": [
    {
     "name": "stdout",
     "output_type": "stream",
     "text": [
      "[2.124e-03 5.130e-03 4.000e-08]\n",
      "[0.0002 0.0015 0.0218]\n"
     ]
    }
   ],
   "source": [
    "processes = ['sample', 'estimate', 'sleep']\n",
    "\n",
    "\n",
    "# execution time (s) [measured empirically]\n",
    "week = 7*24*60*60\n",
    "exec_time = [0.1, 0.3, week]\n",
    "\n",
    "\n",
    "# current [measured empirically]\n",
    "current = np.array([1.18e-3, 2.85e-3, 2e-8]) \n",
    "\n",
    "\n",
    "# voltage \n",
    "voltage = 1.8 # operting voltage of microcontroller \n",
    "\n",
    "\n",
    "# power\n",
    "power = voltage * current\n",
    "print(np.round(power,8))\n",
    "\n",
    "\n",
    "# energy \n",
    "emc = power * exec_time \n",
    "print(np.round(emc,4))\n",
    "\n",
    "# # total energy, microcontroller\n",
    "# Emc = sum(emc)\n",
    "# Emc"
   ]
  },
  {
   "cell_type": "markdown",
   "metadata": {},
   "source": [
    "##### Power MGMT operations operations\n",
    "\n",
    "The supply voltage to the comparator and voltage regulator is not constant. \n",
    "<br>It depends on the rate of discharge of the capacitor which depends on the resistance of the circuit, which is non-linear. \n",
    "<br>Deriving an equation for the power consumption precisely is therefore:\n",
    "1. Beyond the scope of this study (we do not have a mathematical model for the dynamic behaviour of each component)\n",
    "1. Of limited value since the amout of energy stored in the capacitor will vary with each cycle due to the stochasicity of the MFC behaviour. \n",
    "\n",
    "However, the following estimates can be made using information from the component data sheets about the relationship between voltage and current. \n",
    "\n",
    "###### 1.8V Regulator : TPS7A02\n",
    "Quiescent current (IQ) is the current required to power the regulator's internal circuitry when the external load current is zero.\n",
    "<br>Ground current (IGND) is the difference between the input and output currents, and necessarily includes the quiescent current. <br>A low ground current maximizes the LDO efficiency.\n",
    "\n",
    "    IGND= IIN– IOUT\n",
    "\n",
    "<table><tr><td> \n",
    "<img src='img/TPS7A02_ground.png' style=\"width: 400px;\"> </td><td> \n",
    "<img src='img/TPS7A02_quiescent.png' style=\"width: 400px;\"> </td><td> \n",
    "</table>\n",
    "    \n",
    "Assumptions:\n",
    "- Ground current = :\n",
    "    - 25nA @ 20nA ouput (microcontroller sleep = 20nA)\n",
    "    - 10uA @ mA ouput (microcontroller estimate = 2.85mA)\n",
    "    \n",
    "- Voltage = `Vmax`\n",
    "    \n",
    "\n",
    "\n"
   ]
  },
  {
   "cell_type": "markdown",
   "metadata": {},
   "source": [
    "###### Comparator : LTC1540\n",
    "\n",
    "<table><tr><td> \n",
    "<img src='img/IT_LTC1540.png' style=\"width: 300px;\"> </td><td> \n",
    "<img src='img/IV_LTC1540.png' style=\"width: 300px;\"> </td><td> \n",
    "</table>\n",
    "\n",
    "Assumptions:\n",
    "- Ground current = 0.3uA\n",
    "- Voltage = `Vmax`"
   ]
  },
  {
   "cell_type": "code",
   "execution_count": 8,
   "metadata": {},
   "outputs": [
    {
     "name": "stdout",
     "output_type": "stream",
     "text": [
      "[1.5e-07 1.8e-06]\n",
      "[0.0907 1.0886]\n"
     ]
    }
   ],
   "source": [
    "processes = ['comparator', 'regulator']\n",
    "\n",
    "# execution time (s) \n",
    "exec_time = week \n",
    "\n",
    "\n",
    "# current \n",
    "current = np.array([25e-9, 3e-7]) \n",
    "\n",
    "\n",
    "# voltage \n",
    "voltage = Vmax \n",
    "\n",
    "\n",
    "# power\n",
    "power = voltage * current\n",
    "print(np.round(power,8))\n",
    "\n",
    "\n",
    "# energy \n",
    "emgmt = power * exec_time \n",
    "print(np.round(emgmt,4))\n",
    "\n",
    "\n",
    "# # total energy, power MGMT\n",
    "# Emgmt = sum(emgmt)\n",
    "# Emgmt"
   ]
  },
  {
   "cell_type": "markdown",
   "metadata": {},
   "source": [
    "## Potential for energy autonomy \n",
    "\n",
    "The mimimun available energy needed to run the system can then be estimated as \n",
    "    \n",
    "$E_{out} = nE_{sa} + E_{e} + E_{sl} + E_{r} + E_{c}$, where $n=1$"
   ]
  },
  {
   "cell_type": "code",
   "execution_count": 20,
   "metadata": {},
   "outputs": [
    {
     "data": {
      "text/plain": [
       "1.2028842"
      ]
     },
     "execution_count": 20,
     "metadata": {},
     "output_type": "execute_result"
    }
   ],
   "source": [
    "def Eout(n):\n",
    "    return sum(emgmt) + sum(emc * np.array([n, 1, 1])) \n",
    "\n",
    "\n",
    "Eout(1)"
   ]
  },
  {
   "cell_type": "code",
   "execution_count": 21,
   "metadata": {},
   "outputs": [
    {
     "data": {
      "text/plain": [
       "1.2028842"
      ]
     },
     "execution_count": 21,
     "metadata": {},
     "output_type": "execute_result"
    }
   ],
   "source": [
    "n = 1\n",
    "\n",
    "En1 = sum(emgmt) + sum(emc * np.array([n, 1, 1])) \n",
    "\n",
    "En1"
   ]
  },
  {
   "cell_type": "markdown",
   "metadata": {},
   "source": [
    "We can then find the difference between `Ea` and `En1`, the difference between the average energy generated at each COD value and the minimum possible energy concumed by the system (i.e. the min mumber of samples, n=1)."
   ]
  },
  {
   "cell_type": "code",
   "execution_count": 22,
   "metadata": {},
   "outputs": [
    {
     "data": {
      "text/plain": [
       "array([ 8.9428758,  7.4452758,  2.7883158, -0.0436842])"
      ]
     },
     "execution_count": 22,
     "metadata": {},
     "output_type": "execute_result"
    }
   ],
   "source": [
    "Ea - En1"
   ]
  },
  {
   "cell_type": "markdown",
   "metadata": {},
   "source": [
    "The vaule for COD=70 is negative suggesting there is not enough energy harvested when COD=70 for energy-autonomous behaviour as the energy used > energy generated. \n",
    "\n",
    "However, this is only an estimate so we won't worry too much about that for now. "
   ]
  },
  {
   "cell_type": "markdown",
   "metadata": {},
   "source": [
    "Using the energy consumption estimate for each process we can estimate the __maximum number of samples__ that can be taken in the next cycle, assuming only the energy harvested in the previous cycke is used."
   ]
  },
  {
   "cell_type": "code",
   "execution_count": 23,
   "metadata": {},
   "outputs": [
    {
     "name": "stdout",
     "output_type": "stream",
     "text": [
      "0.0002124\n"
     ]
    },
    {
     "data": {
      "text/plain": [
       "1.2026718"
      ]
     },
     "execution_count": 23,
     "metadata": {},
     "output_type": "execute_result"
    }
   ],
   "source": [
    "# energy for one sampling event\n",
    "Es = emc[0]\n",
    "print(Es)\n",
    "\n",
    "# energy for all other operations\n",
    "Eops = sum(np.concatenate((emc[1:], emgmt)))\n",
    "Eops"
   ]
  },
  {
   "cell_type": "code",
   "execution_count": 24,
   "metadata": {},
   "outputs": [
    {
     "data": {
      "text/plain": [
       "array([42104.93502825, 35054.08757062, 13128.66384181,  -204.66949153])"
      ]
     },
     "execution_count": 24,
     "metadata": {},
     "output_type": "execute_result"
    }
   ],
   "source": [
    "n_samples = (Ea - Eops) / Es\n",
    "n_samples"
   ]
  },
  {
   "cell_type": "markdown",
   "metadata": {},
   "source": [
    "And this can be used to find the time __minimum time increment between each sample__"
   ]
  },
  {
   "cell_type": "code",
   "execution_count": 25,
   "metadata": {
    "scrolled": true
   },
   "outputs": [
    {
     "name": "stdout",
     "output_type": "stream",
     "text": [
      "minimum sampling increment = [   14.36411194    17.2533374     46.06714036 -2955.0080742 ] s\n",
      "([  0.23940187   0.28755562   0.76778567 -49.25013457] min\n"
     ]
    }
   ],
   "source": [
    "t_inc = week / n_samples\n",
    "print(f'minimum sampling increment = {t_inc} s')\n",
    "print(f'({t_inc/60} min')"
   ]
  },
  {
   "cell_type": "markdown",
   "metadata": {},
   "source": [
    "So we can see that, there is enough energy generated by each COD value (900, 500, 300) to run energy-autonomously and sample with a higher frequency than the arbitrary 2 mins chosen for testing, but possibly not enough by COD 70 to run energy-autonomously.\n",
    "\n",
    "\n"
   ]
  },
  {
   "cell_type": "markdown",
   "metadata": {},
   "source": [
    "## Cold start\n",
    "\n",
    "This functionality relies on the storage capacitor being charged above the cut-off voltage of `V_min`. \n",
    "\n",
    "The comparator is used to disconnect the supply to the voltage regulator (and the rest of the system) when the voltage of the storage capacitor drops to `Vmin` as it can no longer be regulated to 1.8V. \n",
    "\n",
    "A 'switch-on' voltage that is greater than this 'switch-off' voltage is introduced by setting a comparator hysteresis (next notebook). This enables the system to cold-start by allowing the storage capacitor to charge to a sufficient energy level to power the system before connecting it to the main circuit. This also allows the system to restart itself during operation of it loses power for example while operating in the field. \n",
    "\n",
    "The number of cycles required for the system to cold start will depend on the energy density (COD value) of the water samples fed to the MFC. \n",
    "\n",
    "<img src='img/accuracvstime.jpg' style=\"width: 400px;\"> "
   ]
  },
  {
   "cell_type": "markdown",
   "metadata": {},
   "source": [
    "The question is what should this switch on voltage be? \n",
    "\n",
    "We can see from the plot of accuracy vs time, that there is little to be gained from choosing a sampling interval <32 mins and that accuracy begins to drop significantly >32. \n",
    "\n",
    "Therefore the sampling interval time was set as 32 mins (315 daya points over one week) and the comparator hysteresis was designed to switch-on the system only when there was enough energy stored in the capacitor to complete 315 samples in one week (estimated value). \n",
    "\n",
    "If the energy stored in the capacitor falls to the level where 315 data points cannot be collected, the system will shut down. Consequnelty the accuracy of prediction remains high. \n",
    "\n",
    "Again, the total energy in the storage capacitor will depend on the energy-density history of water samples - when the COD values are high there will be a surplus of energy that can help the system to continue to function even when the COD value is low. "
   ]
  },
  {
   "cell_type": "markdown",
   "metadata": {},
   "source": [
    "The total energy in the storage capacitor for 315 samples:"
   ]
  },
  {
   "cell_type": "code",
   "execution_count": 30,
   "metadata": {},
   "outputs": [
    {
     "name": "stdout",
     "output_type": "stream",
     "text": [
      "1.2695778\n"
     ]
    },
    {
     "data": {
      "text/plain": [
       "2.9485842"
      ]
     },
     "execution_count": 30,
     "metadata": {},
     "output_type": "execute_result"
    }
   ],
   "source": [
    "# Ecap needed for 32 samples\n",
    "\n",
    "print(Eout(315))\n",
    "\n",
    "E_cap = Eout(n) + 0.5*C*Vmin**2\n",
    "E_cap"
   ]
  },
  {
   "cell_type": "markdown",
   "metadata": {},
   "source": [
    "'Switch-on voltage of the system'"
   ]
  },
  {
   "cell_type": "code",
   "execution_count": 29,
   "metadata": {},
   "outputs": [
    {
     "name": "stdout",
     "output_type": "stream",
     "text": [
      "2.3 2.989164370917671\n"
     ]
    }
   ],
   "source": [
    "V_thl = Vmin\n",
    "V_thh = np.sqrt(E_cap / (0.5*C))\n",
    "print(V_thl, V_thh)"
   ]
  },
  {
   "cell_type": "code",
   "execution_count": 32,
   "metadata": {},
   "outputs": [
    {
     "name": "stdout",
     "output_type": "stream",
     "text": [
      "1.2695778\n",
      "8.0395434\n"
     ]
    }
   ],
   "source": [
    "def Eout(n):\n",
    "    return sum(emgmt) + sum(emc * np.array([n, 1, 1])) \n",
    "\n",
    "\n",
    "print(Eout(315))\n",
    "\n",
    "\n",
    "def Eout(n):\n",
    "    return sum(emgmt) + sum(emc * np.array([1, 1, n])) \n",
    "\n",
    "\n",
    "print(Eout(315))"
   ]
  },
  {
   "cell_type": "code",
   "execution_count": null,
   "metadata": {},
   "outputs": [],
   "source": []
  }
 ],
 "metadata": {
  "kernelspec": {
   "display_name": "Python 3",
   "language": "python",
   "name": "python3"
  },
  "language_info": {
   "codemirror_mode": {
    "name": "ipython",
    "version": 3
   },
   "file_extension": ".py",
   "mimetype": "text/x-python",
   "name": "python",
   "nbconvert_exporter": "python",
   "pygments_lexer": "ipython3",
   "version": "3.8.3"
  }
 },
 "nbformat": 4,
 "nbformat_minor": 2
}
