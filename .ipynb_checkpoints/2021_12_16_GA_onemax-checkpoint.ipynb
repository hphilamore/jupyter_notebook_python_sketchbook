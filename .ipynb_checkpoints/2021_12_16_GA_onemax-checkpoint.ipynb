{
 "cells": [
  {
   "cell_type": "markdown",
   "metadata": {},
   "source": [
    "Genetic Algorithm for OneMax\n",
    "https://machinelearningmastery.com/simple-genetic-algorithm-from-scratch-in-python/"
   ]
  },
  {
   "cell_type": "markdown",
   "metadata": {},
   "source": [
    "The first step is to create a population of random bitstrings. We could use boolean values True and False, string values ‘0’ and ‘1’, or integer values 0 and 1. "
   ]
  },
  {
   "cell_type": "code",
   "execution_count": 1,
   "metadata": {},
   "outputs": [],
   "source": [
    "import numpy as np\n",
    "from numpy.random import randint\n",
    "from numpy.random import rand\n",
    "import matplotlib.pyplot as plt\n",
    "%matplotlib inline"
   ]
  },
  {
   "cell_type": "markdown",
   "metadata": {},
   "source": [
    "Define an objective / fitness function to be minimised.\n",
    "\n",
    "The problem is called OneMax and evaluates a binary string based on the number of 1s in the string. For example, a bitstring with a length of 20 bits will have a score of 20 for a string of all 1s.\n",
    "\n",
    "The onemax() function below implements this and takes a bitstring of integer values as input and returns the negative sum of the values."
   ]
  },
  {
   "cell_type": "code",
   "execution_count": 2,
   "metadata": {},
   "outputs": [],
   "source": [
    "def onemax(x):\n",
    "    \"\"\"objective function\"\"\"\n",
    "    return -sum(x)"
   ]
  },
  {
   "cell_type": "code",
   "execution_count": 3,
   "metadata": {},
   "outputs": [],
   "source": [
    "\n",
    "def selection(pop, scores, k=3):\n",
    "    \"\"\"\n",
    "    tournament selection\n",
    "    \"\"\"\n",
    "    \n",
    "    sample_idx = randint(0, len(pop), k)       # select k random indexes for individuals to sample\n",
    "    \n",
    "    sample = [scores[i] for i in sample_idx]   # score of each individual\n",
    "    \n",
    "    best_idx = np.argmin(sample)               # ID of best score (tournament)\n",
    "    \n",
    "    return pop[best_idx]                       # return best individual \n",
    "    \n",
    "    "
   ]
  },
  {
   "cell_type": "code",
   "execution_count": 4,
   "metadata": {},
   "outputs": [],
   "source": [
    "# tournament selection\n",
    "def selection(pop, scores, k=3):\n",
    "    \n",
    "    selection_ix = randint(len(pop))          # first random selection\n",
    "    \n",
    "    for ix in randint(0, len(pop), k-1):\n",
    "        \n",
    "        if scores[ix] < scores[selection_ix]: # check if better (e.g. perform a tournament)\n",
    "            \n",
    "            selection_ix = ix\n",
    "            \n",
    "    return pop[selection_ix]"
   ]
  },
  {
   "cell_type": "code",
   "execution_count": 5,
   "metadata": {},
   "outputs": [],
   "source": [
    "def crossover(p1, p2, r_cross):\n",
    "    \"\"\"\n",
    "    crossover two parents to create two children\n",
    "    \"\"\"\n",
    "    c1, c2 = p1.copy(), p2.copy()    # children are copies of parents by default\n",
    "    \n",
    "    if rand() < r_cross:             # check if randomly selected value below threshold r_cross\n",
    "        \n",
    "        pt = randint(1, len(p1)-2)   # select crossover point that is not on either end of the string\n",
    "        \n",
    "        c1 = p1[:pt] + p2[pt:]       # perform crossover\n",
    "        c2 = p2[:pt] + p1[pt:]\n",
    "        \n",
    "    return [c1, c2]"
   ]
  },
  {
   "cell_type": "code",
   "execution_count": 6,
   "metadata": {},
   "outputs": [],
   "source": [
    "\n",
    "def mutation(bitstring, r_mut):\n",
    "    \"\"\"\n",
    "    mutation operator\n",
    "    \"\"\"\n",
    "    \n",
    "    for i in range(len(bitstring)):\n",
    "        \n",
    "        if rand() < r_mut:                     # check for a mutation\n",
    "            \n",
    "            bitstring[i] = 1 - bitstring[i]    # flip the bit"
   ]
  },
  {
   "cell_type": "code",
   "execution_count": 12,
   "metadata": {},
   "outputs": [],
   "source": [
    "# genetic algorithm\n",
    "def genetic_algorithm(objective, n_bits, n_iter, n_pop, r_cross, r_mut):\n",
    "    \n",
    "    # initial population of random bitstring individuals\n",
    "    pop = [randint(0, 2, n_bits).tolist() for _ in range(n_pop)]\n",
    "    \n",
    "    print(np.matrix(pop))\n",
    "    \n",
    "    log_best = []# store highest score each generation to plot progression    \n",
    "    \n",
    "    # cycle through each generation\n",
    "    for gen in range(n_iter):\n",
    "        \n",
    "        # evaluate all candidates in the population\n",
    "        scores = [objective(c) for c in pop]\n",
    "        \n",
    "        best = min(scores)\n",
    "        \n",
    "        best_ID = np.argmin(scores)\n",
    "        \n",
    "        log_best.append(best)\n",
    "        \n",
    "        #print(f\"Gen {gen}, highest score = {best}, chromosome = {pop[best_ID]}\")\n",
    "        \n",
    "        # select parents\n",
    "        # run tournament selection n_pop times to get n_pop winners \n",
    "        # (population size does not change) \n",
    "        selected = [selection(pop, scores) for _ in range(n_pop)] \n",
    "        \n",
    "        # create the next generation\n",
    "        children = []\n",
    "        \n",
    "        for i in range(0, n_pop, 2):             # select parents in pairs\n",
    "            p1, p2 = selected[i], selected[i+1]\n",
    "            \n",
    "            for c in crossover(p1, p2, r_cross): # crossover each pair to give two children\n",
    "                \n",
    "                mutation(c, r_mut)               # mutate each child\n",
    "                \n",
    "                children.append(c)               # store for next generation\n",
    "                \n",
    "        \n",
    "        # replace population\n",
    "        pop = children\n",
    "        \n",
    "    return best, log_best\n",
    "        \n",
    "        \n",
    "        "
   ]
  },
  {
   "cell_type": "code",
   "execution_count": 13,
   "metadata": {},
   "outputs": [
    {
     "name": "stdout",
     "output_type": "stream",
     "text": [
      "[[1 1 0 ... 1 0 1]\n",
      " [0 0 1 ... 1 1 1]\n",
      " [1 1 0 ... 1 1 1]\n",
      " ...\n",
      " [1 0 0 ... 1 0 1]\n",
      " [0 0 1 ... 0 0 1]\n",
      " [1 1 0 ... 1 1 1]]\n"
     ]
    }
   ],
   "source": [
    "\n",
    "n_iter = 100     # define the total iterations\n",
    "\n",
    "n_bits = 20      # bits\n",
    "\n",
    "n_pop = 100      # define the population size (n individuals)\n",
    "\n",
    "r_cross = 0.9    # crossover rate\n",
    "\n",
    "r_mut = 1.0 / float(n_bits) # mutation rate\n",
    "\n",
    "best, log_best = genetic_algorithm(onemax, n_bits, n_iter, n_pop, r_cross, r_mut)"
   ]
  },
  {
   "cell_type": "code",
   "execution_count": 14,
   "metadata": {},
   "outputs": [
    {
     "name": "stdout",
     "output_type": "stream",
     "text": [
      "5\n"
     ]
    },
    {
     "data": {
      "text/plain": [
       "[<matplotlib.lines.Line2D at 0x7fc6200110d0>]"
      ]
     },
     "execution_count": 14,
     "metadata": {},
     "output_type": "execute_result"
    },
    {
     "data": {
      "image/png": "[encoded data removed]",
      "text/plain": [
       "<Figure size 432x288 with 1 Axes>"
      ]
     },
     "metadata": {
      "needs_background": "light"
     },
     "output_type": "display_data"
    }
   ],
   "source": [
    "print(np.argmin(log_best))\n",
    "      \n",
    "plt.plot(log_best)"
   ]
  },
  {
   "cell_type": "code",
   "execution_count": 15,
   "metadata": {},
   "outputs": [
    {
     "name": "stdout",
     "output_type": "stream",
     "text": [
      "Gen 0, highest score = -15, chromosome = [1, 1, 0, 1, 1, 0, 1, 1, 1, 1, 0, 1, 1, 1, 1, 0, 1, 0, 1, 1]\n",
      "Gen 2, highest score = -18, chromosome = [1, 1, 1, 1, 1, 1, 1, 1, 1, 1, 0, 0, 1, 1, 1, 1, 1, 1, 1, 1]\n",
      "Gen 5, highest score = -19, chromosome = [1, 1, 1, 1, 1, 1, 1, 1, 1, 1, 1, 1, 1, 1, 1, 0, 1, 1, 1, 1]\n",
      "Gen 8, highest score = -20, chromosome = [1, 1, 1, 1, 1, 1, 1, 1, 1, 1, 1, 1, 1, 1, 1, 1, 1, 1, 1, 1]\n"
     ]
    },
    {
     "data": {
      "text/plain": [
       "[<matplotlib.lines.Line2D at 0x7fc6201199a0>]"
      ]
     },
     "execution_count": 15,
     "metadata": {},
     "output_type": "execute_result"
    },
    {
     "data": {
      "image/png": "[encoded data removed]",
      "text/plain": [
       "<Figure size 432x288 with 1 Axes>"
      ]
     },
     "metadata": {
      "needs_background": "light"
     },
     "output_type": "display_data"
    }
   ],
   "source": [
    "# genetic algorithm search of the one max optimization problem\n",
    "from numpy.random import randint\n",
    "from numpy.random import rand\n",
    "\n",
    "\n",
    "n_iter = 100  # total iterations\n",
    "\n",
    "n_bits = 20   # bits in individual chromosone \n",
    "\n",
    "n_pop = 100   # population size (number of individuals)\n",
    "\n",
    "r_cross = 0.9 # crossover rate\n",
    "\n",
    "r_mut = 1.0 / float(n_bits) # mutation rate: Typically 1/length of bitstring\n",
    "\n",
    "\n",
    "# objective function\n",
    "def onemax(x):\n",
    "    return -sum(x)\n",
    "\n",
    "\n",
    "def selection(pop, scores, k=3):\n",
    "    \"\"\"\n",
    "    tournament selection\n",
    "    \n",
    "    \"\"\"\n",
    "    sample_idxs = randint(0, len(pop), k)       # select k random indexes for individuals to sample\n",
    "    \n",
    "    sample = [scores[i] for i in sample_idxs]   # score of each individual\n",
    "    \n",
    "    best_sample_idx = np.argmin(sample)         # ID of best score in sample (tournament)\n",
    "    \n",
    "    best_pop_idx = sample_idxs[best_sample_idx] # population ID of best score in sample\n",
    "    \n",
    "    return pop[best_pop_idx]                    # return best individual in tournament\n",
    "\n",
    "\n",
    "def crossover(p1, p2, r_cross):\n",
    "    \"\"\"\n",
    "    crossover two parents to create two children\n",
    "    \"\"\"\n",
    "    c1, c2 = p1.copy(), p2.copy()    # children are copies of parents by default\n",
    "    \n",
    "    if rand() < r_cross:             # decide whether to cross\n",
    "        \n",
    "        pt = randint(1, len(p1)-2)   # select crossover point that is not on either end of the string\n",
    "        \n",
    "        c1 = p1[:pt] + p2[pt:]       # perform crossover\n",
    "        c2 = p2[:pt] + p1[pt:]\n",
    "        \n",
    "    return [c1, c2]\n",
    "\n",
    "\n",
    "            \n",
    "def mutation(bitstring, r_mut):\n",
    "    \"\"\"\n",
    "    mutation operator\n",
    "    \"\"\"\n",
    "    for i in range(len(bitstring)):\n",
    "        \n",
    "        if rand() < r_mut:                     # decide whether to mutate\n",
    "            \n",
    "            bitstring[i] = 1 - bitstring[i]    # flip the bit\n",
    "\n",
    "\n",
    "\n",
    "# genetic algorithm\n",
    "def genetic_algorithm(objective, n_bits, n_iter, n_pop, r_cross, r_mut):\n",
    "    \n",
    "    # initial population of random bitstring individuals\n",
    "    pop = [randint(0, 2, n_bits).tolist() for _ in range(n_pop)]\n",
    "    \n",
    "    #print(np.matrix(pop))\n",
    "    \n",
    "    best_log = []                                                 # track best solution each round\n",
    "    \n",
    "    best_gen, best_score, best_sol = 0, objective(pop[0]), pop[0] # track best overall solution\n",
    "    \n",
    "    \n",
    "    for gen in range(n_iter):                    # cycle through each generation\n",
    "          \n",
    "        scores = [objective(c) for c in pop]     # evaluate all candidates in the population\n",
    "        \n",
    "        best = min(scores)\n",
    "        \n",
    "        best_ID = np.argmin(scores)\n",
    "        \n",
    "        best_log.append(best)\n",
    "        \n",
    "        \n",
    "        if best < best_score:\n",
    "            best_gen = gen\n",
    "            best_score = best\n",
    "            best_sol = pop[best_ID]          \n",
    "            print(f\"Gen {gen}, highest score = {best}, chromosome = {pop[best_ID]}\")\n",
    "        \n",
    "        # select parents:\n",
    "        # run tournament selection n_pop times to get n_pop winners (population size does not change)\n",
    "        selected = [selection(pop, scores) for _ in range(n_pop)] \n",
    "        \n",
    "        # create the next generation\n",
    "        children = []\n",
    "        \n",
    "        for i in range(0, n_pop, 2):             # select parents in pairs\n",
    "            p1, p2 = selected[i], selected[i+1]\n",
    "            \n",
    "            for c in crossover(p1, p2, r_cross): # crossover each pair to give two children\n",
    "                \n",
    "                mutation(c, r_mut)               # mutate each child\n",
    "                \n",
    "                children.append(c)               # store for next generation\n",
    "                \n",
    "        \n",
    "        # replace population\n",
    "        pop = children\n",
    "        \n",
    "    return best, best_log, best_gen, best_score, best_sol\n",
    "\n",
    "\n",
    "\n",
    "# perform the genetic algorithm search\n",
    "best, best_log, best_gen, best_score, best_sol = genetic_algorithm(onemax, n_bits, n_iter, n_pop, r_cross, r_mut)\n",
    "\n",
    "# print(best, best_gen, best_score, best_sol)\n",
    "\n",
    "plt.plot(best_log)"
   ]
  },
  {
   "cell_type": "code",
   "execution_count": null,
   "metadata": {},
   "outputs": [],
   "source": []
  },
  {
   "cell_type": "code",
   "execution_count": null,
   "metadata": {},
   "outputs": [],
   "source": []
  },
  {
   "cell_type": "code",
   "execution_count": null,
   "metadata": {},
   "outputs": [],
   "source": []
  },
  {
   "cell_type": "code",
   "execution_count": null,
   "metadata": {},
   "outputs": [],
   "source": []
  }
 ],
 "metadata": {
  "kernelspec": {
   "display_name": "Python 3",
   "language": "python",
   "name": "python3"
  },
  "language_info": {
   "codemirror_mode": {
    "name": "ipython",
    "version": 3
   },
   "file_extension": ".py",
   "mimetype": "text/x-python",
   "name": "python",
   "nbconvert_exporter": "python",
   "pygments_lexer": "ipython3",
   "version": "3.8.3"
  }
 },
 "nbformat": 4,
 "nbformat_minor": 2
}
