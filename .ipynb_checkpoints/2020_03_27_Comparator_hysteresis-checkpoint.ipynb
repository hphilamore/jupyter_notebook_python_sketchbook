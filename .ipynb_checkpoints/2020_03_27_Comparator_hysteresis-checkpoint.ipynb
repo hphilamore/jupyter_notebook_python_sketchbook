{
 "cells": [
  {
   "cell_type": "markdown",
   "metadata": {},
   "source": [
    "Find the resisters needed for comparator hysteresis when:\n",
    "- Vcc and Vin are seperate (Vcc = constant)\n",
    "- Vcc and Vin are equal (`_sp`)"
   ]
  },
  {
   "cell_type": "code",
   "execution_count": 2,
   "metadata": {},
   "outputs": [],
   "source": [
    "import numpy as np"
   ]
  },
  {
   "cell_type": "markdown",
   "metadata": {},
   "source": [
    "https://www.maximintegrated.com/en/design/technical-documents/app-notes/3/3616.html\n",
    "\n",
    "<br><img src=\"img/comparator.png\" alt=\"Drawing\" style=\"width: 500px;\"/>"
   ]
  },
  {
   "cell_type": "code",
   "execution_count": 1,
   "metadata": {},
   "outputs": [],
   "source": [
    "Vth = 5.2\n",
    "Vtl = 2\n",
    "Vref = 1.128"
   ]
  },
  {
   "cell_type": "code",
   "execution_count": 2,
   "metadata": {},
   "outputs": [],
   "source": [
    "# Step 1 : Calculate  R3\n",
    "\n",
    "def calc_R3(Vref, ir3=0.2E-6, Vcc=5):\n",
    "    \n",
    "    R3a = Vref / ir3\n",
    "    \n",
    "    R3b = (Vcc - Vref) / ir3\n",
    "    \n",
    "    return(min([R3a, R3b]))"
   ]
  },
  {
   "cell_type": "code",
   "execution_count": 3,
   "metadata": {},
   "outputs": [
    {
     "name": "stdout",
     "output_type": "stream",
     "text": [
      "5.640e+06 5.640e+06\n"
     ]
    }
   ],
   "source": [
    "R3 = calc_R3(Vref)\n",
    "R3_sp = calc_R3(Vref, Vcc=Vth)\n",
    "\n",
    "print('{:.3e}'.format(R3), \n",
    "      '{:.3e}'.format(R3_sp))"
   ]
  },
  {
   "cell_type": "code",
   "execution_count": 13,
   "metadata": {},
   "outputs": [
    {
     "data": {
      "text/plain": [
       "3.2"
      ]
     },
     "execution_count": 13,
     "metadata": {},
     "output_type": "execute_result"
    }
   ],
   "source": [
    "# Step 2 : Decide hysteresis bandwidth\n",
    "\n",
    "Vhb = Vth - Vtl\n",
    "Vhb"
   ]
  },
  {
   "cell_type": "code",
   "execution_count": 15,
   "metadata": {},
   "outputs": [],
   "source": [
    "# Step 3 : Calculate R1\n",
    "\n",
    "def calc_R1(R3, Vcc=5):\n",
    "    print(Vcc)\n",
    "    return R3 * Vhb / Vcc"
   ]
  },
  {
   "cell_type": "code",
   "execution_count": 16,
   "metadata": {},
   "outputs": [
    {
     "name": "stdout",
     "output_type": "stream",
     "text": [
      "5\n",
      "5.2\n",
      "3.610e+06 3.471e+06\n"
     ]
    }
   ],
   "source": [
    "R1 = calc_R1(R3)\n",
    "R1_sp = calc_R1(R3_sp, Vcc=Vth)\n",
    "\n",
    "print('{:.3e}'.format(R1), \n",
    "      '{:.3e}'.format(R1_sp))"
   ]
  },
  {
   "cell_type": "code",
   "execution_count": 8,
   "metadata": {},
   "outputs": [],
   "source": [
    "# Step 4 : Choose rising trip point\n",
    "# Vth = 5.2"
   ]
  },
  {
   "cell_type": "code",
   "execution_count": 9,
   "metadata": {},
   "outputs": [],
   "source": [
    "# Step 5 : Calculate R2\n",
    "\n",
    "def calc_R2(R1, R3):\n",
    "    return 1 / (Vth/(Vref*R1) - 1/R1 - 1/R3)"
   ]
  },
  {
   "cell_type": "code",
   "execution_count": 17,
   "metadata": {},
   "outputs": [
    {
     "name": "stdout",
     "output_type": "stream",
     "text": [
      "1.215383e+06 1.159031e+06\n"
     ]
    }
   ],
   "source": [
    "R2 = calc_R2(R1, R3)\n",
    "R2_sp = calc_R2(R1_sp, R3_sp)\n",
    "\n",
    "print('{:.6e}'.format(R2), \n",
    "      '{:.6e}'.format(R2_sp))"
   ]
  },
  {
   "cell_type": "code",
   "execution_count": 11,
   "metadata": {},
   "outputs": [],
   "source": [
    "# def calc_R2(R1, R3):\n",
    "#     return 1 / (3.7/(Vref*R1) - 1/R1 - 1/R3)\n",
    "\n",
    "# R2 = calc_R2(2.88, 6)\n",
    "\n",
    "# print('{:.3e}'.format(R2))"
   ]
  },
  {
   "cell_type": "code",
   "execution_count": 29,
   "metadata": {},
   "outputs": [],
   "source": [
    "# Step 5 : Verify threshold voltages\n",
    "\n",
    "def VTH(R1, R2, R3):\n",
    "    return Vref * R1 * (1/R1 + 1/R2 + 1/R3)\n",
    "\n",
    "def VTL(R1, R3, Vth, Vcc=5):\n",
    "    return Vth - (R1 * Vcc / R3)"
   ]
  },
  {
   "cell_type": "code",
   "execution_count": 31,
   "metadata": {},
   "outputs": [
    {
     "name": "stdout",
     "output_type": "stream",
     "text": [
      "2.0\n",
      "Vth_ver =5.200e+00\n",
      "Vtl_ver =2.000e+00\n",
      "\n",
      "Vth_ver_sp =5.200e+00\n",
      "Vtl_ver_sp =3.969e+00\n"
     ]
    }
   ],
   "source": [
    "Vth_ver = VTH(R1, R2, R3)\n",
    "Vtl_ver = VTL(R1, R3, Vth_ver)\n",
    "\n",
    "Vth_ver_sp = VTH(R1_sp, R2_sp, R3_sp)\n",
    "#Vtl_ver_sp = VTL(R1_sp, R3_sp, Vth_ver_sp, Vcc=Vth)\n",
    "Vtl_ver_sp = VTL(R1_sp, R3_sp, Vth_ver_sp, Vcc=Vtl)\n",
    "\n",
    "print(Vtl_ver)\n",
    "\n",
    "\n",
    "print('Vth_ver =' + '{:.3e}'.format(Vth_ver) + '\\n' + 'Vtl_ver =' + '{:.3e}'.format(Vtl_ver))\n",
    "print()\n",
    "print('Vth_ver_sp =' + '{:.3e}'.format(Vth_ver_sp) + '\\n' + 'Vtl_ver_sp =' + '{:.3e}'.format(Vtl_ver_sp))"
   ]
  },
  {
   "cell_type": "code",
   "execution_count": null,
   "metadata": {},
   "outputs": [],
   "source": []
  },
  {
   "cell_type": "code",
   "execution_count": null,
   "metadata": {},
   "outputs": [],
   "source": []
  }
 ],
 "metadata": {
  "kernelspec": {
   "display_name": "Python 3",
   "language": "python",
   "name": "python3"
  },
  "language_info": {
   "codemirror_mode": {
    "name": "ipython",
    "version": 3
   },
   "file_extension": ".py",
   "mimetype": "text/x-python",
   "name": "python",
   "nbconvert_exporter": "python",
   "pygments_lexer": "ipython3",
   "version": "3.7.4"
  }
 },
 "nbformat": 4,
 "nbformat_minor": 2
}
