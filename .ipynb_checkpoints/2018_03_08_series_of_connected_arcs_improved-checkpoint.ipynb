{
 "cells": [
  {
   "cell_type": "code",
   "execution_count": 6,
   "metadata": {
    "collapsed": true
   },
   "outputs": [],
   "source": [
    "import numpy as np\n",
    "from numpy import pi as pi\n",
    "import matplotlib.pyplot as plt\n",
    "%matplotlib inline"
   ]
  },
  {
   "cell_type": "code",
   "execution_count": 72,
   "metadata": {},
   "outputs": [
    {
     "name": "stdout",
     "output_type": "stream",
     "text": [
      "(2, 1000)\n",
      "(2, 1000)\n",
      "(0.46500000000000014, array([24.26636454, 24.21483128]), array([ 0.13318227, 36.32224692]))\n"
     ]
    },
    {
     "data": {
      "image/png": "[encoded data removed]",
      "text/plain": [
       "<Figure size 432x288 with 1 Axes>"
      ]
     },
     "metadata": {},
     "output_type": "display_data"
    }
   ],
   "source": [
    "# bi-state 0 = bend to left\n",
    "# bi_state 1 = bend to right\n",
    "# COA = central point of actuator \n",
    "\n",
    "def f(n, radius = 27, bi_states = [1, 0], arc_angle = 0.93, COA = [0, 0]): \n",
    "    \"2D plot of series linked, bistable actuators\"\n",
    "    \n",
    "    numsegments = 1000\n",
    "    x = 0\n",
    "    y = 1\n",
    "    \n",
    "    # the actuator centre is atthe midpoint of the chord of the first (vertically alligned) link\n",
    "    state = bi_states[n-1]\n",
    "    \n",
    "    \n",
    "    if n == 1:        \n",
    "        # define the angle of start of arc relative to horizontal datum\n",
    "        start_angle = 0 - (arc_angle / 2) \n",
    "        \n",
    "        # define the origin of the arc\n",
    "        sagitta = radius * (1 - np.cos(arc_angle / 2))\n",
    "        origin = np.array(COA)\n",
    "        origin[x] += (radius - sagitta) * (-1 if state else 1) \n",
    "        \n",
    "    \n",
    "    else:            \n",
    "        # define the angle of start of arc relative to horizontal datum\n",
    "        start_angle, origin, start_point = f(n-1)\n",
    "        \n",
    "        # if the bistable state is not same as previous link ... \n",
    "        if bi_states[n-1]!=bi_states[n-2]:\n",
    "            # mirror location of the origin of the arc\n",
    "            origin = start_point + np.array([radius * np.cos(start_angle),\n",
    "                                             radius * np.sin(start_angle)]) \n",
    "            plt.plot(origin[x], origin[y], 'ro')\n",
    "                     \n",
    "            # invert sign of angle that end_point-origin makes with horizontal datum\n",
    "            start_angle *= -1\n",
    "            \n",
    "\n",
    "    # plot link as arc\n",
    "    arc_points = np.linspace(start_angle, \n",
    "                             start_angle + arc_angle, \n",
    "                             numsegments)    \n",
    "\n",
    "    arc = np.array([origin[x] + radius * (np.cos(arc_points) * (1 if state else -1)), \n",
    "                    origin[y] + radius *  np.sin(arc_points)])\n",
    "    \n",
    "    print(arc.shape)\n",
    "    \n",
    "    plt.plot(arc[x], arc[y])\n",
    "\n",
    "    # angle that end_point-origin makes with horizontal datum \n",
    "    start_angle = np.arcsin(abs(arc[y, -1] - origin[y]) / radius) \n",
    "    end_point = arc[:, -1]\n",
    "    return start_angle, origin, end_point\n",
    "    \n",
    "    \n",
    "    \n",
    "    \n",
    "#     arc[y] = (origin[y] + radius) * np.sin(arc_points)\n",
    "#     arc[0] =  np.linspace(start_angle, \n",
    "#                              start_angle + arc_angle, \n",
    "#                              numsegments)\n",
    "    \n",
    "#     arc[x] = origin[x] + radius #* (np.cos(arc_points) * (1 if state else -1))\n",
    "    \n",
    "\n",
    "    \n",
    "\n",
    "\n",
    "#     arc_y = origin[y] + radius * np.sin(arc_points)\n",
    "    \n",
    "#     if state:\n",
    "#         arc_x = origin[x] + radius * np.cos(arc_points)\n",
    "#     else: \n",
    "#         arc_x = origin[x] - radius * np.cos(arc_points)\n",
    "\n",
    "#     plt.plot(arc_x, arc_y)\n",
    "\n",
    "#     # the angle the end of the arc makes with the horizontal datum \n",
    "#     theta = np.arcsin(abs(arc_y - origin[y]) / radius)        \n",
    "#     return theta  # This doesn't call f, so it breaks out of the recursion loop\n",
    "            \n",
    "        \n",
    "        \n",
    "            \n",
    "        \n",
    "F = f(2)        \n",
    "plt.xlim(0, 40)\n",
    "plt.ylim(0, 40)\n",
    "plt.axis('equal')        \n",
    "print(F)    \n",
    "        \n",
    "        \n",
    "        \n",
    "        \n",
    "        \n",
    "        \n",
    "        \n",
    "        \n",
    "        "
   ]
  },
  {
   "cell_type": "code",
   "execution_count": null,
   "metadata": {
    "collapsed": true
   },
   "outputs": [],
   "source": []
  },
  {
   "cell_type": "code",
   "execution_count": null,
   "metadata": {
    "collapsed": true
   },
   "outputs": [],
   "source": []
  }
 ],
 "metadata": {
  "kernelspec": {
   "display_name": "PMW_actuator",
   "language": "python",
   "name": "pmw_actuator"
  },
  "language_info": {
   "codemirror_mode": {
    "name": "ipython",
    "version": 3
   },
   "file_extension": ".py",
   "mimetype": "text/x-python",
   "name": "python",
   "nbconvert_exporter": "python",
   "pygments_lexer": "ipython3",
   "version": "3.6.2"
  }
 },
 "nbformat": 4,
 "nbformat_minor": 2
}
