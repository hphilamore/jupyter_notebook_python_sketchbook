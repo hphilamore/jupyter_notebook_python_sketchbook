{
 "cells": [
  {
   "cell_type": "code",
   "execution_count": 45,
   "metadata": {},
   "outputs": [],
   "source": [
    "import numpy as np\n",
    "from numpy import pi as pi\n",
    "from numpy import sign as sign\n",
    "from numpy import arctan2 as atan2\n",
    "from numpy import arcsin as asin\n"
   ]
  },
  {
   "cell_type": "code",
   "execution_count": 46,
   "metadata": {},
   "outputs": [
    {
     "name": "stdout",
     "output_type": "stream",
     "text": [
      "3.141592653589793\n"
     ]
    }
   ],
   "source": [
    "print(pi)"
   ]
  },
  {
   "cell_type": "code",
   "execution_count": 47,
   "metadata": {},
   "outputs": [],
   "source": [
    "def angle(x, y):\n",
    "    # Finds angle in range 2pi\n",
    "    return  (\n",
    "        pi - (pi/2) * (1 + sign(x)) * (1 - sign(y**2)) - \n",
    "        (pi/4) * (2 + sign(x)) * sign(y) - \n",
    "        sign(x * y) * \n",
    "        asin( (abs(x) - abs(y)) / (2 * x**2 + 2 * y**2)**(1/2))\n",
    "    )"
   ]
  },
  {
   "cell_type": "code",
   "execution_count": 48,
   "metadata": {},
   "outputs": [
    {
     "name": "stdout",
     "output_type": "stream",
     "text": [
      "0.7853981633974483\n",
      "2.356194490192345\n",
      "5.497787143782138\n",
      "3.9269908169872414\n"
     ]
    }
   ],
   "source": [
    "print(angle(1, 1))\n",
    "print(angle(-1, 1))\n",
    "print(angle(1, -1))\n",
    "print(angle(-1, -1))"
   ]
  },
  {
   "cell_type": "code",
   "execution_count": null,
   "metadata": {},
   "outputs": [],
   "source": [
    "## in c:\n",
    "\n",
    "\n",
    "# float angle2pi(float x, float y){\n",
    "#     // Finds angle as a positive value in range 0 --> 2pi\n",
    "\n",
    "        \n",
    "#         float angle = (\n",
    "#         pi - (pi/2) * (1 + sgn(x)) * (1 - sgn(powf(y, 2))) - \n",
    "#         (pi/4) * (2 + sgn(x)) * sgn(y)- \n",
    "#         sgn(x * y) * \n",
    "#         asin( (fabs(x) - fabs(y)) / powf((2 * powf(x, 2) + 2 * powf(y, 2)), 0.5) )\n",
    "#         );\n",
    "        \n",
    "        \n",
    "#         /*\n",
    "#         float angle = atan2(y, x);\n",
    "#         */\n",
    "        \n",
    "#         //print(\"%f\", angle);\n",
    "        \n",
    "#         return angle;\n",
    "        \n",
    "# }"
   ]
  },
  {
   "cell_type": "code",
   "execution_count": 50,
   "metadata": {},
   "outputs": [],
   "source": [
    "def angle2(x,y):\n",
    "    return  (\n",
    "        atan2(y, x)\n",
    "    )"
   ]
  },
  {
   "cell_type": "code",
   "execution_count": 51,
   "metadata": {},
   "outputs": [
    {
     "name": "stdout",
     "output_type": "stream",
     "text": [
      "0.7853981633974483\n",
      "2.356194490192345\n",
      "-0.7853981633974483\n",
      "-2.356194490192345\n"
     ]
    }
   ],
   "source": [
    "print(angle2(1, 1))\n",
    "print(angle2(-1, 1))\n",
    "print(angle2(1, -1))\n",
    "print(angle2(-1, -1))"
   ]
  },
  {
   "cell_type": "code",
   "execution_count": null,
   "metadata": {},
   "outputs": [],
   "source": []
  }
 ],
 "metadata": {
  "kernelspec": {
   "display_name": "Python 3",
   "language": "python",
   "name": "python3"
  },
  "language_info": {
   "codemirror_mode": {
    "name": "ipython",
    "version": 3
   },
   "file_extension": ".py",
   "mimetype": "text/x-python",
   "name": "python",
   "nbconvert_exporter": "python",
   "pygments_lexer": "ipython3",
   "version": "3.6.5"
  }
 },
 "nbformat": 4,
 "nbformat_minor": 2
}
