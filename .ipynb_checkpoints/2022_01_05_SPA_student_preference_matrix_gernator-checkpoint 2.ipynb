{
 "cells": [
  {
   "cell_type": "code",
   "execution_count": null,
   "metadata": {},
   "outputs": [],
   "source": [
    "Generates n instances of a basic students project selection matrix and saves each as a csv file. \n",
    "\n",
    "Students may rank 5 selected projects. \n",
    "\n",
    "All unselected projects are ranked 0 unless otherwise specified. "
   ]
  },
  {
   "cell_type": "code",
   "execution_count": 13,
   "metadata": {},
   "outputs": [],
   "source": [
    "import numpy as np\n",
    "import random\n",
    "from scipy.optimize import linear_sum_assignment\n",
    "import csv"
   ]
  },
  {
   "cell_type": "code",
   "execution_count": 14,
   "metadata": {},
   "outputs": [],
   "source": [
    "n_students = 10\n",
    "n_projects = 15\n",
    "n_choices = 5"
   ]
  },
  {
   "cell_type": "code",
   "execution_count": 15,
   "metadata": {},
   "outputs": [],
   "source": [
    "def build_cost_matrix(n_students, n_projects, unselected=0):\n",
    "    \"\"\"\n",
    "    Creates a student project selection form\n",
    "    \"\"\"\n",
    "    students = list(range(n_students))\n",
    "    projects = list(range(n_projects))\n",
    "\n",
    "    cost_matrix = []\n",
    "    \n",
    "    for s in students:\n",
    "        selections = [unselected for p in projects] # assigns a suitably high number to all unselected projects\n",
    "        \n",
    "        # selects n ranked choices per student for projects selected randomly from a weighted probability distribution\n",
    "        for n in range(1, n_choices+1):\n",
    "            \n",
    "            element = random.choices(np.arange(n_projects), weights=np.linspace(0, 1, n_projects))\n",
    "            \n",
    "            selections[element[0]] = n\n",
    "            \n",
    "        # repeat the last two entries to represent two projects that can each accept 2 students \n",
    "        # selections = selections + selections[-2:] \n",
    "            \n",
    "        cost_matrix.append(selections)\n",
    "    \n",
    "    return np.array(cost_matrix)"
   ]
  },
  {
   "cell_type": "code",
   "execution_count": 16,
   "metadata": {},
   "outputs": [],
   "source": [
    "# generate a range of sample data sets to use to test SPA algorithms \n",
    "# unselected projects indicated by 0\n",
    "\n",
    "for i in range(5):\n",
    "\n",
    "    # build student project selection form\n",
    "    cost_matrix = build_cost_matrix(n_students, n_projects)        \n",
    "    \n",
    "    # store form \n",
    "    with open(f'data/student_preference_matrices/student_preference_matrix_{i}.csv', 'w') as f:   \n",
    "        \n",
    "        w = csv.writer(f)                  # writer object\n",
    "\n",
    "        w.writerows(cost_matrix)           # list to row"
   ]
  },
  {
   "cell_type": "code",
   "execution_count": 17,
   "metadata": {},
   "outputs": [],
   "source": [
    "# # generate a range of sample data sets to use to test SPA algorithms \n",
    "# # unselected projects indicated by 10\n",
    "\n",
    "# for i in range(10,16):\n",
    "\n",
    "#     # build student project selection form\n",
    "#     cost_matrix = build_cost_matrix(n_students, n_projects, unselected=10)        \n",
    "    \n",
    "#     # store form \n",
    "#     with open(f'data/student_preference_matrices/student_preference_matrix_{i}.csv', 'w') as f:   \n",
    "        \n",
    "#         w = csv.writer(f)                  # writer object\n",
    "\n",
    "#         w.writerows(cost_matrix)           # list to row"
   ]
  },
  {
   "cell_type": "code",
   "execution_count": null,
   "metadata": {},
   "outputs": [],
   "source": []
  }
 ],
 "metadata": {
  "kernelspec": {
   "display_name": "Python 3",
   "language": "python",
   "name": "python3"
  },
  "language_info": {
   "codemirror_mode": {
    "name": "ipython",
    "version": 3
   },
   "file_extension": ".py",
   "mimetype": "text/x-python",
   "name": "python",
   "nbconvert_exporter": "python",
   "pygments_lexer": "ipython3",
   "version": "3.7.4"
  }
 },
 "nbformat": 4,
 "nbformat_minor": 4
}
