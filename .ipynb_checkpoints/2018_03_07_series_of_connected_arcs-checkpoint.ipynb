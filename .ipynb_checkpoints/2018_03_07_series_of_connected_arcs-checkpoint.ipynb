{
 "cells": [
  {
   "cell_type": "code",
   "execution_count": 13,
   "metadata": {},
   "outputs": [
    {
     "name": "stdout",
     "output_type": "stream",
     "text": [
      "1\n"
     ]
    }
   ],
   "source": [
    "print(1)"
   ]
  },
  {
   "cell_type": "code",
   "execution_count": 27,
   "metadata": {
    "collapsed": true
   },
   "outputs": [],
   "source": [
    "import numpy as np\n",
    "import shapely.geometry as geom\n",
    "import matplotlib.pyplot as plt\n",
    "%matplotlib inline\n",
    "\n",
    "# # Define the arc (presumably ezdxf uses a similar convention)\n",
    "# centerx, centery = 3, 4\n",
    "# radius = 2\n",
    "# start_angle, end_angle = 30, 56 # In degrees\n",
    "# numsegments = 1000\n",
    "\n",
    "# # The coordinates of the arc\n",
    "# theta = np.radians(np.linspace(start_angle, end_angle, numsegments))\n",
    "# x = centerx + radius * np.cos(theta)\n",
    "# y = centery + radius * np.sin(theta)\n",
    "# arc = geom.LineString(np.column_stack([x, y]))\n"
   ]
  },
  {
   "cell_type": "code",
   "execution_count": 28,
   "metadata": {},
   "outputs": [
    {
     "data": {
      "text/plain": [
       "[<matplotlib.lines.Line2D at 0x7f9b9fecdef0>]"
      ]
     },
     "execution_count": 28,
     "metadata": {},
     "output_type": "execute_result"
    },
    {
     "data": {
      "image/png": "[encoded data removed]",
      "text/plain": [
       "<Figure size 432x288 with 1 Axes>"
      ]
     },
     "metadata": {},
     "output_type": "display_data"
    }
   ],
   "source": [
    "plt.plot(x,y)\n"
   ]
  },
  {
   "cell_type": "code",
   "execution_count": 33,
   "metadata": {},
   "outputs": [
    {
     "data": {
      "text/plain": [
       "(0, 100)"
      ]
     },
     "execution_count": 33,
     "metadata": {},
     "output_type": "execute_result"
    },
    {
     "data": {
      "image/png": "[encoded data removed]",
      "text/plain": [
       "<Figure size 432x288 with 1 Axes>"
      ]
     },
     "metadata": {},
     "output_type": "display_data"
    }
   ],
   "source": [
    "start_x, start_y = [1], [1]\n",
    "arc_theta = 0.93\n",
    "start_angle = 0 - (arc_theta / 2)\n",
    "end_angle = 0 + (arc_theta / 2)\n",
    "radius = 27\n",
    "numsegments = 1000\n",
    "theta = np.linspace(start_angle, end_angle, numsegments)\n",
    "x = start_x + radius * np.cos(theta)\n",
    "y = start_y + radius * np.sin(theta)\n",
    "plt.plot(x,y)\n",
    "plt.xlim(0,100)\n",
    "plt.ylim(0,100)\n",
    "\n",
    "\n",
    "\n",
    "\n",
    "\n",
    "\n"
   ]
  },
  {
   "cell_type": "code",
   "execution_count": null,
   "metadata": {
    "collapsed": true
   },
   "outputs": [],
   "source": []
  }
 ],
 "metadata": {
  "kernelspec": {
   "display_name": "bistable_actuator",
   "language": "python",
   "name": "bistable_actuator"
  },
  "language_info": {
   "codemirror_mode": {
    "name": "ipython",
    "version": 3
   },
   "file_extension": ".py",
   "mimetype": "text/x-python",
   "name": "python",
   "nbconvert_exporter": "python",
   "pygments_lexer": "ipython3",
   "version": "3.6.2"
  }
 },
 "nbformat": 4,
 "nbformat_minor": 2
}
