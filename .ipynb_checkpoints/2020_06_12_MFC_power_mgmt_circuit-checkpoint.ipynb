{
 "cells": [
  {
   "cell_type": "code",
   "execution_count": null,
   "metadata": {},
   "outputs": [],
   "source": []
  },
  {
   "cell_type": "code",
   "execution_count": 193,
   "metadata": {},
   "outputs": [],
   "source": [
    "import numpy as np\n",
    "import pandas as pd"
   ]
  },
  {
   "cell_type": "markdown",
   "metadata": {},
   "source": [
    "#### Size system components e.g. capacitor given the amount of energy needed to be stored. \n",
    "\n",
    "#### Find the maximum and minimum net energy available given different COD and storage capacitors. "
   ]
  },
  {
   "cell_type": "code",
   "execution_count": 219,
   "metadata": {},
   "outputs": [
    {
     "data": {
      "text/plain": [
       "array([10.5685,  9.0085,  4.1575,  1.2075])"
      ]
     },
     "execution_count": 219,
     "metadata": {},
     "output_type": "execute_result"
    }
   ],
   "source": [
    "# Energy harvested from single batch feed MFC, Joules (J) for different COD values\n",
    "\n",
    "Eave = np.array([21.137,  # COD = 900\n",
    "                 18.017,  # COD = 500\n",
    "                 8.315,  # COD = 300\n",
    "                 2.415    # COD = 70\n",
    "                ])\n",
    "\n",
    "Eave *= 0.5 # apply energy harvesting eff.\n",
    "Eave"
   ]
  },
  {
   "cell_type": "markdown",
   "metadata": {},
   "source": [
    "Maximum and minimum rated supply voltages (e.g. for regulator to supply 1.8V) for power management components.\n",
    "\n",
    "Two system configurations (different combinations of components considerd) "
   ]
  },
  {
   "cell_type": "code",
   "execution_count": 220,
   "metadata": {},
   "outputs": [],
   "source": [
    "# max allowable voltage for comparator and voltage regulator, V for two configs : a & b\n",
    "# a : comp:LTC1540, reg:LT3009\n",
    "# b : comp:MAX9117, reg:TPS7A02\n",
    "\n",
    "Vmax_a = 11\n",
    "Vmax_b = 6\n",
    "\n",
    "Vmin_a = 2.3\n",
    "Vmin_b = 2.3"
   ]
  },
  {
   "cell_type": "markdown",
   "metadata": {},
   "source": [
    "Two system configurations (different combinations of components considerd) "
   ]
  },
  {
   "cell_type": "code",
   "execution_count": 221,
   "metadata": {},
   "outputs": [],
   "source": [
    "# Create a data frame for each system config and each COD value\n",
    "\n",
    "sys_a = pd.DataFrame(index=['cod_900', 'cod_500', 'cod_300', 'cod_70'])\n",
    "sys_b = pd.DataFrame(index=['cod_900', 'cod_500', 'cod_300', 'cod_70'])\n",
    "\n",
    "sys_a['Eave'] = Eave\n",
    "sys_b['Eave'] = Eave"
   ]
  },
  {
   "cell_type": "markdown",
   "metadata": {},
   "source": [
    "Capacitor energy $E = \\frac{1}{2} CV^2$\n",
    "\n",
    "Capacitance needed to store Emax (average energy harvetsed at each COD value) at Vmax found by:\n",
    "\n",
    "$C = \\frac{E_{max}}{\\frac{1}{2} V_{max}^2}$"
   ]
  },
  {
   "cell_type": "code",
   "execution_count": 222,
   "metadata": {},
   "outputs": [],
   "source": [
    "# capacitor needed to store Emax for each COD value at Vmax for each system config\n",
    "\n",
    "sys_a.insert(0, 'C', sys_a.Eave / (0.5 * Vmax_a**2))\n",
    "sys_b.insert(0, 'C', sys_b.Eave / (0.5 * Vmax_b**2))\n",
    "\n",
    "\n",
    "# display(sys_a) \n",
    "# display(sys_b)"
   ]
  },
  {
   "cell_type": "markdown",
   "metadata": {},
   "source": [
    "For a capacitor of this size, the remaining energy $E_{min}$ stored in the capacitor when drained to the minimum allowable supply voltage for the system $V_{min}$ found by: \n",
    "\n",
    "$E_{min} = \\frac{1}{2} CV_{min}^2$"
   ]
  },
  {
   "cell_type": "code",
   "execution_count": 223,
   "metadata": {},
   "outputs": [],
   "source": [
    "# Average energy harvested at lowest COD value tested (COD = 70, 900)\n",
    "\n",
    "sys_a['Ecod_70'] = Eave[-1]\n",
    "sys_b['Ecod_70'] = Eave[-1]\n",
    "\n",
    "sys_a['Ecod_900'] = None\n",
    "sys_b['Ecod_900'] = None\n",
    "\n",
    "sys_a.loc['cod_900', 'Ecod_900'] = Eave[0]\n",
    "sys_b.loc['cod_900', 'Ecod_900'] = Eave[0]\n",
    "\n",
    "# display(sys_a) \n",
    "# display(sys_b)"
   ]
  },
  {
   "cell_type": "code",
   "execution_count": 224,
   "metadata": {},
   "outputs": [],
   "source": [
    "# Energy remaining at whicever is lower out of :\n",
    "# a) the cut-off voltage of each system config \n",
    "# b) the voltage the capacitor is charged to using at average energy harvested during one batch at COD=70\n",
    "# (Energy at Vmin)\n",
    "\n",
    "sys_a['Emin'] = min(0.5 * sys_a.C * Vmin_a**2)#, sys_a['Ecod_70'])\n",
    "sys_b['Emin'] = min(0.5 * sys_b.C * Vmin_b**2)#, sys_a['Ecod_70'])"
   ]
  },
  {
   "cell_type": "code",
   "execution_count": 225,
   "metadata": {},
   "outputs": [],
   "source": [
    "s = pd.Series(sys_a.loc[:, ['Ecod_70', 'Emin']].min(axis=1))\n",
    "s = pd.Series(sys_b.loc[:, ['Ecod_70', 'Emin']].min(axis=1))"
   ]
  },
  {
   "cell_type": "markdown",
   "metadata": {},
   "source": [
    "The energy $E_{a}$ availabe for use, COD 900\n",
    "\n",
    "$E_{a} = E_{max,COD=900} - E_{min}$"
   ]
  },
  {
   "cell_type": "code",
   "execution_count": 226,
   "metadata": {},
   "outputs": [],
   "source": [
    "# # Max net energy available for use\n",
    "sys_a['Ea_cod_900'] = sys_a.Ecod_900 - sys_a.Emin\n",
    "sys_b['Ea_cod_900'] = sys_b.Ecod_900 - sys_b.Emin\n",
    "\n",
    "# display(sys_a) \n",
    "# display(sys_b)"
   ]
  },
  {
   "cell_type": "markdown",
   "metadata": {},
   "source": [
    "The energy $E_{a}$ availabe for use, COD 70\n",
    "\n",
    "$E_{a} = E_{max,COD=70} - E_{min}$"
   ]
  },
  {
   "cell_type": "code",
   "execution_count": 227,
   "metadata": {
    "scrolled": true
   },
   "outputs": [],
   "source": [
    "# # Min net energy available for use\n",
    "sys_a['Ea_cod_70'] = sys_a.Ecod_70 - sys_a.Emin\n",
    "sys_b['Ea_cod_70'] = sys_b.Ecod_70 - sys_b.Emin\n",
    "\n",
    "# display(sys_a) \n",
    "# display(sys_b)"
   ]
  },
  {
   "cell_type": "markdown",
   "metadata": {},
   "source": [
    "#### $E_a$ determines how many samples can be taken by the data logger in the next batch. \n",
    "\n",
    "#### Use the energy consumption of each process done by the microcontroller and power management system to calculate the allowable number of samples corresponding to each COD value "
   ]
  },
  {
   "cell_type": "code",
   "execution_count": 228,
   "metadata": {},
   "outputs": [
    {
     "data": {
      "text/html": [
       "<div>\n",
       "<style scoped>\n",
       "    .dataframe tbody tr th:only-of-type {\n",
       "        vertical-align: middle;\n",
       "    }\n",
       "\n",
       "    .dataframe tbody tr th {\n",
       "        vertical-align: top;\n",
       "    }\n",
       "\n",
       "    .dataframe thead th {\n",
       "        text-align: right;\n",
       "    }\n",
       "</style>\n",
       "<table border=\"1\" class=\"dataframe\">\n",
       "  <thead>\n",
       "    <tr style=\"text-align: right;\">\n",
       "      <th></th>\n",
       "      <th>Current</th>\n",
       "      <th>ExecTime</th>\n",
       "    </tr>\n",
       "  </thead>\n",
       "  <tbody>\n",
       "    <tr>\n",
       "      <td>sampling</td>\n",
       "      <td>1.180000e-03</td>\n",
       "      <td>0.1</td>\n",
       "    </tr>\n",
       "    <tr>\n",
       "      <td>estimation</td>\n",
       "      <td>2.850000e-03</td>\n",
       "      <td>0.3</td>\n",
       "    </tr>\n",
       "    <tr>\n",
       "      <td>sleep</td>\n",
       "      <td>2.000000e-08</td>\n",
       "      <td>604800.0</td>\n",
       "    </tr>\n",
       "  </tbody>\n",
       "</table>\n",
       "</div>"
      ],
      "text/plain": [
       "                 Current  ExecTime\n",
       "sampling    1.180000e-03       0.1\n",
       "estimation  2.850000e-03       0.3\n",
       "sleep       2.000000e-08  604800.0"
      ]
     },
     "execution_count": 228,
     "metadata": {},
     "output_type": "execute_result"
    }
   ],
   "source": [
    "Vop = 1.8 # + voltage pic microcontroller\n",
    "\n",
    "\n",
    "# Energy consumed per ML event instance for each event type \n",
    "\n",
    "Eout = pd.DataFrame({ 'Current':  [1.18e-3, 2.85e-3, 2e-8], # A\n",
    "                      'ExecTime':[0.1, 0.3, 7*24*60*60]}, # s\n",
    "                    index=['sampling', 'estimation', 'sleep'])\n",
    "\n",
    "Eout"
   ]
  },
  {
   "cell_type": "code",
   "execution_count": 229,
   "metadata": {},
   "outputs": [],
   "source": [
    "# energy consumed by power mgmt system a\n",
    "# a : comp:LTC1540, reg:LT3009\n",
    "Eout_a = pd.DataFrame({'Current':  [0.3e-6, 3e-6], # A\n",
    "                       'ExecTime': [7*24*60*60, 7*24*60*60]}, # s\n",
    "                     index=        ['comparator', 'regulator'])\n",
    "\n",
    "\n",
    "# energy consumed by power mgmt system b\n",
    "# b : comp:MAX9117, reg:TPS7A02\n",
    "Eout_b = Eout_a\n",
    "Eout_b.loc['comparator','Current'] = 0.6e-6\n",
    "Eout_b.loc['regulator','Current'] = 25e-9"
   ]
  },
  {
   "cell_type": "code",
   "execution_count": 230,
   "metadata": {
    "scrolled": true
   },
   "outputs": [],
   "source": [
    "# Data frame for each system\n",
    "Eout_a = Eout.append(Eout_a)\n",
    "Eout_b = Eout.append(Eout_b)"
   ]
  },
  {
   "cell_type": "markdown",
   "metadata": {},
   "source": [
    "Current power execution time and energy for each energy-consuming process"
   ]
  },
  {
   "cell_type": "code",
   "execution_count": 231,
   "metadata": {},
   "outputs": [],
   "source": [
    "Eout_a['Power'] = Eout_a.Current  * Vop # W\n",
    "Eout_b['Power'] = Eout_b.Current  * Vop # W\n",
    "\n",
    "Eout_a['Energy'] = Eout_a.Power * Eout_a.ExecTime # J\n",
    "Eout_b['Energy'] = Eout_b.Power * Eout_b.ExecTime # J"
   ]
  },
  {
   "cell_type": "code",
   "execution_count": 232,
   "metadata": {},
   "outputs": [
    {
     "data": {
      "text/html": [
       "<div>\n",
       "<style scoped>\n",
       "    .dataframe tbody tr th:only-of-type {\n",
       "        vertical-align: middle;\n",
       "    }\n",
       "\n",
       "    .dataframe tbody tr th {\n",
       "        vertical-align: top;\n",
       "    }\n",
       "\n",
       "    .dataframe thead th {\n",
       "        text-align: right;\n",
       "    }\n",
       "</style>\n",
       "<table border=\"1\" class=\"dataframe\">\n",
       "  <thead>\n",
       "    <tr style=\"text-align: right;\">\n",
       "      <th></th>\n",
       "      <th>Current</th>\n",
       "      <th>ExecTime</th>\n",
       "      <th>Power</th>\n",
       "      <th>Energy</th>\n",
       "    </tr>\n",
       "  </thead>\n",
       "  <tbody>\n",
       "    <tr>\n",
       "      <td>sampling</td>\n",
       "      <td>1.180000e-03</td>\n",
       "      <td>0.1</td>\n",
       "      <td>2.124000e-03</td>\n",
       "      <td>0.000212</td>\n",
       "    </tr>\n",
       "    <tr>\n",
       "      <td>estimation</td>\n",
       "      <td>2.850000e-03</td>\n",
       "      <td>0.3</td>\n",
       "      <td>5.130000e-03</td>\n",
       "      <td>0.001539</td>\n",
       "    </tr>\n",
       "    <tr>\n",
       "      <td>sleep</td>\n",
       "      <td>2.000000e-08</td>\n",
       "      <td>604800.0</td>\n",
       "      <td>3.600000e-08</td>\n",
       "      <td>0.021773</td>\n",
       "    </tr>\n",
       "    <tr>\n",
       "      <td>comparator</td>\n",
       "      <td>6.000000e-07</td>\n",
       "      <td>604800.0</td>\n",
       "      <td>1.080000e-06</td>\n",
       "      <td>0.653184</td>\n",
       "    </tr>\n",
       "    <tr>\n",
       "      <td>regulator</td>\n",
       "      <td>2.500000e-08</td>\n",
       "      <td>604800.0</td>\n",
       "      <td>4.500000e-08</td>\n",
       "      <td>0.027216</td>\n",
       "    </tr>\n",
       "  </tbody>\n",
       "</table>\n",
       "</div>"
      ],
      "text/plain": [
       "                 Current  ExecTime         Power    Energy\n",
       "sampling    1.180000e-03       0.1  2.124000e-03  0.000212\n",
       "estimation  2.850000e-03       0.3  5.130000e-03  0.001539\n",
       "sleep       2.000000e-08  604800.0  3.600000e-08  0.021773\n",
       "comparator  6.000000e-07  604800.0  1.080000e-06  0.653184\n",
       "regulator   2.500000e-08  604800.0  4.500000e-08  0.027216"
      ]
     },
     "execution_count": 232,
     "metadata": {},
     "output_type": "execute_result"
    }
   ],
   "source": [
    "Eout_a"
   ]
  },
  {
   "cell_type": "code",
   "execution_count": 233,
   "metadata": {},
   "outputs": [],
   "source": [
    "def n_samples(Ea, Eout):\n",
    "    return ( Ea - \n",
    "             Eout.Energy['estimation'] - \n",
    "             Eout.Energy['sleep'] -\n",
    "             Eout.Energy['comparator'] -\n",
    "             Eout.Energy['regulator']       \n",
    "           ) / Eout.Energy['sampling'] "
   ]
  },
  {
   "cell_type": "markdown",
   "metadata": {},
   "source": [
    "Maximum allowable number of samples (COD = 900) "
   ]
  },
  {
   "cell_type": "code",
   "execution_count": 234,
   "metadata": {
    "scrolled": true
   },
   "outputs": [],
   "source": [
    "# # Max samples\n",
    "sys_a['Nsamp_max_cod_900'] = n_samples(sys_a.Ea_cod_900, Eout_a)\n",
    "sys_b['Nsamp_max_cod_900'] = n_samples(sys_b.Ea_cod_900, Eout_b)\n",
    "\n",
    "\n",
    "# display(sys_a) \n",
    "# display(sys_b)"
   ]
  },
  {
   "cell_type": "markdown",
   "metadata": {},
   "source": [
    "Minumum time interval betweeen samples (COD = 900) "
   ]
  },
  {
   "cell_type": "code",
   "execution_count": 235,
   "metadata": {
    "scrolled": true
   },
   "outputs": [],
   "source": [
    "# Sampling time interval\n",
    "sys_a['Nsamp_min_int_cod_900'] = 7*24*60*60 / sys_a.Nsamp_max_cod_900\n",
    "sys_b['Nsamp_min_int_cod_900'] = 7*24*60*60 / sys_b.Nsamp_max_cod_900\n",
    "\n",
    "\n",
    "# display(sys_a) \n",
    "# display(sys_b)"
   ]
  },
  {
   "cell_type": "markdown",
   "metadata": {},
   "source": [
    "Maximum allowable number of samples (COD = 70) "
   ]
  },
  {
   "cell_type": "code",
   "execution_count": 236,
   "metadata": {
    "scrolled": true
   },
   "outputs": [],
   "source": [
    "# Min samples\n",
    "sys_a['Nsamp_max_cod_70'] = n_samples(sys_a.Ea_cod_70, Eout_a)\n",
    "sys_b['Nsamp_max_cod_70'] = n_samples(sys_b.Ea_cod_70, Eout_b)\n",
    "\n",
    "\n",
    "#display(sys_a) \n",
    "#display(sys_b)"
   ]
  },
  {
   "cell_type": "markdown",
   "metadata": {},
   "source": [
    "Minumum time interval betweeen samples (COD = 70) "
   ]
  },
  {
   "cell_type": "code",
   "execution_count": 237,
   "metadata": {
    "scrolled": true
   },
   "outputs": [
    {
     "data": {
      "text/html": [
       "<div>\n",
       "<style scoped>\n",
       "    .dataframe tbody tr th:only-of-type {\n",
       "        vertical-align: middle;\n",
       "    }\n",
       "\n",
       "    .dataframe tbody tr th {\n",
       "        vertical-align: top;\n",
       "    }\n",
       "\n",
       "    .dataframe thead th {\n",
       "        text-align: right;\n",
       "    }\n",
       "</style>\n",
       "<table border=\"1\" class=\"dataframe\">\n",
       "  <thead>\n",
       "    <tr style=\"text-align: right;\">\n",
       "      <th></th>\n",
       "      <th>C</th>\n",
       "      <th>Eave</th>\n",
       "      <th>Ecod_70</th>\n",
       "      <th>Ecod_900</th>\n",
       "      <th>Emin</th>\n",
       "      <th>Ea_cod_900</th>\n",
       "      <th>Ea_cod_70</th>\n",
       "      <th>Nsamp_max_cod_900</th>\n",
       "      <th>Nsamp_min_int_cod_900</th>\n",
       "      <th>Nsamp_max_cod_70</th>\n",
       "      <th>Nsamp_min_int_cod_70</th>\n",
       "    </tr>\n",
       "  </thead>\n",
       "  <tbody>\n",
       "    <tr>\n",
       "      <td>cod_900</td>\n",
       "      <td>0.174686</td>\n",
       "      <td>10.5685</td>\n",
       "      <td>1.2075</td>\n",
       "      <td>10.5685</td>\n",
       "      <td>0.052791</td>\n",
       "      <td>10.5157</td>\n",
       "      <td>1.154709</td>\n",
       "      <td>46195.8</td>\n",
       "      <td>13.0921</td>\n",
       "      <td>2123.340384</td>\n",
       "      <td>284.834219</td>\n",
       "    </tr>\n",
       "    <tr>\n",
       "      <td>cod_500</td>\n",
       "      <td>0.148901</td>\n",
       "      <td>9.0085</td>\n",
       "      <td>1.2075</td>\n",
       "      <td>None</td>\n",
       "      <td>0.052791</td>\n",
       "      <td>NaN</td>\n",
       "      <td>1.154709</td>\n",
       "      <td>NaN</td>\n",
       "      <td>NaN</td>\n",
       "      <td>2123.340384</td>\n",
       "      <td>284.834219</td>\n",
       "    </tr>\n",
       "    <tr>\n",
       "      <td>cod_300</td>\n",
       "      <td>0.068719</td>\n",
       "      <td>4.1575</td>\n",
       "      <td>1.2075</td>\n",
       "      <td>None</td>\n",
       "      <td>0.052791</td>\n",
       "      <td>NaN</td>\n",
       "      <td>1.154709</td>\n",
       "      <td>NaN</td>\n",
       "      <td>NaN</td>\n",
       "      <td>2123.340384</td>\n",
       "      <td>284.834219</td>\n",
       "    </tr>\n",
       "    <tr>\n",
       "      <td>cod_70</td>\n",
       "      <td>0.019959</td>\n",
       "      <td>1.2075</td>\n",
       "      <td>1.2075</td>\n",
       "      <td>None</td>\n",
       "      <td>0.052791</td>\n",
       "      <td>NaN</td>\n",
       "      <td>1.154709</td>\n",
       "      <td>NaN</td>\n",
       "      <td>NaN</td>\n",
       "      <td>2123.340384</td>\n",
       "      <td>284.834219</td>\n",
       "    </tr>\n",
       "  </tbody>\n",
       "</table>\n",
       "</div>"
      ],
      "text/plain": [
       "                C     Eave  Ecod_70 Ecod_900      Emin Ea_cod_900  Ea_cod_70  \\\n",
       "cod_900  0.174686  10.5685   1.2075  10.5685  0.052791    10.5157   1.154709   \n",
       "cod_500  0.148901   9.0085   1.2075     None  0.052791        NaN   1.154709   \n",
       "cod_300  0.068719   4.1575   1.2075     None  0.052791        NaN   1.154709   \n",
       "cod_70   0.019959   1.2075   1.2075     None  0.052791        NaN   1.154709   \n",
       "\n",
       "        Nsamp_max_cod_900 Nsamp_min_int_cod_900  Nsamp_max_cod_70  \\\n",
       "cod_900           46195.8               13.0921       2123.340384   \n",
       "cod_500               NaN                   NaN       2123.340384   \n",
       "cod_300               NaN                   NaN       2123.340384   \n",
       "cod_70                NaN                   NaN       2123.340384   \n",
       "\n",
       "         Nsamp_min_int_cod_70  \n",
       "cod_900            284.834219  \n",
       "cod_500            284.834219  \n",
       "cod_300            284.834219  \n",
       "cod_70             284.834219  "
      ]
     },
     "metadata": {},
     "output_type": "display_data"
    },
    {
     "data": {
      "text/html": [
       "<div>\n",
       "<style scoped>\n",
       "    .dataframe tbody tr th:only-of-type {\n",
       "        vertical-align: middle;\n",
       "    }\n",
       "\n",
       "    .dataframe tbody tr th {\n",
       "        vertical-align: top;\n",
       "    }\n",
       "\n",
       "    .dataframe thead th {\n",
       "        text-align: right;\n",
       "    }\n",
       "</style>\n",
       "<table border=\"1\" class=\"dataframe\">\n",
       "  <thead>\n",
       "    <tr style=\"text-align: right;\">\n",
       "      <th></th>\n",
       "      <th>C</th>\n",
       "      <th>Eave</th>\n",
       "      <th>Ecod_70</th>\n",
       "      <th>Ecod_900</th>\n",
       "      <th>Emin</th>\n",
       "      <th>Ea_cod_900</th>\n",
       "      <th>Ea_cod_70</th>\n",
       "      <th>Nsamp_max_cod_900</th>\n",
       "      <th>Nsamp_min_int_cod_900</th>\n",
       "      <th>Nsamp_max_cod_70</th>\n",
       "      <th>Nsamp_min_int_cod_70</th>\n",
       "    </tr>\n",
       "  </thead>\n",
       "  <tbody>\n",
       "    <tr>\n",
       "      <td>cod_900</td>\n",
       "      <td>0.587139</td>\n",
       "      <td>10.5685</td>\n",
       "      <td>1.2075</td>\n",
       "      <td>10.5685</td>\n",
       "      <td>0.177435</td>\n",
       "      <td>10.3911</td>\n",
       "      <td>1.030065</td>\n",
       "      <td>45609</td>\n",
       "      <td>13.2605</td>\n",
       "      <td>1536.500863</td>\n",
       "      <td>393.621647</td>\n",
       "    </tr>\n",
       "    <tr>\n",
       "      <td>cod_500</td>\n",
       "      <td>0.500472</td>\n",
       "      <td>9.0085</td>\n",
       "      <td>1.2075</td>\n",
       "      <td>None</td>\n",
       "      <td>0.177435</td>\n",
       "      <td>NaN</td>\n",
       "      <td>1.030065</td>\n",
       "      <td>NaN</td>\n",
       "      <td>NaN</td>\n",
       "      <td>1536.500863</td>\n",
       "      <td>393.621647</td>\n",
       "    </tr>\n",
       "    <tr>\n",
       "      <td>cod_300</td>\n",
       "      <td>0.230972</td>\n",
       "      <td>4.1575</td>\n",
       "      <td>1.2075</td>\n",
       "      <td>None</td>\n",
       "      <td>0.177435</td>\n",
       "      <td>NaN</td>\n",
       "      <td>1.030065</td>\n",
       "      <td>NaN</td>\n",
       "      <td>NaN</td>\n",
       "      <td>1536.500863</td>\n",
       "      <td>393.621647</td>\n",
       "    </tr>\n",
       "    <tr>\n",
       "      <td>cod_70</td>\n",
       "      <td>0.067083</td>\n",
       "      <td>1.2075</td>\n",
       "      <td>1.2075</td>\n",
       "      <td>None</td>\n",
       "      <td>0.177435</td>\n",
       "      <td>NaN</td>\n",
       "      <td>1.030065</td>\n",
       "      <td>NaN</td>\n",
       "      <td>NaN</td>\n",
       "      <td>1536.500863</td>\n",
       "      <td>393.621647</td>\n",
       "    </tr>\n",
       "  </tbody>\n",
       "</table>\n",
       "</div>"
      ],
      "text/plain": [
       "                C     Eave  Ecod_70 Ecod_900      Emin Ea_cod_900  Ea_cod_70  \\\n",
       "cod_900  0.587139  10.5685   1.2075  10.5685  0.177435    10.3911   1.030065   \n",
       "cod_500  0.500472   9.0085   1.2075     None  0.177435        NaN   1.030065   \n",
       "cod_300  0.230972   4.1575   1.2075     None  0.177435        NaN   1.030065   \n",
       "cod_70   0.067083   1.2075   1.2075     None  0.177435        NaN   1.030065   \n",
       "\n",
       "        Nsamp_max_cod_900 Nsamp_min_int_cod_900  Nsamp_max_cod_70  \\\n",
       "cod_900             45609               13.2605       1536.500863   \n",
       "cod_500               NaN                   NaN       1536.500863   \n",
       "cod_300               NaN                   NaN       1536.500863   \n",
       "cod_70                NaN                   NaN       1536.500863   \n",
       "\n",
       "         Nsamp_min_int_cod_70  \n",
       "cod_900            393.621647  \n",
       "cod_500            393.621647  \n",
       "cod_300            393.621647  \n",
       "cod_70             393.621647  "
      ]
     },
     "metadata": {},
     "output_type": "display_data"
    }
   ],
   "source": [
    "# Sampling time interval\n",
    "sys_a['Nsamp_min_int_cod_70'] = 7*24*60*60 / sys_a.Nsamp_max_cod_70\n",
    "sys_b['Nsamp_min_int_cod_70'] = 7*24*60*60 / sys_b.Nsamp_max_cod_70\n",
    "\n",
    "\n",
    "display(sys_a) \n",
    "display(sys_b)"
   ]
  },
  {
   "cell_type": "markdown",
   "metadata": {},
   "source": [
    "When COD is only 70, the mimimum allowable sampling time is approx 5mins. \n",
    "\n",
    "The following calculations for the comparator threshold voltages Vth, Vtl are based on the principle that the minimum energy for the system to switch on (Vth) should be the average energy harvested Eave when COD=70. \n",
    "\n",
    "The reason for this is that the average energy Eave when COD=70 should provide enough energy to sample and analyse a subsequent peak (COD $\\geqslant$ 70), at the calculated sampling rate. \n",
    "\n",
    "If the sample switches on at a lower energy level, it is in danger of running out of energy while completing the sampling task. \n",
    "\n",
    "(NB: If a lower samplign rate is selected, a lower Vth can be calculated) \n",
    "\n",
    "<br>\n",
    "\n",
    "\n",
    "\n"
   ]
  },
  {
   "cell_type": "code",
   "execution_count": 240,
   "metadata": {},
   "outputs": [],
   "source": [
    "# Upper threshold voltage for comparator  \n",
    "sys_a['Vth,h'] = np.sqrt( 2 * sys_a.Ecod_70 / sys_a.C )\n",
    "sys_b['Vth,h'] = np.sqrt( 2 * sys_b.Ecod_70 / sys_b.C )\n",
    "\n",
    "# display(sys_a) \n",
    "# display(sys_b)"
   ]
  },
  {
   "cell_type": "markdown",
   "metadata": {},
   "source": [
    "The lower threshold Vtl is determined by the lowest allowable input volatge of the power management sytsem, defined earlier. "
   ]
  },
  {
   "cell_type": "code",
   "execution_count": 242,
   "metadata": {},
   "outputs": [
    {
     "name": "stdout",
     "output_type": "stream",
     "text": [
      "System a\n"
     ]
    },
    {
     "data": {
      "text/html": [
       "<div>\n",
       "<style scoped>\n",
       "    .dataframe tbody tr th:only-of-type {\n",
       "        vertical-align: middle;\n",
       "    }\n",
       "\n",
       "    .dataframe tbody tr th {\n",
       "        vertical-align: top;\n",
       "    }\n",
       "\n",
       "    .dataframe thead th {\n",
       "        text-align: right;\n",
       "    }\n",
       "</style>\n",
       "<table border=\"1\" class=\"dataframe\">\n",
       "  <thead>\n",
       "    <tr style=\"text-align: right;\">\n",
       "      <th></th>\n",
       "      <th>C</th>\n",
       "      <th>Eave</th>\n",
       "      <th>Ecod_70</th>\n",
       "      <th>Ecod_900</th>\n",
       "      <th>Emin</th>\n",
       "      <th>Ea_cod_900</th>\n",
       "      <th>Ea_cod_70</th>\n",
       "      <th>Nsamp_max_cod_900</th>\n",
       "      <th>Nsamp_min_int_cod_900</th>\n",
       "      <th>Nsamp_max_cod_70</th>\n",
       "      <th>Nsamp_min_int_cod_70</th>\n",
       "      <th>Vth,h</th>\n",
       "      <th>Vth,l</th>\n",
       "    </tr>\n",
       "  </thead>\n",
       "  <tbody>\n",
       "    <tr>\n",
       "      <td>cod_900</td>\n",
       "      <td>0.174686</td>\n",
       "      <td>10.5685</td>\n",
       "      <td>1.2075</td>\n",
       "      <td>10.5685</td>\n",
       "      <td>0.052791</td>\n",
       "      <td>10.5157</td>\n",
       "      <td>1.154709</td>\n",
       "      <td>46195.8</td>\n",
       "      <td>13.0921</td>\n",
       "      <td>2123.340384</td>\n",
       "      <td>284.834219</td>\n",
       "      <td>3.718173</td>\n",
       "      <td>2.3</td>\n",
       "    </tr>\n",
       "    <tr>\n",
       "      <td>cod_500</td>\n",
       "      <td>0.148901</td>\n",
       "      <td>9.0085</td>\n",
       "      <td>1.2075</td>\n",
       "      <td>None</td>\n",
       "      <td>0.052791</td>\n",
       "      <td>NaN</td>\n",
       "      <td>1.154709</td>\n",
       "      <td>NaN</td>\n",
       "      <td>NaN</td>\n",
       "      <td>2123.340384</td>\n",
       "      <td>284.834219</td>\n",
       "      <td>4.027263</td>\n",
       "      <td>2.3</td>\n",
       "    </tr>\n",
       "    <tr>\n",
       "      <td>cod_300</td>\n",
       "      <td>0.068719</td>\n",
       "      <td>4.1575</td>\n",
       "      <td>1.2075</td>\n",
       "      <td>None</td>\n",
       "      <td>0.052791</td>\n",
       "      <td>NaN</td>\n",
       "      <td>1.154709</td>\n",
       "      <td>NaN</td>\n",
       "      <td>NaN</td>\n",
       "      <td>2123.340384</td>\n",
       "      <td>284.834219</td>\n",
       "      <td>5.928163</td>\n",
       "      <td>2.3</td>\n",
       "    </tr>\n",
       "    <tr>\n",
       "      <td>cod_70</td>\n",
       "      <td>0.019959</td>\n",
       "      <td>1.2075</td>\n",
       "      <td>1.2075</td>\n",
       "      <td>None</td>\n",
       "      <td>0.052791</td>\n",
       "      <td>NaN</td>\n",
       "      <td>1.154709</td>\n",
       "      <td>NaN</td>\n",
       "      <td>NaN</td>\n",
       "      <td>2123.340384</td>\n",
       "      <td>284.834219</td>\n",
       "      <td>11.000000</td>\n",
       "      <td>2.3</td>\n",
       "    </tr>\n",
       "  </tbody>\n",
       "</table>\n",
       "</div>"
      ],
      "text/plain": [
       "                C     Eave  Ecod_70 Ecod_900      Emin Ea_cod_900  Ea_cod_70  \\\n",
       "cod_900  0.174686  10.5685   1.2075  10.5685  0.052791    10.5157   1.154709   \n",
       "cod_500  0.148901   9.0085   1.2075     None  0.052791        NaN   1.154709   \n",
       "cod_300  0.068719   4.1575   1.2075     None  0.052791        NaN   1.154709   \n",
       "cod_70   0.019959   1.2075   1.2075     None  0.052791        NaN   1.154709   \n",
       "\n",
       "        Nsamp_max_cod_900 Nsamp_min_int_cod_900  Nsamp_max_cod_70  \\\n",
       "cod_900           46195.8               13.0921       2123.340384   \n",
       "cod_500               NaN                   NaN       2123.340384   \n",
       "cod_300               NaN                   NaN       2123.340384   \n",
       "cod_70                NaN                   NaN       2123.340384   \n",
       "\n",
       "         Nsamp_min_int_cod_70      Vth,h  Vth,l  \n",
       "cod_900            284.834219   3.718173    2.3  \n",
       "cod_500            284.834219   4.027263    2.3  \n",
       "cod_300            284.834219   5.928163    2.3  \n",
       "cod_70             284.834219  11.000000    2.3  "
      ]
     },
     "metadata": {},
     "output_type": "display_data"
    },
    {
     "name": "stdout",
     "output_type": "stream",
     "text": [
      "System b\n"
     ]
    },
    {
     "data": {
      "text/html": [
       "<div>\n",
       "<style scoped>\n",
       "    .dataframe tbody tr th:only-of-type {\n",
       "        vertical-align: middle;\n",
       "    }\n",
       "\n",
       "    .dataframe tbody tr th {\n",
       "        vertical-align: top;\n",
       "    }\n",
       "\n",
       "    .dataframe thead th {\n",
       "        text-align: right;\n",
       "    }\n",
       "</style>\n",
       "<table border=\"1\" class=\"dataframe\">\n",
       "  <thead>\n",
       "    <tr style=\"text-align: right;\">\n",
       "      <th></th>\n",
       "      <th>C</th>\n",
       "      <th>Eave</th>\n",
       "      <th>Ecod_70</th>\n",
       "      <th>Ecod_900</th>\n",
       "      <th>Emin</th>\n",
       "      <th>Ea_cod_900</th>\n",
       "      <th>Ea_cod_70</th>\n",
       "      <th>Nsamp_max_cod_900</th>\n",
       "      <th>Nsamp_min_int_cod_900</th>\n",
       "      <th>Nsamp_max_cod_70</th>\n",
       "      <th>Nsamp_min_int_cod_70</th>\n",
       "      <th>Vth,h</th>\n",
       "      <th>Vth,l</th>\n",
       "    </tr>\n",
       "  </thead>\n",
       "  <tbody>\n",
       "    <tr>\n",
       "      <td>cod_900</td>\n",
       "      <td>0.587139</td>\n",
       "      <td>10.5685</td>\n",
       "      <td>1.2075</td>\n",
       "      <td>10.5685</td>\n",
       "      <td>0.177435</td>\n",
       "      <td>10.3911</td>\n",
       "      <td>1.030065</td>\n",
       "      <td>45609</td>\n",
       "      <td>13.2605</td>\n",
       "      <td>1536.500863</td>\n",
       "      <td>393.621647</td>\n",
       "      <td>2.028094</td>\n",
       "      <td>2.3</td>\n",
       "    </tr>\n",
       "    <tr>\n",
       "      <td>cod_500</td>\n",
       "      <td>0.500472</td>\n",
       "      <td>9.0085</td>\n",
       "      <td>1.2075</td>\n",
       "      <td>None</td>\n",
       "      <td>0.177435</td>\n",
       "      <td>NaN</td>\n",
       "      <td>1.030065</td>\n",
       "      <td>NaN</td>\n",
       "      <td>NaN</td>\n",
       "      <td>1536.500863</td>\n",
       "      <td>393.621647</td>\n",
       "      <td>2.196689</td>\n",
       "      <td>2.3</td>\n",
       "    </tr>\n",
       "    <tr>\n",
       "      <td>cod_300</td>\n",
       "      <td>0.230972</td>\n",
       "      <td>4.1575</td>\n",
       "      <td>1.2075</td>\n",
       "      <td>None</td>\n",
       "      <td>0.177435</td>\n",
       "      <td>NaN</td>\n",
       "      <td>1.030065</td>\n",
       "      <td>NaN</td>\n",
       "      <td>NaN</td>\n",
       "      <td>1536.500863</td>\n",
       "      <td>393.621647</td>\n",
       "      <td>3.233543</td>\n",
       "      <td>2.3</td>\n",
       "    </tr>\n",
       "    <tr>\n",
       "      <td>cod_70</td>\n",
       "      <td>0.067083</td>\n",
       "      <td>1.2075</td>\n",
       "      <td>1.2075</td>\n",
       "      <td>None</td>\n",
       "      <td>0.177435</td>\n",
       "      <td>NaN</td>\n",
       "      <td>1.030065</td>\n",
       "      <td>NaN</td>\n",
       "      <td>NaN</td>\n",
       "      <td>1536.500863</td>\n",
       "      <td>393.621647</td>\n",
       "      <td>6.000000</td>\n",
       "      <td>2.3</td>\n",
       "    </tr>\n",
       "  </tbody>\n",
       "</table>\n",
       "</div>"
      ],
      "text/plain": [
       "                C     Eave  Ecod_70 Ecod_900      Emin Ea_cod_900  Ea_cod_70  \\\n",
       "cod_900  0.587139  10.5685   1.2075  10.5685  0.177435    10.3911   1.030065   \n",
       "cod_500  0.500472   9.0085   1.2075     None  0.177435        NaN   1.030065   \n",
       "cod_300  0.230972   4.1575   1.2075     None  0.177435        NaN   1.030065   \n",
       "cod_70   0.067083   1.2075   1.2075     None  0.177435        NaN   1.030065   \n",
       "\n",
       "        Nsamp_max_cod_900 Nsamp_min_int_cod_900  Nsamp_max_cod_70  \\\n",
       "cod_900             45609               13.2605       1536.500863   \n",
       "cod_500               NaN                   NaN       1536.500863   \n",
       "cod_300               NaN                   NaN       1536.500863   \n",
       "cod_70                NaN                   NaN       1536.500863   \n",
       "\n",
       "         Nsamp_min_int_cod_70     Vth,h  Vth,l  \n",
       "cod_900            393.621647  2.028094    2.3  \n",
       "cod_500            393.621647  2.196689    2.3  \n",
       "cod_300            393.621647  3.233543    2.3  \n",
       "cod_70             393.621647  6.000000    2.3  "
      ]
     },
     "metadata": {},
     "output_type": "display_data"
    }
   ],
   "source": [
    "# Lower threshold voltage for comparator  \n",
    "sys_a['Vth,l'] = Vmin_a\n",
    "sys_b['Vth,l'] = Vmin_b\n",
    "\n",
    "print('System a')\n",
    "display(sys_a) \n",
    "print('System b')\n",
    "display(sys_b)"
   ]
  },
  {
   "cell_type": "markdown",
   "metadata": {},
   "source": [
    "System B : the voltage of the capacitor when charged using the average energy harvested Eave when COD=70 < minimum supply voltage for the electronics. \n",
    " \n",
    "This shows that system B is not suitable.\n",
    "\n",
    "Use system A and calculate comparator hysteresis based on these values. "
   ]
  },
  {
   "cell_type": "code",
   "execution_count": null,
   "metadata": {},
   "outputs": [],
   "source": []
  },
  {
   "cell_type": "code",
   "execution_count": null,
   "metadata": {},
   "outputs": [],
   "source": []
  },
  {
   "cell_type": "code",
   "execution_count": null,
   "metadata": {},
   "outputs": [],
   "source": []
  },
  {
   "cell_type": "code",
   "execution_count": null,
   "metadata": {},
   "outputs": [],
   "source": []
  },
  {
   "cell_type": "code",
   "execution_count": null,
   "metadata": {},
   "outputs": [],
   "source": []
  },
  {
   "cell_type": "code",
   "execution_count": null,
   "metadata": {},
   "outputs": [],
   "source": []
  }
 ],
 "metadata": {
  "kernelspec": {
   "display_name": "Python 3",
   "language": "python",
   "name": "python3"
  },
  "language_info": {
   "codemirror_mode": {
    "name": "ipython",
    "version": 3
   },
   "file_extension": ".py",
   "mimetype": "text/x-python",
   "name": "python",
   "nbconvert_exporter": "python",
   "pygments_lexer": "ipython3",
   "version": "3.7.4"
  }
 },
 "nbformat": 4,
 "nbformat_minor": 2
}
