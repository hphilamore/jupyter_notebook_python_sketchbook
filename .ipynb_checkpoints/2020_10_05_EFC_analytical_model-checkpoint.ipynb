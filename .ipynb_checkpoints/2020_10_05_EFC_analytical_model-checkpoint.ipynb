{
 "cells": [
  {
   "cell_type": "code",
   "execution_count": 62,
   "metadata": {},
   "outputs": [],
   "source": [
    "# # Import the required modules\n",
    "# import numpy as np\n",
    "# import matplotlib.pyplot as plt\n",
    "# # This makes the plots appear inside the notebook\n",
    "# %matplotlib inline\n",
    "# from scipy.integrate import odeint\n",
    "\n",
    "# def dU_dx(U, x):\n",
    "#     # Here U is a vector such that y=U[0] and z=U[1]. This function should return [y', z']\n",
    "#     return [U[1], \n",
    "#             100*U[0] / (2+U[0])] \n",
    "# U0 = [0, 0]\n",
    "# xs = np.linspace(0, 10, 200)\n",
    "# Us = odeint(dU_dx, U0, xs)\n",
    "# ys = Us[:,0]\n",
    "\n",
    "# plt.xlabel(\"x\")\n",
    "# plt.ylabel(\"y\")\n",
    "# plt.title(\"Damped harmonic oscillator\")\n",
    "# plt.plot(xs,ys);"
   ]
  },
  {
   "cell_type": "code",
   "execution_count": 63,
   "metadata": {},
   "outputs": [],
   "source": [
    "# 2nd order ODE\n",
    "# https://stackoverflow.com/questions/34735660/sympy-second-order-ode\n",
    "# https://stackoverflow.com/questions/48122704/substitute-a-constant-in-a-differential-equation-of-second-order    \n",
    "\n",
    "M = 6.02214076 * 10**23 \n",
    "\n",
    "L = 0.001     # up to 0.005 \n",
    "G = 1         # M, glucose 180.15588 g/mol\n",
    "E_T = 10**-6  # up to 10**5\n",
    "K_M = 0.019   # M\n",
    "k_cat = 10**3 # sec-1 : definition?\n",
    "D_H = 4.5 * 10**-9\n",
    "D_bH = D_H # D_H/0.8, D_H/0.5"
   ]
  },
  {
   "cell_type": "code",
   "execution_count": 64,
   "metadata": {},
   "outputs": [],
   "source": [
    "from sympy import Symbol, symbols, Function, dsolve, solve, simplify, Eq, sin, cos, diff\n",
    "from IPython.display import display"
   ]
  },
  {
   "cell_type": "markdown",
   "metadata": {},
   "source": [
    "Solve Equation (3) (uisng BCs: 9, 10) \n",
    "\n",
    "Glucose concentration along axis x within the enzyme layer region 0 < x < L"
   ]
  },
  {
   "cell_type": "code",
   "execution_count": 65,
   "metadata": {},
   "outputs": [],
   "source": [
    "# Solve Eqtn 3 to find c_G\n",
    "# BCs: 9, 10\n",
    "G = Function('G')\n",
    "x, D_G, k_cat, K_M, E_T, G0, g_1s, z, L= symbols(\n",
    "    'x D_G k_cat K_M E_T G0 g_1s z, L')"
   ]
  },
  {
   "cell_type": "code",
   "execution_count": 66,
   "metadata": {},
   "outputs": [],
   "source": [
    "# Assume G >> K_M --> K_M ~ 0\n",
    "ode = Eq( D_G*diff(G(x), x, 2) - 2*k_cat*E_T*G(x) / G(x), 0 )\n",
    "#ode = Eq( diff(G(x), x, 2) - G(x)/(1+G(x)), 0)"
   ]
  },
  {
   "cell_type": "code",
   "execution_count": 67,
   "metadata": {},
   "outputs": [
    {
     "data": {
      "text/latex": [
       "$\\displaystyle G{\\left(x \\right)} = C_{1} + C_{2} x + \\frac{E_{T} k_{cat} x^{2}}{D_{G}}$"
      ],
      "text/plain": [
       "Eq(G(x), C1 + C2*x + E_T*k_cat*x**2/D_G)"
      ]
     },
     "metadata": {},
     "output_type": "display_data"
    }
   ],
   "source": [
    "# General solution\n",
    "gen_sol = dsolve(ode, G(x))\n",
    "display(gen_sol)\n",
    "# gen_expr = gen_sol.args[1]\n",
    "gen_expr = gen_sol.rhs         # take rhs only\n",
    "#display(gen_expr)"
   ]
  },
  {
   "cell_type": "code",
   "execution_count": 68,
   "metadata": {},
   "outputs": [],
   "source": [
    "# Boundary conditions \n",
    "cnd0 = Eq(gen_expr.subs(x, 0), G0)                     # c_G(0) = G0 glucose conc. of reservoir \n",
    "cnd1 = Eq(gen_expr.diff(x).subs(x, 0), -g_1s / z*D_G)  # c_G'(0) = -g_1s / z*D_G"
   ]
  },
  {
   "cell_type": "code",
   "execution_count": 69,
   "metadata": {},
   "outputs": [
    {
     "data": {
      "text/plain": [
       "{C2: -D_G*g_1s/z, C1: G0}"
      ]
     },
     "metadata": {},
     "output_type": "display_data"
    }
   ],
   "source": [
    "# Solve for C1, C2:\n",
    "C1, C2 = symbols(\"C1, C2\")  # generic constants\n",
    "C1C2_sl = solve([cnd0, cnd1], (C1, C2))\n",
    "display(C1C2_sl)"
   ]
  },
  {
   "cell_type": "code",
   "execution_count": 70,
   "metadata": {},
   "outputs": [
    {
     "name": "stdout",
     "output_type": "stream",
     "text": [
      "Solution RHS with BCs:\n"
     ]
    },
    {
     "data": {
      "text/latex": [
       "$\\displaystyle - \\frac{D_{G} g_{1s} x}{z} + G_{0} + \\frac{E_{T} k_{cat} x^{2}}{D_{G}}$"
      ],
      "text/plain": [
       "-D_G*g_1s*x/z + G0 + E_T*k_cat*x**2/D_G"
      ]
     },
     "metadata": {},
     "output_type": "display_data"
    }
   ],
   "source": [
    "# Substitute back into solution:\n",
    "gen_expr = gen_expr.subs(C1C2_sl)\n",
    "print(\"Solution RHS with BCs:\")\n",
    "#display(gen_expr)\n",
    "gen_expr = simplify(gen_expr)\n",
    "#print(\"...simplified:\")\n",
    "display(gen_expr)"
   ]
  },
  {
   "cell_type": "code",
   "execution_count": 71,
   "metadata": {},
   "outputs": [
    {
     "data": {
      "text/latex": [
       "$\\displaystyle - \\frac{2 D_{G} E_{T} L k_{cat} x}{z G{\\left(x \\right)}} + G_{0} + \\frac{E_{T} k_{cat} x^{2}}{D_{G}}$"
      ],
      "text/plain": [
       "-2*D_G*E_T*L*k_cat*x/(z*G(x)) + G0 + E_T*k_cat*x**2/D_G"
      ]
     },
     "metadata": {},
     "output_type": "display_data"
    }
   ],
   "source": [
    "# Substitute in g_1s:\n",
    "gen_expr = gen_expr.subs({g_1s: 2*k_cat*E_T*L/(G(x))})\n",
    "# print(\"Solution RHS with BCs:\")\n",
    "#display(gen_expr)\n",
    "gen_expr = simplify(gen_expr)\n",
    "# print(\"...simplified:\")\n",
    "display(gen_expr)"
   ]
  },
  {
   "cell_type": "code",
   "execution_count": 72,
   "metadata": {},
   "outputs": [
    {
     "name": "stdout",
     "output_type": "stream",
     "text": [
      "Solution with BCs:\n"
     ]
    },
    {
     "data": {
      "text/latex": [
       "$\\displaystyle G{\\left(x \\right)} = - \\frac{2 D_{G} E_{T} L k_{cat} x}{z G{\\left(x \\right)}} + G_{0} + \\frac{E_{T} k_{cat} x^{2}}{D_{G}}$"
      ],
      "text/plain": [
       "Eq(G(x), -2*D_G*E_T*L*k_cat*x/(z*G(x)) + G0 + E_T*k_cat*x**2/D_G)"
      ]
     },
     "metadata": {},
     "output_type": "display_data"
    }
   ],
   "source": [
    "print(\"Solution with BCs:\")\n",
    "G_sol = Eq(G(x), gen_expr)\n",
    "display(G_sol)"
   ]
  },
  {
   "cell_type": "code",
   "execution_count": 73,
   "metadata": {},
   "outputs": [],
   "source": [
    "# G0= glucose concentration in the reservoir (assume constant)\n",
    "# z=2"
   ]
  },
  {
   "cell_type": "markdown",
   "metadata": {},
   "source": [
    "Substitute this solution into the differential Equation (2)\n",
    "\n",
    "Hydrogen ions within the enzyme layer region (0 < x < L)"
   ]
  },
  {
   "cell_type": "code",
   "execution_count": 76,
   "metadata": {},
   "outputs": [],
   "source": [
    "c_H = Function('c_H')\n",
    "c_H = Function('c_H')\n",
    "D_H, D_bH = symbols('D_H D_bH')"
   ]
  },
  {
   "cell_type": "code",
   "execution_count": 80,
   "metadata": {},
   "outputs": [
    {
     "data": {
      "text/latex": [
       "$\\displaystyle D_{H} \\frac{d^{2}}{d x^{2}} \\operatorname{c_{H}}{\\left(x \\right)} + \\frac{2 E_{T} k_{cat} \\left(- \\frac{2 D_{G} E_{T} L k_{cat} x}{z G{\\left(x \\right)}} + G_{0} + \\frac{E_{T} k_{cat} x^{2}}{D_{G}}\\right)}{- \\frac{2 D_{G} E_{T} L k_{cat} x}{z G{\\left(x \\right)}} + G_{0} + K_{M} + \\frac{E_{T} k_{cat} x^{2}}{D_{G}}} = 0$"
      ],
      "text/plain": [
       "Eq(D_H*Derivative(c_H(x), (x, 2)) + 2*E_T*k_cat*(-2*D_G*E_T*L*k_cat*x/(z*G(x)) + G0 + E_T*k_cat*x**2/D_G)/(-2*D_G*E_T*L*k_cat*x/(z*G(x)) + G0 + K_M + E_T*k_cat*x**2/D_G), 0)"
      ]
     },
     "metadata": {},
     "output_type": "display_data"
    }
   ],
   "source": [
    "G = G_sol.rhs\n",
    "ode = Eq( D_H*diff(c_H(x), x, 2) + 2*k_cat*E_T*G / (K_M + G), 0 )\n",
    "display(ode)"
   ]
  },
  {
   "cell_type": "code",
   "execution_count": 81,
   "metadata": {},
   "outputs": [
    {
     "data": {
      "text/latex": [
       "$\\displaystyle \\operatorname{c_{H}}{\\left(x \\right)} = C_{1} + \\frac{C_{2} D_{H} x - 2 E_{T} k_{cat} \\iint \\frac{- 2 D_{G}^{2} E_{T} L k_{cat} x + D_{G} G_{0} z G{\\left(x \\right)} + E_{T} k_{cat} x^{2} z G{\\left(x \\right)}}{- 2 D_{G}^{2} E_{T} L k_{cat} x + D_{G} G_{0} z G{\\left(x \\right)} + D_{G} K_{M} z G{\\left(x \\right)} + E_{T} k_{cat} x^{2} z G{\\left(x \\right)}}\\, dx\\, dx}{D_{H}}$"
      ],
      "text/plain": [
       "Eq(c_H(x), C1 + (C2*D_H*x - 2*E_T*k_cat*Integral((-2*D_G**2*E_T*L*k_cat*x + D_G*G0*z*G(x) + E_T*k_cat*x**2*z*G(x))/(-2*D_G**2*E_T*L*k_cat*x + D_G*G0*z*G(x) + D_G*K_M*z*G(x) + E_T*k_cat*x**2*z*G(x)), x, x))/D_H)"
      ]
     },
     "metadata": {},
     "output_type": "display_data"
    }
   ],
   "source": [
    "# General solution\n",
    "gen_sol = dsolve(ode, c_H(x))\n",
    "display(gen_sol)\n",
    "# gen_expr = gen_sol.args[1]\n",
    "gen_expr = gen_sol.rhs         # take rhs only\n",
    "#display(gen_expr)"
   ]
  },
  {
   "cell_type": "code",
   "execution_count": null,
   "metadata": {},
   "outputs": [],
   "source": [
    "# Boundary conditions 6, 7 between anode and bulk \n",
    "cnd0 = Eq( D_H*gen_expr.diff(x).subs(x, L), -g_1s / z*D_G)  # c_G'(0) = -g_1s / z*D_G\n",
    "cnd2 = Eq(gen_expr.diff(x).subs(x, 0), -g_1s / z*D_G)  # c_G'(0) = -g_1s / z*D_G\n",
    "cnd3 = Eq(gen_expr.diff(x).subs(x, 0), -g_1s / z*D_G)  # c_G'(0) = -g_1s / z*D_G\n",
    "\n"
   ]
  },
  {
   "cell_type": "code",
   "execution_count": null,
   "metadata": {},
   "outputs": [],
   "source": []
  }
 ],
 "metadata": {
  "kernelspec": {
   "display_name": "Python 3",
   "language": "python",
   "name": "python3"
  },
  "language_info": {
   "codemirror_mode": {
    "name": "ipython",
    "version": 3
   },
   "file_extension": ".py",
   "mimetype": "text/x-python",
   "name": "python",
   "nbconvert_exporter": "python",
   "pygments_lexer": "ipython3",
   "version": "3.8.3"
  }
 },
 "nbformat": 4,
 "nbformat_minor": 4
}
