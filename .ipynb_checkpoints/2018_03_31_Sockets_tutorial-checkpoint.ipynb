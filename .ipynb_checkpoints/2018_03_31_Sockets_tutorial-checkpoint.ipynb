{
 "cells": [
  {
   "cell_type": "code",
   "execution_count": 3,
   "metadata": {},
   "outputs": [
    {
     "name": "stdout",
     "output_type": "stream",
     "text": [
      "Socket Created\n",
      "Ip address of www.google.com is 172.217.161.196\n",
      "Socket Connected to www.google.com on ip 172.217.161.196\n"
     ]
    },
    {
     "ename": "TypeError",
     "evalue": "a bytes-like object is required, not 'str'",
     "output_type": "error",
     "traceback": [
      "\u001b[0;31m---------------------------------------------------------------------------\u001b[0m",
      "\u001b[0;31mTypeError\u001b[0m                                 Traceback (most recent call last)",
      "\u001b[0;32m<ipython-input-3-938e8c910613>\u001b[0m in \u001b[0;36m<module>\u001b[0;34m()\u001b[0m\n\u001b[1;32m     36\u001b[0m \u001b[0;32mtry\u001b[0m \u001b[0;34m:\u001b[0m\u001b[0;34m\u001b[0m\u001b[0m\n\u001b[1;32m     37\u001b[0m     \u001b[0;31m#Set the whole string\u001b[0m\u001b[0;34m\u001b[0m\u001b[0;34m\u001b[0m\u001b[0m\n\u001b[0;32m---> 38\u001b[0;31m     \u001b[0ms\u001b[0m\u001b[0;34m.\u001b[0m\u001b[0msendall\u001b[0m\u001b[0;34m(\u001b[0m\u001b[0mmessage\u001b[0m\u001b[0;34m)\u001b[0m\u001b[0;34m\u001b[0m\u001b[0m\n\u001b[0m\u001b[1;32m     39\u001b[0m \u001b[0;32mexcept\u001b[0m \u001b[0msocket\u001b[0m\u001b[0;34m.\u001b[0m\u001b[0merror\u001b[0m\u001b[0;34m:\u001b[0m\u001b[0;34m\u001b[0m\u001b[0m\n\u001b[1;32m     40\u001b[0m     \u001b[0;31m#Send failed\u001b[0m\u001b[0;34m\u001b[0m\u001b[0;34m\u001b[0m\u001b[0m\n",
      "\u001b[0;31mTypeError\u001b[0m: a bytes-like object is required, not 'str'"
     ]
    }
   ],
   "source": [
    "#Socket client example in python\n",
    "import socket   #for sockets\n",
    "import sys  #for exit\n",
    "\n",
    "try:\n",
    "    #create an AF_INET, STREAM socket (TCP)\n",
    "    s = socket.socket(socket.AF_INET, socket.SOCK_STREAM)\n",
    "except socket.error:\n",
    "    print('Failed to create socket. Error code: ' + str(msg[0]) + ' , Error message : ' + msg[1])\n",
    "    sys.exit();\n",
    "\n",
    "print('Socket Created')\n",
    "\n",
    "host = 'www.google.com'\n",
    " \n",
    "try:\n",
    "    remote_ip = socket.gethostbyname( host )\n",
    " \n",
    "except socket.gaierror:\n",
    "    #could not resolve\n",
    "    print('Hostname could not be resolved. Exiting')\n",
    "    sys.exit()\n",
    "     \n",
    "print('Ip address of ' + host + ' is ' + remote_ip)\n",
    "\n",
    "port = 80\n",
    "\n",
    "#Connect to remote server\n",
    "s.connect((remote_ip , port))\n",
    " \n",
    "print('Socket Connected to ' + host + ' on ip ' + remote_ip)\n",
    "\n",
    "#Send some data to remote server\n",
    "message = \"GET / HTTP/1.1\\r\\n\\r\\n\"\n",
    " \n",
    "try :\n",
    "    #Set the whole string\n",
    "    s.sendall(message)\n",
    "except socket.error:\n",
    "    #Send failed\n",
    "    print('Send failed')\n",
    "    sys.exit()\n",
    " \n",
    "print('Message send successfully')"
   ]
  },
  {
   "cell_type": "code",
   "execution_count": null,
   "metadata": {
    "collapsed": true
   },
   "outputs": [],
   "source": []
  },
  {
   "cell_type": "code",
   "execution_count": null,
   "metadata": {
    "collapsed": true
   },
   "outputs": [],
   "source": []
  }
 ],
 "metadata": {
  "kernelspec": {
   "display_name": "Python 3",
   "language": "python",
   "name": "python3"
  },
  "language_info": {
   "codemirror_mode": {
    "name": "ipython",
    "version": 3
   },
   "file_extension": ".py",
   "mimetype": "text/x-python",
   "name": "python",
   "nbconvert_exporter": "python",
   "pygments_lexer": "ipython3",
   "version": "3.6.2"
  }
 },
 "nbformat": 4,
 "nbformat_minor": 2
}
