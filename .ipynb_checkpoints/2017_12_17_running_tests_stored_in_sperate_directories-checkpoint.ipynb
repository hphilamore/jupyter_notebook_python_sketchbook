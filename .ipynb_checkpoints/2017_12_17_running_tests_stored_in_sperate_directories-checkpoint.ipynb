{
 "cells": [
  {
   "cell_type": "markdown",
   "metadata": {},
   "source": [
    "# Runnig tests stored in seperate directories."
   ]
  },
  {
   "cell_type": "markdown",
   "metadata": {},
   "source": [
    "__You shouldn’t have __init__.py files in your test directories.__\n",
    "\n",
    "`pytest` supports three common test layouts:\n",
    "\n"
   ]
  },
  {
   "cell_type": "markdown",
   "metadata": {},
   "source": [
    "## 1) Same directory for tests and program files \n",
    "```Python\n",
    "\n",
    "    appmodule.py\n",
    "    test_appmodule.py\n",
    "    ...\n",
    "```"
   ]
  },
  {
   "cell_type": "markdown",
   "metadata": {},
   "source": [
    "### To run tests...\n",
    "###### In test.app_module have:\n",
    "\n",
    "```Python\n",
    "import pytest\n",
    "\n",
    "\n",
    "import appmodule\n",
    "from app import *\n",
    "```\n",
    "\n",
    "###### Within the directory containing both files run:\n",
    "```Python\n",
    "# to run tests in one file\n",
    "pytest test_app_module.py\n",
    "\n",
    "# to run tests in all files\n",
    "pytest *\n",
    "```"
   ]
  },
  {
   "cell_type": "markdown",
   "metadata": {},
   "source": [
    "## 2) Inlining test directories\n",
    "\n",
    "\n",
    "\n",
    "```Python\n",
    "setup.py   # optional: your setuptools Python package metadata\n",
    "\n",
    "src/\n",
    "    __init__.py\n",
    "    appmodule.py\n",
    "    tests/\n",
    "        test_appmodule.py\n",
    "    module1/\n",
    "        part1.py\n",
    "        part2.py\n",
    "        tests/\n",
    "            test_part1.py\n",
    "            test_part2.py\n",
    "    ...\n",
    "```\n",
    "\n"
   ]
  },
  {
   "cell_type": "markdown",
   "metadata": {},
   "source": [
    "### To run tests...\n",
    "\n",
    "#### ... from the directory src is in:\n",
    "\n",
    "###### In test.app_module have:\n",
    "\n",
    "```Python\n",
    "import pytest\n",
    "import sys\n",
    "\n",
    "# a)\n",
    "sys.path.append('../')\n",
    "\n",
    "# b) \n",
    "# or to make the next directory up the first place python looks\n",
    "# e.g. if a file of the name name exists elsewhere in src\n",
    "sys.path.insert(0, '../')\n",
    "\n",
    "\n",
    "# c)\n",
    "# Or if a) and b) fail, the full path to the file needs to be specified\n",
    "myPath = os.path.dirname(os.path.abspath(__file__))\n",
    "sys.path.insert(0, myPath + '/../')\n",
    "\n",
    "\n",
    "import appmodule\n",
    "from app import *\n",
    "\n",
    "```\n",
    "###### Within the directory containing src run:\n",
    "\n",
    "```Python\n",
    "# to run tests in one file\n",
    "pytest src/tests/test_appmodule.py \n",
    "\n",
    "# ro run all tests below cd\n",
    "pytest *  \n",
    "\n",
    "# ro run all tests below src\n",
    "pytest src/*  \n",
    "\n",
    "# ro run all tests below src/tests\n",
    "pytest src/tests/* \n",
    "\n",
    "```\n",
    "\n",
    "\n",
    "#### ... from within the src directory:\n",
    "\n",
    "###### In test.app_module have:\n",
    "\n",
    "```Python\n",
    "import pytest\n",
    "import sys\n",
    "import os\n",
    "\n",
    "myPath = os.path.dirname(os.path.abspath(__file__))\n",
    "\n",
    "# The full path to the file needs to be specified if calling from within src\n",
    "sys.path.insert(0, myPath + '/../')\n",
    "\n",
    "import appmodule\n",
    "from app import *\n",
    "```\n",
    "###### Within the directory containing src run:\n",
    "\n",
    "```Python\n",
    "# to run tests in one file\n",
    "pytest tests/test_appmodule.py \n",
    "\n",
    "# ro run all tests below cd\n",
    "pytest *    \n",
    "\n",
    "# ro run all tests below src/tests\n",
    "pytest tests/* \n",
    "\n",
    "```"
   ]
  },
  {
   "cell_type": "markdown",
   "metadata": {},
   "source": [
    "## 3) Seperate directories for program and tests\n",
    "\n",
    "```python\n",
    "setup.py   # your setuptools Python package metadata\n",
    "src/\n",
    "    __init__.py\n",
    "    appmodule.py\n",
    "    module1/\n",
    "        part1.py\n",
    "        part2.py\n",
    "    ...\n",
    "tests/\n",
    "    test_appmodule.py\n",
    "    module1/\n",
    "        test_part1.py\n",
    "        test_part2.py\n",
    "    ...\n",
    "    \n",
    "```"
   ]
  },
  {
   "cell_type": "markdown",
   "metadata": {},
   "source": [
    "### To run tests...\n",
    "\n",
    "\n",
    "\n",
    "##### In test.app_module have:\n",
    "\n",
    "```Python\n",
    "import pytest\n",
    "import sys\n",
    "import os\n",
    "\n",
    "myPath = os.path.dirname(os.path.abspath(__file__))\n",
    "\n",
    "# The full path to the file needs to be specified if calling from within src\n",
    "sys.path.insert(0, myPath + '/../')\n",
    "\n",
    "import appmodule\n",
    "# or\n",
    "# from app import *\n",
    "```\n",
    "\n",
    "\n",
    "\n",
    "<br>\n",
    "###### Within the directory containing src run:\n",
    "\n",
    "```Python\n",
    "# to run tests in one file\n",
    "pytest src/tests/test_appmodule.py \n",
    "\n",
    "# ro run all tests below cd\n",
    "pytest *  \n",
    "\n",
    "# ro run all tests below src\n",
    "pytest src/*  \n",
    "\n",
    "# ro run all tests below src/tests\n",
    "pytest src/tests/* \n",
    "```"
   ]
  },
  {
   "cell_type": "code",
   "execution_count": null,
   "metadata": {
    "collapsed": true
   },
   "outputs": [],
   "source": []
  },
  {
   "cell_type": "code",
   "execution_count": null,
   "metadata": {
    "collapsed": true
   },
   "outputs": [],
   "source": []
  },
  {
   "cell_type": "code",
   "execution_count": null,
   "metadata": {
    "collapsed": true
   },
   "outputs": [],
   "source": []
  }
 ],
 "metadata": {
  "kernelspec": {
   "display_name": "Python 3",
   "language": "python",
   "name": "python3"
  },
  "language_info": {
   "codemirror_mode": {
    "name": "ipython",
    "version": 3
   },
   "file_extension": ".py",
   "mimetype": "text/x-python",
   "name": "python",
   "nbconvert_exporter": "python",
   "pygments_lexer": "ipython3",
   "version": "3.6.2"
  }
 },
 "nbformat": 4,
 "nbformat_minor": 2
}
