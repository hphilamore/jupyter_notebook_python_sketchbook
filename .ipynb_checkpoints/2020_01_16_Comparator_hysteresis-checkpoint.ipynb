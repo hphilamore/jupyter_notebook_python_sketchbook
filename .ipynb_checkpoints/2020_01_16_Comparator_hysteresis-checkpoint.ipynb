{
 "cells": [
  {
   "cell_type": "markdown",
   "metadata": {},
   "source": [
    "Find the resisters needed for comparator hysteresis when:\n",
    "- Vcc and Vin are seperate (Vcc = constant)\n",
    "- Vcc and Vin are equal (`_sp`)"
   ]
  },
  {
   "cell_type": "code",
   "execution_count": 2,
   "metadata": {},
   "outputs": [],
   "source": [
    "import numpy as np"
   ]
  },
  {
   "cell_type": "markdown",
   "metadata": {},
   "source": [
    "https://www.maximintegrated.com/en/design/technical-documents/app-notes/3/3616.html\n",
    "\n",
    "<br><img src=\"img/comparator.png\" alt=\"Drawing\" style=\"width: 500px;\"/>"
   ]
  },
  {
   "cell_type": "code",
   "execution_count": 26,
   "metadata": {},
   "outputs": [],
   "source": [
    "Vth = 5.65\n",
    "Vtl = 1.68\n",
    "Vref = 1.24"
   ]
  },
  {
   "cell_type": "code",
   "execution_count": 39,
   "metadata": {},
   "outputs": [],
   "source": [
    "# Step 1 : Calculate  R3\n",
    "\n",
    "def calc_R3(Vref, ir3=0.2E-6, Vcc=5):\n",
    "    \n",
    "    R3a = Vref / ir3\n",
    "    \n",
    "    R3b = (Vcc - Vref) / ir3\n",
    "    \n",
    "    return(min([R3a, R3b]))"
   ]
  },
  {
   "cell_type": "code",
   "execution_count": 40,
   "metadata": {},
   "outputs": [
    {
     "name": "stdout",
     "output_type": "stream",
     "text": [
      "6.200e+06 6.200e+06\n"
     ]
    }
   ],
   "source": [
    "R3 = calc_R3(Vref)\n",
    "R3_sp = calc_R3(Vref, Vcc=Vth)\n",
    "\n",
    "print('{:.3e}'.format(R3), \n",
    "      '{:.3e}'.format(R3_sp))"
   ]
  },
  {
   "cell_type": "code",
   "execution_count": 28,
   "metadata": {},
   "outputs": [],
   "source": [
    "# Step 2 : Decide hysteresis bandwidth\n",
    "\n",
    "Vhb = Vth - Vtl"
   ]
  },
  {
   "cell_type": "code",
   "execution_count": 41,
   "metadata": {},
   "outputs": [],
   "source": [
    "# Step 3 : Calculate R1\n",
    "\n",
    "def calc_R1(R3, Vcc=5):\n",
    "    return R3 * Vhb / Vcc"
   ]
  },
  {
   "cell_type": "code",
   "execution_count": 42,
   "metadata": {},
   "outputs": [
    {
     "name": "stdout",
     "output_type": "stream",
     "text": [
      "4.923e+06 4.356e+06\n"
     ]
    }
   ],
   "source": [
    "R1 = calc_R1(R3)\n",
    "R1_sp = calc_R1(R3_sp, Vcc=Vth)\n",
    "\n",
    "print('{:.3e}'.format(R1), \n",
    "      '{:.3e}'.format(R1_sp))"
   ]
  },
  {
   "cell_type": "code",
   "execution_count": 30,
   "metadata": {},
   "outputs": [],
   "source": [
    "# Step 4 : Choose rising trip point\n",
    "# Vth = 5.65"
   ]
  },
  {
   "cell_type": "code",
   "execution_count": 43,
   "metadata": {},
   "outputs": [],
   "source": [
    "# Step 5 : Calculate R2\n",
    "\n",
    "def calc_R2(R1, R3):\n",
    "    return 1 / (Vth/(Vref*R1) - 1/R1 - 1/R3)"
   ]
  },
  {
   "cell_type": "code",
   "execution_count": 44,
   "metadata": {},
   "outputs": [
    {
     "name": "stdout",
     "output_type": "stream",
     "text": [
      "1.782e+06 1.527e+06\n"
     ]
    }
   ],
   "source": [
    "R2 = calc_R2(R1, R3)\n",
    "R2_sp = calc_R2(R1_sp, R3_sp)\n",
    "\n",
    "print('{:.3e}'.format(R2), \n",
    "      '{:.3e}'.format(R2_sp))"
   ]
  },
  {
   "cell_type": "code",
   "execution_count": 32,
   "metadata": {},
   "outputs": [],
   "source": [
    "# def calc_R2(R1, R3):\n",
    "#     return 1 / (3.7/(Vref*R1) - 1/R1 - 1/R3)\n",
    "\n",
    "# R2 = calc_R2(2.88, 6)\n",
    "\n",
    "# print('{:.3e}'.format(R2))"
   ]
  },
  {
   "cell_type": "code",
   "execution_count": 45,
   "metadata": {},
   "outputs": [],
   "source": [
    "# Step 5 : Verify threshold voltages\n",
    "\n",
    "def VTH(R1, R2, R3):\n",
    "    return Vref * R1 * (1/R1 + 1/R2 + 1/R3)\n",
    "\n",
    "def VTL(R1, R3, Vth, Vcc=5):\n",
    "    return Vth - (R1 * Vcc / R3)"
   ]
  },
  {
   "cell_type": "code",
   "execution_count": 47,
   "metadata": {},
   "outputs": [
    {
     "name": "stdout",
     "output_type": "stream",
     "text": [
      "Vth_ver =5.650e+00\n",
      "Vtl_ver =1.080e+06\n",
      "\n",
      "Vth_ver_sp =5.650e+00\n",
      "Vtl_ver_sp =1.680e+00\n"
     ]
    }
   ],
   "source": [
    "Vth_ver = VTH(R1, R2, R3)\n",
    "Vtl_ver = VTH(R1, R3, Vth_ver)\n",
    "\n",
    "Vth_ver_sp = VTH(R1, R2, R3)\n",
    "Vtl_ver_sp = VTL(R1_sp, R3_sp, Vth_ver_sp, Vcc=Vth)\n",
    "\n",
    "\n",
    "print('Vth_ver =' + '{:.3e}'.format(Vth_ver) + '\\n' + 'Vtl_ver =' + '{:.3e}'.format(Vtl_ver))\n",
    "print()\n",
    "print('Vth_ver_sp =' + '{:.3e}'.format(Vth_ver_sp) + '\\n' + 'Vtl_ver_sp =' + '{:.3e}'.format(Vtl_ver_sp))"
   ]
  },
  {
   "cell_type": "code",
   "execution_count": null,
   "metadata": {},
   "outputs": [],
   "source": []
  }
 ],
 "metadata": {
  "kernelspec": {
   "display_name": "Python 3",
   "language": "python",
   "name": "python3"
  },
  "language_info": {
   "codemirror_mode": {
    "name": "ipython",
    "version": 3
   },
   "file_extension": ".py",
   "mimetype": "text/x-python",
   "name": "python",
   "nbconvert_exporter": "python",
   "pygments_lexer": "ipython3",
   "version": "3.7.4"
  }
 },
 "nbformat": 4,
 "nbformat_minor": 2
}
