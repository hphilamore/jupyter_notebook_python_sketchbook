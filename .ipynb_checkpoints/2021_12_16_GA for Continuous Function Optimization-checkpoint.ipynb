{
 "cells": [
  {
   "cell_type": "markdown",
   "metadata": {},
   "source": [
    "# Genetic Algorithm for Continuous Function Optimization\n",
    "\n",
    "https://machinelearningmastery.com/simple-genetic-algorithm-from-scratch-in-python/\n",
    "\n",
    "Example: \n",
    "\n",
    "$(x_1^2, x_2^2)$ __minimization__ function.\n",
    "\n",
    "Takes input variables $x_1$ and $x_2$ \n",
    "\n",
    "Has an optima (minimum) at  f(0, 0) = 0.0"
   ]
  },
  {
   "cell_type": "code",
   "execution_count": 27,
   "metadata": {},
   "outputs": [],
   "source": [
    "import numpy as np\n",
    "from numpy.random import randint\n",
    "from numpy.random import rand\n",
    "import matplotlib.pyplot as plt\n",
    "%matplotlib inline"
   ]
  },
  {
   "cell_type": "markdown",
   "metadata": {},
   "source": [
    "Define an objective / fitness function to be minimised."
   ]
  },
  {
   "cell_type": "code",
   "execution_count": 28,
   "metadata": {},
   "outputs": [],
   "source": [
    "# objective function\n",
    "def objective(x):\n",
    "    \"\"\" the function to minimize \"\"\"\n",
    "    return x[0]**2.0 + x[1]**2.0"
   ]
  },
  {
   "cell_type": "code",
   "execution_count": 29,
   "metadata": {},
   "outputs": [],
   "source": [
    "def decode(bounds, n_bits, bitstring):\n",
    "    \"\"\"\n",
    "    decode bitstring to numbers \n",
    "    i.e. bitstring value to range of numbers within the bounds specified\n",
    "    \"\"\"\n",
    "    \n",
    "    decoded = []\n",
    "    \n",
    "    #print('bitstring', bitstring)\n",
    "    \n",
    "    largest = 2**n_bits # max possible value of 16 bit number \n",
    "    \n",
    "    for i in range(len(bounds)):                     # each of the two vars \n",
    "        \n",
    "        start, end = i * n_bits, (i * n_bits)+n_bits # start index, stop index each var\n",
    "        \n",
    "        substring = bitstring[start:end]             # extract sub-string using start, stop value\n",
    "        \n",
    "        chars = ''.join([str(s) for s in substring]) # convert bitstring to a string of chars\n",
    "        \n",
    "        #print('chars', chars)\n",
    "        \n",
    "        integer = int(chars, 2)                      # convert string to integer, using base 2\n",
    "        \n",
    "        value = bounds[i][0] + (integer/largest) * (bounds[i][1] - bounds[i][0]) # map to desired range\n",
    "        \n",
    "        decoded.append(value)                        # store\n",
    "        \n",
    "    return decoded"
   ]
  },
  {
   "cell_type": "code",
   "execution_count": 30,
   "metadata": {},
   "outputs": [],
   "source": [
    "def selection(pop, scores, k=3):\n",
    "    \"\"\"\n",
    "    tournament selection\n",
    "    \n",
    "    \"\"\"\n",
    "    sample_idxs = randint(0, len(pop), k)       # select k random indexes for individuals to sample\n",
    "    \n",
    "    sample = [scores[i] for i in sample_idxs]   # score of each individual\n",
    "    \n",
    "    best_sample_idx = np.argmin(sample)         # ID of best score in sample (tournament)\n",
    "    \n",
    "    best_pop_idx = sample_idxs[best_sample_idx] # population ID of best score in sample\n",
    "    \n",
    "    return pop[best_pop_idx]                    # return best individual in tournament"
   ]
  },
  {
   "cell_type": "code",
   "execution_count": 31,
   "metadata": {},
   "outputs": [],
   "source": [
    "def crossover(p1, p2, r_cross):\n",
    "    \"\"\"\n",
    "    crossover two parents to create two children\n",
    "    \"\"\"\n",
    "    c1, c2 = p1.copy(), p2.copy()    # children are copies of parents by default\n",
    "    \n",
    "    if rand() < r_cross:             # decide whether to cross\n",
    "        \n",
    "        pt = randint(1, len(p1)-2)   # select crossover point that is not on either end of the string\n",
    "        \n",
    "        c1 = p1[:pt] + p2[pt:]       # perform crossover\n",
    "        c2 = p2[:pt] + p1[pt:]\n",
    "        \n",
    "    return [c1, c2]"
   ]
  },
  {
   "cell_type": "code",
   "execution_count": 35,
   "metadata": {},
   "outputs": [],
   "source": [
    "def mutation(bitstring, r_mut):\n",
    "    \"\"\"\n",
    "    mutation operator\n",
    "    \"\"\"\n",
    "    for i in range(len(bitstring)):\n",
    "        \n",
    "        if rand() < r_mut:                     # decide whether to mutate\n",
    "            \n",
    "            bitstring[i] = 1 - bitstring[i]    # flip the bit\n",
    "            \n",
    "    return bitstring"
   ]
  },
  {
   "cell_type": "code",
   "execution_count": 36,
   "metadata": {},
   "outputs": [],
   "source": [
    "# genetic algorithm\n",
    "def genetic_algorithm(objective, n_bits, n_iter, n_pop, r_cross, r_mut, bounds):\n",
    "    \n",
    "    \"\"\"\n",
    "    Minimises objective function, for numbers in the range indictaed by the bounds, represented by bit strings of length n_bits.\n",
    "    \"\"\"\n",
    "    \n",
    "    # initial population of random bitstring individuals\n",
    "    # bitstring can be made from Boolean values True and False, string values ‘0’ and ‘1’, or integer values 0 and 1 \n",
    "    pop = [randint(0, 2, n_bits*n_vars).tolist() for _ in range(n_pop)]\n",
    "    \n",
    "    #print(np.matrix(pop))\n",
    "    \n",
    "    # initiailse list to store best solution each round\n",
    "    best_log = []  \n",
    "    \n",
    "\n",
    "    # initialise variables that update when new best found to track best overall solution\n",
    "    best_gen, best_score, best_sol = 0, objective(decode(bounds,  \n",
    "                                                         n_bits, \n",
    "                                                         pop[0])), pop[0] \n",
    "    \n",
    "    \n",
    "    for gen in range(n_iter):                              # cycle through each generation\n",
    "          \n",
    "        decoded = [decode(bounds, n_bits, p) for p in pop] # decode population to real numbers\n",
    "        \n",
    "        scores = [objective(c) for c in decoded]           # evaluate all chromosomes in the population\n",
    "        \n",
    "        best = min(scores)                                 # choose the best chromosome\n",
    "        \n",
    "        best_ID = np.argmin(scores)                        # find its position in the list \n",
    "        \n",
    "        best_log.append(best)                              # store best solution this round\n",
    "        \n",
    "        \n",
    "        if best < best_score:                              # if new best found, update vars and print msg\n",
    "            best_gen = gen\n",
    "            best_score = best\n",
    "            best_sol = pop[best_ID]          \n",
    "            print(f\"Gen {gen}, best score = {round(best,4)}, values = {decoded[best_ID]}\")\n",
    "        \n",
    "        \n",
    "        # select parents:\n",
    "        # run tournament selection n_pop times to get n_pop winners (population size does not change)\n",
    "        selected = [selection(pop, scores) for _ in range(n_pop)] \n",
    "        \n",
    "        # create the next generation\n",
    "        children = []\n",
    "        \n",
    "        for i in range(0, n_pop, 2):             # select parents in pairs\n",
    "            p1, p2 = selected[i], selected[i+1]\n",
    "            \n",
    "            for c in crossover(p1, p2, r_cross): # crossover each pair to give two children\n",
    "                \n",
    "                c = mutation(c, r_mut)               # mutate each child\n",
    "                \n",
    "                children.append(c)               # store for next generation\n",
    "                \n",
    "        \n",
    "        # replace population\n",
    "        pop = children\n",
    "        \n",
    "    return best, best_log, best_gen, best_score, best_sol\n",
    "\n",
    "\n",
    "\n"
   ]
  },
  {
   "cell_type": "code",
   "execution_count": 37,
   "metadata": {},
   "outputs": [
    {
     "name": "stdout",
     "output_type": "stream",
     "text": [
      "Gen 0, best score = 0.5021, values = [0.0018310546875, -0.7086181640625]\n",
      "Gen 1, best score = 0.1943, values = [0.41748046875, -0.141448974609375]\n",
      "Gen 3, best score = 0.0175, values = [0.0445556640625, -0.124664306640625]\n",
      "Gen 4, best score = 0.0063, values = [0.015106201171875, -0.078125]\n",
      "Gen 5, best score = 0.0008, values = [0.015106201171875, -0.024261474609375]\n",
      "Gen 7, best score = 0.0003, values = [0.010986328125, -0.01220703125]\n",
      "Gen 8, best score = 0.0002, values = [0.011138916015625, -0.009918212890625]\n",
      "Gen 13, best score = 0.0, values = [0.00152587890625, -0.0048828125]\n",
      "Gen 16, best score = 0.0, values = [0.00152587890625, -0.001373291015625]\n",
      "Gen 17, best score = 0.0, values = [0.000457763671875, -0.001678466796875]\n",
      "Gen 18, best score = 0.0, values = [0.00152587890625, -0.000457763671875]\n",
      "Gen 24, best score = 0.0, values = [0.001373291015625, -0.0006103515625]\n",
      "Gen 26, best score = 0.0, values = [0.0, -0.001068115234375]\n",
      "Gen 27, best score = 0.0, values = [0.00030517578125, -0.00091552734375]\n",
      "Gen 29, best score = 0.0, values = [0.00030517578125, -0.0006103515625]\n",
      "Gen 35, best score = 0.0, values = [0.000152587890625, -0.000152587890625]\n",
      "Gen 36, best score = 0.0, values = [0.0, -0.000152587890625]\n"
     ]
    },
    {
     "data": {
      "text/plain": [
       "[<matplotlib.lines.Line2D at 0x7fc77d6d9cd0>]"
      ]
     },
     "execution_count": 37,
     "metadata": {},
     "output_type": "execute_result"
    },
    {
     "data": {
      "image/png": "[encoded data removed]",
      "text/plain": [
       "<Figure size 432x288 with 1 Axes>"
      ]
     },
     "metadata": {
      "needs_background": "light"
     },
     "output_type": "display_data"
    }
   ],
   "source": [
    "bounds = [[-5.0, 5.0], # define range for input variables\n",
    "          [-5.0, 5.0]] \n",
    "\n",
    "n_vars = len(bounds)   # number of variables\n",
    "\n",
    "n_bits = 16            # 16 bit number (bit string will have n_bits * n_vars)\n",
    "\n",
    "n_iter = 100           # total iterations\n",
    "\n",
    "n_pop = 100            # define the population size\n",
    "\n",
    "r_cross = 0.9          # crossover rate\n",
    "\n",
    "r_mut = 1.0 / (float(n_bits) * len(bounds)) # mutation rate\n",
    "\n",
    "# perform the genetic algorithm search\n",
    "best, best_log, best_gen, best_score, best_sol = genetic_algorithm(objective, n_bits, \n",
    "                                                                   n_iter, n_pop, r_cross, \n",
    "                                                                   r_mut, bounds)\n",
    "# print(best, best_gen, best_score, best_sol)\n",
    "\n",
    "plt.plot(best_log)"
   ]
  },
  {
   "cell_type": "code",
   "execution_count": null,
   "metadata": {},
   "outputs": [],
   "source": []
  },
  {
   "cell_type": "code",
   "execution_count": null,
   "metadata": {},
   "outputs": [],
   "source": []
  },
  {
   "cell_type": "code",
   "execution_count": null,
   "metadata": {},
   "outputs": [],
   "source": []
  }
 ],
 "metadata": {
  "kernelspec": {
   "display_name": "Python 3",
   "language": "python",
   "name": "python3"
  },
  "language_info": {
   "codemirror_mode": {
    "name": "ipython",
    "version": 3
   },
   "file_extension": ".py",
   "mimetype": "text/x-python",
   "name": "python",
   "nbconvert_exporter": "python",
   "pygments_lexer": "ipython3",
   "version": "3.7.4"
  }
 },
 "nbformat": 4,
 "nbformat_minor": 2
}
