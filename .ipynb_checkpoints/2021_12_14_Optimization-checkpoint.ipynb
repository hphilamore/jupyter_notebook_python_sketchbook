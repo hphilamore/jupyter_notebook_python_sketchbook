{
 "cells": [
  {
   "cell_type": "markdown",
   "metadata": {},
   "source": [
    "# Knapsack\n",
    "https://dougfenstermacher.com/blog/combinatorial-optimization\n",
    "\n",
    "Given a set of items, each with a weight and a value, determine the number of each item to include in a collection so that the total weight is less than or equal to a given limit and the total value is as large as possible.\n",
    "\n",
    "0–1 Knapsack problem. For each item, there are two possibilities:\n",
    "\n",
    "Include the current item in the subset \n",
    "Exclude the current item from the subset "
   ]
  },
  {
   "cell_type": "code",
   "execution_count": 102,
   "metadata": {},
   "outputs": [],
   "source": [
    "import numpy as np\n",
    "import random"
   ]
  },
  {
   "cell_type": "code",
   "execution_count": 103,
   "metadata": {},
   "outputs": [],
   "source": [
    "W = 10\n",
    "v_ = [10, 40, 30, 50]\n",
    "w_ = [5, 4, 6, 3]\n",
    "\n",
    "\n",
    "def knapsack(v_, w_, W): \n",
    "    \"\"\"\n",
    "    v_ = values\n",
    "    w_ = weights\n",
    "    W = max weight\n",
    "    \"\"\"\n",
    "    n = len(v_)\n",
    "    \n",
    "    V = np.zeros((n+1,W+1))\n",
    "    keep = np.zeros((n+1,W+1))\n",
    "    \n",
    "#     for w in range(W+1):\n",
    "#         V[0,w] = 0\n",
    "\n",
    "    for i in range(1, n+1):\n",
    "        for w in range(W+1):\n",
    "            #print(i,w)\n",
    "            \n",
    "            # take item\n",
    "            if w >= w_[i-1] and (v_[i-1] + V[i-1, w-w_[i-1]] > V[i-1,w]):\n",
    "            \n",
    "                V[i,w] = v_[i-1] + V[i-1, w-w_[i-1]]\n",
    "                \n",
    "                keep[i,w] = 1\n",
    "                \n",
    "            # leave item\n",
    "            else:\n",
    "                V[i,w] = V[i-1,w]\n",
    "\n",
    "        \n",
    "        \n",
    "    return V, keep\n",
    "        \n",
    "    \n",
    "    "
   ]
  },
  {
   "cell_type": "code",
   "execution_count": 13,
   "metadata": {
    "scrolled": true
   },
   "outputs": [
    {
     "name": "stdout",
     "output_type": "stream",
     "text": [
      "[[ 0.  0.  0.  0.  0.  0.  0.  0.  0.  0.  0.]\n",
      " [ 0.  0.  0.  0.  0. 10. 10. 10. 10. 10. 10.]\n",
      " [ 0.  0.  0.  0. 40. 40. 40. 40. 40. 50. 50.]\n",
      " [ 0.  0.  0.  0. 40. 40. 40. 40. 40. 50. 70.]\n",
      " [ 0.  0.  0. 50. 50. 50. 50. 90. 90. 90. 90.]]\n",
      "[[0. 0. 0. 0. 0. 0. 0. 0. 0. 0. 0.]\n",
      " [0. 0. 0. 0. 0. 1. 1. 1. 1. 1. 1.]\n",
      " [0. 0. 0. 0. 1. 1. 1. 1. 1. 1. 1.]\n",
      " [0. 0. 0. 0. 0. 0. 0. 0. 0. 0. 1.]\n",
      " [0. 0. 0. 1. 1. 1. 1. 1. 1. 1. 1.]]\n"
     ]
    }
   ],
   "source": [
    "V, keep = knapsack(v_, w_, W)\n",
    "print(V)\n",
    "print(keep)"
   ]
  },
  {
   "cell_type": "code",
   "execution_count": 14,
   "metadata": {},
   "outputs": [
    {
     "name": "stdout",
     "output_type": "stream",
     "text": [
      "3\n",
      "7\n",
      "4\n",
      "3\n",
      "[4, 2]\n"
     ]
    }
   ],
   "source": [
    "T = []\n",
    "\n",
    "n = len(v_)\n",
    "\n",
    "K = W\n",
    "\n",
    "for i in range(n, -1, -1):\n",
    "    if keep[i,K]==1:\n",
    "        print(w_[i-1])\n",
    "        K = K-w_[i-1]\n",
    "        print(K)\n",
    "        T.append(i)\n",
    "        \n",
    "print(T)"
   ]
  },
  {
   "cell_type": "code",
   "execution_count": 15,
   "metadata": {},
   "outputs": [],
   "source": [
    "v_ = [60, 100, 120]\n",
    "w_ = [10, 20, 30]\n",
    "W = 50"
   ]
  },
  {
   "cell_type": "markdown",
   "metadata": {},
   "source": [
    "# Subset \n",
    "\n",
    "(subset sums https://dougfenstermacher.com/blog/combinatorial-optimization)\n",
    "\n",
    "Subset with maximum value without exceeding limit (special case of Knapsack)"
   ]
  },
  {
   "cell_type": "code",
   "execution_count": 220,
   "metadata": {},
   "outputs": [],
   "source": [
    "def subset_max(data, limit):\n",
    "    \"\"\"\n",
    "    Returns all subsets where value does not exceed limit \n",
    "    \"\"\"\n",
    "    \n",
    "    cache = [None for _ in range(limit+1)]\n",
    "    cache[0] = []\n",
    "    \n",
    "    for d in data:\n",
    "        for i in range(limit - d, -1, -1):\n",
    "\n",
    "            if cache[i] is not None:\n",
    "                cache[i + d] = cache[i] + [d]\n",
    "        print()\n",
    "        \n",
    "    return(cache)\n",
    "                \n",
    "                "
   ]
  },
  {
   "cell_type": "code",
   "execution_count": 240,
   "metadata": {
    "scrolled": true
   },
   "outputs": [
    {
     "name": "stdout",
     "output_type": "stream",
     "text": [
      "\n",
      "\n",
      "\n",
      "\n",
      "\n",
      "\n",
      "\n",
      "\n",
      "[[], [1], [2], [3], [1, 3], [2, 3], [3, 3], [4, 3], [1, 4, 3], [2, 4, 3], [3, 4, 3], [1, 3, 4, 3], [2, 3, 4, 3], [1, 2, 3, 4, 3], [1, 13], [2, 13], [13, 3], [1, 13, 3], [2, 13, 3], [3, 13, 3], [20], [1, 20], [2, 20], [3, 20], [1, 3, 20], [2, 3, 20], [3, 3, 20], [4, 3, 20], [1, 4, 3, 20], [2, 4, 3, 20], [3, 4, 3, 20], [1, 3, 4, 3, 20], [2, 3, 4, 3, 20], [1, 2, 3, 4, 3, 20], [1, 13, 20], [2, 13, 20], [13, 3, 20], [1, 13, 3, 20], [2, 13, 3, 20], [3, 13, 3, 20], [4, 13, 3, 20], [1, 4, 13, 3, 20], [2, 4, 13, 3, 20], [3, 4, 13, 3, 20], [1, 3, 4, 13, 3, 20], [25, 20], [1, 25, 20], [2, 25, 20], [3, 25, 20], [1, 3, 25, 20], [2, 3, 25, 20]]\n",
      "\n",
      "Subset that gives greatest total without exceeding limit [2, 3, 25, 20]\n"
     ]
    }
   ],
   "source": [
    "data = [1, 2, 3, 4, 13, 3, 25, 20]\n",
    "\n",
    "solution = subset_max(data, 50)\n",
    "\n",
    "print(solution)\n",
    "\n",
    "print('\\nSubset that gives greatest total without exceeding limit', solution[-1])"
   ]
  },
  {
   "cell_type": "code",
   "execution_count": 237,
   "metadata": {},
   "outputs": [
    {
     "name": "stdout",
     "output_type": "stream",
     "text": [
      "\n",
      "\n",
      "\n",
      "\n",
      "\n",
      "\n",
      "\n",
      "\n"
     ]
    },
    {
     "data": {
      "text/plain": [
       "[20]"
      ]
     },
     "execution_count": 237,
     "metadata": {},
     "output_type": "execute_result"
    }
   ],
   "source": [
    "subset_max(data, 20)[-1]"
   ]
  },
  {
   "cell_type": "markdown",
   "metadata": {},
   "source": [
    "Todo: Brute force solution"
   ]
  },
  {
   "cell_type": "markdown",
   "metadata": {},
   "source": [
    "# Subset sum \n",
    "https://www.geeksforgeeks.org/subset-sum-problem-dp-25/\n",
    "\n",
    "https://www.techiedelight.com/subset-sum-problem/\n",
    "\n",
    "Given a set of non-negative integers, and a value sum, determine if there is a subset of the given set with sum equal to given sum. "
   ]
  },
  {
   "cell_type": "markdown",
   "metadata": {},
   "source": [
    "## Method 1: Recursive function "
   ]
  },
  {
   "cell_type": "code",
   "execution_count": 20,
   "metadata": {},
   "outputs": [
    {
     "name": "stdout",
     "output_type": "stream",
     "text": [
      "Found a subset with given sum\n"
     ]
    }
   ],
   "source": [
    "# A recursive solution for subset sum\n",
    "# problem\n",
    " \n",
    "# Returns true if there is a subset\n",
    "# of set[] with sun equal to given sum\n",
    " \n",
    " \n",
    "def isSubsetSum(set_, n, sum_):\n",
    " \n",
    "    # Base Cases\n",
    "    if (sum_ == 0):\n",
    "        return True\n",
    "    if (n == 0):\n",
    "        return False\n",
    " \n",
    "    # If last element is greater than\n",
    "    # sum, then ignore it\n",
    "    if (set_[n - 1] > sum_):\n",
    "        return isSubsetSum(set_, n - 1, sum_)\n",
    " \n",
    "    # else, check if sum can be obtained\n",
    "    # by any of the following\n",
    "    # (a) including the last element\n",
    "    # (b) excluding the last element\n",
    "    return isSubsetSum(\n",
    "        set_, n-1, sum_) or isSubsetSum(\n",
    "        set_, n-1, sum_-set_[n-1])\n",
    " \n",
    " \n",
    "# Driver code\n",
    "set_ = [3, 34, 4, 12, 5, 2]\n",
    "\n",
    "sum_ = 9\n",
    "\n",
    "n = len(set_)\n",
    "\n",
    "if (isSubsetSum(set_, n, sum_) == True):\n",
    "    print(\"Found a subset with given sum\")\n",
    "else:\n",
    "    print(\"No subset with given sum\")"
   ]
  },
  {
   "cell_type": "markdown",
   "metadata": {},
   "source": [
    "## Method 2: Dynamic programming"
   ]
  },
  {
   "cell_type": "code",
   "execution_count": 23,
   "metadata": {},
   "outputs": [
    {
     "name": "stdout",
     "output_type": "stream",
     "text": [
      "1 0 0 0 0 0 0 0 0 0 0 \n",
      "1 0 0 1 0 0 0 0 0 0 0 \n",
      "1 1 0 1 1 0 0 0 0 0 0 \n",
      "1 1 0 1 1 1 1 0 1 1 0 \n",
      "1 1 1 1 1 1 1 1 1 1 1 \n",
      "Found a subset with given sum\n"
     ]
    }
   ],
   "source": [
    "# A Dynamic Programming solution for subset\n",
    "# sum problem Returns true if there is a subset of\n",
    "# set[] with sun equal to given sum\n",
    " \n",
    "# Returns true if there is a subset of set[]\n",
    "# with sum equal to given sum\n",
    "def isSubsetSum(set_, n, sum_):\n",
    "    \"\"\"\n",
    "    # The value of subset[i][j] will be true if there is a subset of set[0..j-1] with sum equal to i\n",
    "    \"\"\"\n",
    "     \n",
    "    # create array \n",
    "    subset =([[False for j in range(sum_ + 1)]for i in range(n + 1)])\n",
    "    \n",
    "    keep = ([[False for j in range(sum_ + 1)]for i in range(n + 1)])\n",
    "    \n",
    "    # Base cases:\n",
    "    \n",
    "    # If sum is 0, then subset[i][j] is true\n",
    "    for i in range(n + 1):\n",
    "        subset[i][0] = True\n",
    "         \n",
    "    # If sum is not 0 and n is 0 (empty set), then subset[i][j] is false\n",
    "    for i in range(1, sum_ + 1):\n",
    "         subset[0][i]= False\n",
    "             \n",
    "    # Fill the subset table in bottom up manner\n",
    "    for i in range(1, n + 1):\n",
    "        for j in range(1, sum_ + 1):\n",
    "            \n",
    "            # If current sum < current element, leave element (too big)\n",
    "            # Subset[i][j] takes value of previous element\n",
    "            if j<set_[i-1]:\n",
    "                #print(i, j, set[i-1], subset[i-1][j])\n",
    "                subset[i][j] = subset[i-1][j]\n",
    "                \n",
    "            \n",
    "            # Otherwise \n",
    "            if j>= set_[i-1]:\n",
    "                subset[i][j] = (subset[i-1][j] or           # Leave element \n",
    "                                subset[i - 1][j-set_[i-1]])  # Take element (remaining sum can be found with remaining subset)  once element taken)\n",
    "                \n",
    "                if subset[i - 1][j-set_[i-1]]:       # element taken               \n",
    "                                 keep[i][j]=True\n",
    "     \n",
    "    # uncomment this code to print table\n",
    "    for i in range(n + 1):\n",
    "        for j in range(sum_ + 1):\n",
    "            print (int(subset[i][j]), end =\" \")\n",
    "        print()\n",
    "        \n",
    "    # return the final (bottom-right) element\n",
    "    # return subset[n][sum] \n",
    "    \n",
    "    # return the array\n",
    "    return subset, keep\n",
    "         \n",
    "# Driver code\n",
    "if __name__=='__main__':\n",
    "    \n",
    "    set_ = [3, 1, 5, 2]\n",
    "    \n",
    "    sum_ = 10\n",
    "    \n",
    "    n = len(set_)\n",
    "    \n",
    "    subset, keep = isSubsetSum(set_, n, sum_)\n",
    "    \n",
    "    if (subset[n][sum_] == True):\n",
    "        print(\"Found a subset with given sum\")\n",
    "    else:\n",
    "        print(\"No subset with given sum\")\n",
    "    \n",
    "    \n",
    "#     if (isSubsetSum(set, n, sum) == True):\n",
    "#         print(\"Found a subset with given sum\")\n",
    "#     else:\n",
    "#         print(\"No subset with given sum\")\n",
    "\n",
    "\n",
    "\n",
    "         \n",
    "# This code is contributed by\n",
    "# sahil shelangia."
   ]
  },
  {
   "cell_type": "code",
   "execution_count": 24,
   "metadata": {},
   "outputs": [
    {
     "name": "stdout",
     "output_type": "stream",
     "text": [
      "2\n",
      "8\n",
      "5\n",
      "3\n",
      "3\n",
      "0\n",
      "[2, 5, 3]\n"
     ]
    }
   ],
   "source": [
    "T = []\n",
    "\n",
    "K = sum_\n",
    "\n",
    "for i in range(n, -1, -1):\n",
    "    if keep[i][K]==1:\n",
    "        print(set_[i-1])\n",
    "        K = K-set_[i-1]\n",
    "        print(K)\n",
    "        T.append(set_[i-1])\n",
    "        \n",
    "print(T)"
   ]
  },
  {
   "cell_type": "markdown",
   "metadata": {},
   "source": [
    "# Perfect Sum Problem (Print all subsets with given sum)\n",
    "Given an array of integers and a sum, the task is to print all subsets of the given array with a sum equal to a given sum.\n",
    "\n",
    "https://kalkicode.com/print-subsets-given-sum"
   ]
  },
  {
   "cell_type": "code",
   "execution_count": 34,
   "metadata": {},
   "outputs": [
    {
     "name": "stdout",
     "output_type": "stream",
     "text": [
      "[1, 2, 3]\n",
      "[1, 3, 2]\n",
      "[1, 5]\n",
      "[2, 1, 3]\n",
      "[2, 3, 1]\n",
      "[2, 4]\n",
      "[3, 1, 2]\n",
      "[3, 2, 1]\n",
      "[4, 2]\n",
      "[5, 1]\n",
      "[6]\n"
     ]
    }
   ],
   "source": [
    "#Python Program \n",
    "#Print all subsets with given sum\n",
    "class MyArray:\n",
    "\n",
    "  def subsets(self, total , inputs, result, size, index, sum_):\n",
    "    \n",
    "    # stopping condition: index out of range or cumulative sum exceeds total\n",
    "    # do not return subset\n",
    "    if(index > total  or  sum_ > total ):\n",
    "      return\n",
    "\n",
    "    # stopping condition: sum equals total\n",
    "    if(sum_ == total):\n",
    "        \n",
    "        # print all sub, elements can be used more than once\n",
    "        # print(result[:index])\n",
    "        \n",
    "        # print subset, elements can only be used once\n",
    "        if sum(set(result[:index]))==total:\n",
    "            print(result[:index])    \n",
    "    \n",
    "    \n",
    "    # recur if neither stopping condition reached\n",
    "    else :\n",
    "      for element in inputs:\n",
    "        \n",
    "        #Get result elements\n",
    "        result[index] = element\n",
    "\n",
    "        #Recursive call\n",
    "        self.subsets(total, inputs, result, size, index+1, sum_+element)\n",
    "\n",
    "        \n",
    "def main():\n",
    "\n",
    "  obj = MyArray()\n",
    "  #list elements\n",
    "  inputs =[1,2,3,4,5,6]\n",
    "\n",
    "  #Get the size of array elements\n",
    "  size=len(inputs)\n",
    "\n",
    "  total=6 #perfect sum\n",
    "\n",
    "  #Auxiliary space which is store the result\n",
    "  result=[0]*size\n",
    "\n",
    "  #show all subset\n",
    "  obj.subsets(total,inputs,result,size,0,0)\n",
    " \n",
    "if __name__ ==\"__main__\":\n",
    "  main()"
   ]
  },
  {
   "cell_type": "markdown",
   "metadata": {},
   "source": [
    "# Task Assignment\n",
    "\n",
    "A number of agents and a number of tasks. \n",
    "\n",
    "Any agent can be assigned to perform any task, incurring some cost that may vary depending on the agent-task assignment. \n",
    "\n",
    "It is required to perform all tasks by assigning exactly one agent to each task and exactly one task to each agent in such a way that the total cost of the assignment is minimized.\n",
    "\n",
    "The assignment problem comes up often in everyday life, such as optimally determining which athletic trainer to assign to each athlete in a queue, determining how to assign technicians to support tickets based on their skillset and location, or determining the optimal way to assign salesperson to potential companies.\n",
    "\n",
    "The scipy function `linear_sum_assignment` function can also solve a generalization of the classic assignment problem where the cost matrix is rectangular. If it has more rows than columns, then not every row needs to be assigned to a column, and vice versa."
   ]
  },
  {
   "cell_type": "code",
   "execution_count": 140,
   "metadata": {},
   "outputs": [],
   "source": [
    "def build_cost_matrix(cost_func):\n",
    "    return np.array([[cost_func(worker, task) for task in tasks.values()] for worker in workers])\n",
    "\n",
    "\n",
    "def cost(worker, task):\n",
    "    profit = (worker['rate'] * task) - worker['pay'] # picking rate * flower value - worker pay\n",
    "    return 0 - abs(profit)                           # output mimimises cost function, so convert to -ve\n",
    "\n",
    "\n",
    "workers = [{'pay': 20, 'rate': 300}, {'pay': 10.5, 'rate': 200}, {'pay': 15, 'rate': 150}, {'pay': 6.5, 'rate': 100}, {'pay': 17.5, 'rate': 200}]\n",
    "tasks = {'orchid':10, 'daisy':2.25, 'daffodil':1.70, 'dandelion':0.001, 'grass':0.0001, 'tulip':0.0001}\n",
    "\n",
    "\n",
    "flower_labels = flowers.keys()\n",
    "flower_assignments = flowers.values()"
   ]
  },
  {
   "cell_type": "code",
   "execution_count": 141,
   "metadata": {},
   "outputs": [
    {
     "name": "stdout",
     "output_type": "stream",
     "text": [
      "cost matrix \n",
      " [[-2980.     -655.     -490.      -19.7     -19.97    -19.97 ]\n",
      " [-1989.5    -439.5    -329.5     -10.3     -10.48    -10.48 ]\n",
      " [-1485.     -322.5    -240.      -14.85    -14.985   -14.985]\n",
      " [ -993.5    -218.5    -163.5      -6.4      -6.49     -6.49 ]\n",
      " [-1982.5    -432.5    -322.5     -17.3     -17.48    -17.48 ]]\n",
      "\n",
      "assign matrix\n",
      " [[-2980.       -0.       -0.       -0.       -0.       -0.   ]\n",
      " [   -0.     -439.5      -0.       -0.       -0.       -0.   ]\n",
      " [   -0.       -0.       -0.       -0.       -0.      -14.985]\n",
      " [   -0.       -0.       -0.       -0.       -6.49     -0.   ]\n",
      " [   -0.       -0.     -322.5      -0.       -0.       -0.   ]]\n",
      "\n",
      "max profit\n",
      " -3763.4750000000004\n"
     ]
    }
   ],
   "source": [
    "from scipy.optimize import linear_sum_assignment\n",
    "\n",
    "cost_matrix = build_cost_matrix(cost)\n",
    "\n",
    "print('cost matrix \\n', np.matrix(cost_matrix))\n",
    "\n",
    "workerID, taskID = linear_sum_assignment(cost_matrix)\n",
    "\n",
    "assign_matrix = np.zeros(cost_matrix.shape)\n",
    "\n",
    "for w, t in zip(workerID, taskID):\n",
    "    assign_matrix[w, t] = 1\n",
    "    \n",
    "assign_matrix *= cost_matrix\n",
    "\n",
    "print('\\nassign matrix\\n',assign_matrix)\n",
    "\n",
    "print('\\nmax profit\\n',assign_matrix.sum())"
   ]
  },
  {
   "cell_type": "code",
   "execution_count": 142,
   "metadata": {},
   "outputs": [],
   "source": [
    "# Worker={'pay': 20, 'rate': 300},   flower=orchid, profitability=   $2980/hour\n",
    "# Worker={'pay': 10.5, 'rate': 200}, flower=daisy, profitability=    $439.5/hour\n",
    "# Worker={'pay': 15, 'rate': 150},   flower=dandelion, profitability=$-14.85/hour\n",
    "# Worker={'pay': 6.5, 'rate': 100},  flower=grass, profitability=    $-6.49/hour\n",
    "# Worker={'pay': 17.5, 'rate': 200}, flower=daffodil, profitability= $322.5/hour\n",
    "\n",
    "# Maximum Profit: $3720.6600000000003/hour"
   ]
  },
  {
   "cell_type": "markdown",
   "metadata": {},
   "source": [
    "# Student Project Assignment"
   ]
  },
  {
   "cell_type": "code",
   "execution_count": 211,
   "metadata": {},
   "outputs": [],
   "source": [
    "n_students = 10\n",
    "n_projects = 15\n",
    "n_choices = 5\n",
    "\n",
    "def build_cost_matrix(n_students, n_projects):\n",
    "    \"\"\"\n",
    "    Creates a \n",
    "    \"\"\"\n",
    "    students = list(range(n_students))\n",
    "    projects = list(range(n_projects))\n",
    "\n",
    "    cost_matrix = []\n",
    "    for s in students:\n",
    "        selection = [0 for p in projects] # student selection form\n",
    "        \n",
    "        # picks 5 ranked choices per student for projects selected randomly from a weighted probability distribution\n",
    "        for n in range(1, n_choices+1):\n",
    "            element = random.choices(np.arange(n_projects), weights=np.linspace(0, 1, n_projects))\n",
    "            selection[element[0]]=0-n\n",
    "            \n",
    "        cost_matrix.append(selection)\n",
    "    \n",
    "    return np.array(cost_matrix)"
   ]
  },
  {
   "cell_type": "code",
   "execution_count": 212,
   "metadata": {},
   "outputs": [
    {
     "name": "stdout",
     "output_type": "stream",
     "text": [
      "[[ 0  0  0  0  0 -1  0 -2  0 -4  0  0 -3  0 -5]\n",
      " [ 0  0  0  0  0  0  0 -4  0  0 -1 -5 -3 -2  0]\n",
      " [ 0  0  0  0  0  0  0  0  0 -4  0  0  0 -5  0]\n",
      " [ 0  0  0  0  0  0  0  0 -3  0  0  0  0 -5 -4]\n",
      " [ 0 -3  0  0  0  0  0  0 -5 -1  0 -2  0  0  0]\n",
      " [ 0  0  0  0  0  0 -5 -4 -2 -3  0  0  0  0  0]\n",
      " [ 0  0  0  0  0  0 -4  0  0  0  0  0 -5 -2 -3]\n",
      " [ 0  0  0  0  0  0  0  0  0 -1  0 -4  0  0 -5]\n",
      " [ 0  0  0  0  0 -4  0  0 -2 -5  0 -1 -3  0  0]\n",
      " [ 0 -3  0  0  0  0  0  0  0 -1  0  0 -5 -4  0]]\n"
     ]
    }
   ],
   "source": [
    "cost_matrix = build_cost_matrix(n_students, n_projects)\n",
    "print(cost_matrix)"
   ]
  },
  {
   "cell_type": "code",
   "execution_count": 213,
   "metadata": {},
   "outputs": [],
   "source": [
    "studentID, projectID = linear_sum_assignment(cost_matrix)\n",
    "#print(studentID, projectID)"
   ]
  },
  {
   "cell_type": "code",
   "execution_count": 214,
   "metadata": {},
   "outputs": [
    {
     "data": {
      "text/plain": [
       "(10, 15)"
      ]
     },
     "execution_count": 214,
     "metadata": {},
     "output_type": "execute_result"
    }
   ],
   "source": [
    "cost_matrix.shape"
   ]
  },
  {
   "cell_type": "code",
   "execution_count": 215,
   "metadata": {},
   "outputs": [
    {
     "name": "stdout",
     "output_type": "stream",
     "text": [
      "\n",
      "assign matrix\n",
      " [[0. 0. 0. 0. 0. 0. 0. 0. 0. 0. 0. 0. 0. 0. 5.]\n",
      " [0. 0. 0. 0. 0. 0. 0. 4. 0. 0. 0. 0. 0. 0. 0.]\n",
      " [0. 0. 0. 0. 0. 0. 0. 0. 0. 4. 0. 0. 0. 0. 0.]\n",
      " [0. 0. 0. 0. 0. 0. 0. 0. 0. 0. 0. 0. 0. 5. 0.]\n",
      " [0. 0. 0. 0. 0. 0. 0. 0. 5. 0. 0. 0. 0. 0. 0.]\n",
      " [0. 0. 0. 0. 0. 0. 5. 0. 0. 0. 0. 0. 0. 0. 0.]\n",
      " [0. 0. 0. 0. 0. 0. 0. 0. 0. 0. 0. 0. 5. 0. 0.]\n",
      " [0. 0. 0. 0. 0. 0. 0. 0. 0. 0. 0. 4. 0. 0. 0.]\n",
      " [0. 0. 0. 0. 0. 4. 0. 0. 0. 0. 0. 0. 0. 0. 0.]\n",
      " [0. 3. 0. 0. 0. 0. 0. 0. 0. 0. 0. 0. 0. 0. 0.]]\n",
      "\n",
      "max profit\n",
      " 44.0\n"
     ]
    }
   ],
   "source": [
    "assign_matrix = np.zeros(cost_matrix.shape)\n",
    "\n",
    "for s, p in zip(studentID, projectID):\n",
    "    assign_matrix[s, p] = 1\n",
    "    \n",
    "assign_matrix *= cost_matrix\n",
    "\n",
    "print('\\nassign matrix\\n',np.matrix(np.absolute(assign_matrix)))\n",
    "\n",
    "print('\\nmax profit\\n', np.absolute(assign_matrix).sum())"
   ]
  },
  {
   "cell_type": "code",
   "execution_count": null,
   "metadata": {},
   "outputs": [],
   "source": []
  },
  {
   "cell_type": "code",
   "execution_count": null,
   "metadata": {},
   "outputs": [],
   "source": []
  }
 ],
 "metadata": {
  "kernelspec": {
   "display_name": "Python 3",
   "language": "python",
   "name": "python3"
  },
  "language_info": {
   "codemirror_mode": {
    "name": "ipython",
    "version": 3
   },
   "file_extension": ".py",
   "mimetype": "text/x-python",
   "name": "python",
   "nbconvert_exporter": "python",
   "pygments_lexer": "ipython3",
   "version": "3.8.3"
  }
 },
 "nbformat": 4,
 "nbformat_minor": 2
}
