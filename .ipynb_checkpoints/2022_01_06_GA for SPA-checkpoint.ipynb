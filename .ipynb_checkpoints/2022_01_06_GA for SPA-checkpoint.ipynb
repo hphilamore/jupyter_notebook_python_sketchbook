{
 "cells": [
  {
   "cell_type": "markdown",
   "metadata": {},
   "source": [
    "# Genetic Algorithm for SPA\n",
    "\n",
    "https://machinelearningmastery.com/simple-genetic-algorithm-from-scratch-in-python/"
   ]
  },
  {
   "cell_type": "code",
   "execution_count": 45,
   "metadata": {},
   "outputs": [],
   "source": [
    "import numpy as np\n",
    "import random\n",
    "from numpy.random import randint\n",
    "from numpy.random import rand\n",
    "import matplotlib.pyplot as plt\n",
    "%matplotlib inline\n",
    "import csv"
   ]
  },
  {
   "cell_type": "markdown",
   "metadata": {},
   "source": [
    "Generate example student project selection matrix to test model "
   ]
  },
  {
   "cell_type": "code",
   "execution_count": 46,
   "metadata": {},
   "outputs": [
    {
     "name": "stdout",
     "output_type": "stream",
     "text": [
      "[[ 1 10 10 10 10 10 10 10 10  4  3  2  5 10 10]\n",
      " [10  1 10 10  4 10 10 10  5 10  3  2 10 10 10]\n",
      " [10 10  1 10  2 10 10 10  3  4 10 10 10  5 10]\n",
      " [10 10 10  1 10  4 10 10  2 10 10 10 10  3  5]\n",
      " [10 10 10 10  1  5 10 10  2 10 10 10  4 10  3]\n",
      " [10 10 10 10 10  1  4 10 10  5 10  3 10 10  2]\n",
      " [10 10 10  4 10 10  1 10  3 10 10 10  5 10  2]\n",
      " [10 10  4 10 10 10 10  1 10 10 10  2  3 10  5]\n",
      " [10 10 10 10 10 10 10  2  1  4 10  3  5 10 10]\n",
      " [10 10 10 10  3 10 10 10 10  1 10  5  2  4 10]]\n"
     ]
    }
   ],
   "source": [
    "with open('data/student_preference_matrices/student_preference_matrix_ideal.csv', 'r') as f:\n",
    "    cost_matrix = csv.reader(f)\n",
    "    \n",
    "    cost_matrix = [[int(i) for i in j] for j in cost_matrix]            # convert from string\n",
    "    \n",
    "    cost_matrix = [[10 if i==0 else i for i in j] for j in cost_matrix] # replace zeros with 10\n",
    "    \n",
    "    \n",
    "print(np.matrix(cost_matrix))\n",
    "\n",
    "n_students, n_projects = np.array(cost_matrix).shape"
   ]
  },
  {
   "cell_type": "markdown",
   "metadata": {},
   "source": [
    "Modify form to include projects with student capacity > 1 by creating repeat instances of the project in the form, with equal student ranking "
   ]
  },
  {
   "cell_type": "code",
   "execution_count": 47,
   "metadata": {},
   "outputs": [
    {
     "name": "stdout",
     "output_type": "stream",
     "text": [
      "[[ 1 10 10 10 10 10 10 10 10  4  3  2  5 10 10 10 10  3  3  5  5]\n",
      " [10  1 10 10  4 10 10 10  5 10  3  2 10 10 10 10 10  3  3 10 10]\n",
      " [10 10  1 10  2 10 10 10  3  4 10 10 10  5 10  1 10 10 10 10 10]\n",
      " [10 10 10  1 10  4 10 10  2 10 10 10 10  3  5 10  1 10 10 10 10]\n",
      " [10 10 10 10  1  5 10 10  2 10 10 10  4 10  3 10 10 10 10  4  4]\n",
      " [10 10 10 10 10  1  4 10 10  5 10  3 10 10  2 10 10 10 10 10 10]\n",
      " [10 10 10  4 10 10  1 10  3 10 10 10  5 10  2 10  4 10 10  5  5]\n",
      " [10 10  4 10 10 10 10  1 10 10 10  2  3 10  5  4 10 10 10  3  3]\n",
      " [10 10 10 10 10 10 10  2  1  4 10  3  5 10 10 10 10 10 10  5  5]\n",
      " [10 10 10 10  3 10 10 10 10  1 10  5  2  4 10 10 10 10 10  2  2]]\n"
     ]
    }
   ],
   "source": [
    "with open('data/student_preference_matrices/project_capacity_ideal.csv', 'r') as f:\n",
    "    capacity = list(csv.reader(f))\n",
    "    capacity = [int(i) for i in capacity[0]]\n",
    "\n",
    "    \n",
    "# give projects an ID so that multiple columns with the same ID can be re-grouped later \n",
    "project_ID = list(range(n_projects)) \n",
    "\n",
    "# temporarily include project ID and capacity vectors in cost matrix\n",
    "cost_matrix.insert(0, project_ID)\n",
    "cost_matrix.insert(1, capacity)\n",
    "\n",
    "\n",
    "# if project capacity n > 1\n",
    "for i in range(n_projects):              \n",
    "    if capacity[i] > 1:\n",
    "        \n",
    "        # create n-1 copies of the column for that project\n",
    "        # there are now n columns representing that project (with same ID number and student rank)\n",
    "        for j in range(capacity[i]-1):   \n",
    "            for row in cost_matrix:\n",
    "                row.append(row[i])\n",
    "                \n",
    "\n",
    "# remove adn store project ID and capacity vectors \n",
    "project_ID = cost_matrix.pop(0)\n",
    "capacity = cost_matrix.pop(0)\n",
    "                \n",
    "print(np.matrix(cost_matrix))"
   ]
  },
  {
   "cell_type": "markdown",
   "metadata": {},
   "source": [
    "Define an objective / fitness function to be minimised."
   ]
  },
  {
   "cell_type": "code",
   "execution_count": 48,
   "metadata": {},
   "outputs": [
    {
     "name": "stdout",
     "output_type": "stream",
     "text": [
      "[12, 5, 7, 3, 14, 9, 4, 13, 10, 1]\n"
     ]
    },
    {
     "data": {
      "text/plain": [
       "74"
      ]
     },
     "execution_count": 48,
     "metadata": {},
     "output_type": "execute_result"
    }
   ],
   "source": [
    "# objective function\n",
    "c = random.sample(range(n_projects), k=n_students)\n",
    "print(c)\n",
    "\n",
    "def objective(x):\n",
    "    \"\"\" the function to minimize \"\"\"\n",
    "#     count = 0\n",
    "#     for i,j in enumerate(x):\n",
    "#         print(cost_matrix[i][j])\n",
    "#         count += cost_matrix[i][j]\n",
    "#     print(count)\n",
    "        \n",
    "    return sum([cost_matrix[i][j]for i,j in enumerate(x)])\n",
    "    \n",
    "#     print(z)\n",
    "    \n",
    "objective(c)"
   ]
  },
  {
   "cell_type": "code",
   "execution_count": 49,
   "metadata": {},
   "outputs": [],
   "source": [
    "def selection(pop, scores, k=3):\n",
    "    \"\"\"\n",
    "    tournament selection\n",
    "    \n",
    "    \"\"\"\n",
    "    sample_idxs = randint(0, len(pop), k)       # select k random indexes for individuals to sample\n",
    "    \n",
    "    sample = [scores[i] for i in sample_idxs]   # score of each individual\n",
    "    \n",
    "    best_sample_idx = np.argmin(sample)         # ID of best score in sample (tournament)\n",
    "    \n",
    "    best_pop_idx = sample_idxs[best_sample_idx] # population ID of best score in sample\n",
    "    \n",
    "    return best_pop_idx      # return best individual and population ID"
   ]
  },
  {
   "cell_type": "code",
   "execution_count": 50,
   "metadata": {},
   "outputs": [],
   "source": [
    "def crossover(p1_ID, p2_ID, pop, scores):\n",
    "    \"\"\"\n",
    "    Modified fusion operator.\n",
    "    Crossover two parents to one child. \n",
    "    Avoids breaking constraint that each project may be assigend to only one student.\n",
    "    \"\"\"\n",
    "    #c1, c2 = p1.copy(), p2.copy()    # children are copies of parents by default\n",
    "    \n",
    "    f1, f2 = scores[p1_ID], scores[p2_ID] # fitness of each parent\n",
    "    \n",
    "    p1, p2 = pop[p1_ID], pop[p2_ID]       # parents\n",
    "    \n",
    "    c = ['*' for p in p1]                 # child\n",
    "    \n",
    "    for i in range(len(c)):               # for each child gene, i\n",
    "        \n",
    "        # if neither parent 1 and parent 2 gene i already in child chromosome\n",
    "        if p1[i] not in c[:i] and p2[i] not in c[:i]: \n",
    "            \n",
    "            if p1[i] == p2[i]:            # if both parent genes are the same\n",
    "                c[i] = p1[i]              # set child gene as same allele\n",
    "                \n",
    "            # otherwise choose gene from parent 1 or 2 with probability proportional to paretn fitness\n",
    "            else:                         \n",
    "                if rand() <= f1/(f2+f1):\n",
    "                    c[i] = p1[i]\n",
    "                else:\n",
    "                    c[i] = p2[i]\n",
    "                    \n",
    "        # if both parent 1 and parent 2 gene i already in child chromosome\n",
    "        elif p1[i] in c[:i] and p2[i] in c[:i]:\n",
    "            \n",
    "            # choose random allele not already in child chromosome\n",
    "            c[i] = random.choice(list(set(range(n_projects))-set(c[:i]))) \n",
    "            \n",
    "    \n",
    "        # if gene i from one parent already in child chromosome use gene from other parent\n",
    "        elif p1[i] in c[:i]:\n",
    "            c[i] = p2[i]\n",
    "            \n",
    "        elif p2[i] in c[:i]:\n",
    "            c[i] = p1[i]\n",
    "             \n",
    "    return c\n",
    "                    \n"
   ]
  },
  {
   "cell_type": "code",
   "execution_count": 51,
   "metadata": {},
   "outputs": [],
   "source": [
    "def mutation(chromosome, r_mut):\n",
    "    \"\"\"\n",
    "    mutation operator\n",
    "    \"\"\"\n",
    "    for i in range(len(chromosome)):\n",
    "        \n",
    "        if rand() < r_mut:                     # decide whether to mutate gene\n",
    "            \n",
    "            # exchange gene for allele not already in chromosome\n",
    "            chromosome[i] = random.choice(list(set(range(n_projects))-set(chromosome)))  \n",
    "            \n",
    "    return chromosome"
   ]
  },
  {
   "cell_type": "code",
   "execution_count": 55,
   "metadata": {},
   "outputs": [],
   "source": [
    "# genetic algorithm\n",
    "def genetic_algorithm(objective, n_bits, n_iter, n_pop, r_mut):\n",
    "    \n",
    "    \"\"\"\n",
    "    Minimises objective function.\n",
    "    \"\"\"\n",
    "    \n",
    "    # initial population of random chromosomes\n",
    "    # each chromosome has length n_students which each stdeunt ssigned a project number \n",
    "    pop = [random.sample(range(n_projects), k=n_students) for _ in range(n_pop)]\n",
    "    \n",
    "    # initiailse list to store best solution each round\n",
    "    log_best = []  \n",
    "    \n",
    "    # initialise variables that update when new best found to track best overall solution\n",
    "    best_gen, best_score, best_sol = 0, objective(pop[0]), pop[0] # track best overall solution\n",
    "    \n",
    "    \n",
    "    for gen in range(n_iter):                    # cycle through each generation\n",
    "        \n",
    "        scores = [objective(c) for c in pop]     # evaluate all chromosomes in the population\n",
    "        \n",
    "        best_ = min(scores)                       # best chromosome in current population\n",
    "        \n",
    "        best_ID = np.argmin(scores)              # find its position in the list \n",
    "        \n",
    "        log_best.append(best_)                    # store best solution this round\n",
    "        \n",
    "        if best_ < best_score:                    # if new best found, update vars and print msg\n",
    "            best_gen = gen\n",
    "            best_score = best_\n",
    "            best_sol = pop[best_ID]          \n",
    "            print(f\"Gen {gen}, best score = {best_}, chromosome = {pop[best_ID]}\")\n",
    "        \n",
    "        # select 2 parents\n",
    "        # run tournament selection n_pop times to get 2 winners as parents of new gen\n",
    "        p1_ID, p2_ID = selection(pop, scores) , selection(pop, scores)\n",
    "        \n",
    "        c = crossover(p1_ID, p2_ID, pop, scores)  # crossover to produce 1 child\n",
    "        \n",
    "        c = mutation(c, r_mut)                    # mutate child\n",
    "        \n",
    "        \"\"\"replace worst chromosome with child if the child is:\n",
    "        - better than any single\n",
    "        - different from all\n",
    "        chomosome in the population\"\"\"        \n",
    "        \n",
    "        worst_ID = np.argmax(scores)              # worst chromosome in current population\n",
    "        \n",
    "        if objective(c) < scores[worst_ID] and c not in pop:\n",
    "            pop[worst_ID] = c\n",
    "        \n",
    "    return log_best, best_sol"
   ]
  },
  {
   "cell_type": "code",
   "execution_count": 59,
   "metadata": {},
   "outputs": [
    {
     "name": "stdout",
     "output_type": "stream",
     "text": [
      "Gen 0, best score = 52, chromosome = [6, 11, 4, 12, 14, 2, 8, 7, 3, 9]\n",
      "Gen 25, best score = 40, chromosome = [0, 4, 9, 13, 1, 11, 14, 10, 8, 12]\n",
      "Gen 41, best score = 34, chromosome = [0, 4, 9, 13, 14, 11, 3, 7, 8, 10]\n",
      "Gen 58, best score = 31, chromosome = [0, 4, 9, 13, 1, 11, 14, 7, 8, 12]\n",
      "Gen 84, best score = 25, chromosome = [0, 10, 9, 13, 14, 11, 3, 7, 8, 12]\n",
      "Gen 101, best score = 24, chromosome = [0, 4, 9, 13, 14, 5, 3, 7, 8, 12]\n",
      "Gen 135, best score = 19, chromosome = [0, 10, 9, 13, 4, 5, 14, 7, 8, 12]\n",
      "Gen 184, best score = 18, chromosome = [0, 10, 2, 13, 4, 5, 3, 7, 8, 12]\n",
      "Gen 227, best score = 16, chromosome = [0, 10, 2, 13, 4, 5, 14, 7, 8, 12]\n",
      "Gen 259, best score = 15, chromosome = [0, 10, 2, 13, 4, 5, 14, 7, 8, 9]\n",
      "Gen 461, best score = 14, chromosome = [11, 10, 2, 3, 4, 5, 14, 7, 8, 9]\n",
      "Gen 526, best score = 12, chromosome = [0, 11, 2, 3, 4, 5, 14, 7, 8, 9]\n",
      "Gen 1536, best score = 11, chromosome = [0, 11, 2, 3, 4, 5, 6, 7, 8, 9]\n",
      "Gen 1672, best score = 10, chromosome = [0, 1, 2, 3, 4, 5, 6, 7, 8, 9]\n"
     ]
    },
    {
     "data": {
      "text/plain": [
       "[<matplotlib.lines.Line2D at 0x7fb1d739a910>]"
      ]
     },
     "execution_count": 59,
     "metadata": {},
     "output_type": "execute_result"
    },
    {
     "data": {
      "image/png": "[encoded data removed]",
      "text/plain": [
       "<Figure size 432x288 with 1 Axes>"
      ]
     },
     "metadata": {
      "needs_background": "light"
     },
     "output_type": "display_data"
    }
   ],
   "source": [
    "n_iter = 6000                                      # total iterations\n",
    "\n",
    "n_pop = 30                                         # population size\n",
    "\n",
    "r_mut = 1.0 / (float(n_pop) * np.sqrt(n_students)) # mutation rate\n",
    "\n",
    "# perform the genetic algorithm search\n",
    "best_log, best_sol = genetic_algorithm(objective, n_students, n_iter, n_pop, r_mut)\n",
    "\n",
    "plt.plot(best_log)"
   ]
  },
  {
   "cell_type": "markdown",
   "metadata": {},
   "source": [
    "Display output "
   ]
  },
  {
   "cell_type": "code",
   "execution_count": 60,
   "metadata": {},
   "outputs": [
    {
     "name": "stdout",
     "output_type": "stream",
     "text": [
      "project allocations [0, 1, 2, 3, 4, 5, 6, 7, 8, 9]\n",
      "rank [1, 1, 1, 1, 1, 1, 1, 1, 1, 1]\n",
      "\n",
      "sum of project rankings (should be as low as possible)= 10\n"
     ]
    }
   ],
   "source": [
    "# project ID of each project in best solution\n",
    "allocations = [project_ID[j] for j in best_sol]\n",
    "print('project allocations', allocations)\n",
    "\n",
    "# student ranking of each project in best solution\n",
    "ranks = [cost_matrix[i][j]for i,j in enumerate(best_sol)]\n",
    "print('rank', ranks)\n",
    "print('\\nsum of project rankings (should be as low as possible)=', sum(ranks))"
   ]
  },
  {
   "cell_type": "code",
   "execution_count": null,
   "metadata": {},
   "outputs": [],
   "source": []
  },
  {
   "cell_type": "code",
   "execution_count": null,
   "metadata": {},
   "outputs": [],
   "source": []
  }
 ],
 "metadata": {
  "kernelspec": {
   "display_name": "Python 3",
   "language": "python",
   "name": "python3"
  },
  "language_info": {
   "codemirror_mode": {
    "name": "ipython",
    "version": 3
   },
   "file_extension": ".py",
   "mimetype": "text/x-python",
   "name": "python",
   "nbconvert_exporter": "python",
   "pygments_lexer": "ipython3",
   "version": "3.7.4"
  }
 },
 "nbformat": 4,
 "nbformat_minor": 2
}
