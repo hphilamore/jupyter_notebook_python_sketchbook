{
 "cells": [
  {
   "cell_type": "markdown",
   "metadata": {},
   "source": [
    "# Genetic Algorithm for Continuous Function Optimization\n",
    "\n",
    "https://machinelearningmastery.com/simple-genetic-algorithm-from-scratch-in-python/\n",
    "\n",
    "Example: \n",
    "\n",
    "$(x_1^2, x_2^2)$ __minimization__ function.\n",
    "\n",
    "Takes input variables $x_1$ and $x_2$ \n",
    "\n",
    "Has an optima (minimum) at  f(0, 0) = 0.0"
   ]
  },
  {
   "cell_type": "code",
   "execution_count": 32,
   "metadata": {},
   "outputs": [],
   "source": [
    "import numpy as np\n",
    "from numpy.random import randint\n",
    "from numpy.random import rand\n",
    "import matplotlib.pyplot as plt\n",
    "%matplotlib inline\n",
    "import csv"
   ]
  },
  {
   "cell_type": "markdown",
   "metadata": {},
   "source": [
    "Generate example student project selection matrix to test model "
   ]
  },
  {
   "cell_type": "code",
   "execution_count": 62,
   "metadata": {},
   "outputs": [
    {
     "name": "stdout",
     "output_type": "stream",
     "text": [
      "[[ 1 10 10 10 10 10 10  5 10 10 10  4  3  2 10]\n",
      " [10  1 10 10 10 10 10  3  5 10 10 10  4 10  2]\n",
      " [10 10  1  5 10 10 10 10 10  2 10  3  4 10 10]\n",
      " [10 10 10  1  2 10 10 10  3  5 10 10  4 10 10]\n",
      " [10 10 10 10  1 10 10  2 10 10  4  3 10  5 10]\n",
      " [10 10 10 10 10  1 10  4 10 10  5 10  3  2 10]\n",
      " [10 10 10 10 10 10  1 10  4  2 10  3  5 10 10]\n",
      " [10 10 10  2 10 10 10  1  4 10  3 10 10  5 10]\n",
      " [10 10  2 10 10 10 10 10  1  3 10 10 10  4  5]\n",
      " [10 10  5 10 10 10 10  3 10  1  4  2 10 10 10]]\n"
     ]
    }
   ],
   "source": [
    "with open('data/student_preference_matrices/student_preference_matrix_ideal.csv', 'r') as f:\n",
    "    cost_matrix = csv.reader(f)\n",
    "    \n",
    "    cost_matrix = [[int(i) for i in j] for j in cost_matrix]            # convert from string\n",
    "    \n",
    "    cost_matrix = [[10 if i==0 else i for i in j] for j in cost_matrix] # replace zeros with 10\n",
    "    \n",
    "    \n",
    "print(np.matrix(cost_matrix))\n",
    "\n",
    "n_students, n_projects = np.array(cost_matrix).shape"
   ]
  },
  {
   "cell_type": "markdown",
   "metadata": {},
   "source": [
    "Define an objective / fitness function to be minimised."
   ]
  },
  {
   "cell_type": "code",
   "execution_count": 171,
   "metadata": {},
   "outputs": [
    {
     "name": "stdout",
     "output_type": "stream",
     "text": [
      "[8, 12, 1, 5, 2, 9, 10, 0, 11, 4]\n",
      "[3, 6, 7, 13, 14]\n"
     ]
    },
    {
     "data": {
      "text/plain": [
       "94"
      ]
     },
     "execution_count": 171,
     "metadata": {},
     "output_type": "execute_result"
    }
   ],
   "source": [
    "# objective function\n",
    "c = random.sample(range(n_projects), k=n_students)\n",
    "print(c)\n",
    "\n",
    "def objective(x):\n",
    "    \"\"\" the function to minimize \"\"\"\n",
    "#     count = 0\n",
    "#     for i,j in enumerate(x):\n",
    "#         print(cost_matrix[i][j])\n",
    "#         count += cost_matrix[i][j]\n",
    "#     print(count)\n",
    "        \n",
    "    return sum([cost_matrix[i][j]for i,j in enumerate(x)])\n",
    "    \n",
    "#     print(z)\n",
    "    \n",
    "objective(c)"
   ]
  },
  {
   "cell_type": "code",
   "execution_count": 172,
   "metadata": {},
   "outputs": [],
   "source": [
    "# def decode(bounds, n_bits, bitstring):\n",
    "#     \"\"\"\n",
    "#     decode bitstring to numbers \n",
    "#     i.e. bitstring value to range of numbers within the bounds specified\n",
    "#     \"\"\"\n",
    "    \n",
    "#     decoded = []\n",
    "    \n",
    "#     #print('bitstring', bitstring)\n",
    "    \n",
    "#     largest = 2**n_bits # max possible value of 16 bit number \n",
    "    \n",
    "#     for i in range(len(bounds)):                     # each of the two vars \n",
    "        \n",
    "#         start, end = i * n_bits, (i * n_bits)+n_bits # start index, stop index each var\n",
    "        \n",
    "#         substring = bitstring[start:end]             # extract sub-string using start, stop value\n",
    "        \n",
    "#         chars = ''.join([str(s) for s in substring]) # convert bitstring to a string of chars\n",
    "        \n",
    "#         #print('chars', chars)\n",
    "        \n",
    "#         integer = int(chars, 2)                      # convert string to integer, using base 2\n",
    "        \n",
    "#         value = bounds[i][0] + (integer/largest) * (bounds[i][1] - bounds[i][0]) # map to desired range\n",
    "        \n",
    "#         decoded.append(value)                        # store\n",
    "        \n",
    "#     return decoded"
   ]
  },
  {
   "cell_type": "code",
   "execution_count": 173,
   "metadata": {},
   "outputs": [],
   "source": [
    "def selection(pop, scores, k=3):\n",
    "    \"\"\"\n",
    "    tournament selection\n",
    "    \n",
    "    \"\"\"\n",
    "    sample_idxs = randint(0, len(pop), k)       # select k random indexes for individuals to sample\n",
    "    \n",
    "    sample = [scores[i] for i in sample_idxs]   # score of each individual\n",
    "    \n",
    "    best_sample_idx = np.argmin(sample)         # ID of best score in sample (tournament)\n",
    "    \n",
    "    best_pop_idx = sample_idxs[best_sample_idx] # population ID of best score in sample\n",
    "    \n",
    "    return best_pop_idx      # return best individual and population ID"
   ]
  },
  {
   "cell_type": "code",
   "execution_count": 180,
   "metadata": {},
   "outputs": [],
   "source": [
    "def crossover(p1_ID, p2_ID, pop, scores):\n",
    "    \"\"\"\n",
    "    Modified fusion operator.\n",
    "    Crossover two parents to one child. \n",
    "    Avoids breaking constraint that each project may be assigend to only one student.\n",
    "    \"\"\"\n",
    "    #c1, c2 = p1.copy(), p2.copy()    # children are copies of parents by default\n",
    "    \n",
    "    f1, f2 = scores[p1_ID], scores[p2_ID] # fitness of each parent\n",
    "    \n",
    "    p1, p2 = pop[p1_ID], pop[p2_ID]       # parents\n",
    "    \n",
    "    c = ['*' for p in p1]                 # child\n",
    "    \n",
    "    for i in range(len(c)):               # for each child gene, i\n",
    "        \n",
    "        # if neither parent 1 and parent 2 gene i already in child chromosome\n",
    "        if p1[i] not in c[:i] and p2[i] not in c[:i]: \n",
    "            \n",
    "            if p1[i] == p2[i]:            # if both parent genes are the same\n",
    "                c[i] = p1[i]              # set child gene as same allele\n",
    "                \n",
    "            # otherwise choose gene from parent 1 or 2 with probability proportional to paretn fitness\n",
    "            else:                         \n",
    "                if rand() <= f1/(f2+f1):\n",
    "                    c[i] = p1[i]\n",
    "                else:\n",
    "                    c[i] = p2[i]\n",
    "                    \n",
    "        # if both parent 1 and parent 2 gene i already in child chromosome\n",
    "        elif p1[i] in c[:i] and p2[i] in c[:i]:\n",
    "            \n",
    "            # choose random allele not already in child chromosome\n",
    "            c[i] = random.choice(list(set(range(n_projects))-set(c[:i]))) \n",
    "            \n",
    "    \n",
    "        # if gene i from one parent already in child chromosome use gene from other parent\n",
    "        elif p1[i] in c[:i]:\n",
    "            c[i] = p2[i]\n",
    "            \n",
    "        elif p2[i] in c[:i]:\n",
    "            c[i] = p1[i]\n",
    "             \n",
    "    return c\n",
    "                    \n"
   ]
  },
  {
   "cell_type": "code",
   "execution_count": 189,
   "metadata": {},
   "outputs": [],
   "source": [
    "def mutation(chromosome, r_mut):\n",
    "    \"\"\"\n",
    "    mutation operator\n",
    "    \"\"\"\n",
    "    for i in range(len(chromosome)):\n",
    "        \n",
    "        if rand() < r_mut:                     # decide whether to mutate gene\n",
    "            \n",
    "            # exchange gene for allele not already in chromosome\n",
    "            chromosome[i] = random.choice(list(set(range(n_projects))-set(chromosome)))  \n",
    "            \n",
    "    return chromosome"
   ]
  },
  {
   "cell_type": "code",
   "execution_count": 208,
   "metadata": {},
   "outputs": [],
   "source": [
    "# genetic algorithm\n",
    "def genetic_algorithm(objective, n_bits, n_iter, n_pop, r_mut):\n",
    "    \n",
    "    \"\"\"\n",
    "    Minimises objective function.\n",
    "    \"\"\"\n",
    "    \n",
    "    # initial population of random chromosomes\n",
    "    # each chromosome has length n_students which each stdeunt ssigned a project number \n",
    "    pop = [random.sample(range(n_projects), k=n_students) for _ in range(n_pop)]\n",
    "    \n",
    "    # initiailse list to store best solution each round\n",
    "    log_best = []  \n",
    "    \n",
    "    # initialise variables that update when new best found to track best overall solution\n",
    "    best_gen, best_score, best_sol = 0, objective(pop[0]), pop[0] # track best overall solution\n",
    "    \n",
    "    \n",
    "    for gen in range(n_iter):                    # cycle through each generation\n",
    "        \n",
    "        scores = [objective(c) for c in pop]     # evaluate all chromosomes in the population\n",
    "        \n",
    "        best = min(scores)                       # choose the best chromosome\n",
    "        \n",
    "        best_ID = np.argmin(scores)              # find its position in the list \n",
    "        \n",
    "        log_best.append(best)                    # store best solution this round\n",
    "        \n",
    "        if best < best_score:                    # if new best found, update vars and print msg\n",
    "            best_gen = gen\n",
    "            best_score = best\n",
    "            best_sol = pop[best_ID]          \n",
    "            print(f\"Gen {gen}, best score = {best}, chromosome = {pop[best_ID]}\")\n",
    "        \n",
    "        # select 2 parents\n",
    "        # run tournament selection n_pop times to get 2 winners as parents of new gen\n",
    "        p1_ID, p2_ID = selection(pop, scores) , selection(pop, scores)\n",
    "        \n",
    "        c = crossover(p1_ID, p2_ID, pop, scores)  # crossover to produce 1 child\n",
    "        \n",
    "        c = mutation(c, r_mut)                    # mutate child\n",
    "        \n",
    "        \"\"\"replace worst chromosome with child if the child is:\n",
    "        - better than any single\n",
    "        - different from all\n",
    "        chomosome in the population\"\"\"        \n",
    "        \n",
    "        worst_ID = np.argmax(scores)              # worst chromosome in current population\n",
    "        \n",
    "        if objective(c) < scores[worst_ID] and c not in pop:\n",
    "            pop[worst_ID] = c\n",
    "        \n",
    "    return log_best, best_sol"
   ]
  },
  {
   "cell_type": "code",
   "execution_count": 216,
   "metadata": {},
   "outputs": [
    {
     "name": "stdout",
     "output_type": "stream",
     "text": [
      "Gen 0, best score = 58, chromosome = [0, 5, 14, 4, 3, 7, 12, 9, 8, 2]\n",
      "Gen 4, best score = 55, chromosome = [0, 5, 12, 4, 3, 13, 1, 9, 8, 2]\n",
      "Gen 10, best score = 48, chromosome = [0, 6, 3, 12, 1, 5, 13, 7, 8, 2]\n",
      "Gen 23, best score = 42, chromosome = [0, 6, 3, 4, 7, 5, 12, 9, 8, 2]\n",
      "Gen 26, best score = 41, chromosome = [0, 6, 3, 4, 1, 5, 12, 7, 8, 2]\n",
      "Gen 46, best score = 33, chromosome = [0, 7, 9, 4, 3, 5, 12, 10, 8, 2]\n",
      "Gen 119, best score = 32, chromosome = [0, 7, 11, 4, 1, 13, 9, 10, 8, 2]\n",
      "Gen 124, best score = 30, chromosome = [0, 6, 11, 12, 4, 13, 9, 7, 8, 2]\n",
      "Gen 139, best score = 29, chromosome = [0, 7, 11, 9, 4, 13, 12, 10, 8, 2]\n",
      "Gen 172, best score = 25, chromosome = [0, 7, 11, 12, 4, 13, 9, 10, 8, 2]\n",
      "Gen 251, best score = 24, chromosome = [0, 7, 11, 12, 4, 5, 9, 10, 8, 2]\n",
      "Gen 317, best score = 23, chromosome = [0, 7, 9, 12, 4, 13, 6, 10, 8, 2]\n",
      "Gen 328, best score = 22, chromosome = [0, 1, 9, 12, 7, 13, 6, 10, 8, 2]\n",
      "Gen 341, best score = 20, chromosome = [0, 7, 9, 12, 4, 13, 6, 10, 8, 11]\n",
      "Gen 366, best score = 19, chromosome = [0, 7, 9, 12, 4, 5, 6, 10, 8, 11]\n",
      "Gen 402, best score = 17, chromosome = [0, 1, 9, 12, 4, 5, 6, 10, 8, 11]\n",
      "Gen 431, best score = 16, chromosome = [0, 1, 9, 12, 4, 5, 6, 3, 8, 11]\n",
      "Gen 515, best score = 15, chromosome = [0, 1, 9, 4, 7, 5, 6, 3, 8, 11]\n",
      "Gen 831, best score = 14, chromosome = [0, 1, 2, 4, 7, 5, 6, 3, 8, 11]\n",
      "Gen 1605, best score = 13, chromosome = [0, 1, 2, 4, 7, 5, 6, 3, 8, 9]\n",
      "Gen 3550, best score = 10, chromosome = [0, 1, 2, 3, 4, 5, 6, 7, 8, 9]\n"
     ]
    },
    {
     "data": {
      "text/plain": [
       "[<matplotlib.lines.Line2D at 0x7fdb7aaf6610>]"
      ]
     },
     "execution_count": 216,
     "metadata": {},
     "output_type": "execute_result"
    },
    {
     "data": {
      "image/png": "[encoded data removed]",
      "text/plain": [
       "<Figure size 432x288 with 1 Axes>"
      ]
     },
     "metadata": {
      "needs_background": "light"
     },
     "output_type": "display_data"
    }
   ],
   "source": [
    "# bounds = [[-5.0, 5.0], # define range for input variables\n",
    "#           [-5.0, 5.0]] \n",
    "\n",
    "# n_vars = len(bounds)   # number of variables\n",
    "\n",
    "# n_bits = 16            # 16 bit number (bit string will have n_bits * n_vars)\n",
    "\n",
    "n_iter = 4000           # total iterations\n",
    "\n",
    "n_pop = 30            # define the population size\n",
    "\n",
    "# r_cross = 0.9          # crossover rate\n",
    "\n",
    "r_mut = 1.0 / (float(n_pop) * np.sqrt(n_students)) # mutation rate\n",
    "\n",
    "# perform the genetic algorithm search\n",
    "best_log, best_sol = genetic_algorithm(objective, n_students, n_iter, n_pop, r_mut)\n",
    "\n",
    "plt.plot(best_log)"
   ]
  },
  {
   "cell_type": "markdown",
   "metadata": {},
   "source": [
    "Display output "
   ]
  },
  {
   "cell_type": "code",
   "execution_count": 217,
   "metadata": {},
   "outputs": [
    {
     "name": "stdout",
     "output_type": "stream",
     "text": [
      "[1, 1, 1, 1, 1, 1, 1, 1, 1, 1]\n",
      "\n",
      "\n",
      "sum of all assignments (should be as low as possible)= 10\n"
     ]
    }
   ],
   "source": [
    "ranks = [cost_matrix[i][j]for i,j in enumerate(best_sol)]\n",
    "print(ranks)\n",
    "print('\\n\\nsum of all assignments (should be as low as possible)=', sum(ranks))"
   ]
  },
  {
   "cell_type": "code",
   "execution_count": null,
   "metadata": {},
   "outputs": [],
   "source": []
  }
 ],
 "metadata": {
  "kernelspec": {
   "display_name": "Python 3",
   "language": "python",
   "name": "python3"
  },
  "language_info": {
   "codemirror_mode": {
    "name": "ipython",
    "version": 3
   },
   "file_extension": ".py",
   "mimetype": "text/x-python",
   "name": "python",
   "nbconvert_exporter": "python",
   "pygments_lexer": "ipython3",
   "version": "3.7.4"
  }
 },
 "nbformat": 4,
 "nbformat_minor": 2
}
