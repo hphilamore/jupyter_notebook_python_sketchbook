{
 "cells": [
  {
   "cell_type": "markdown",
   "metadata": {},
   "source": [
    "** Simplified version of previous notebook. Only COD 900 considered as the possible maximum energy stored by the system. "
   ]
  },
  {
   "cell_type": "code",
   "execution_count": 22,
   "metadata": {},
   "outputs": [],
   "source": [
    "import numpy as np\n",
    "import pandas as pd"
   ]
  },
  {
   "cell_type": "markdown",
   "metadata": {},
   "source": [
    "#### Size system components e.g. capacitor given the amount of energy needed to be stored. \n",
    "\n",
    "#### Find the maximum and minimum net energy available given different COD and storage capacitors. "
   ]
  },
  {
   "cell_type": "code",
   "execution_count": 28,
   "metadata": {},
   "outputs": [
    {
     "data": {
      "text/plain": [
       "10.14576"
      ]
     },
     "execution_count": 28,
     "metadata": {},
     "output_type": "execute_result"
    }
   ],
   "source": [
    "# Energy harvested from single batch feed MFC, Joules (J) for different COD values\n",
    "\n",
    "Eave = np.array([21.137,  # COD = 900\n",
    "                 18.017,  # COD = 500\n",
    "                 8.315,   # COD = 300\n",
    "                 2.415    # COD = 70\n",
    "                ])\n",
    "\n",
    "Eave *= 0.48 # apply energy harvesting eff.\n",
    "Eave[0]"
   ]
  },
  {
   "cell_type": "markdown",
   "metadata": {},
   "source": [
    "Maximum and minimum rated supply voltages (e.g. for regulator to supply 1.8V) for power management components.\n",
    "\n",
    "Two system configurations (different combinations of components considerd) "
   ]
  },
  {
   "cell_type": "code",
   "execution_count": 57,
   "metadata": {},
   "outputs": [],
   "source": [
    "# max min allowable supply voltage for comparator and voltage regulator\n",
    "# comp:LTC1540, reg:LT3009\n",
    "\n",
    "Vmax = 11\n",
    "Vmin = 2.3"
   ]
  },
  {
   "cell_type": "code",
   "execution_count": 58,
   "metadata": {},
   "outputs": [
    {
     "data": {
      "text/plain": [
       "10.14576"
      ]
     },
     "execution_count": 58,
     "metadata": {},
     "output_type": "execute_result"
    }
   ],
   "source": [
    "# Create a data frame for each system config \n",
    "E_cod900 = Eave[0]\n",
    "E_cod900"
   ]
  },
  {
   "cell_type": "markdown",
   "metadata": {},
   "source": [
    "Capacitor energy $E = \\frac{1}{2} CV^2$\n",
    "\n",
    "Capacitance needed to store `E_cod900` (average energy harvetsed at each COD value) at Vmax found by:\n",
    "\n",
    "$C = \\frac{E_{max}}{\\frac{1}{2} V_{max}^2}$"
   ]
  },
  {
   "cell_type": "code",
   "execution_count": 59,
   "metadata": {},
   "outputs": [
    {
     "name": "stdout",
     "output_type": "stream",
     "text": [
      "capacitor = 0.168 F\n"
     ]
    }
   ],
   "source": [
    "# capacitor needed to store Emax for each COD value at Vmax for each system config\n",
    "\n",
    "C = E_cod900 / (0.5 * Vmax**2)\n",
    "C = round(C, 3)\n",
    "print(f'capacitor = {C} F')"
   ]
  },
  {
   "cell_type": "markdown",
   "metadata": {},
   "source": [
    "For a capacitor of this size, the remaining energy $E_{min}$ stored in the capacitor when drained to the minimum allowable supply voltage for the system $V_{min}$ found by: \n",
    "\n",
    "$E_{min} = \\frac{1}{2} CV_{min}^2$"
   ]
  },
  {
   "cell_type": "code",
   "execution_count": 60,
   "metadata": {},
   "outputs": [
    {
     "data": {
      "text/plain": [
       "0.44436"
      ]
     },
     "execution_count": 60,
     "metadata": {},
     "output_type": "execute_result"
    }
   ],
   "source": [
    "# Average energy harvested at lowest COD value tested (COD = 70, 900)\n",
    "\n",
    "Emin = 0.5 * C * Vmin**2\n",
    "Emin"
   ]
  },
  {
   "cell_type": "markdown",
   "metadata": {},
   "source": [
    "For each COD value, we can find the available energy `Ea`:\n",
    "\n",
    "$E_{a} = E_{ave} - E_{min}$\n"
   ]
  },
  {
   "cell_type": "code",
   "execution_count": 61,
   "metadata": {},
   "outputs": [
    {
     "data": {
      "text/plain": [
       "array([9.7014 , 8.2038 , 3.54684, 0.71484])"
      ]
     },
     "execution_count": 61,
     "metadata": {},
     "output_type": "execute_result"
    }
   ],
   "source": [
    "Ea = Eave - Emin\n",
    "Ea"
   ]
  },
  {
   "cell_type": "code",
   "execution_count": 63,
   "metadata": {},
   "outputs": [],
   "source": [
    "#array([9.7014 , 8.2038 , 3.54684, 0.71484])"
   ]
  },
  {
   "cell_type": "markdown",
   "metadata": {},
   "source": [
    "#### $E_a$ determines how many samples can be taken by the data logger in the next week/cycle if the energy consumed by the other processes is known. \n",
    "\n",
    "$E_{a} = nE_{sa} + E_{e} + E_{sl} + E_{r} + E_{c}$\n",
    "\n",
    "where $n=$ number of samples \n",
    "\n",
    "#### Use the energy consumption of each process done by the microcontroller and power management system to calculate the allowable number of samples corresponding to each COD value "
   ]
  },
  {
   "cell_type": "markdown",
   "metadata": {},
   "source": [
    "Estimated voltage of the storagae capacitor for each COD value"
   ]
  },
  {
   "cell_type": "code",
   "execution_count": 147,
   "metadata": {},
   "outputs": [
    {
     "name": "stdout",
     "output_type": "stream",
     "text": [
      "3.714835124201342 6.893060692775431 10.146639133934235 10.990125437994651\n"
     ]
    }
   ],
   "source": [
    "def cap_v(E, C):\n",
    "    return np.sqrt(2 * E / C)\n",
    "\n",
    "V_cod70 = cap_v(Eave[3], C)\n",
    "V_cod300 = cap_v(Eave[2], C)\n",
    "V_cod500 = cap_v(Eave[1], C)\n",
    "V_cod900 = cap_v(Eave[0], C)\n",
    "\n",
    "print(V_cod70, V_cod300, V_cod500, V_cod900)\n",
    "\n",
    "\n",
    "# Average voltage of the capacitor "
   ]
  },
  {
   "cell_type": "code",
   "execution_count": 148,
   "metadata": {},
   "outputs": [
    {
     "name": "stdout",
     "output_type": "stream",
     "text": [
      "1118473.0261613016\n",
      "2075382.1353564314\n",
      "3054978.6997445803\n",
      "3308937.932788844\n",
      "2.589057930928939 4.8041253133250725 7.071709953112454 7.659578548122324\n"
     ]
    }
   ],
   "source": [
    "from scipy.integrate import quad\n",
    "\n",
    "def V_ave(V0, R=3333333):\n",
    "    Vc = lambda t : V0 * np.exp(-t/(R*C))\n",
    "    #t_ = - R * C * np.log( Vmin / V0 )\n",
    "    week = 604800 # # s\n",
    "    week = 432000 \n",
    "    Vc_tot = V0 * quad(lambda t : np.exp(-t/(R * C)), 0, week)[0]\n",
    "    print(Vc_tot)\n",
    "    Vave = Vc_tot / week\n",
    "    return(Vave)\n",
    "\n",
    "print(V_ave(V_cod70), V_ave(V_cod300), V_ave(V_cod500), V_ave(V_cod900))"
   ]
  },
  {
   "cell_type": "code",
   "execution_count": 149,
   "metadata": {},
   "outputs": [
    {
     "name": "stdout",
     "output_type": "stream",
     "text": [
      "3308937.932788844\n",
      "3308937.932788844\n",
      "3054978.6997445803\n",
      "3054978.6997445803\n",
      "2075382.1353564314\n",
      "2075382.1353564314\n",
      "1118473.0261613016\n",
      "1118473.0261613016\n",
      "\n",
      "[[2.124e-03 5.130e-03 4.000e-08 2.298e-05 2.140e-06]\n",
      " [2.124e-03 5.130e-03 4.000e-08 2.122e-05 1.980e-06]\n",
      " [2.124e-03 5.130e-03 4.000e-08 1.441e-05 1.350e-06]\n",
      " [2.124e-03 5.130e-03 4.000e-08 7.770e-06 7.200e-07]]\n",
      "\n",
      "[[2.0000e-04 1.5000e-03 1.5600e-02 9.9268e+00 9.2650e-01]\n",
      " [2.0000e-04 1.5000e-03 1.5600e-02 9.1649e+00 8.5540e-01]\n",
      " [2.0000e-04 1.5000e-03 1.5600e-02 6.2261e+00 5.8110e-01]\n",
      " [2.0000e-04 1.5000e-03 1.5600e-02 3.3554e+00 3.1320e-01]]\n"
     ]
    }
   ],
   "source": [
    "processes = ['sample', 'estimate', 'sleep', 'regulator', 'comparator']\n",
    "\n",
    "# execution time (s)\n",
    "week = 7*24*60*60\n",
    "week = 432000 \n",
    "exec_time = [0.1, 0.3, week, week, week]\n",
    "\n",
    "# current \n",
    "# microcontroller operations measured empirically\n",
    "# comparator, regulator max current from data sheet\n",
    "current = np.array([1.18e-3, 2.85e-3, 2e-8, 3e-6, 2.8e-7]) \n",
    "\n",
    "\n",
    "# voltage \n",
    "Vmc = 1.8 # operting voltage of microcontroller \n",
    "voltage = np.array([[Vmc, Vmc, Vmc, V_ave(V_cod900), V_ave(V_cod900)],\n",
    "                    [Vmc, Vmc, Vmc, V_ave(V_cod500), V_ave(V_cod500)],\n",
    "                    [Vmc, Vmc, Vmc, V_ave(V_cod300), V_ave(V_cod300)],\n",
    "                    [Vmc, Vmc, Vmc, V_ave(V_cod70),  V_ave(V_cod70)]])\n",
    "\n",
    "# power\n",
    "print()\n",
    "power = voltage * current\n",
    "print(np.round(power,8))\n",
    "print()\n",
    "\n",
    "# energy \n",
    "energy = power * exec_time \n",
    "print(np.round(energy,4))"
   ]
  },
  {
   "cell_type": "code",
   "execution_count": null,
   "metadata": {},
   "outputs": [],
   "source": []
  },
  {
   "cell_type": "markdown",
   "metadata": {},
   "source": [
    "average voltage in capacitor for each COD \n",
    "\n",
    "https://tutorial.math.lamar.edu/Classes/CalcI/AvgFcnValue.aspx"
   ]
  },
  {
   "cell_type": "markdown",
   "metadata": {},
   "source": [
    "$E_{out} = nE_{sa} + E_{e} + E_{sl} + E_{r} + E_{c}$\n",
    "\n",
    "where $n=$ number of samples \n",
    "\n",
    "Minimum energy for one cycle ($n=1$) "
   ]
  },
  {
   "cell_type": "code",
   "execution_count": 150,
   "metadata": {
    "scrolled": true
   },
   "outputs": [
    {
     "data": {
      "text/plain": [
       "array([10.87061982, 10.03763354,  6.8245568 ,  3.68589493])"
      ]
     },
     "execution_count": 150,
     "metadata": {},
     "output_type": "execute_result"
    }
   ],
   "source": [
    "En1 = np.sum(energy, axis=1)\n",
    "En1"
   ]
  },
  {
   "cell_type": "markdown",
   "metadata": {},
   "source": [
    "Plot initial energy against number of samples and do table of n samlpes and samplin interval for each COD value "
   ]
  },
  {
   "cell_type": "code",
   "execution_count": null,
   "metadata": {},
   "outputs": [],
   "source": []
  }
 ],
 "metadata": {
  "kernelspec": {
   "display_name": "Python 3",
   "language": "python",
   "name": "python3"
  },
  "language_info": {
   "codemirror_mode": {
    "name": "ipython",
    "version": 3
   },
   "file_extension": ".py",
   "mimetype": "text/x-python",
   "name": "python",
   "nbconvert_exporter": "python",
   "pygments_lexer": "ipython3",
   "version": "3.7.4"
  }
 },
 "nbformat": 4,
 "nbformat_minor": 2
}
