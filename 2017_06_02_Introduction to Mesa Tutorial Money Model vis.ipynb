{
 "cells": [
  {
   "cell_type": "code",
   "execution_count": 65,
   "metadata": {
    "collapsed": true
   },
   "outputs": [],
   "source": [
    "from mesa import Agent, Model\n",
    "from mesa.time import RandomActivation\n",
    "from mesa.space import MultiGrid\n",
    "from mesa.datacollection import DataCollector\n",
    "from mesa.batchrunner import BatchRunner\n",
    "\n",
    "import matplotlib.pyplot as plt\n",
    "import random\n",
    "import numpy as np\n",
    "\n",
    "from mesa.visualization.modules import CanvasGrid\n",
    "from mesa.visualization.ModularVisualization import ModularServer\n",
    "from mesa.visualization.modules import ChartModule\n",
    "# If MoneyModel.py is where your code is:\n",
    "# from MoneyModel import MoneyModel"
   ]
  },
  {
   "cell_type": "code",
   "execution_count": 66,
   "metadata": {
    "collapsed": true
   },
   "outputs": [],
   "source": [
    "def compute_gini(model):\n",
    "    agent_wealths = [agent.wealth for agent in model.schedule.agents]\n",
    "    x = sorted(agent_wealths)\n",
    "    N = model.num_agents\n",
    "    B = sum( xi * (N-i) for i,xi in enumerate(x) ) / (N*sum(x))\n",
    "    return (1 + (1/N) - 2*B)"
   ]
  },
  {
   "cell_type": "code",
   "execution_count": 67,
   "metadata": {
    "collapsed": false
   },
   "outputs": [],
   "source": [
    "def agent_portrayal(agent):\n",
    "    portrayal = {\"Shape\": \"circle\",\n",
    "        \"Color\": \"red\",\n",
    "        \"Filled\": \"true\",\n",
    "        \"Layer\": 0,\n",
    "        \"r\": 0.5}\n",
    "    \n",
    "    if agent.wealth > 0:\n",
    "        portrayal[\"Color\"] = \"red\"\n",
    "        portrayal[\"Layer\"] = 0\n",
    "    else:\n",
    "        portrayal[\"Color\"] = \"grey\"\n",
    "        portrayal[\"Layer\"] = 1\n",
    "        portrayal[\"r\"] = 0.2\n",
    "        return portrayal\n",
    "    \n",
    "    return portrayal"
   ]
  },
  {
   "cell_type": "code",
   "execution_count": 68,
   "metadata": {
    "collapsed": false
   },
   "outputs": [],
   "source": [
    "# parameters = {\"width\": 10,\n",
    "#               \"height\": 10,\n",
    "#               \"N\": range(10, 500, 10)}\n",
    "\n",
    "# batch_run = BatchRunner(MoneyModel,\n",
    "#                         parameters,\n",
    "#                         iterations=5,\n",
    "#                         max_steps=100,\n",
    "#                         model_reporters={\"Gini\": compute_gini})\n",
    "# batch_run.run_all()"
   ]
  },
  {
   "cell_type": "code",
   "execution_count": 69,
   "metadata": {
    "collapsed": false
   },
   "outputs": [],
   "source": [
    "class MoneyAgent(Agent):\n",
    "    \"\"\"An agent with fixed initial wealth.\"\"\"\n",
    "    def __init__(self, unique_id, model):\n",
    "        super().__init__(unique_id, model)\n",
    "        self.wealth = 1        \n",
    "            \n",
    "    def step(self):\n",
    "        # The agent's step will go here.\n",
    "        #print(self.unique_id)        \n",
    "        self.move()\n",
    "        if self.wealth > 0:\n",
    "            self.give_money()\n",
    "#         if self.wealth == 0:\n",
    "#             return\n",
    "#         other_agent = random.choice(self.model.schedule.agents)\n",
    "#         other_agent.wealth += 1\n",
    "#         self.wealth -= 1\n",
    "        pass    \n",
    "    \n",
    "    def move(self):\n",
    "        possible_steps = self.model.grid.get_neighborhood(\n",
    "        self.pos,\n",
    "        moore=True,\n",
    "        include_center=False)\n",
    "        new_position = random.choice(possible_steps)\n",
    "        self.model.grid.move_agent(self, new_position)\n",
    "        \n",
    "    def give_money(self):\n",
    "        cellmates = self.model.grid.get_cell_list_contents([self.pos])\n",
    "        if len(cellmates) > 1:\n",
    "            other = random.choice(cellmates)\n",
    "            other.wealth += 1\n",
    "            self.wealth -= 1"
   ]
  },
  {
   "cell_type": "code",
   "execution_count": 70,
   "metadata": {
    "collapsed": false
   },
   "outputs": [],
   "source": [
    "class MoneyModel(Model):\n",
    "    \"\"\"A model with some number of agents.\"\"\"\n",
    "    def __init__(self, N, width, height):\n",
    "        self.num_agents = N\n",
    "        self.grid = MultiGrid(width, height, False)\n",
    "        self.schedule = RandomActivation(self)\n",
    "        self.running = True\n",
    "        \n",
    "    # Create agents\n",
    "        for i in range(self.num_agents):\n",
    "            a = MoneyAgent(i, self)\n",
    "            self.schedule.add(a)\n",
    "            \n",
    "            # Add the agent to a random grid cell\n",
    "            x = random.randrange(self.grid.width)\n",
    "            y = random.randrange(self.grid.height)\n",
    "            self.grid.place_agent(a, (x, y))\n",
    "            \n",
    "        self.datacollector = DataCollector(\n",
    "            model_reporters={\"Gini\": compute_gini},\n",
    "            agent_reporters={\"Wealth\": lambda a: a.wealth})\n",
    "            \n",
    "    def step(self):\n",
    "        '''Advance the model by one step.'''\n",
    "        self.datacollector.collect(self)\n",
    "        self.schedule.step()"
   ]
  },
  {
   "cell_type": "code",
   "execution_count": 71,
   "metadata": {
    "collapsed": false
   },
   "outputs": [],
   "source": [
    "empty_model = MoneyModel(10, 10, 10)\n",
    "for i in range(2):\n",
    "    empty_model.step()"
   ]
  },
  {
   "cell_type": "code",
   "execution_count": 72,
   "metadata": {
    "collapsed": true
   },
   "outputs": [],
   "source": [
    "%matplotlib inline"
   ]
  },
  {
   "cell_type": "code",
   "execution_count": 73,
   "metadata": {
    "collapsed": false
   },
   "outputs": [],
   "source": [
    "# agent_wealth = [a.wealth for a in empty_model.schedule.agents]\n",
    "# plt.hist(agent_wealth)"
   ]
  },
  {
   "cell_type": "code",
   "execution_count": 74,
   "metadata": {
    "collapsed": false
   },
   "outputs": [],
   "source": [
    "# all_wealth = []\n",
    "# for j in range(100):\n",
    "    \n",
    "#     # Run the model\n",
    "#     model = MoneyModel(10, 10, 10)\n",
    "#     for i in range(10):\n",
    "#         model.step()\n",
    "        \n",
    "#         # Store the results\n",
    "#     for agent in model.schedule.agents:\n",
    "#         all_wealth.append(agent.wealth)\n",
    "        \n",
    "# plt.hist(all_wealth, bins=range(max(all_wealth)+1))"
   ]
  },
  {
   "cell_type": "code",
   "execution_count": 75,
   "metadata": {
    "collapsed": false
   },
   "outputs": [],
   "source": [
    "# model = MoneyModel(50, 10, 10)\n",
    "# for i in range(20):\n",
    "#     model.step()"
   ]
  },
  {
   "cell_type": "code",
   "execution_count": 76,
   "metadata": {
    "collapsed": false
   },
   "outputs": [],
   "source": [
    "# agent_counts = np.zeros((model.grid.width, model.grid.height))\n",
    "# for cell in model.grid.coord_iter():\n",
    "#     cell_content, x, y = cell\n",
    "#     agent_count = len(cell_content)\n",
    "#     agent_counts[x][y] = agent_count\n",
    "# plt.imshow(agent_counts, interpolation='nearest')\n",
    "# plt.colorbar()"
   ]
  },
  {
   "cell_type": "code",
   "execution_count": 77,
   "metadata": {
    "collapsed": false
   },
   "outputs": [],
   "source": [
    "# gini = model.datacollector.get_model_vars_dataframe()\n",
    "# print(gini)\n",
    "# gini.plot()"
   ]
  },
  {
   "cell_type": "code",
   "execution_count": 78,
   "metadata": {
    "collapsed": false
   },
   "outputs": [
    {
     "name": "stdout",
     "output_type": "stream",
     "text": [
      "{\"type\":\"get_step\",\"step\":834}\n"
     ]
    }
   ],
   "source": [
    "# agent_wealth = model.datacollector.get_agent_vars_dataframe()\n",
    "# agent_wealth.tail()"
   ]
  },
  {
   "cell_type": "code",
   "execution_count": 79,
   "metadata": {
    "collapsed": false
   },
   "outputs": [],
   "source": [
    "# agent_wealth.head()"
   ]
  },
  {
   "cell_type": "code",
   "execution_count": 80,
   "metadata": {
    "collapsed": false
   },
   "outputs": [],
   "source": [
    "#agent_wealth"
   ]
  },
  {
   "cell_type": "code",
   "execution_count": 81,
   "metadata": {
    "collapsed": false
   },
   "outputs": [],
   "source": [
    "# #to plot the wealth of a given agent (in this example, agent 14):\n",
    "# one_agent_wealth = agent_wealth.xs(14, level=\"AgentID\")\n",
    "# one_agent_wealth.Wealth.plot()"
   ]
  },
  {
   "cell_type": "code",
   "execution_count": 82,
   "metadata": {
    "collapsed": false
   },
   "outputs": [],
   "source": [
    "# # to get a histogram of agent wealth at the model’s end\n",
    "# end_wealth = agent_wealth.xs(19, level=\"Step\")[\"Wealth\"]\n",
    "# end_wealth.hist(bins=range(agent_wealth.Wealth.max()+1))"
   ]
  },
  {
   "cell_type": "code",
   "execution_count": 83,
   "metadata": {
    "collapsed": false
   },
   "outputs": [],
   "source": [
    "# #run 5 instantiations of the model with each number of agents, and to run each for 100 steps. We have it collect the\n",
    "# #final Gini coefficient value.\n",
    "\n",
    "# parameters = {\"width\": 10,\n",
    "#               \"height\": 10,\n",
    "#               \"N\": range(10, 500, 10)}\n",
    "\n",
    "# batch_run = BatchRunner(MoneyModel,\n",
    "#                         parameters,\n",
    "#                         iterations=5,\n",
    "#                         max_steps=100,\n",
    "#                         model_reporters={\"Gini\": compute_gini})\n",
    "# batch_run.run_all()"
   ]
  },
  {
   "cell_type": "code",
   "execution_count": 84,
   "metadata": {
    "collapsed": false
   },
   "outputs": [],
   "source": [
    "# run_data = batch_run.get_model_vars_dataframe()\n",
    "# run_data.head()\n",
    "# plt.scatter(run_data.N, run_data.Gini)"
   ]
  },
  {
   "cell_type": "code",
   "execution_count": 85,
   "metadata": {
    "collapsed": false
   },
   "outputs": [
    {
     "name": "stdout",
     "output_type": "stream",
     "text": [
      "Interface starting at http://127.0.0.1:8526\n",
      "{\"type\":\"get_step\",\"step\":835}\n",
      "Socket opened!\n",
      "{\"type\":\"reset\"}\n",
      "{\"type\":\"get_step\",\"step\":836}\n",
      "{\"type\":\"get_step\",\"step\":837}\n",
      "{\"type\":\"get_step\",\"step\":838}\n",
      "{\"type\":\"get_step\",\"step\":1}\n",
      "{\"type\":\"get_step\",\"step\":839}\n",
      "{\"type\":\"get_step\",\"step\":2}\n",
      "{\"type\":\"get_step\",\"step\":840}\n",
      "{\"type\":\"get_step\",\"step\":3}\n",
      "{\"type\":\"get_step\",\"step\":4}\n",
      "{\"type\":\"get_step\",\"step\":841}\n",
      "{\"type\":\"get_step\",\"step\":5}\n",
      "{\"type\":\"get_step\",\"step\":6}\n",
      "{\"type\":\"get_step\",\"step\":7}\n",
      "{\"type\":\"get_step\",\"step\":842}\n",
      "{\"type\":\"get_step\",\"step\":8}\n",
      "{\"type\":\"get_step\",\"step\":9}\n",
      "{\"type\":\"get_step\",\"step\":10}\n",
      "{\"type\":\"get_step\",\"step\":11}\n",
      "{\"type\":\"get_step\",\"step\":12}\n",
      "{\"type\":\"get_step\",\"step\":843}\n",
      "{\"type\":\"get_step\",\"step\":13}\n",
      "{\"type\":\"get_step\",\"step\":14}\n",
      "{\"type\":\"get_step\",\"step\":15}\n",
      "{\"type\":\"get_step\",\"step\":16}\n",
      "{\"type\":\"get_step\",\"step\":17}\n",
      "{\"type\":\"get_step\",\"step\":18}\n",
      "{\"type\":\"get_step\",\"step\":844}\n",
      "{\"type\":\"get_step\",\"step\":19}\n",
      "{\"type\":\"get_step\",\"step\":20}\n",
      "{\"type\":\"get_step\",\"step\":21}\n",
      "{\"type\":\"get_step\",\"step\":22}\n",
      "{\"type\":\"get_step\",\"step\":23}\n",
      "{\"type\":\"get_step\",\"step\":845}\n",
      "{\"type\":\"get_step\",\"step\":24}\n",
      "{\"type\":\"get_step\",\"step\":25}\n",
      "{\"type\":\"get_step\",\"step\":26}\n",
      "{\"type\":\"get_step\",\"step\":27}\n",
      "{\"type\":\"get_step\",\"step\":28}\n",
      "{\"type\":\"get_step\",\"step\":846}\n",
      "{\"type\":\"get_step\",\"step\":29}\n",
      "{\"type\":\"get_step\",\"step\":30}\n",
      "{\"type\":\"get_step\",\"step\":31}\n",
      "{\"type\":\"get_step\",\"step\":32}\n",
      "{\"type\":\"get_step\",\"step\":33}\n",
      "{\"type\":\"get_step\",\"step\":34}\n",
      "{\"type\":\"get_step\",\"step\":847}\n",
      "{\"type\":\"get_step\",\"step\":35}\n",
      "{\"type\":\"get_step\",\"step\":36}\n",
      "{\"type\":\"get_step\",\"step\":37}\n",
      "{\"type\":\"get_step\",\"step\":848}\n",
      "{\"type\":\"get_step\",\"step\":849}\n",
      "{\"type\":\"get_step\",\"step\":850}\n",
      "{\"type\":\"get_step\",\"step\":851}\n",
      "{\"type\":\"get_step\",\"step\":852}\n",
      "{\"type\":\"get_step\",\"step\":853}\n",
      "{\"type\":\"get_step\",\"step\":854}\n",
      "{\"type\":\"get_step\",\"step\":855}\n",
      "{\"type\":\"get_step\",\"step\":856}\n",
      "{\"type\":\"get_step\",\"step\":857}\n",
      "{\"type\":\"get_step\",\"step\":858}\n",
      "{\"type\":\"get_step\",\"step\":859}\n",
      "{\"type\":\"get_step\",\"step\":860}\n",
      "{\"type\":\"get_step\",\"step\":861}\n",
      "{\"type\":\"get_step\",\"step\":862}\n",
      "{\"type\":\"get_step\",\"step\":863}\n",
      "{\"type\":\"get_step\",\"step\":864}\n",
      "{\"type\":\"get_step\",\"step\":865}\n",
      "{\"type\":\"get_step\",\"step\":866}\n",
      "{\"type\":\"get_step\",\"step\":867}\n",
      "{\"type\":\"get_step\",\"step\":868}\n",
      "{\"type\":\"get_step\",\"step\":869}\n",
      "{\"type\":\"get_step\",\"step\":870}\n",
      "{\"type\":\"get_step\",\"step\":871}\n",
      "{\"type\":\"get_step\",\"step\":872}\n",
      "{\"type\":\"get_step\",\"step\":873}\n",
      "{\"type\":\"get_step\",\"step\":874}\n",
      "{\"type\":\"get_step\",\"step\":875}\n",
      "{\"type\":\"get_step\",\"step\":876}\n",
      "{\"type\":\"get_step\",\"step\":877}\n",
      "{\"type\":\"get_step\",\"step\":878}\n",
      "{\"type\":\"get_step\",\"step\":879}\n",
      "{\"type\":\"get_step\",\"step\":880}\n",
      "{\"type\":\"get_step\",\"step\":881}\n",
      "{\"type\":\"get_step\",\"step\":882}\n"
     ]
    }
   ],
   "source": [
    "grid = CanvasGrid(agent_portrayal, 10, 10, 500, 500)\n",
    "\n",
    "server = ModularServer(MoneyModel,\n",
    "                       [grid],\n",
    "                       \"Money Model\",\n",
    "                       100, 10, 10)\n",
    "\n",
    "chart = ChartModule([{\"Label\": \"Gini\",\n",
    "                      \"Color\": \"Black\"}],\n",
    "                    data_collector_name='datacollector')\n",
    "\n",
    "server = ModularServer(MoneyModel,\n",
    "[grid, chart],\n",
    "\"Money Model\",\n",
    "100, 10, 10)\n",
    "\n",
    "server.port = 8526 #8521 # The default\n",
    "server.launch()"
   ]
  },
  {
   "cell_type": "code",
   "execution_count": null,
   "metadata": {
    "collapsed": true
   },
   "outputs": [],
   "source": []
  },
  {
   "cell_type": "code",
   "execution_count": null,
   "metadata": {
    "collapsed": true
   },
   "outputs": [],
   "source": []
  }
 ],
 "metadata": {
  "kernelspec": {
   "display_name": "Python 3",
   "language": "python",
   "name": "python3"
  },
  "language_info": {
   "codemirror_mode": {
    "name": "ipython",
    "version": 3
   },
   "file_extension": ".py",
   "mimetype": "text/x-python",
   "name": "python",
   "nbconvert_exporter": "python",
   "pygments_lexer": "ipython3",
   "version": "3.5.2"
  }
 },
 "nbformat": 4,
 "nbformat_minor": 0
}
