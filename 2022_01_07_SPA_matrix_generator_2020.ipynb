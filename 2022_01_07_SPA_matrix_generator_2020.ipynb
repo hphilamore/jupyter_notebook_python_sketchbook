{
 "cells": [
  {
   "cell_type": "code",
   "execution_count": 64,
   "metadata": {},
   "outputs": [],
   "source": [
    "import pandas as pd\n",
    "import numpy as np\n",
    "from IPython.display import display\n",
    "import csv"
   ]
  },
  {
   "cell_type": "code",
   "execution_count": 65,
   "metadata": {},
   "outputs": [
    {
     "data": {
      "text/html": [
       "<div>\n",
       "<style scoped>\n",
       "    .dataframe tbody tr th:only-of-type {\n",
       "        vertical-align: middle;\n",
       "    }\n",
       "\n",
       "    .dataframe tbody tr th {\n",
       "        vertical-align: top;\n",
       "    }\n",
       "\n",
       "    .dataframe thead th {\n",
       "        text-align: right;\n",
       "    }\n",
       "</style>\n",
       "<table border=\"1\" class=\"dataframe\">\n",
       "  <thead>\n",
       "    <tr style=\"text-align: right;\">\n",
       "      <th></th>\n",
       "      <th>student_id</th>\n",
       "      <th>surname</th>\n",
       "      <th>firstname</th>\n",
       "      <th>email</th>\n",
       "      <th>programme</th>\n",
       "      <th>one_pager_email_sent</th>\n",
       "      <th>uwe_id</th>\n",
       "      <th>choice1</th>\n",
       "      <th>choice2</th>\n",
       "      <th>choice3</th>\n",
       "      <th>choice4</th>\n",
       "      <th>choice5</th>\n",
       "    </tr>\n",
       "  </thead>\n",
       "  <tbody>\n",
       "    <tr>\n",
       "      <td>0</td>\n",
       "      <td>co20720</td>\n",
       "      <td>Ahmed</td>\n",
       "      <td>Muhammad Nayab</td>\n",
       "      <td>co20720@bristol.ac.uk</td>\n",
       "      <td>MSC</td>\n",
       "      <td>0</td>\n",
       "      <td>20052638</td>\n",
       "      <td>52.0</td>\n",
       "      <td>266.0</td>\n",
       "      <td>128.0</td>\n",
       "      <td>275.0</td>\n",
       "      <td>288.0</td>\n",
       "    </tr>\n",
       "    <tr>\n",
       "      <td>1</td>\n",
       "      <td>ra20728</td>\n",
       "      <td>Bai</td>\n",
       "      <td>Haotian</td>\n",
       "      <td>ra20728@bristol.ac.uk</td>\n",
       "      <td>MSC</td>\n",
       "      <td>0</td>\n",
       "      <td>20053966</td>\n",
       "      <td>137.0</td>\n",
       "      <td>72.0</td>\n",
       "      <td>139.0</td>\n",
       "      <td>35.0</td>\n",
       "      <td>275.0</td>\n",
       "    </tr>\n",
       "    <tr>\n",
       "      <td>3</td>\n",
       "      <td>di20137</td>\n",
       "      <td>Bulsink</td>\n",
       "      <td>Erik</td>\n",
       "      <td>di20137@bristol.ac.uk</td>\n",
       "      <td>MSC</td>\n",
       "      <td>0</td>\n",
       "      <td>20052563</td>\n",
       "      <td>223.0</td>\n",
       "      <td>222.0</td>\n",
       "      <td>242.0</td>\n",
       "      <td>226.0</td>\n",
       "      <td>231.0</td>\n",
       "    </tr>\n",
       "    <tr>\n",
       "      <td>4</td>\n",
       "      <td>lq20993</td>\n",
       "      <td>Cam</td>\n",
       "      <td>Furkan</td>\n",
       "      <td>lq20993@bristol.ac.uk</td>\n",
       "      <td>MSC</td>\n",
       "      <td>0</td>\n",
       "      <td>20052642</td>\n",
       "      <td>294.0</td>\n",
       "      <td>274.0</td>\n",
       "      <td>276.0</td>\n",
       "      <td>297.0</td>\n",
       "      <td>188.0</td>\n",
       "    </tr>\n",
       "    <tr>\n",
       "      <td>5</td>\n",
       "      <td>mo20183</td>\n",
       "      <td>Castres Saint Martin</td>\n",
       "      <td>Pierre</td>\n",
       "      <td>mo20183@bristol.ac.uk</td>\n",
       "      <td>MSC</td>\n",
       "      <td>0</td>\n",
       "      <td>20052602</td>\n",
       "      <td>228.0</td>\n",
       "      <td>263.0</td>\n",
       "      <td>278.0</td>\n",
       "      <td>79.0</td>\n",
       "      <td>297.0</td>\n",
       "    </tr>\n",
       "  </tbody>\n",
       "</table>\n",
       "</div>"
      ],
      "text/plain": [
       "  student_id               surname       firstname                  email  \\\n",
       "0    co20720                 Ahmed  Muhammad Nayab  co20720@bristol.ac.uk   \n",
       "1    ra20728                   Bai         Haotian  ra20728@bristol.ac.uk   \n",
       "3    di20137               Bulsink            Erik  di20137@bristol.ac.uk   \n",
       "4    lq20993                   Cam          Furkan  lq20993@bristol.ac.uk   \n",
       "5    mo20183  Castres Saint Martin          Pierre  mo20183@bristol.ac.uk   \n",
       "\n",
       "  programme  one_pager_email_sent    uwe_id  choice1  choice2  choice3  \\\n",
       "0       MSC                     0  20052638     52.0    266.0    128.0   \n",
       "1       MSC                     0  20053966    137.0     72.0    139.0   \n",
       "3       MSC                     0  20052563    223.0    222.0    242.0   \n",
       "4       MSC                     0  20052642    294.0    274.0    276.0   \n",
       "5       MSC                     0  20052602    228.0    263.0    278.0   \n",
       "\n",
       "   choice4  choice5  \n",
       "0    275.0    288.0  \n",
       "1     35.0    275.0  \n",
       "3    226.0    231.0  \n",
       "4    297.0    188.0  \n",
       "5     79.0    297.0  "
      ]
     },
     "execution_count": 65,
     "metadata": {},
     "output_type": "execute_result"
    }
   ],
   "source": [
    "student_selections = pd.read_excel('data/dissertation_project_database/project_database_2021.xlsx', \n",
    "                                   sheet_name='students').dropna()\n",
    "\n",
    "#student_selections = student_selections.head(3)\n",
    "\n",
    "student_selections.head()"
   ]
  },
  {
   "cell_type": "code",
   "execution_count": 66,
   "metadata": {},
   "outputs": [
    {
     "name": "stdout",
     "output_type": "stream",
     "text": [
      "(74, 12)\n"
     ]
    }
   ],
   "source": [
    "n_choices = 5\n",
    "\n",
    "n_students = student_selections.shape[0] \n",
    "\n",
    "print(student_selections.shape)\n",
    "\n",
    "choices = [list(student_selections.choice1), \n",
    "           list(student_selections.choice2),\n",
    "           list(student_selections.choice3),\n",
    "           list(student_selections.choice4),\n",
    "           list(student_selections.choice5)]\n",
    "           \n",
    "choices = [[int(i) for i in j] for j in choices]\n",
    "\n",
    "n_projects = max([max(C) for C in choices]) "
   ]
  },
  {
   "cell_type": "code",
   "execution_count": 71,
   "metadata": {},
   "outputs": [],
   "source": [
    "cost_matrix = np.zeros((n_students, n_projects+1), dtype=int)   # default rank 0 for all students for all projects\n",
    "\n",
    "for x in range(len(choices)):                        # choices 1 to 5\n",
    " \n",
    "    for y in range(n_students):                      # for each student\n",
    "        \n",
    "        cost_matrix[y, choices[x][y]] = x + 1        # mark the cost_matrix with the rank awarded by the student to each project\n"
   ]
  },
  {
   "cell_type": "code",
   "execution_count": 72,
   "metadata": {},
   "outputs": [
    {
     "name": "stdout",
     "output_type": "stream",
     "text": [
      "check projects ranked 1 to 5 for all students = True\n"
     ]
    }
   ],
   "source": [
    "\n",
    "print('check projects ranked 1 to 5 for all students =', np.sum(cost_matrix) == n_students * 15)"
   ]
  },
  {
   "cell_type": "markdown",
   "metadata": {},
   "source": [
    "Capacity 1 for all projects"
   ]
  },
  {
   "cell_type": "code",
   "execution_count": 75,
   "metadata": {},
   "outputs": [],
   "source": [
    "capacity = list(np.ones(n_projects, dtype=int))"
   ]
  },
  {
   "cell_type": "markdown",
   "metadata": {},
   "source": [
    "Export project matrix"
   ]
  },
  {
   "cell_type": "code",
   "execution_count": 76,
   "metadata": {},
   "outputs": [],
   "source": [
    "filename = '2020_21'\n",
    "\n",
    "# store cost matrix\n",
    "with open(f'data/student_preference_matrices/student_preference_matrix_{filename}.csv', 'w') as f:   \n",
    "\n",
    "    w = csv.writer(f)                  # writer object\n",
    "\n",
    "    w.writerows(cost_matrix)           # list to row\n",
    "\n",
    "# store project capacity vector\n",
    "with open(f'data/student_preference_matrices/project_capacity_{filename}.csv', 'w') as f:   \n",
    "\n",
    "    w = csv.writer(f)              # writer object\n",
    "\n",
    "    w.writerow(capacity)           # list to row\n",
    "    "
   ]
  },
  {
   "cell_type": "code",
   "execution_count": null,
   "metadata": {},
   "outputs": [],
   "source": []
  }
 ],
 "metadata": {
  "kernelspec": {
   "display_name": "Python 3",
   "language": "python",
   "name": "python3"
  },
  "language_info": {
   "codemirror_mode": {
    "name": "ipython",
    "version": 3
   },
   "file_extension": ".py",
   "mimetype": "text/x-python",
   "name": "python",
   "nbconvert_exporter": "python",
   "pygments_lexer": "ipython3",
   "version": "3.7.4"
  }
 },
 "nbformat": 4,
 "nbformat_minor": 2
}
