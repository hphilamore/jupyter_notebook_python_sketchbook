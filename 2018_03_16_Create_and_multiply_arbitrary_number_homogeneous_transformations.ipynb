{
 "cells": [
  {
   "cell_type": "code",
   "execution_count": 41,
   "metadata": {},
   "outputs": [],
   "source": [
    "import sympy as sp\n",
    "import numpy as np\n",
    "import matplotlib.pyplot as plt\n",
    "%matplotlib inline\n",
    "from numpy import deg2rad as d2r\n",
    "# initialize printing so that all of the mathematical expressions can be rendered in standard mathematical notation\n",
    "from sympy.physics.vector import init_vprinting\n",
    "init_vprinting(use_latex='mathjax', pretty_print=False)\n",
    "from sympy.physics.mechanics import dynamicsymbols, Point, ReferenceFrame"
   ]
  },
  {
   "cell_type": "code",
   "execution_count": 64,
   "metadata": {
    "scrolled": false
   },
   "outputs": [
    {
     "data": {
      "text/latex": [
       "$$\\left ( \\alpha, \\quad d\\right )$$"
      ],
      "text/plain": [
       "(alpha, d)"
      ]
     },
     "execution_count": 64,
     "metadata": {},
     "output_type": "execute_result"
    }
   ],
   "source": [
    "theta1, theta2, d, alpha, a1, a2 = dynamicsymbols('theta1, theta2, d, alpha, a1, a2')\n",
    "theta1, theta2, d, alpha, a1, a2\n",
    "\n",
    "numLinks = 3\n",
    "sp.symbols('a0:%d'%numLinks)\n",
    "sp.symbols('theta0:%d'%numLinks)\n",
    "alpha, d = sp.symbols('alpha, d')\n",
    "alpha, d\n",
    "\n",
    "# alpha, d = sp.symbols('alpha, d')\n",
    "# alpha, d"
   ]
  },
  {
   "cell_type": "code",
   "execution_count": 65,
   "metadata": {},
   "outputs": [
    {
     "data": {
      "text/latex": [
       "$$\\left [ \\left[\\begin{matrix}\\operatorname{cos}\\left(\\theta_{1}\\right) & - \\operatorname{sin}\\left(\\theta_{1}\\right) & 0 & a_{1} \\operatorname{cos}\\left(\\theta_{1}\\right)\\\\\\operatorname{sin}\\left(\\theta_{1}\\right) & \\operatorname{cos}\\left(\\theta_{1}\\right) & 0 & a_{1} \\operatorname{sin}\\left(\\theta_{1}\\right)\\\\0 & 0 & 1 & d\\\\0 & 0 & 0 & 1\\end{matrix}\\right], \\quad \\left[\\begin{matrix}\\operatorname{cos}\\left(\\theta_{2}\\right) & - \\operatorname{sin}\\left(\\theta_{2}\\right) & 0 & a_{2} \\operatorname{cos}\\left(\\theta_{2}\\right)\\\\\\operatorname{sin}\\left(\\theta_{2}\\right) & \\operatorname{cos}\\left(\\theta_{2}\\right) & 0 & a_{2} \\operatorname{sin}\\left(\\theta_{2}\\right)\\\\0 & 0 & 1 & d\\\\0 & 0 & 0 & 1\\end{matrix}\\right]\\right ]$$"
      ],
      "text/plain": [
       "[Matrix([\n",
       "[cos(theta1), -sin(theta1), 0, a1*cos(theta1)],\n",
       "[sin(theta1),  cos(theta1), 0, a1*sin(theta1)],\n",
       "[          0,            0, 1,              d],\n",
       "[          0,            0, 0,              1]]), Matrix([\n",
       "[cos(theta2), -sin(theta2), 0, a2*cos(theta2)],\n",
       "[sin(theta2),  cos(theta2), 0, a2*sin(theta2)],\n",
       "[          0,            0, 1,              d],\n",
       "[          0,            0, 0,              1]])]"
      ]
     },
     "execution_count": 65,
     "metadata": {},
     "output_type": "execute_result"
    }
   ],
   "source": [
    "aList = list(sp.symbols('a1:%d'%numLinks))\n",
    "tList = list(sp.symbols('theta1:%d'%numLinks))\n",
    "#print(symsList)\n",
    "\n",
    "#a0 * a1\n",
    "\n",
    "#sp.numbered_symbols(\"t\", cls=Dummy)\n",
    "\n",
    "class SymDict(dict):\n",
    "    # http://stackoverflow.com/a/3405143/190597\n",
    "    def __missing__(self, key):\n",
    "        # creates a key, value (symbol) pair\n",
    "        self[key]=sp.Symbol(key)\n",
    "        return self[key]\n",
    "    \n",
    "def multiply_syms(sym):\n",
    "    return sym \n",
    "\n",
    "def solveEquations(n):\n",
    "    #https://stackoverflow.com/questions/9492944/sympy-arbitrary-number-of-symbols\n",
    "    symbol = SymDict()\n",
    "    aList = list(sp.symbols('a1:%d'%n))\n",
    "    tList = list(sp.symbols('theta1:%d'%n))\n",
    "    d, alpha = sp.symbols('d, alpha')\n",
    "    eqtnList = []\n",
    "    term = False\n",
    "    for a, theta in zip(aList, tList):\n",
    "                 rot = sp.Matrix([[sp.cos(theta), -sp.sin(theta), 0],\n",
    "                                  [sp.sin(theta),  sp.cos(theta), 0],\n",
    "                                  [0,              0,             1]])\n",
    "\n",
    "                 trans = sp.Matrix([a * sp.cos(theta),\n",
    "                                    a * sp.sin(theta),\n",
    "                                    d])\n",
    "\n",
    "                 last_row = sp.Matrix([[0, 0, 0, 1]])\n",
    "                 eqtnList.append(sp.Matrix.vstack(sp.Matrix.hstack(rot, trans), last_row))\n",
    "                    \n",
    "                 #term = sp.Matrix.vstack(sp.Matrix.hstack(rot, trans), last_row)\n",
    "                    \n",
    "#                  if not term:\n",
    "#                     term = sp.Matrix.vstack(sp.Matrix.hstack(rot, trans), last_row)\n",
    "#                  else:\n",
    "#                     term = sp.Matrix.vstack(sp.Matrix.hstack(rot, trans), last_row)\n",
    "                \n",
    "#                  term\n",
    "#                  print()\n",
    "                    \n",
    "                  \n",
    "    return eqtnList\n",
    "                \n",
    "#                  print(sp.Matrix.vstack(sp.Matrix.hstack(rot, trans), last_row))\n",
    "#                  print()\n",
    "    \n",
    "    #T = np.cumprod(eqtnList)\n",
    "    #print(eqtnList)\n",
    "    #print(T)\n",
    "\n",
    "eqtnList = solveEquations(3)\n",
    "eqtnList\n",
    "#     symbolList = ['t'+str(i) for i in range(numLinks)]\n",
    "    \n",
    "#     equationList = [sum(symbol[s]**i for s in symbolList)\n",
    "#                     for i in range(numLinks)]\n",
    "    \n",
    "#     print(symbolList)\n",
    "# print(eqtnList)\n",
    "# print(eqtnList[0] )\n",
    "# print()\n",
    "# print( eqtnList[1])\n",
    "# print()\n",
    "# print(eqtnList[0] @ eqtnList[1])\n",
    "\n",
    "# solveEquations(3)  \n",
    "\n"
   ]
  },
  {
   "cell_type": "code",
   "execution_count": 67,
   "metadata": {},
   "outputs": [
    {
     "data": {
      "text/latex": [
       "$$\\left[\\begin{matrix}- \\operatorname{sin}\\left(\\theta_{1}\\right) \\operatorname{sin}\\left(\\theta_{2}\\right) + \\operatorname{cos}\\left(\\theta_{1}\\right) \\operatorname{cos}\\left(\\theta_{2}\\right) & - \\operatorname{sin}\\left(\\theta_{1}\\right) \\operatorname{cos}\\left(\\theta_{2}\\right) - \\operatorname{sin}\\left(\\theta_{2}\\right) \\operatorname{cos}\\left(\\theta_{1}\\right) & 0 & a_{1} \\operatorname{cos}\\left(\\theta_{1}\\right) - a_{2} \\operatorname{sin}\\left(\\theta_{1}\\right) \\operatorname{sin}\\left(\\theta_{2}\\right) + a_{2} \\operatorname{cos}\\left(\\theta_{1}\\right) \\operatorname{cos}\\left(\\theta_{2}\\right)\\\\\\operatorname{sin}\\left(\\theta_{1}\\right) \\operatorname{cos}\\left(\\theta_{2}\\right) + \\operatorname{sin}\\left(\\theta_{2}\\right) \\operatorname{cos}\\left(\\theta_{1}\\right) & - \\operatorname{sin}\\left(\\theta_{1}\\right) \\operatorname{sin}\\left(\\theta_{2}\\right) + \\operatorname{cos}\\left(\\theta_{1}\\right) \\operatorname{cos}\\left(\\theta_{2}\\right) & 0 & a_{1} \\operatorname{sin}\\left(\\theta_{1}\\right) + a_{2} \\operatorname{sin}\\left(\\theta_{1}\\right) \\operatorname{cos}\\left(\\theta_{2}\\right) + a_{2} \\operatorname{sin}\\left(\\theta_{2}\\right) \\operatorname{cos}\\left(\\theta_{1}\\right)\\\\0 & 0 & 1 & 2 d\\\\0 & 0 & 0 & 1\\end{matrix}\\right]$$"
      ],
      "text/plain": [
       "Matrix([\n",
       "[-sin(theta1)*sin(theta2) + cos(theta1)*cos(theta2), -sin(theta1)*cos(theta2) - sin(theta2)*cos(theta1), 0, a1*cos(theta1) - a2*sin(theta1)*sin(theta2) + a2*cos(theta1)*cos(theta2)],\n",
       "[ sin(theta1)*cos(theta2) + sin(theta2)*cos(theta1), -sin(theta1)*sin(theta2) + cos(theta1)*cos(theta2), 0, a1*sin(theta1) + a2*sin(theta1)*cos(theta2) + a2*sin(theta2)*cos(theta1)],\n",
       "[                                                 0,                                                  0, 1,                                                                      2*d],\n",
       "[                                                 0,                                                  0, 0,                                                                        1]])"
      ]
     },
     "execution_count": 67,
     "metadata": {},
     "output_type": "execute_result"
    }
   ],
   "source": [
    "eqtnList[0] * eqtnList[1]"
   ]
  },
  {
   "cell_type": "code",
   "execution_count": 71,
   "metadata": {},
   "outputs": [
    {
     "data": {
      "text/latex": [
       "$$\\left[\\begin{matrix}- \\operatorname{sin}\\left(\\theta_{1}\\right) \\operatorname{sin}\\left(\\theta_{2}\\right) + \\operatorname{cos}\\left(\\theta_{1}\\right) \\operatorname{cos}\\left(\\theta_{2}\\right) & - \\operatorname{sin}\\left(\\theta_{1}\\right) \\operatorname{cos}\\left(\\theta_{2}\\right) - \\operatorname{sin}\\left(\\theta_{2}\\right) \\operatorname{cos}\\left(\\theta_{1}\\right) & 0 & a_{1} \\operatorname{cos}\\left(\\theta_{1}\\right) - a_{2} \\operatorname{sin}\\left(\\theta_{1}\\right) \\operatorname{sin}\\left(\\theta_{2}\\right) + a_{2} \\operatorname{cos}\\left(\\theta_{1}\\right) \\operatorname{cos}\\left(\\theta_{2}\\right)\\\\\\operatorname{sin}\\left(\\theta_{1}\\right) \\operatorname{cos}\\left(\\theta_{2}\\right) + \\operatorname{sin}\\left(\\theta_{2}\\right) \\operatorname{cos}\\left(\\theta_{1}\\right) & - \\operatorname{sin}\\left(\\theta_{1}\\right) \\operatorname{sin}\\left(\\theta_{2}\\right) + \\operatorname{cos}\\left(\\theta_{1}\\right) \\operatorname{cos}\\left(\\theta_{2}\\right) & 0 & a_{1} \\operatorname{sin}\\left(\\theta_{1}\\right) + a_{2} \\operatorname{sin}\\left(\\theta_{1}\\right) \\operatorname{cos}\\left(\\theta_{2}\\right) + a_{2} \\operatorname{sin}\\left(\\theta_{2}\\right) \\operatorname{cos}\\left(\\theta_{1}\\right)\\\\0 & 0 & 1 & 2 d\\\\0 & 0 & 0 & 1\\end{matrix}\\right]$$"
      ],
      "text/plain": [
       "Matrix([\n",
       "[-sin(theta1)*sin(theta2) + cos(theta1)*cos(theta2), -sin(theta1)*cos(theta2) - sin(theta2)*cos(theta1), 0, a1*cos(theta1) - a2*sin(theta1)*sin(theta2) + a2*cos(theta1)*cos(theta2)],\n",
       "[ sin(theta1)*cos(theta2) + sin(theta2)*cos(theta1), -sin(theta1)*sin(theta2) + cos(theta1)*cos(theta2), 0, a1*sin(theta1) + a2*sin(theta1)*cos(theta2) + a2*sin(theta2)*cos(theta1)],\n",
       "[                                                 0,                                                  0, 1,                                                                      2*d],\n",
       "[                                                 0,                                                  0, 0,                                                                        1]])"
      ]
     },
     "execution_count": 71,
     "metadata": {},
     "output_type": "execute_result"
    }
   ],
   "source": [
    "total = 1\n",
    "for x in eqtnList:\n",
    "    total *= x  \n",
    "total"
   ]
  },
  {
   "cell_type": "code",
   "execution_count": 66,
   "metadata": {},
   "outputs": [
    {
     "data": {
      "text/plain": [
       "array([[-sin(theta1)*sin(theta2) + cos(theta1)*cos(theta2),\n",
       "        -sin(theta1)*cos(theta2) - sin(theta2)*cos(theta1), 0,\n",
       "        a1*cos(theta1) - a2*sin(theta1)*sin(theta2) + a2*cos(theta1)*cos(theta2)],\n",
       "       [sin(theta1)*cos(theta2) + sin(theta2)*cos(theta1),\n",
       "        -sin(theta1)*sin(theta2) + cos(theta1)*cos(theta2), 0,\n",
       "        a1*sin(theta1) + a2*sin(theta1)*cos(theta2) + a2*sin(theta2)*cos(theta1)],\n",
       "       [0, 0, 1, 2*d],\n",
       "       [0, 0, 0, 1]], dtype=object)"
      ]
     },
     "execution_count": 66,
     "metadata": {},
     "output_type": "execute_result"
    }
   ],
   "source": [
    "(eqtnList[0] * eqtnList[1])\n",
    "np.dot(np.array(eqtnList[0]), np.array(eqtnList[1]))"
   ]
  },
  {
   "cell_type": "code",
   "execution_count": 8,
   "metadata": {},
   "outputs": [
    {
     "ename": "NameError",
     "evalue": "name 'thetaList' is not defined",
     "output_type": "error",
     "traceback": [
      "\u001b[0;31m---------------------------------------------------------------------------\u001b[0m",
      "\u001b[0;31mNameError\u001b[0m                                 Traceback (most recent call last)",
      "\u001b[0;32m<ipython-input-8-c287684cf782>\u001b[0m in \u001b[0;36m<module>\u001b[0;34m()\u001b[0m\n\u001b[0;32m----> 1\u001b[0;31m \u001b[0;32mfor\u001b[0m \u001b[0ma\u001b[0m\u001b[0;34m,\u001b[0m \u001b[0mtheta\u001b[0m \u001b[0;32min\u001b[0m \u001b[0mzip\u001b[0m\u001b[0;34m(\u001b[0m\u001b[0maList\u001b[0m\u001b[0;34m,\u001b[0m \u001b[0mthetaList\u001b[0m\u001b[0;34m,\u001b[0m \u001b[0;34m)\u001b[0m\u001b[0;34m:\u001b[0m\u001b[0;34m\u001b[0m\u001b[0m\n\u001b[0m\u001b[1;32m      2\u001b[0m     rot = sp.Matrix([[sp.cos(theta), -sp.sin(theta), 0],\n\u001b[1;32m      3\u001b[0m                      \u001b[0;34m[\u001b[0m\u001b[0msp\u001b[0m\u001b[0;34m.\u001b[0m\u001b[0msin\u001b[0m\u001b[0;34m(\u001b[0m\u001b[0mtheta\u001b[0m\u001b[0;34m)\u001b[0m\u001b[0;34m,\u001b[0m  \u001b[0msp\u001b[0m\u001b[0;34m.\u001b[0m\u001b[0mcos\u001b[0m\u001b[0;34m(\u001b[0m\u001b[0mtheta\u001b[0m\u001b[0;34m)\u001b[0m\u001b[0;34m,\u001b[0m \u001b[0;36m0\u001b[0m\u001b[0;34m]\u001b[0m\u001b[0;34m,\u001b[0m\u001b[0;34m\u001b[0m\u001b[0m\n\u001b[1;32m      4\u001b[0m                      [0,              0,             1]])\n\u001b[1;32m      5\u001b[0m \u001b[0;34m\u001b[0m\u001b[0m\n",
      "\u001b[0;31mNameError\u001b[0m: name 'thetaList' is not defined"
     ]
    }
   ],
   "source": [
    "for a, theta in zip(aList, thetaList, ):\n",
    "    rot = sp.Matrix([[sp.cos(theta), -sp.sin(theta), 0],\n",
    "                     [sp.sin(theta),  sp.cos(theta), 0],\n",
    "                     [0,              0,             1]])\n",
    "\n",
    "    trans = sp.Matrix([a1 * sp.cos(theta),\n",
    "                       a1 * sp.sin(theta),\n",
    "                       d])\n",
    "\n",
    "    last_row = sp.Matrix([[0, 0, 0, 1]])\n",
    "    "
   ]
  },
  {
   "cell_type": "code",
   "execution_count": 58,
   "metadata": {},
   "outputs": [],
   "source": [
    "theta, d, alpha, a = dynamicsymbols('theta, d, alpha, a')\n",
    "theta, d, alpha, a\n",
    "\n",
    "rot = sp.Matrix([[sp.cos(theta), -sp.sin(theta), 0],\n",
    "                 [sp.sin(theta),  sp.cos(theta), 0],\n",
    "                 [0,              0,             1]])\n",
    "\n",
    "trans = sp.Matrix([a * sp.cos(theta),\n",
    "                   a * sp.sin(theta),\n",
    "                   d])\n",
    "\n",
    "last_row = sp.Matrix([[0, 0, 0, 1]])\n",
    "\n",
    "m = sp.Matrix.vstack(sp.Matrix.hstack(rot, trans), last_row)"
   ]
  },
  {
   "cell_type": "code",
   "execution_count": 59,
   "metadata": {},
   "outputs": [
    {
     "data": {
      "text/latex": [
       "$$\\left[\\begin{matrix}- \\operatorname{sin}^{2}\\left(\\theta\\right) + \\operatorname{cos}^{2}\\left(\\theta\\right) & - 2 \\operatorname{sin}\\left(\\theta\\right) \\operatorname{cos}\\left(\\theta\\right) & 0 & - a \\operatorname{sin}^{2}\\left(\\theta\\right) + a \\operatorname{cos}^{2}\\left(\\theta\\right) + a \\operatorname{cos}\\left(\\theta\\right)\\\\2 \\operatorname{sin}\\left(\\theta\\right) \\operatorname{cos}\\left(\\theta\\right) & - \\operatorname{sin}^{2}\\left(\\theta\\right) + \\operatorname{cos}^{2}\\left(\\theta\\right) & 0 & 2 a \\operatorname{sin}\\left(\\theta\\right) \\operatorname{cos}\\left(\\theta\\right) + a \\operatorname{sin}\\left(\\theta\\right)\\\\0 & 0 & 1 & 2 d\\\\0 & 0 & 0 & 1\\end{matrix}\\right]$$"
      ],
      "text/plain": [
       "Matrix([\n",
       "[-sin(theta)**2 + cos(theta)**2,       -2*sin(theta)*cos(theta), 0, -a*sin(theta)**2 + a*cos(theta)**2 + a*cos(theta)],\n",
       "[       2*sin(theta)*cos(theta), -sin(theta)**2 + cos(theta)**2, 0,          2*a*sin(theta)*cos(theta) + a*sin(theta)],\n",
       "[                             0,                              0, 1,                                               2*d],\n",
       "[                             0,                              0, 0,                                                 1]])"
      ]
     },
     "execution_count": 59,
     "metadata": {},
     "output_type": "execute_result"
    }
   ],
   "source": [
    "m*m"
   ]
  },
  {
   "cell_type": "code",
   "execution_count": 32,
   "metadata": {},
   "outputs": [
    {
     "data": {
      "text/latex": [
       "$$a_{1} \\operatorname{cos}\\left(\\theta_{1}\\right) + a_{2} \\operatorname{cos}\\left(\\theta_{1} + \\theta_{2}\\right)$$"
      ],
      "text/plain": [
       "a1*cos(theta1) + a2*cos(theta1 + theta2)"
      ]
     },
     "execution_count": 32,
     "metadata": {},
     "output_type": "execute_result"
    }
   ],
   "source": [
    "px = a1*sp.cos(theta1) + a2*sp.cos(theta1 + theta2)\n",
    "px"
   ]
  },
  {
   "cell_type": "code",
   "execution_count": 33,
   "metadata": {
    "collapsed": true
   },
   "outputs": [],
   "source": [
    "fx = sp.lambdify((a1, a2, theta1, theta2), px, 'numpy')"
   ]
  },
  {
   "cell_type": "code",
   "execution_count": 34,
   "metadata": {},
   "outputs": [],
   "source": [
    "theta1s = np.linspace(d2r(0), d2r(360)) # desired range of motion for joint 1\n",
    "theta2s = np.linspace(d2r(0), d2r(360)) # desired range of motion for joint 2"
   ]
  },
  {
   "cell_type": "code",
   "execution_count": 35,
   "metadata": {
    "collapsed": true
   },
   "outputs": [],
   "source": [
    "zx = np.array(fx(15.0, 15.0, theta1s, theta2s))"
   ]
  },
  {
   "cell_type": "code",
   "execution_count": 36,
   "metadata": {},
   "outputs": [
    {
     "data": {
      "text/plain": [
       "[<matplotlib.lines.Line2D at 0x7f4ea65a7be0>]"
      ]
     },
     "execution_count": 36,
     "metadata": {},
     "output_type": "execute_result"
    },
    {
     "data": {
      "image/png": "[encoded data removed]",
      "text/plain": [
       "<Figure size 432x288 with 1 Axes>"
      ]
     },
     "metadata": {},
     "output_type": "display_data"
    }
   ],
   "source": [
    "plt.plot(zx)"
   ]
  },
  {
   "cell_type": "code",
   "execution_count": null,
   "metadata": {
    "collapsed": true
   },
   "outputs": [],
   "source": []
  }
 ],
 "metadata": {
  "kernelspec": {
   "display_name": "PMW_robot_env",
   "language": "python",
   "name": "pmw_robot_env"
  },
  "language_info": {
   "codemirror_mode": {
    "name": "ipython",
    "version": 3
   },
   "file_extension": ".py",
   "mimetype": "text/x-python",
   "name": "python",
   "nbconvert_exporter": "python",
   "pygments_lexer": "ipython3",
   "version": "3.6.2"
  }
 },
 "nbformat": 4,
 "nbformat_minor": 2
}
