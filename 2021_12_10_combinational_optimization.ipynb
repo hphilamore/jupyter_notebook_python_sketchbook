{
 "cells": [
  {
   "cell_type": "code",
   "execution_count": null,
   "metadata": {},
   "outputs": [],
   "source": [
    "https://dougfenstermacher.com/blog/combinatorial-optimization"
   ]
  },
  {
   "cell_type": "markdown",
   "metadata": {},
   "source": [
    "# subset problem\n",
    "\n",
    "In this problem, we are attempting to efficiently determine the set of items with the largest sum without exceeding a given number. \n",
    "\n",
    "The subset-sum problem can be used to identify how to fill a container with the most items without exceeding a given capacity. \n",
    "\n",
    "This is useful for determining how to efficiently load a shipping truck, without exceeding its maximum weight.\n",
    "\n",
    "\n",
    "This could be how to effectively fill a filing cabinet, how to fill a shipping container with the most weight, or how to fill a hard drive with the most files, while leaving minimal unused space\n"
   ]
  },
  {
   "cell_type": "code",
   "execution_count": 12,
   "metadata": {},
   "outputs": [
    {
     "name": "stdout",
     "output_type": "stream",
     "text": [
      "21\n",
      "None\n",
      "None\n",
      "None\n",
      "None\n",
      "None\n",
      "None\n",
      "None\n",
      "[]\n"
     ]
    },
    {
     "ename": "IndexError",
     "evalue": "list index out of range",
     "output_type": "error",
     "traceback": [
      "\u001b[0;31m---------------------------------------------------------------------------\u001b[0m",
      "\u001b[0;31mIndexError\u001b[0m                                Traceback (most recent call last)",
      "\u001b[0;32m<ipython-input-12-64c1e42004d3>\u001b[0m in \u001b[0;36m<module>\u001b[0;34m\u001b[0m\n\u001b[1;32m     36\u001b[0m \u001b[0;31m# correct answer: max subset: [20, -3, -16, 0, 18, 20, -7, 12, -5, 12], sum: 51\u001b[0m\u001b[0;34m\u001b[0m\u001b[0;34m\u001b[0m\u001b[0;34m\u001b[0m\u001b[0m\n\u001b[1;32m     37\u001b[0m \u001b[0;34m\u001b[0m\u001b[0m\n\u001b[0;32m---> 38\u001b[0;31m \u001b[0msubset_sum\u001b[0m\u001b[0;34m(\u001b[0m\u001b[0mdata\u001b[0m\u001b[0;34m,\u001b[0m \u001b[0;36m20\u001b[0m\u001b[0;34m)\u001b[0m\u001b[0;34m\u001b[0m\u001b[0;34m\u001b[0m\u001b[0m\n\u001b[0m\u001b[1;32m     39\u001b[0m \u001b[0;34m\u001b[0m\u001b[0m\n\u001b[1;32m     40\u001b[0m \u001b[0;31m#print('Maximum Subarray: %r, Max: %r' % max_subarray(data))\u001b[0m\u001b[0;34m\u001b[0m\u001b[0;34m\u001b[0m\u001b[0;34m\u001b[0m\u001b[0m\n",
      "\u001b[0;32m<ipython-input-12-64c1e42004d3>\u001b[0m in \u001b[0;36msubset_sum\u001b[0;34m(input_data, limit, labels)\u001b[0m\n\u001b[1;32m     22\u001b[0m \u001b[0;34m\u001b[0m\u001b[0m\n\u001b[1;32m     23\u001b[0m         \u001b[0;32mfor\u001b[0m \u001b[0mi\u001b[0m \u001b[0;32min\u001b[0m \u001b[0mrange\u001b[0m\u001b[0;34m(\u001b[0m\u001b[0mlimit\u001b[0m \u001b[0;34m-\u001b[0m \u001b[0mdata\u001b[0m\u001b[0;34m,\u001b[0m \u001b[0;34m-\u001b[0m\u001b[0;36m1\u001b[0m\u001b[0;34m,\u001b[0m \u001b[0;34m-\u001b[0m\u001b[0;36m1\u001b[0m\u001b[0;34m)\u001b[0m\u001b[0;34m:\u001b[0m  \u001b[0;31m#\u001b[0m\u001b[0;34m\u001b[0m\u001b[0;34m\u001b[0m\u001b[0m\n\u001b[0;32m---> 24\u001b[0;31m             \u001b[0mprint\u001b[0m\u001b[0;34m(\u001b[0m\u001b[0mcache\u001b[0m\u001b[0;34m[\u001b[0m\u001b[0mi\u001b[0m\u001b[0;34m]\u001b[0m\u001b[0;34m)\u001b[0m\u001b[0;34m\u001b[0m\u001b[0;34m\u001b[0m\u001b[0m\n\u001b[0m\u001b[1;32m     25\u001b[0m \u001b[0;34m\u001b[0m\u001b[0m\n\u001b[1;32m     26\u001b[0m \u001b[0;34m\u001b[0m\u001b[0m\n",
      "\u001b[0;31mIndexError\u001b[0m: list index out of range"
     ]
    }
   ],
   "source": [
    "def subset_sum(input_data, limit, labels=None):\n",
    "    \n",
    "    if not labels:\n",
    "        labels = input_data\n",
    "        \n",
    "    elif labels and len(input_data) != len(labels):\n",
    "        raise ValueError('input_data(%r) and labels(%r) must be of equal length' % (input_data,  labels))\n",
    "\n",
    "    if not limit or limit < 0:\n",
    "        raise ValueError('limit(%s) must be a positive number' % limit)\n",
    "\n",
    "    cache = [None for _ in range(limit+1)]          # an empty list of length limit + 1\n",
    "    print(len(cache))\n",
    "    \n",
    "    cache[0] = []                                   # first element of list is list\n",
    "\n",
    "    cache_labels = [None for _ in range(limit+1)]   # an empty list of length limit + 1\n",
    "    \n",
    "    cache_labels[0] = []                            # first element of list is list \n",
    "    \n",
    "    for label, data in zip(labels, input_data):# take each input value\n",
    "        \n",
    "        for i in range(limit - data, -1, -1):  # \n",
    "            print(cache[i])\n",
    "            \n",
    "            \n",
    "            \n",
    "#             if cache[i] is not None:\n",
    "                \n",
    "#                 cache[i + new_value] = cache[i] + [new_value]\n",
    "                \n",
    "#                 cache_labels[i + new_value] = cache_labels[i] + [label]\n",
    "#     return max(zip(cache_labels, cache), key=lambda v: sum(v[1]))\n",
    "\n",
    "data = [13, -3, -25, 20, -3, -16, 0, 18, 20, -7, 12, -5, 12, -5, -22, 15, -4, 7]\n",
    "# correct answer: max subset: [20, -3, -16, 0, 18, 20, -7, 12, -5, 12], sum: 51\n",
    "\n",
    "subset_sum(data, 20)\n",
    "\n",
    "#print('Maximum Subarray: %r, Max: %r' % max_subarray(data))"
   ]
  },
  {
   "cell_type": "markdown",
   "metadata": {},
   "source": [
    "# Knapsack\n",
    "Given a set of items, each with a weight and a value, determine the number of each item to include in a collection so that the total weight is less than or equal to a given limit and the total value is as large as possible"
   ]
  },
  {
   "cell_type": "code",
   "execution_count": 17,
   "metadata": {},
   "outputs": [
    {
     "name": "stdout",
     "output_type": "stream",
     "text": [
      "[[0, 0, 0, 0, 0, 0, 0, 0, 0, 0], [0, 0, 0, 0, 0, 0, 0, 0, 0, 0], [0, 0, 0, 0, 0, 0, 0, 0, 0, 0]]\n"
     ]
    }
   ],
   "source": [
    "def knapsack(weights, values, capacity):\n",
    "    \"capacity = max number of items\"\n",
    "    \n",
    "    item_count = len(weights)                                          # n possible items = 3\n",
    "    \n",
    "    cache = [[0 for j in range(capacity)] for j in range(item_count)]  \n",
    "    \n",
    "    print(cache)\n",
    "    \n",
    "    # for each \n",
    "    for i in range(item_count):\n",
    "        for j in range(capacity):\n",
    "            if weights[i] > j:\n",
    "                cache[i][j] = cache[i-1][j]\n",
    "#             else:\n",
    "#                 cache[i, j] = max(cache[i-1][j], cache[i - 1][j - weights[i]] + values[i])\n",
    "#     return cache[-1][-1]\n",
    "\n",
    "values = [60, 100, 120]\n",
    "weights = [10, 20, 30]\n",
    "capacity = 10\n",
    "knapsack(weights, values, capacity)"
   ]
  },
  {
   "cell_type": "code",
   "execution_count": null,
   "metadata": {},
   "outputs": [],
   "source": []
  }
 ],
 "metadata": {
  "kernelspec": {
   "display_name": "Python 3",
   "language": "python",
   "name": "python3"
  },
  "language_info": {
   "codemirror_mode": {
    "name": "ipython",
    "version": 3
   },
   "file_extension": ".py",
   "mimetype": "text/x-python",
   "name": "python",
   "nbconvert_exporter": "python",
   "pygments_lexer": "ipython3",
   "version": "3.8.3"
  }
 },
 "nbformat": 4,
 "nbformat_minor": 4
}
