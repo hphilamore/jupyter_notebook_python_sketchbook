{
 "cells": [
  {
   "cell_type": "code",
   "execution_count": 16,
   "metadata": {
    "collapsed": true
   },
   "outputs": [],
   "source": [
    "# from \n",
    "# convex hull\n",
    "# http://scipy-cookbook.readthedocs.io/items/Finding_Convex_Hull.html\n",
    "# polygon area\n",
    "# https://stackoverflow.com/questions/451426/how-do-i-calculate-the-area-of-a-2d-polygon\n",
    "# https://stackoverflow.com/questions/19873596/convex-hull-area-in-python"
   ]
  },
  {
   "cell_type": "code",
   "execution_count": 17,
   "metadata": {
    "collapsed": false
   },
   "outputs": [
    {
     "name": "stdout",
     "output_type": "stream",
     "text": [
      "points [[ 0.60396741  0.0633963   0.71619419  0.81171202  0.04800462  0.74391756\n",
      "   0.25958188  0.08047626  0.90346597  0.96147639  0.7758318   0.0522928\n",
      "   0.40992725  0.55871773  0.97014187  0.73879737  0.35110898  0.17341191\n",
      "   0.8471689   0.06075192  0.59985006  0.59457744  0.04656213  0.17632935\n",
      "   0.38086222  0.54591043  0.04101402  0.81619392  0.62254431  0.6831847\n",
      "   0.0127074   0.07759998  0.60145258  0.07618205  0.16487651  0.57514925\n",
      "   0.05900979  0.17292094  0.48471467  0.78036074]\n",
      " [ 0.30537747  0.0028579   0.28577071  0.63107639  0.13007096  0.44897527\n",
      "   0.83760996  0.2859248   0.17091838  0.73556029  0.35005428  0.68166482\n",
      "   0.90093872  0.89858301  0.30525015  0.81540449  0.32543317  0.29326774\n",
      "   0.56117995  0.92189837  0.42892169  0.43276453  0.37418203  0.82545762\n",
      "   0.21044748  0.1449027   0.45940554  0.32039218  0.65742404  0.30356265\n",
      "   0.40179327  0.10572208  0.5119934   0.22471077  0.21755715  0.48643622\n",
      "   0.38333171  0.67715372  0.62214305  0.19375696]]\n",
      "hull pts [[ 0.90346597  0.17091838]\n",
      " [ 0.97014187  0.30525015]\n",
      " [ 0.96147639  0.73556029]\n",
      " [ 0.55871773  0.89858301]\n",
      " [ 0.06075192  0.92189837]\n",
      " [ 0.0127074   0.40179327]\n",
      " [ 0.0633963   0.0028579 ]]\n",
      "end\n"
     ]
    }
   ],
   "source": [
    "import numpy as n, pylab as p, time\n",
    "import random\n",
    "\n",
    "def main():\n",
    "    points = n.random.random_sample((2,40))\n",
    "    print(\"points\",points)\n",
    "    hull_pts = convex_hull(points)\n",
    "    print(\"hull pts\" , hull_pts)\n",
    "    \n",
    "def area(p):\n",
    "    return 0.5 * abs(sum(x0*y1 - x1*y0\n",
    "                         for ((x0, y0), (x1, y1)) in segments(p)))\n",
    "\n",
    "def PolyArea2D(pts):\n",
    "    lines = n.hstack([pts,n.roll(pts,-1,axis=0)])\n",
    "    Area = 0.5*abs(sum(x1*y2-x2*y1 for x1,y1,x2,y2 in lines))\n",
    "    return Area\n",
    "\n",
    "def segments(p):\n",
    "    return zip(p, p[1:] + [p[0]])\n",
    "\n",
    "def xrange(x):\n",
    "\n",
    "    return iter(range(x))\n",
    "\n",
    "def _angle_to_point(point, centre):\n",
    "    '''calculate angle in 2-D between points and x axis'''\n",
    "    delta = point - centre\n",
    "    res = n.arctan(delta[1] / delta[0])\n",
    "    if delta[0] < 0:\n",
    "        res += n.pi\n",
    "    return res\n",
    "\n",
    "\n",
    "def _draw_triangle(p1, p2, p3, **kwargs):\n",
    "    tmp = n.vstack((p1,p2,p3))\n",
    "    x,y = [x[0] for x in zip(tmp.transpose())]\n",
    "    p.fill(x,y, **kwargs)\n",
    "    #time.sleep(0.2)\n",
    "\n",
    "\n",
    "def area_of_triangle(p1, p2, p3):\n",
    "    '''calculate area of any triangle given co-ordinates of the corners'''\n",
    "    return n.linalg.norm(n.cross((p2 - p1), (p3 - p1)))/2.\n",
    "\n",
    "\n",
    "def convex_hull(points, graphic=True, smidgen=0.0075):\n",
    "    '''Calculate subset of points that make a convex hull around points\n",
    "\n",
    "Recursively eliminates points that lie inside two neighbouring points until only convex hull is remaining.\n",
    "\n",
    ":Parameters:\n",
    "    points : ndarray (2 x m)\n",
    "        array of points for which to find hull\n",
    "    graphic : bool\n",
    "        use pylab to show progress?\n",
    "    smidgen : float\n",
    "        offset for graphic number labels - useful values depend on your data range\n",
    "\n",
    ":Returns:\n",
    "    hull_points : ndarray (2 x n)\n",
    "        convex hull surrounding points\n",
    "'''\n",
    "    if graphic:\n",
    "        p.clf()\n",
    "        p.plot(points[0], points[1], 'ro')\n",
    "    n_pts = points.shape[1]\n",
    "    assert(n_pts > 5)\n",
    "    centre = points.mean(1)\n",
    "    if graphic: p.plot((centre[0],),(centre[1],),'bo')\n",
    "    angles = n.apply_along_axis(_angle_to_point, 0, points, centre)\n",
    "    pts_ord = points[:,angles.argsort()]\n",
    "    if graphic:\n",
    "        for i in xrange(n_pts):\n",
    "            p.text(pts_ord[0,i] + smidgen, pts_ord[1,i] + smidgen, \\\n",
    "                   '%d' % i)\n",
    "    pts = [x[0] for x in zip(pts_ord.transpose())]\n",
    "    prev_pts = len(pts) + 1\n",
    "    k = 0\n",
    "    while prev_pts > n_pts:\n",
    "        prev_pts = n_pts\n",
    "        n_pts = len(pts)\n",
    "        if graphic: p.gca().patches = []\n",
    "        i = -2\n",
    "        while i < (n_pts - 2):\n",
    "            Aij = area_of_triangle(centre, pts[i],     pts[(i + 1) % n_pts])\n",
    "            Ajk = area_of_triangle(centre, pts[(i + 1) % n_pts], \\\n",
    "                                   pts[(i + 2) % n_pts])\n",
    "            Aik = area_of_triangle(centre, pts[i],     pts[(i + 2) % n_pts])\n",
    "            if graphic:\n",
    "                _draw_triangle(centre, pts[i], pts[(i + 1) % n_pts], \\\n",
    "                               facecolor='blue', alpha = 0.2)\n",
    "                _draw_triangle(centre, pts[(i + 1) % n_pts], \\\n",
    "                               pts[(i + 2) % n_pts], \\\n",
    "                               facecolor='green', alpha = 0.2)\n",
    "                _draw_triangle(centre, pts[i], pts[(i + 2) % n_pts], \\\n",
    "                               facecolor='red', alpha = 0.2)\n",
    "            if Aij + Ajk < Aik:\n",
    "                if graphic: p.plot((pts[i + 1][0],),(pts[i + 1][1],),'go')\n",
    "                del pts[i+1]\n",
    "            i += 1\n",
    "            n_pts = len(pts)\n",
    "        k += 1\n",
    "    return n.asarray(pts)\n",
    "\n",
    "if __name__ == \"__main__\":\n",
    "    try:\n",
    "        main()\n",
    "    finally:\n",
    "        print(\"end\")\n",
    "#     points = n.random.random_sample((2,40))\n",
    "#     hull_pts = convex_hull(points)"
   ]
  },
  {
   "cell_type": "code",
   "execution_count": 18,
   "metadata": {
    "collapsed": false
   },
   "outputs": [
    {
     "ename": "NameError",
     "evalue": "name 'hull_pts' is not defined",
     "output_type": "error",
     "traceback": [
      "\u001b[1;31m---------------------------------------------------------------------------\u001b[0m",
      "\u001b[1;31mNameError\u001b[0m                                 Traceback (most recent call last)",
      "\u001b[1;32m<ipython-input-18-9b203a6478b8>\u001b[0m in \u001b[0;36m<module>\u001b[1;34m()\u001b[0m\n\u001b[1;32m----> 1\u001b[1;33m \u001b[0mprint\u001b[0m\u001b[1;33m(\u001b[0m\u001b[0mhull_pts\u001b[0m\u001b[1;33m)\u001b[0m\u001b[1;33m\u001b[0m\u001b[0m\n\u001b[0m\u001b[0;32m      2\u001b[0m \u001b[0mA\u001b[0m \u001b[1;33m=\u001b[0m \u001b[0marea\u001b[0m\u001b[1;33m(\u001b[0m\u001b[0mhull_pts\u001b[0m\u001b[1;33m)\u001b[0m\u001b[1;33m\u001b[0m\u001b[0m\n\u001b[0;32m      3\u001b[0m \u001b[0mA\u001b[0m\u001b[1;33m\u001b[0m\u001b[0m\n\u001b[0;32m      4\u001b[0m \u001b[1;33m\u001b[0m\u001b[0m\n\u001b[0;32m      5\u001b[0m \u001b[0mpts\u001b[0m \u001b[1;33m=\u001b[0m \u001b[1;33m[\u001b[0m\u001b[1;33m[\u001b[0m\u001b[1;36m0\u001b[0m\u001b[1;33m,\u001b[0m\u001b[1;36m0\u001b[0m\u001b[1;33m]\u001b[0m\u001b[1;33m,\u001b[0m\u001b[1;33m[\u001b[0m\u001b[1;36m1\u001b[0m\u001b[1;33m,\u001b[0m\u001b[1;36m0\u001b[0m\u001b[1;33m]\u001b[0m\u001b[1;33m,\u001b[0m\u001b[1;33m[\u001b[0m\u001b[1;36m1\u001b[0m\u001b[1;33m,\u001b[0m\u001b[1;36m1\u001b[0m\u001b[1;33m]\u001b[0m\u001b[1;33m,\u001b[0m\u001b[1;33m[\u001b[0m\u001b[1;36m0\u001b[0m\u001b[1;33m,\u001b[0m\u001b[1;36m1\u001b[0m\u001b[1;33m]\u001b[0m\u001b[1;33m]\u001b[0m\u001b[1;33m\u001b[0m\u001b[0m\n",
      "\u001b[1;31mNameError\u001b[0m: name 'hull_pts' is not defined"
     ]
    }
   ],
   "source": [
    "print(hull_pts)\n",
    "A = area(hull_pts)\n",
    "A\n",
    "\n",
    "pts = [[0,0],[1,0],[1,1],[0,1]]\n",
    "print(PolyArea2D(pts)) \n",
    "print(PolyArea2D(hull_pts))\n",
    "print(A)"
   ]
  },
  {
   "cell_type": "code",
   "execution_count": null,
   "metadata": {
    "collapsed": false
   },
   "outputs": [],
   "source": [
    "#p.show()"
   ]
  },
  {
   "cell_type": "code",
   "execution_count": null,
   "metadata": {
    "collapsed": false
   },
   "outputs": [],
   "source": [
    "points = n.zeros(10000)\n",
    "points[1:300] = n.random.randint(1,9)\n",
    "random.shuffle(points)"
   ]
  },
  {
   "cell_type": "code",
   "execution_count": null,
   "metadata": {
    "collapsed": false
   },
   "outputs": [],
   "source": [
    "points.reshape(100,100)"
   ]
  },
  {
   "cell_type": "code",
   "execution_count": null,
   "metadata": {
    "collapsed": false
   },
   "outputs": [],
   "source": [
    "n.where(points)"
   ]
  },
  {
   "cell_type": "code",
   "execution_count": null,
   "metadata": {
    "collapsed": true
   },
   "outputs": [],
   "source": []
  }
 ],
 "metadata": {
  "kernelspec": {
   "display_name": "Python 3",
   "language": "python",
   "name": "python3"
  },
  "language_info": {
   "codemirror_mode": {
    "name": "ipython",
    "version": 3
   },
   "file_extension": ".py",
   "mimetype": "text/x-python",
   "name": "python",
   "nbconvert_exporter": "python",
   "pygments_lexer": "ipython3",
   "version": "3.5.2"
  }
 },
 "nbformat": 4,
 "nbformat_minor": 0
}
