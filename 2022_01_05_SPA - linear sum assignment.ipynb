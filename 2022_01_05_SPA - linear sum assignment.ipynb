{
 "cells": [
  {
   "cell_type": "markdown",
   "metadata": {},
   "source": [
    "A number of students and a number of projects. \n",
    "\n",
    "Any student can be assigned any project, incurring some cost that may vary depending on the student-project assignment. \n",
    "\n",
    "Number of projects > number of students\n",
    "\n",
    "A project with N students permitted is represented as N seperate projects, each with equal ranking by any student who chooses that project. "
   ]
  },
  {
   "cell_type": "code",
   "execution_count": 54,
   "metadata": {},
   "outputs": [],
   "source": [
    "import numpy as np\n",
    "import random\n",
    "from scipy.optimize import linear_sum_assignment\n",
    "import csv"
   ]
  },
  {
   "cell_type": "markdown",
   "metadata": {},
   "source": [
    "End of file name for data to be fed to model"
   ]
  },
  {
   "cell_type": "code",
   "execution_count": 62,
   "metadata": {},
   "outputs": [],
   "source": [
    "# fname = 'ideal' # first choice of each student uniquely ranked 1\n",
    "\n",
    "fname = '0'       # randomly generated seelction form\n",
    "\n",
    "fname = '2020_21' # data from previous years dissertation unit "
   ]
  },
  {
   "cell_type": "markdown",
   "metadata": {},
   "source": [
    "# Student Project Assignment"
   ]
  },
  {
   "cell_type": "code",
   "execution_count": 63,
   "metadata": {},
   "outputs": [],
   "source": [
    "def build_cost_matrix(n_students, n_projects, n_choices):\n",
    "    \"\"\"\n",
    "    Creates a student project selection form\n",
    "    \"\"\"\n",
    "    students = list(range(n_students))\n",
    "    projects = list(range(n_projects))\n",
    "\n",
    "    cost_matrix = []\n",
    "    \n",
    "    for s in students:\n",
    "        selections = [10 for p in projects] # assigns a suitably high number to all unselected projects\n",
    "        \n",
    "        # selects n ranked choices per student for projects selected randomly from a weighted probability distribution\n",
    "        for n in range(1, n_choices+1):\n",
    "            \n",
    "            element = random.choices(np.arange(n_projects), weights=np.linspace(0, 1, n_projects))\n",
    "            \n",
    "            selections[element[0]] = n\n",
    "            \n",
    "        # repeat the last two entries to represent two projects that can each accept 2 students \n",
    "        selections = selections + selections[-2:] \n",
    "            \n",
    "        cost_matrix.append(selections)\n",
    "    \n",
    "    return np.array(cost_matrix)"
   ]
  },
  {
   "cell_type": "markdown",
   "metadata": {},
   "source": [
    "Build student preference matrix"
   ]
  },
  {
   "cell_type": "code",
   "execution_count": 64,
   "metadata": {},
   "outputs": [
    {
     "name": "stdout",
     "output_type": "stream",
     "text": [
      "\n",
      "cost matrix\n",
      " [[10 10 10 ... 10 10 10]\n",
      " [10 10 10 ... 10 10 10]\n",
      " [10 10 10 ... 10 10 10]\n",
      " ...\n",
      " [10 10 10 ... 10 10 10]\n",
      " [10 10 10 ... 10  3 10]\n",
      " [10 10 10 ... 10 10 10]]\n"
     ]
    }
   ],
   "source": [
    "# # build student project selection form using random values\n",
    "# n_students = 10\n",
    "# n_projects = 15\n",
    "# n_choices = 5\n",
    "# cost_matrix = build_cost_matrix(n_students, n_projects)                      \n",
    "\n",
    "# build student project selection form by importing\n",
    "with open(f'data/student_preference_matrices/student_preference_matrix_{fname}.csv', 'r') as f:   \n",
    "        \n",
    "        cost_matrix = csv.reader(f)\n",
    "        \n",
    "        cost_matrix = [[int(i) for i in j] for j in cost_matrix]            # convert from string\n",
    "        \n",
    "        cost_matrix = [[10 if i==0 else i for i in j] for j in cost_matrix] # replace zeros with 10\n",
    "        \n",
    "        cost_matrix = [j+j[-2:] for j in cost_matrix]                       # repeat last two entries to simulate 2 projects with student capacity 2\n",
    "        \n",
    "#         cost_matrix = np.array(cost_matrix)\n",
    "        \n",
    "\n",
    "print('\\ncost matrix\\n', np.matrix(cost_matrix))"
   ]
  },
  {
   "cell_type": "code",
   "execution_count": 65,
   "metadata": {},
   "outputs": [
    {
     "name": "stdout",
     "output_type": "stream",
     "text": [
      "74\n",
      "302\n"
     ]
    }
   ],
   "source": [
    "n_students = len(cost_matrix)\n",
    "print(n_students)\n",
    "\n",
    "n_projects = len(cost_matrix[0])\n",
    "print(n_projects)"
   ]
  },
  {
   "cell_type": "markdown",
   "metadata": {},
   "source": [
    "Modify form to include projects with student capacity > 1 by creating repeat instances of the project in the form, with equal student ranking "
   ]
  },
  {
   "cell_type": "code",
   "execution_count": 66,
   "metadata": {},
   "outputs": [
    {
     "name": "stdout",
     "output_type": "stream",
     "text": [
      "299\n"
     ]
    },
    {
     "ename": "IndexError",
     "evalue": "list index out of range",
     "output_type": "error",
     "traceback": [
      "\u001b[0;31m---------------------------------------------------------------------------\u001b[0m",
      "\u001b[0;31mIndexError\u001b[0m                                Traceback (most recent call last)",
      "\u001b[0;32m<ipython-input-66-5bce8cfa31e0>\u001b[0m in \u001b[0;36m<module>\u001b[0;34m\u001b[0m\n\u001b[1;32m     16\u001b[0m \u001b[0;31m# if project capacity n > 1\u001b[0m\u001b[0;34m\u001b[0m\u001b[0;34m\u001b[0m\u001b[0;34m\u001b[0m\u001b[0m\n\u001b[1;32m     17\u001b[0m \u001b[0;32mfor\u001b[0m \u001b[0mi\u001b[0m \u001b[0;32min\u001b[0m \u001b[0mrange\u001b[0m\u001b[0;34m(\u001b[0m\u001b[0mn_projects\u001b[0m\u001b[0;34m)\u001b[0m\u001b[0;34m:\u001b[0m\u001b[0;34m\u001b[0m\u001b[0;34m\u001b[0m\u001b[0m\n\u001b[0;32m---> 18\u001b[0;31m     \u001b[0;32mif\u001b[0m \u001b[0mcapacity\u001b[0m\u001b[0;34m[\u001b[0m\u001b[0mi\u001b[0m\u001b[0;34m]\u001b[0m \u001b[0;34m>\u001b[0m \u001b[0;36m1\u001b[0m\u001b[0;34m:\u001b[0m\u001b[0;34m\u001b[0m\u001b[0;34m\u001b[0m\u001b[0m\n\u001b[0m\u001b[1;32m     19\u001b[0m \u001b[0;34m\u001b[0m\u001b[0m\n\u001b[1;32m     20\u001b[0m         \u001b[0;31m# create n-1 copies of the column for that project\u001b[0m\u001b[0;34m\u001b[0m\u001b[0;34m\u001b[0m\u001b[0;34m\u001b[0m\u001b[0m\n",
      "\u001b[0;31mIndexError\u001b[0m: list index out of range"
     ]
    }
   ],
   "source": [
    "with open(f'data/student_preference_matrices/project_capacity_{fname}.csv', 'r') as f:\n",
    "    capacity = list(csv.reader(f))\n",
    "    capacity = [int(i) for i in capacity[0]]\n",
    "    \n",
    "print(len(capacity))\n",
    "\n",
    "    \n",
    "# give projects an ID so that multiple columns with the same ID can be re-grouped later \n",
    "project_ID = list(range(n_projects)) \n",
    "\n",
    "# temporarily include project ID and capacity vectors in cost matrix\n",
    "cost_matrix.insert(0, project_ID)\n",
    "cost_matrix.insert(1, capacity)\n",
    "\n",
    "\n",
    "# if project capacity n > 1\n",
    "for i in range(n_projects):              \n",
    "    if capacity[i] > 1:\n",
    "        \n",
    "        # create n-1 copies of the column for that project\n",
    "        # there are now n columns representing that project (with same ID number and student rank)\n",
    "        for j in range(capacity[i]-1):   \n",
    "            for row in cost_matrix:\n",
    "                row.append(row[i])\n",
    "                \n",
    "\n",
    "# remove adn store project ID and capacity vectors \n",
    "project_ID = cost_matrix.pop(0)\n",
    "capacity = cost_matrix.pop(0)\n",
    "                \n",
    "print(np.matrix(cost_matrix))"
   ]
  },
  {
   "cell_type": "markdown",
   "metadata": {},
   "source": [
    "Convert cost matrix to Numpy array"
   ]
  },
  {
   "cell_type": "code",
   "execution_count": 49,
   "metadata": {},
   "outputs": [],
   "source": [
    "cost_matrix = np.array(cost_matrix)"
   ]
  },
  {
   "cell_type": "markdown",
   "metadata": {},
   "source": [
    "Find optimal solution - minimize linear sum "
   ]
  },
  {
   "cell_type": "code",
   "execution_count": 53,
   "metadata": {},
   "outputs": [
    {
     "name": "stdout",
     "output_type": "stream",
     "text": [
      "[ 0  1  2  3  4  5  6  7  8  9 10 11 12 13 14 15 16 17 18 19 20 21 22 23\n",
      " 24 25 26 27 28 29 30 31 32 33 34 35 36 37 38 39 40 41 42 43 44 45 46 47\n",
      " 48 49 50 51 52 53 54 55 56 57 58 59 60 61 62 63 64 65 66 67 68 69 70 71\n",
      " 72 73] [275  72 223 274 228  52 128 146  16 276 188 255  64  37 107 256 285  51\n",
      " 266 244 166  45 216 209 284 127 231  73  18  28   4  35 217  71 206 101\n",
      " 245 164 158 260 133 251   8  96 241 297 281 222  48 272 220 299 258 253\n",
      "  49 262 249 288 286 230  83 139 246  65 290  79 170 144 137 294 257 296\n",
      "  66  61]\n"
     ]
    }
   ],
   "source": [
    "studentID, projectID = linear_sum_assignment(cost_matrix) \n",
    "\n",
    "print(studentID, projectID)"
   ]
  },
  {
   "cell_type": "markdown",
   "metadata": {},
   "source": [
    "Check every student has been asisgned a project"
   ]
  },
  {
   "cell_type": "code",
   "execution_count": 51,
   "metadata": {},
   "outputs": [
    {
     "name": "stdout",
     "output_type": "stream",
     "text": [
      "\n",
      "total_projects_assigned= 74.0 \n",
      "equal to number of students= False\n"
     ]
    }
   ],
   "source": [
    "assign_matrix = np.zeros(cost_matrix.shape)    # create an array to display assignments\n",
    "\n",
    "for s, p in zip(studentID, projectID):         # mark each assignment with a 1\n",
    "    assign_matrix[s, p] = 1\n",
    "    \n",
    "# check every student has a project\n",
    "print('\\ntotal_projects_assigned=',np.sum(assign_matrix), '\\nequal to number of students=', np.sum(assign_matrix)==n_students)"
   ]
  },
  {
   "cell_type": "markdown",
   "metadata": {},
   "source": [
    "Display output"
   ]
  },
  {
   "cell_type": "code",
   "execution_count": 52,
   "metadata": {},
   "outputs": [
    {
     "name": "stdout",
     "output_type": "stream",
     "text": [
      "student [0, 1, 2, 3, 4, 5, 6, 7, 8, 9]\n"
     ]
    },
    {
     "ename": "IndexError",
     "evalue": "list index out of range",
     "output_type": "error",
     "traceback": [
      "\u001b[0;31m---------------------------------------------------------------------------\u001b[0m",
      "\u001b[0;31mIndexError\u001b[0m                                Traceback (most recent call last)",
      "\u001b[0;32m<ipython-input-52-66570ab6f1c8>\u001b[0m in \u001b[0;36m<module>\u001b[0;34m\u001b[0m\n\u001b[1;32m      5\u001b[0m \u001b[0;34m\u001b[0m\u001b[0m\n\u001b[1;32m      6\u001b[0m \u001b[0;31m# project ID of each project in best solution\u001b[0m\u001b[0;34m\u001b[0m\u001b[0;34m\u001b[0m\u001b[0;34m\u001b[0m\u001b[0m\n\u001b[0;32m----> 7\u001b[0;31m \u001b[0mallocations\u001b[0m \u001b[0;34m=\u001b[0m \u001b[0;34m[\u001b[0m\u001b[0mproject_ID\u001b[0m\u001b[0;34m[\u001b[0m\u001b[0mj\u001b[0m\u001b[0;34m]\u001b[0m \u001b[0;32mfor\u001b[0m \u001b[0mj\u001b[0m \u001b[0;32min\u001b[0m \u001b[0mnp\u001b[0m\u001b[0;34m.\u001b[0m\u001b[0mwhere\u001b[0m\u001b[0;34m(\u001b[0m\u001b[0massign_matrix\u001b[0m\u001b[0;34m)\u001b[0m\u001b[0;34m[\u001b[0m\u001b[0;36m0\u001b[0m\u001b[0;34m]\u001b[0m\u001b[0;34m]\u001b[0m\u001b[0;34m\u001b[0m\u001b[0;34m\u001b[0m\u001b[0m\n\u001b[0m\u001b[1;32m      8\u001b[0m \u001b[0mprint\u001b[0m\u001b[0;34m(\u001b[0m\u001b[0;34m'project allocation'\u001b[0m\u001b[0;34m,\u001b[0m \u001b[0mallocations\u001b[0m\u001b[0;34m)\u001b[0m\u001b[0;34m\u001b[0m\u001b[0;34m\u001b[0m\u001b[0m\n\u001b[1;32m      9\u001b[0m \u001b[0;34m\u001b[0m\u001b[0m\n",
      "\u001b[0;32m<ipython-input-52-66570ab6f1c8>\u001b[0m in \u001b[0;36m<listcomp>\u001b[0;34m(.0)\u001b[0m\n\u001b[1;32m      5\u001b[0m \u001b[0;34m\u001b[0m\u001b[0m\n\u001b[1;32m      6\u001b[0m \u001b[0;31m# project ID of each project in best solution\u001b[0m\u001b[0;34m\u001b[0m\u001b[0;34m\u001b[0m\u001b[0;34m\u001b[0m\u001b[0m\n\u001b[0;32m----> 7\u001b[0;31m \u001b[0mallocations\u001b[0m \u001b[0;34m=\u001b[0m \u001b[0;34m[\u001b[0m\u001b[0mproject_ID\u001b[0m\u001b[0;34m[\u001b[0m\u001b[0mj\u001b[0m\u001b[0;34m]\u001b[0m \u001b[0;32mfor\u001b[0m \u001b[0mj\u001b[0m \u001b[0;32min\u001b[0m \u001b[0mnp\u001b[0m\u001b[0;34m.\u001b[0m\u001b[0mwhere\u001b[0m\u001b[0;34m(\u001b[0m\u001b[0massign_matrix\u001b[0m\u001b[0;34m)\u001b[0m\u001b[0;34m[\u001b[0m\u001b[0;36m0\u001b[0m\u001b[0;34m]\u001b[0m\u001b[0;34m]\u001b[0m\u001b[0;34m\u001b[0m\u001b[0;34m\u001b[0m\u001b[0m\n\u001b[0m\u001b[1;32m      8\u001b[0m \u001b[0mprint\u001b[0m\u001b[0;34m(\u001b[0m\u001b[0;34m'project allocation'\u001b[0m\u001b[0;34m,\u001b[0m \u001b[0mallocations\u001b[0m\u001b[0;34m)\u001b[0m\u001b[0;34m\u001b[0m\u001b[0;34m\u001b[0m\u001b[0m\n\u001b[1;32m      9\u001b[0m \u001b[0;34m\u001b[0m\u001b[0m\n",
      "\u001b[0;31mIndexError\u001b[0m: list index out of range"
     ]
    }
   ],
   "source": [
    "assign_matrix *= cost_matrix                                     # matrix showing cost of each assignment \n",
    "\n",
    "# students \n",
    "print('student', list(range(n_students)))\n",
    "\n",
    "# project ID of each project in best solution\n",
    "allocations = [project_ID[j] for j in np.where(assign_matrix)[0]]\n",
    "print('project allocation', allocations)\n",
    "\n",
    "# student ranking of each project in best solution\n",
    "ranks = assign_matrix[np.nonzero(assign_matrix)]\n",
    "print('rank of allocated project', ranks)\n",
    "print('\\nsum of project rankings (should be as low as possible)=', sum(ranks))\n",
    "\n",
    "print('\\nassign matrix\\n',np.matrix(np.absolute(assign_matrix)))\n",
    "# print('\\nstudents', studentID)\n",
    "# print('project ID (this model)', projectID)\n",
    "# print('project rank', ranks)\n",
    "# print('\\n\\nsum of all assignments (should be as low as possible)=', ranks.sum())"
   ]
  },
  {
   "cell_type": "code",
   "execution_count": null,
   "metadata": {},
   "outputs": [],
   "source": []
  },
  {
   "cell_type": "code",
   "execution_count": null,
   "metadata": {},
   "outputs": [],
   "source": []
  },
  {
   "cell_type": "code",
   "execution_count": null,
   "metadata": {},
   "outputs": [],
   "source": []
  },
  {
   "cell_type": "code",
   "execution_count": null,
   "metadata": {},
   "outputs": [],
   "source": []
  },
  {
   "cell_type": "code",
   "execution_count": null,
   "metadata": {},
   "outputs": [],
   "source": []
  }
 ],
 "metadata": {
  "kernelspec": {
   "display_name": "Python 3",
   "language": "python",
   "name": "python3"
  },
  "language_info": {
   "codemirror_mode": {
    "name": "ipython",
    "version": 3
   },
   "file_extension": ".py",
   "mimetype": "text/x-python",
   "name": "python",
   "nbconvert_exporter": "python",
   "pygments_lexer": "ipython3",
   "version": "3.7.4"
  }
 },
 "nbformat": 4,
 "nbformat_minor": 4
}
