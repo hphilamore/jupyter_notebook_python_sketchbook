{
 "cells": [
  {
   "cell_type": "markdown",
   "metadata": {},
   "source": [
    "A number of students and a number of projects. \n",
    "\n",
    "Any student can be assigned any project, incurring some cost that may vary depending on the student-project assignment. \n",
    "\n",
    "Number of projects > number of students\n",
    "\n",
    "A project with N students permitted is represented as N seperate projects, each with equal ranking by any student who chooses that project. "
   ]
  },
  {
   "cell_type": "code",
   "execution_count": 109,
   "metadata": {},
   "outputs": [],
   "source": [
    "import numpy as np\n",
    "import random\n",
    "from scipy.optimize import linear_sum_assignment\n",
    "import csv"
   ]
  },
  {
   "cell_type": "markdown",
   "metadata": {},
   "source": [
    "# Student Project Assignment"
   ]
  },
  {
   "cell_type": "code",
   "execution_count": 110,
   "metadata": {},
   "outputs": [],
   "source": [
    "n_students = 10\n",
    "n_projects = 15\n",
    "n_choices = 5"
   ]
  },
  {
   "cell_type": "code",
   "execution_count": 111,
   "metadata": {},
   "outputs": [],
   "source": [
    "\n",
    "\n",
    "def build_cost_matrix(n_students, n_projects):\n",
    "    \"\"\"\n",
    "    Creates a student project selection form\n",
    "    \"\"\"\n",
    "    students = list(range(n_students))\n",
    "    projects = list(range(n_projects))\n",
    "\n",
    "    cost_matrix = []\n",
    "    \n",
    "    for s in students:\n",
    "        selections = [10 for p in projects] # assigns a suitably high number to all unselected projects\n",
    "        \n",
    "        # selects n ranked choices per student for projects selected randomly from a weighted probability distribution\n",
    "        for n in range(1, n_choices+1):\n",
    "            \n",
    "            element = random.choices(np.arange(n_projects), weights=np.linspace(0, 1, n_projects))\n",
    "            \n",
    "            selections[element[0]] = n\n",
    "            \n",
    "        # repeat the last two entries to represent two projects that can each accept 2 students \n",
    "        selections = selections + selections[-2:] \n",
    "            \n",
    "        cost_matrix.append(selections)\n",
    "    \n",
    "    return np.array(cost_matrix)"
   ]
  },
  {
   "cell_type": "markdown",
   "metadata": {},
   "source": [
    "Build student preference matrix"
   ]
  },
  {
   "cell_type": "code",
   "execution_count": 112,
   "metadata": {},
   "outputs": [
    {
     "name": "stdout",
     "output_type": "stream",
     "text": [
      "\n",
      "cost matrix\n",
      " [[10 10 10  5 10 10 10 10  4 10 10 10  1 10  3 10  3]\n",
      " [10 10 10 10 10 10 10 10 10 10  1  4 10  3  5  3  5]\n",
      " [10 10 10 10  2 10 10 10 10  1  4  5 10 10 10 10 10]\n",
      " [10 10 10 10 10 10 10  2 10 10 10  1 10  5  4  5  4]\n",
      " [10  4 10 10 10  5 10  3 10 10 10 10 10  2 10  2 10]\n",
      " [10 10  3 10 10  5 10 10 10  1  2 10 10 10  4 10  4]\n",
      " [10 10 10 10 10 10 10  3 10  1 10  4  2  5 10  5 10]\n",
      " [10 10  2 10 10 10 10  3 10  4 10  1 10  5 10  5 10]\n",
      " [10 10 10 10  2 10 10 10  1 10 10  5  4 10  3 10  3]\n",
      " [10 10 10 10 10 10 10 10  2  3 10  4 10  5  1  5  1]]\n"
     ]
    }
   ],
   "source": [
    "# # build student project selection form using random values\n",
    "# cost_matrix = build_cost_matrix(n_students, n_projects)                      \n",
    "\n",
    "# build student project selection form by importing\n",
    "with open(f'data/student_preference_matrices/student_preference_matrix_0.csv', 'r') as f:   \n",
    "        \n",
    "        cost_matrix = csv.reader(f)\n",
    "        \n",
    "        cost_matrix = [[int(i) for i in j] for j in cost_matrix]            # convert from string\n",
    "        \n",
    "        cost_matrix = [[10 if i==0 else i for i in j] for j in cost_matrix] # replace zeros with 10\n",
    "        \n",
    "        cost_matrix = [j+j[-2:] for j in cost_matrix]                       # repeat last two entries to simulate 2 projects with student capacity 2\n",
    "        \n",
    "        cost_matrix = np.array(cost_matrix)\n",
    "        \n",
    "\n",
    "print('\\ncost matrix\\n', np.matrix(cost_matrix))"
   ]
  },
  {
   "cell_type": "markdown",
   "metadata": {},
   "source": [
    "Find solution"
   ]
  },
  {
   "cell_type": "code",
   "execution_count": 113,
   "metadata": {},
   "outputs": [],
   "source": [
    "studentID, projectID = linear_sum_assignment(cost_matrix) # find optimised assignment"
   ]
  },
  {
   "cell_type": "markdown",
   "metadata": {},
   "source": [
    "Display solution"
   ]
  },
  {
   "cell_type": "code",
   "execution_count": 114,
   "metadata": {},
   "outputs": [
    {
     "name": "stdout",
     "output_type": "stream",
     "text": [
      "\n",
      "total_projects_assigned= 10.0 \n",
      "equal to number of students= True\n"
     ]
    }
   ],
   "source": [
    "assign_matrix = np.zeros(cost_matrix.shape)    # create an array to display assignments\n",
    "\n",
    "for s, p in zip(studentID, projectID):         # mark each assignment with a 1\n",
    "    assign_matrix[s, p] = 1\n",
    "    \n",
    "# check every student has a project\n",
    "print('\\ntotal_projects_assigned=',np.sum(assign_matrix), '\\nequal to number of students=', np.sum(assign_matrix)==n_students)"
   ]
  },
  {
   "cell_type": "code",
   "execution_count": 115,
   "metadata": {},
   "outputs": [
    {
     "name": "stdout",
     "output_type": "stream",
     "text": [
      "\n",
      "assign matrix\n",
      " [[0. 0. 0. 0. 0. 0. 0. 0. 0. 0. 0. 0. 1. 0. 0. 0. 0.]\n",
      " [0. 0. 0. 0. 0. 0. 0. 0. 0. 0. 1. 0. 0. 0. 0. 0. 0.]\n",
      " [0. 0. 0. 0. 2. 0. 0. 0. 0. 0. 0. 0. 0. 0. 0. 0. 0.]\n",
      " [0. 0. 0. 0. 0. 0. 0. 0. 0. 0. 0. 1. 0. 0. 0. 0. 0.]\n",
      " [0. 0. 0. 0. 0. 0. 0. 0. 0. 0. 0. 0. 0. 2. 0. 0. 0.]\n",
      " [0. 0. 0. 0. 0. 0. 0. 0. 0. 1. 0. 0. 0. 0. 0. 0. 0.]\n",
      " [0. 0. 0. 0. 0. 0. 0. 3. 0. 0. 0. 0. 0. 0. 0. 0. 0.]\n",
      " [0. 0. 2. 0. 0. 0. 0. 0. 0. 0. 0. 0. 0. 0. 0. 0. 0.]\n",
      " [0. 0. 0. 0. 0. 0. 0. 0. 1. 0. 0. 0. 0. 0. 0. 0. 0.]\n",
      " [0. 0. 0. 0. 0. 0. 0. 0. 0. 0. 0. 0. 0. 0. 1. 0. 0.]]\n",
      "\n",
      "students [0 1 2 3 4 5 6 7 8 9]\n",
      "project ID (this model) [12 10  4 11 13  9  7  2  8 14]\n",
      "project rank [1. 1. 2. 1. 2. 1. 3. 2. 1. 1.]\n",
      "\n",
      "\n",
      "sum of all assignments (should be as low as possible)= 15.0\n"
     ]
    }
   ],
   "source": [
    "assign_matrix *= cost_matrix                                     # matrix showing cost of each assignment   \n",
    "\n",
    "ranks = assign_matrix[np.nonzero(assign_matrix)]\n",
    "\n",
    "print('\\nassign matrix\\n',np.matrix(np.absolute(assign_matrix)))\n",
    "print('\\nstudents', studentID)\n",
    "print('project ID (this model)', projectID)\n",
    "print('project rank', ranks)\n",
    "print('\\n\\nsum of all assignments (should be as low as possible)=', ranks.sum())"
   ]
  },
  {
   "cell_type": "code",
   "execution_count": null,
   "metadata": {},
   "outputs": [],
   "source": []
  },
  {
   "cell_type": "code",
   "execution_count": null,
   "metadata": {},
   "outputs": [],
   "source": []
  },
  {
   "cell_type": "code",
   "execution_count": null,
   "metadata": {},
   "outputs": [],
   "source": []
  },
  {
   "cell_type": "code",
   "execution_count": null,
   "metadata": {},
   "outputs": [],
   "source": []
  },
  {
   "cell_type": "code",
   "execution_count": null,
   "metadata": {},
   "outputs": [],
   "source": []
  }
 ],
 "metadata": {
  "kernelspec": {
   "display_name": "Python 3",
   "language": "python",
   "name": "python3"
  },
  "language_info": {
   "codemirror_mode": {
    "name": "ipython",
    "version": 3
   },
   "file_extension": ".py",
   "mimetype": "text/x-python",
   "name": "python",
   "nbconvert_exporter": "python",
   "pygments_lexer": "ipython3",
   "version": "3.8.3"
  }
 },
 "nbformat": 4,
 "nbformat_minor": 4
}
