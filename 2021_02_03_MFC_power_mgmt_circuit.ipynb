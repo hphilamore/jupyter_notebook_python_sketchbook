{
 "cells": [
  {
   "cell_type": "markdown",
   "metadata": {},
   "source": [
    "# Power management circuit\n",
    "\n",
    "- Determine values of PMGMT circuit components using MFC energy data\n",
    "- Estimate max number of samples that can be taken per cycle given the energy generated for each COD value\n",
    "\n",
    "<br><img src=\"img/circuitschem.jpg\" alt=\"Drawing\" style=\"width: 500px;\"/>"
   ]
  },
  {
   "cell_type": "code",
   "execution_count": 4,
   "metadata": {},
   "outputs": [],
   "source": [
    "import numpy as np\n",
    "import pandas as pd"
   ]
  },
  {
   "cell_type": "markdown",
   "metadata": {},
   "source": [
    "### Power MGMT components\n",
    "\n",
    "Comparator: LTC1540 <br>https://www.analog.com/media/en/technical-documentation/data-sheets/1540fb.pdf\n",
    "<br>Required to allow cold-start of the device for in-field operation. \n",
    "\n",
    "Regulator: TPS7A02 <br>https://www.ti.com/lit/ds/symlink/tps7a02.pdf?ts=1592828671056&ref_url=https%253A%252F%252Fwww.google.com%252F\n",
    "<br>Required to run the pic microcontroller at 1.8 V\n"
   ]
  },
  {
   "cell_type": "markdown",
   "metadata": {},
   "source": [
    "\n",
    "\n",
    "\n",
    "\n",
    "Maximum and minimum rated supply voltages."
   ]
  },
  {
   "cell_type": "code",
   "execution_count": 48,
   "metadata": {},
   "outputs": [],
   "source": [
    "# max, min allowable supply voltage for regulator\n",
    "Vmax = 6 \n",
    "Vmin = 2.3 # lowest Vin for Vout = 1.8V "
   ]
  },
  {
   "cell_type": "markdown",
   "metadata": {},
   "source": [
    "### Energy harvested"
   ]
  },
  {
   "cell_type": "code",
   "execution_count": 85,
   "metadata": {},
   "outputs": [
    {
     "data": {
      "text/plain": [
       "array([10.14576,  8.64816,  3.9912 ,  1.1592 ])"
      ]
     },
     "execution_count": 85,
     "metadata": {},
     "output_type": "execute_result"
    }
   ],
   "source": [
    "# Energy output from single batch feed MFC, Joules (J) \n",
    "# @ different COD values\n",
    "\n",
    "Ea = np.array([21.137,  # COD = 900\n",
    "               18.017,  # COD = 500\n",
    "               8.315,   # COD = 300\n",
    "               2.415    # COD = 70\n",
    "               ])\n",
    "\n",
    "# Energy harvested, Joules (J) \n",
    "Ea *= 0.48 # apply energy harvesting efficiency\n",
    "Ea"
   ]
  },
  {
   "cell_type": "markdown",
   "metadata": {},
   "source": [
    "### Energy consumed\n",
    "\n",
    "Energy consumed in one COD analysis cycle (1 week) \n",
    "    \n",
    "$E_{out} = nE_{sa} + E_{e} + E_{sl} + E_{r} + E_{c}$\n",
    "\n",
    "where \n",
    "<br>$n = $ number of samples\n",
    "<br>$E_{sa} = $ energy sample\n",
    "<br>$E_{e} = $ energy estimate\n",
    "<br>$E_{sl} = $ energy sleep\n",
    "<br>$E_{r} = $ energy regulator\n",
    "<br>$E_{c} = $ energy comparator\n",
    "\n",
    "#### Microcontroller operations $E_{sa}, E_{e}, E_{sl}$ "
   ]
  },
  {
   "cell_type": "code",
   "execution_count": 86,
   "metadata": {},
   "outputs": [
    {
     "name": "stdout",
     "output_type": "stream",
     "text": [
      "[2.124e-03 5.130e-03 4.000e-08]\n",
      "[0.0002 0.0015 0.0218]\n"
     ]
    }
   ],
   "source": [
    "# Micro-controller operations\n",
    "mc_ops = ['sample', 'estimate', 'sleep']\n",
    "\n",
    "\n",
    "# execution time (s) [measured empirically]\n",
    "week = 7*24*60*60\n",
    "exec_time = [0.1, 0.3, week]\n",
    "\n",
    "\n",
    "# current [measured empirically]\n",
    "current = np.array([1.18e-3, 2.85e-3, 2e-8]) \n",
    "\n",
    "\n",
    "# voltage [operting voltage of microcontroller]\n",
    "voltage = 1.8 # \n",
    "\n",
    "\n",
    "# power\n",
    "power = voltage * current\n",
    "print(np.round(power,8))\n",
    "\n",
    "\n",
    "# energy \n",
    "e_mc = power * exec_time \n",
    "print(np.round(e_mc,4))\n",
    "\n",
    "Esa = e_mc[0]\n",
    "Ee  = e_mc[1]\n",
    "Esl = e_mc[2]\n",
    "\n",
    "# # total energy, microcontroller\n",
    "# Emc = sum(emc)\n",
    "# Emc"
   ]
  },
  {
   "cell_type": "markdown",
   "metadata": {},
   "source": [
    "#### Power MGMT operations - estimating performance from data sheet\n",
    "\n",
    "The supply voltage to the comparator and voltage regulator is not constant. \n",
    "<br>It depends on the rate of discharge of the capacitor which depends on the resistance of the circuit, which is non-linear. \n",
    "<br>Deriving an equation for the power consumption precisely is therefore:\n",
    "1. Beyond the scope of this study (we do not have a mathematical model for the dynamic behaviour of each component)\n",
    "1. Of limited value since the amout of energy stored in the capacitor will vary with each cycle due to the stochasicity of the MFC behaviour. \n",
    "\n",
    "However, the following estimates can be made using information from the component data sheets about the relationship between voltage and current. \n",
    "\n",
    "###### 1.8V Regulator : TPS7A02\n",
    "Quiescent current (IQ) is the current required to power the regulator's internal circuitry when the external load current is zero.\n",
    "<br>Ground current (IGND) is the difference between the input and output currents, and necessarily includes the quiescent current. <br>A low ground current maximizes the LDO efficiency.\n",
    "\n",
    "    IGND= IIN– IOUT\n",
    "\n",
    "<table><tr><td> \n",
    "<img src='img/TPS7A02_ground.png' style=\"width: 400px;\"> </td><td> \n",
    "<img src='img/TPS7A02_quiescent.png' style=\"width: 400px;\"> </td><td> \n",
    "</table>\n",
    "    \n",
    "Assumptions:\n",
    "- Ground current = :\n",
    "    - 25nA @ 20nA ouput (microcontroller sleep = 20nA)\n",
    "    - 10uA @ mA ouput (microcontroller estimate = 2.85mA)\n",
    "    \n",
    "- Voltage = `Vmax`\n",
    "    \n",
    "\n",
    "\n"
   ]
  },
  {
   "cell_type": "markdown",
   "metadata": {},
   "source": [
    "###### Comparator : LTC1540\n",
    "\n",
    "<table><tr><td> \n",
    "<img src='img/IT_LTC1540.png' style=\"width: 300px;\"> </td><td> \n",
    "<img src='img/IV_LTC1540.png' style=\"width: 300px;\"> </td><td> \n",
    "</table>\n",
    "\n",
    "Assumptions:\n",
    "- Ground current = 0.3uA\n",
    "- Voltage = `Vmax`"
   ]
  },
  {
   "cell_type": "code",
   "execution_count": 87,
   "metadata": {},
   "outputs": [
    {
     "name": "stdout",
     "output_type": "stream",
     "text": [
      "[1.5e-07 1.8e-06]\n",
      "[0.0907 1.0886]\n"
     ]
    }
   ],
   "source": [
    "pm_ops = ['comparator', 'regulator']\n",
    "\n",
    "# execution time (s) \n",
    "exec_time = week \n",
    "\n",
    "\n",
    "# current \n",
    "current = np.array([25e-9, 3e-7]) \n",
    "\n",
    "\n",
    "# voltage \n",
    "voltage = Vmax \n",
    "\n",
    "\n",
    "# power\n",
    "power = voltage * current\n",
    "print(np.round(power,8))\n",
    "\n",
    "\n",
    "# energy \n",
    "e_mgmt = power * exec_time \n",
    "print(np.round(e_mgmt,4))\n",
    "\n",
    "Ec = e_mgmt[0]\n",
    "Er = e_mgmt[1]\n",
    "\n",
    "\n",
    "# # total energy, power MGMT\n",
    "# Emgmt = sum(emgmt)\n",
    "# Emgmt"
   ]
  },
  {
   "cell_type": "markdown",
   "metadata": {},
   "source": [
    "### Potential for energy autonomy \n",
    "\n",
    "Energy consumed in one COD analysis cycle (1 week) \n",
    "    \n",
    "$E_{out} = nE_{sa} + E_{e} + E_{sl} + E_{r} + E_{c}$\n",
    "\n",
    "where \n",
    "<br>$n = $ number of samples\n",
    "<br>$E_{sa} = $ energy sample\n",
    "<br>$E_{e} = $ energy estimate\n",
    "<br>$E_{sl} = $ energy sleep\n",
    "<br>$E_{r} = $ energy regulator\n",
    "<br>$E_{c} = $ energy comparator"
   ]
  },
  {
   "cell_type": "code",
   "execution_count": 88,
   "metadata": {},
   "outputs": [],
   "source": [
    "def calc_Eout(n): \n",
    "    return n*Esa + Ee + Esl + Er + Ec"
   ]
  },
  {
   "cell_type": "markdown",
   "metadata": {},
   "source": [
    "### Size of capacitor\n",
    "\n",
    "The minimum rated input voltage, for the regulator (TPS7A02) used to supply an output of 1.8 V was 2.3 V. Therefore the 'switch off' voltage of the microcontroller $V_{min}=$2.3 V. \n",
    "\n",
    "The capacitor must be able to store at least enough energy for one COD analysis cycle $E_{out}^{'}$, in addition to the energy stored at $V_{min}$, without exceeding the maximum rated voltage of the circuit components $V_{max}$=6 V:\n",
    "\n",
    "$C >  \\frac{2E_{out}}{(V_{max}^2-V_{min}^{2})}$"
   ]
  },
  {
   "cell_type": "code",
   "execution_count": 89,
   "metadata": {},
   "outputs": [],
   "source": [
    "def calc_C(E_out):\n",
    "    return 2 * E_out / (Vmax**2 - Vmin**2)"
   ]
  },
  {
   "cell_type": "markdown",
   "metadata": {},
   "source": [
    "A 0.66 F capacitor was used as this is a widely available standard value that satisfies the inequality"
   ]
  },
  {
   "cell_type": "code",
   "execution_count": 90,
   "metadata": {},
   "outputs": [],
   "source": [
    "C = 0.66"
   ]
  },
  {
   "cell_type": "markdown",
   "metadata": {},
   "source": [
    "### Comparator hysterisis\n",
    "\n",
    "#### Threshold voltages\n",
    "\n",
    "Low\n",
    "\n",
    "$V_{tl}=V_{min}$=2.3 V\n",
    "\n",
    "High (when energy in capacitor, $E_{cap} = E_{out} + 0.5CV_{min}^{2}$)\n",
    "\n",
    "$V_{th} = \\sqrt{\\frac{2E_{out}}{C} + V_{tl}^{2}}$"
   ]
  },
  {
   "cell_type": "code",
   "execution_count": 91,
   "metadata": {},
   "outputs": [],
   "source": [
    "def calc_Vth(Eout, C, Vtl):\n",
    "    return np.sqrt((2*Eout / C) + Vtl**2)   "
   ]
  },
  {
   "cell_type": "code",
   "execution_count": 92,
   "metadata": {},
   "outputs": [
    {
     "name": "stdout",
     "output_type": "stream",
     "text": [
      " sampling interval = 2 mins \n",
      " Eout 2.273 J \n",
      " capacitor 0.66 F \n",
      " Vtl 2.3 V \n",
      " Vth 3.49 V\n",
      "\n",
      " sampling interval = 2 mins \n",
      " Eout 1.27 J \n",
      " capacitor 0.66 F \n",
      " Vtl 2.3 V \n",
      " Vth 3.023 V\n",
      "\n"
     ]
    }
   ],
   "source": [
    "# sampling interval = 2 mins\n",
    "Eout = calc_Eout(5040) \n",
    "C = calc_C(Eout)\n",
    "C = 0.66\n",
    "Vtl = Vmin\n",
    "Vth = calc_Vth(Eout, C, Vtl)\n",
    "print(f' sampling interval = 2 mins \\n Eout {round(Eout,3)} J \\n capacitor {C} F \\n Vtl {Vmin} V \\n Vth {round(Vth, 3)} V', end='\\n\\n')\n",
    "\n",
    "# sampling interval = 32 mins\n",
    "Eout = calc_Eout(315) \n",
    "C = calc_C(Eout)\n",
    "C = 0.66\n",
    "Vtl = Vmin\n",
    "Vth = calc_Vth(Eout, C, Vtl)\n",
    "print(f' sampling interval = 2 mins \\n Eout {round(Eout,3)} J \\n capacitor {C} F \\n Vtl {Vmin} V \\n Vth {round(Vth, 3)} V', end='\\n\\n')"
   ]
  },
  {
   "cell_type": "markdown",
   "metadata": {},
   "source": [
    "https://www.maximintegrated.com/en/design/technical-documents/app-notes/3/3616.html\n",
    "\n",
    "<br><img src=\"img/comparator.png\" alt=\"Drawing\" style=\"width: 500px;\"/>\n",
    "\n",
    "Note, in this case the comparator is powered by the capacitor whose voltage is being monitored $V_{cc}\\equiv V_{cap}$"
   ]
  },
  {
   "cell_type": "markdown",
   "metadata": {},
   "source": [
    "Two equations for R3, choose lower value\n",
    "\n",
    "$R_3= \\frac{V_{r}}{i_3} ,V_{out}=0$ \n",
    "\n",
    "\n",
    "$R_3= \\frac{(V_{cc}-V_{r})}{i_3} ,V_{out}=V_{cc}$ \n",
    "($V_{cc}\\equiv V_{cap} = V_{tl}$)"
   ]
  },
  {
   "cell_type": "code",
   "execution_count": 93,
   "metadata": {},
   "outputs": [],
   "source": [
    "# Step 1 : Calculate  R3\n",
    "\n",
    "def calc_R3(Vref, ir3=0.2E-6, Vcc=5):\n",
    "    \"calculate resister R3 based on selected current ir3\"\n",
    "    \n",
    "    #                                                _________\n",
    "    # R3 = (Vref-Vout)/ir3, when OUT=low -->  Vref--|_________|--Vout=0\n",
    "    #                                                   R3\n",
    "    R3a = Vref / ir3 \n",
    "    \n",
    "    \n",
    "    #                                                _________\n",
    "    # R3 = (Vcc-Vref)/ir3, when OUT=high -->  Vref--|_________|--Vout=Vcc\n",
    "    #                                                   R3\n",
    "    R3b = (Vcc - Vref) / ir3 \n",
    "    \n",
    "    \n",
    "    R3 = [r for r in [R3a, R3b] if r>0] # only +ve values\n",
    "    \n",
    "    return( round( min(R3), -4) )       # return minimum positive value of R3"
   ]
  },
  {
   "cell_type": "code",
   "execution_count": 94,
   "metadata": {},
   "outputs": [],
   "source": [
    "# Step 2 : Decide hysteresis bandwidth\n",
    "\n",
    "def calc_Vhb(Vth, Vtl):\n",
    "    return Vth - Vtl"
   ]
  },
  {
   "cell_type": "markdown",
   "metadata": {},
   "source": [
    "Calculate R1 by equating equations below, eliminating $R_2$:\n",
    "\n",
    "$\\frac{V_r}{R_2}= \\frac{(V_{th}-V_r)}{R_1} - \\frac{V_r}{R_3}$     \n",
    "when $V_{out}=0$ \n",
    "\n",
    "$\\frac{V_r}{R_2}=\\frac{(V_{tl}-V_r)}{R_1} + \\frac{(V_{cc}-V_r)}{R_3}$\n",
    "<br>when $V_{out}=V_{tl}$ \n",
    "\n",
    "($V_{cc}\\equiv V_{cap} = V_{tl}$)"
   ]
  },
  {
   "cell_type": "code",
   "execution_count": 95,
   "metadata": {},
   "outputs": [],
   "source": [
    "# Step 3 : Calculate R1\n",
    "\n",
    "def calc_R1(R3, Vhb, Vcc=5):\n",
    "    return round( R3 * Vhb / Vcc, -4 )"
   ]
  },
  {
   "cell_type": "code",
   "execution_count": 96,
   "metadata": {},
   "outputs": [],
   "source": [
    "# Step 4 : Choose Vth\n",
    "# Vth = 5.2"
   ]
  },
  {
   "cell_type": "markdown",
   "metadata": {},
   "source": [
    "Use either of the equations above to find R2"
   ]
  },
  {
   "cell_type": "code",
   "execution_count": 97,
   "metadata": {},
   "outputs": [],
   "source": [
    "# Step 5 : Calculate R2\n",
    "def calc_R2(R1, R3, Vref, Vth):\n",
    "    return round( Vref / ( ((Vth - Vref)/R1) - (Vref/R3) ), -4)"
   ]
  },
  {
   "cell_type": "code",
   "execution_count": 98,
   "metadata": {},
   "outputs": [],
   "source": [
    "# Step 5 : Verify threshold voltages\n",
    "\n",
    "def calc_VTH(R1, R2, R3, Vref):\n",
    "    return Vref * R1 * ((1/R1) + (1/R2) + (1/R3))\n",
    "\n",
    "def calc_VTL(R1, R3, Vth, Vcc=5):\n",
    "    if Vcc == Vtl:\n",
    "        return Vref * (1 / (R2 * (1/R1 + 1/R3)) + 1)\n",
    "    else:     \n",
    "        return Vth - (R1 * Vcc / R3)"
   ]
  },
  {
   "cell_type": "markdown",
   "metadata": {},
   "source": [
    "### Calculate resistors"
   ]
  },
  {
   "cell_type": "code",
   "execution_count": 99,
   "metadata": {},
   "outputs": [
    {
     "name": "stdout",
     "output_type": "stream",
     "text": [
      "3.022781079493759 2.3\n"
     ]
    }
   ],
   "source": [
    "# System A \n",
    "# a : comparator:LTC1540, 1.8V voltage regulator:TPS7A02\n",
    "\n",
    "Vref = 1.18\n",
    "print(Vth, Vtl)"
   ]
  },
  {
   "cell_type": "code",
   "execution_count": 100,
   "metadata": {},
   "outputs": [
    {
     "name": "stdout",
     "output_type": "stream",
     "text": [
      "5.600e+06\n"
     ]
    }
   ],
   "source": [
    "# Step 1 : Calculate  R3 \n",
    "R3 = calc_R3(Vref, Vcc=Vtl)\n",
    "print('{:.3e}'.format(R3))"
   ]
  },
  {
   "cell_type": "code",
   "execution_count": 101,
   "metadata": {},
   "outputs": [
    {
     "name": "stdout",
     "output_type": "stream",
     "text": [
      "0.722781079493759\n"
     ]
    }
   ],
   "source": [
    "# Step 2 : Decide hysteresis bandwidth\n",
    "Vhb = calc_Vhb(Vth, Vtl)\n",
    "print(Vhb)"
   ]
  },
  {
   "cell_type": "code",
   "execution_count": 102,
   "metadata": {},
   "outputs": [
    {
     "name": "stdout",
     "output_type": "stream",
     "text": [
      "1.760e+06\n"
     ]
    }
   ],
   "source": [
    "# Step 3 : Calculate R1\n",
    "R1 = calc_R1(R3, Vhb, Vcc=Vtl)\n",
    "\n",
    "print('{:.3e}'.format(R1))"
   ]
  },
  {
   "cell_type": "code",
   "execution_count": 103,
   "metadata": {},
   "outputs": [
    {
     "name": "stdout",
     "output_type": "stream",
     "text": [
      "1.410000e+06\n"
     ]
    }
   ],
   "source": [
    "# Step 5 : Calculate R2\n",
    "R2 = calc_R2(R1, R3, Vref, Vth)\n",
    "\n",
    "print('{:.6e}'.format(R2))"
   ]
  },
  {
   "cell_type": "code",
   "execution_count": 104,
   "metadata": {},
   "outputs": [
    {
     "name": "stdout",
     "output_type": "stream",
     "text": [
      "Vth =3.024e+00\n",
      "Vtl =2.301e+00\n"
     ]
    }
   ],
   "source": [
    "# Verify thresholds \n",
    "VTH = calc_VTH(R1, R2, R3, Vref)\n",
    "VTL = calc_VTL(R1, R3, VTH, Vcc=Vtl)\n",
    "\n",
    "print('Vth =' + '{:.3e}'.format(VTH) + '\\n' + 'Vtl =' + '{:.3e}'.format(VTL))"
   ]
  },
  {
   "cell_type": "markdown",
   "metadata": {},
   "source": [
    "### Calculations used in journal paper (new threshold voltages)  "
   ]
  },
  {
   "cell_type": "code",
   "execution_count": 105,
   "metadata": {},
   "outputs": [],
   "source": [
    "# System A \n",
    "# a : comparator:LTC1540, 1.8V voltage regulator:TPS7A02\n",
    "Vref = 1.18\n",
    "Vth = 5.44 \n",
    "Vtl = 2.3"
   ]
  },
  {
   "cell_type": "code",
   "execution_count": 106,
   "metadata": {},
   "outputs": [
    {
     "name": "stdout",
     "output_type": "stream",
     "text": [
      "5.600e+06\n"
     ]
    }
   ],
   "source": [
    "# Step 1 : Calculate  R3 \n",
    "R3 = calc_R3(Vref, Vcc=Vtl)\n",
    "print('{:.3e}'.format(R3))"
   ]
  },
  {
   "cell_type": "code",
   "execution_count": 107,
   "metadata": {},
   "outputs": [],
   "source": [
    "# Step 2 : Decide hysteresis bandwidth\n",
    "Vhb = calc_Vhb(Vth, Vtl)"
   ]
  },
  {
   "cell_type": "code",
   "execution_count": 108,
   "metadata": {},
   "outputs": [
    {
     "name": "stdout",
     "output_type": "stream",
     "text": [
      "7.650e+06\n"
     ]
    }
   ],
   "source": [
    "# Step 3 : Calculate R1\n",
    "R1 = calc_R1(R3, Vhb, Vcc=Vtl)\n",
    "\n",
    "print('{:.3e}'.format(R1))"
   ]
  },
  {
   "cell_type": "code",
   "execution_count": 109,
   "metadata": {},
   "outputs": [
    {
     "name": "stdout",
     "output_type": "stream",
     "text": [
      "3.410000e+06\n"
     ]
    }
   ],
   "source": [
    "# Step 5 : Calculate R2\n",
    "R2 = calc_R2(R1, R3, Vref, Vth)\n",
    "\n",
    "print('{:.6e}'.format(R2))"
   ]
  },
  {
   "cell_type": "code",
   "execution_count": 110,
   "metadata": {},
   "outputs": [
    {
     "name": "stdout",
     "output_type": "stream",
     "text": [
      "Vth =5.439e+00\n",
      "Vtl =2.299e+00\n"
     ]
    }
   ],
   "source": [
    "# Verify thresholds \n",
    "VTH = calc_VTH(R1, R2, R3, Vref)\n",
    "VTL = calc_VTL(R1, R3, VTH, Vcc=Vtl)\n",
    "\n",
    "print('Vth =' + '{:.3e}'.format(VTH) + '\\n' + 'Vtl =' + '{:.3e}'.format(VTL))"
   ]
  },
  {
   "cell_type": "markdown",
   "metadata": {},
   "source": [
    "###### <br><img src=\"img/Power_mgmt_derivation2.png\" alt=\"Drawing\" style=\"width: 300px;\"/>"
   ]
  },
  {
   "cell_type": "markdown",
   "metadata": {},
   "source": [
    "###### <br><img src=\"img/Power_mgmt_derivation.png\" alt=\"Drawing\" style=\"width: 2000px;\"/>"
   ]
  },
  {
   "cell_type": "markdown",
   "metadata": {},
   "source": [
    "###### <br><img src=\"img/Power_mgmt_circuit_calculations-page-001.jpg\" alt=\"Drawing\" style=\"width: 1000px;\"/>\n",
    "\n",
    "<br><img src=\"img/Power_mgmt_circuit_calculations-page-002.jpg\" alt=\"Drawing\" style=\"width: 1000px;\"/>\n",
    "<br><img src=\"img/Power_mgmt_circuit_calculations-page-002_.png\" alt=\"Drawing\" style=\"width: 1000px;\"/>\n",
    "\n",
    "<br><img src=\"img/Power_mgmt_circuit_calculations-page-003.jpg\" alt=\"Drawing\" style=\"width: 1000px;\"/>\n",
    "\n",
    "<br><img src=\"img/Power_mgmt_circuit_calculations-page-004.jpg\" alt=\"Drawing\" style=\"width: 1000px;\"/>\n",
    "\n"
   ]
  },
  {
   "cell_type": "code",
   "execution_count": null,
   "metadata": {},
   "outputs": [],
   "source": []
  }
 ],
 "metadata": {
  "kernelspec": {
   "display_name": "Python 3",
   "language": "python",
   "name": "python3"
  },
  "language_info": {
   "codemirror_mode": {
    "name": "ipython",
    "version": 3
   },
   "file_extension": ".py",
   "mimetype": "text/x-python",
   "name": "python",
   "nbconvert_exporter": "python",
   "pygments_lexer": "ipython3",
   "version": "3.8.3"
  }
 },
 "nbformat": 4,
 "nbformat_minor": 2
}
