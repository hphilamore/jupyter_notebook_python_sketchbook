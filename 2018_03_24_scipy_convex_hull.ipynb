{
 "cells": [
  {
   "cell_type": "code",
   "execution_count": 4,
   "metadata": {},
   "outputs": [
    {
     "data": {
      "image/png": "[encoded data removed]",
      "text/plain": [
       "<Figure size 432x288 with 1 Axes>"
      ]
     },
     "metadata": {},
     "output_type": "display_data"
    }
   ],
   "source": [
    "\n",
    "# Plot the convex hull around a set of points as a shaded polygon.\n",
    "#  hull_plot.py\n",
    "# -*- coding: utf-8 -*-\n",
    "\"\"\"\n",
    "Plot the convex hull around a set of points as a\n",
    "shaded polygon.\n",
    "@author: Nicolas Guarin Zapata\n",
    "@date: October 15, 2014\n",
    "\"\"\"\n",
    "import numpy as np\n",
    "\n",
    "from scipy.spatial import ConvexHull\n",
    "import matplotlib.pyplot as plt\n",
    "from matplotlib.patches import Polygon\n",
    "%matplotlib inline\n",
    "\n",
    "points = np.random.rand(30, 2)   # 30 random points in 2-D\n",
    "hull = ConvexHull(points)\n",
    "\n",
    "plt.plot(points[:,0], points[:,1], 'o')\n",
    "cent = np.mean(points, 0)\n",
    "pts = []\n",
    "for pt in points[hull.simplices]:\n",
    "    pts.append(pt[0].tolist())\n",
    "    pts.append(pt[1].tolist())\n",
    "\n",
    "pts.sort(key=lambda p: np.arctan2(p[1] - cent[1],\n",
    "                                p[0] - cent[0]))\n",
    "pts = pts[0::2]  # Deleting duplicates\n",
    "pts.insert(len(pts), pts[0])\n",
    "k = 1.1\n",
    "color = 'green'\n",
    "poly = Polygon(k*(np.array(pts)- cent) + cent,\n",
    "               facecolor=color, alpha=0.2)\n",
    "poly.set_capstyle('round')\n",
    "plt.gca().add_patch(poly)\n",
    "\n",
    "plt.savefig('convex.png')\n",
    "\n"
   ]
  },
  {
   "cell_type": "code",
   "execution_count": null,
   "metadata": {
    "collapsed": true
   },
   "outputs": [],
   "source": []
  }
 ],
 "metadata": {
  "kernelspec": {
   "display_name": "ILAS_py_for_everyone_env",
   "language": "python",
   "name": "ilas_py_for_everyone_env"
  },
  "language_info": {
   "codemirror_mode": {
    "name": "ipython",
    "version": 3
   },
   "file_extension": ".py",
   "mimetype": "text/x-python",
   "name": "python",
   "nbconvert_exporter": "python",
   "pygments_lexer": "ipython3",
   "version": "3.6.2"
  }
 },
 "nbformat": 4,
 "nbformat_minor": 2
}
