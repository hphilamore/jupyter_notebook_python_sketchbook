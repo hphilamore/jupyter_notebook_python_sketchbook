{
 "cells": [
  {
   "cell_type": "markdown",
   "metadata": {},
   "source": [
    "Generates n instances of a basic students project selection matrix and saves each as a csv file. \n",
    "\n",
    "Students may rank 5 selected projects. \n",
    "\n",
    "All unselected projects are ranked 0 unless otherwise specified. "
   ]
  },
  {
   "cell_type": "code",
   "execution_count": 29,
   "metadata": {},
   "outputs": [],
   "source": [
    "import numpy as np\n",
    "import random\n",
    "from scipy.optimize import linear_sum_assignment\n",
    "import csv"
   ]
  },
  {
   "cell_type": "code",
   "execution_count": 30,
   "metadata": {},
   "outputs": [],
   "source": [
    "n_students = 10\n",
    "n_projects = 15\n",
    "n_choices = 5"
   ]
  },
  {
   "cell_type": "code",
   "execution_count": 31,
   "metadata": {},
   "outputs": [],
   "source": [
    "def project_capacity(n_projects, projects, capacity):\n",
    "    \"\"\"\n",
    "    Generates a vector with capacity of each of N projects    \n",
    "    \"\"\"\n",
    "    \n",
    "    project_capacity = np.ones(n_projects, dtype=int)\n",
    "    \n",
    "    for p, c in zip(projects, capacity):\n",
    "        project_capacity[p] = c\n",
    "        \n",
    "    project_capacity = list(project_capacity)\n",
    "    \n",
    "    return project_capacity\n",
    "\n",
    "#project_capacity(n_projects, [2,3,10,12], [2,2,3,3])\n",
    "    "
   ]
  },
  {
   "cell_type": "code",
   "execution_count": 32,
   "metadata": {},
   "outputs": [],
   "source": [
    "def build_cost_matrix(n_students, n_projects, n_choices, unselected=0):\n",
    "    \"\"\"\n",
    "    Creates a student project selection form\n",
    "    Unselected projects indicated by zero by default\n",
    "    \"\"\"\n",
    "    students = list(range(n_students))\n",
    "    projects = list(range(n_projects))\n",
    "\n",
    "    cost_matrix = []\n",
    "    \n",
    "    for s in students:\n",
    "        selections = [unselected for p in projects] # assigns a suitably high number to all unselected projects\n",
    "        \n",
    "        # selects n ranked choices per student for projects selected randomly from a weighted probability distribution\n",
    "        for n in range(1, n_choices+1):\n",
    "            \n",
    "            element = random.choices(np.arange(n_projects), weights=np.linspace(0, 1, n_projects))\n",
    "            \n",
    "            selections[element[0]] = n\n",
    "            \n",
    "        # repeat the last two entries to represent two projects that can each accept 2 students \n",
    "        # selections = selections + selections[-2:] \n",
    "            \n",
    "        cost_matrix.append(selections)\n",
    "        \n",
    "    capacity = project_capacity(n_projects,                        # project capacity vector\n",
    "                                [2,3,10,12], \n",
    "                                [2,2,3,3]) \n",
    "    \n",
    "    #return np.array(cost_matrix)\n",
    "    \n",
    "    return cost_matrix, capacity\n",
    "    "
   ]
  },
  {
   "cell_type": "code",
   "execution_count": 33,
   "metadata": {},
   "outputs": [],
   "source": [
    "def build_ideal_cost_matrix(n_students, n_projects, n_choices):\n",
    "    \n",
    "    \"\"\"\n",
    "    Creates an ideal student project selection form where each \n",
    "    student has uniquely ranked their first choice 1\n",
    "    Unselected projects indicated by zero\n",
    "    \"\"\"\n",
    "\n",
    "    A = np.identity(n_students, dtype=int)                          # ensure all students have uniquely chosen first choice\n",
    "\n",
    "    B = np.zeros((n_students, n_projects-n_students), dtype=int)    # add extra projects\n",
    "\n",
    "    cost_matrix = np.hstack((A,B))                                  # combine to form project selection matrix\n",
    "\n",
    "    cost_matrix=cost_matrix.tolist()\n",
    "\n",
    "    for i in range(len(cost_matrix)):\n",
    "\n",
    "        # selects n ranked choices per student \n",
    "        for n in range(2, n_choices+1):\n",
    "\n",
    "            element = random.choices(np.arange(n_projects), weights=np.linspace(0, 1, n_projects))\n",
    "\n",
    "            while cost_matrix[i][element[0]]>0:\n",
    "                element = random.choices(np.arange(n_projects), weights=np.linspace(0, 1, n_projects))\n",
    "\n",
    "            cost_matrix[i][element[0]]=n\n",
    "            \n",
    "    \n",
    "    \n",
    "    capacity = project_capacity(n_projects,                        # project capacity vector\n",
    "                                [2,3,10,12], \n",
    "                                [2,2,3,3]) \n",
    "    \n",
    "    return cost_matrix, capacity"
   ]
  },
  {
   "cell_type": "code",
   "execution_count": 34,
   "metadata": {},
   "outputs": [],
   "source": [
    "def generate_data_set(func, filename):\n",
    "    \n",
    "    # build student project selection form\n",
    "    cost_matrix, capacity = func(n_students, n_projects, n_choices)        \n",
    "    \n",
    "    # store form \n",
    "    with open(f'data/student_preference_matrices/student_preference_matrix_{filename}.csv', 'w') as f:   \n",
    "        \n",
    "        w = csv.writer(f)                  # writer object\n",
    "\n",
    "        w.writerows(cost_matrix)           # list to row\n",
    "        \n",
    "    # store project capacity vector\n",
    "    with open(f'data/student_preference_matrices/project_capacity_{filename}.csv', 'w') as f:   \n",
    "        \n",
    "        w = csv.writer(f)              # writer object\n",
    "\n",
    "        w.writerow(capacity)           # list to row\n",
    "    "
   ]
  },
  {
   "cell_type": "markdown",
   "metadata": {},
   "source": [
    "Generate multiple sample data sets to use to test SPA algorithms "
   ]
  },
  {
   "cell_type": "code",
   "execution_count": 35,
   "metadata": {},
   "outputs": [],
   "source": [
    "for i in range(2):\n",
    "    \n",
    "    generate_data_set(build_cost_matrix, str(i))\n",
    "\n",
    "#     # build student project selection form\n",
    "#     cost_matrix, capacity = build_cost_matrix(n_students, n_projects)        \n",
    "    \n",
    "#     # store form \n",
    "#     with open(f'data/student_preference_matrices/student_preference_matrix_{i}.csv', 'w') as f:   \n",
    "        \n",
    "#         w = csv.writer(f)                  # writer object\n",
    "\n",
    "#         w.writerows(cost_matrix)           # list to row\n",
    "        \n",
    "#     # store project capacity vector\n",
    "#     with open(f'data/student_preference_matrices/project_capacity_{i}.csv', 'w') as f:   \n",
    "        \n",
    "#         w = csv.writer(f)              # writer object\n",
    "\n",
    "#         w.writerow(capacity)           # list to row"
   ]
  },
  {
   "cell_type": "markdown",
   "metadata": {},
   "source": [
    "Generate an ideal data set to test SPA algorithms "
   ]
  },
  {
   "cell_type": "code",
   "execution_count": 36,
   "metadata": {},
   "outputs": [],
   "source": [
    "generate_data_set(build_ideal_cost_matrix, 'ideal')\n",
    "\n",
    "# # build student project selection form\n",
    "# cost_matrix, capacity = build_ideal_cost_matrix(n_students, n_projects) \n",
    "\n",
    "\n",
    "# # store form \n",
    "# with open(f'data/student_preference_matrices/student_preference_matrix_ideal.csv', 'w') as f:   \n",
    "\n",
    "#     w = csv.writer(f)                  # writer object\n",
    "\n",
    "#     w.writerows(cost_matrix)           # list to row\n",
    "    \n",
    "    \n",
    "# # store project capacity vector\n",
    "#     with open(f'data/student_preference_matrices/project_capacity_{i}.csv', 'w') as f:   \n",
    "        \n",
    "#         w = csv.writer(f)              # writer object\n",
    "\n",
    "#         w.writerow(capacity)           # list to row"
   ]
  },
  {
   "cell_type": "code",
   "execution_count": null,
   "metadata": {},
   "outputs": [],
   "source": []
  },
  {
   "cell_type": "code",
   "execution_count": null,
   "metadata": {},
   "outputs": [],
   "source": []
  }
 ],
 "metadata": {
  "kernelspec": {
   "display_name": "Python 3",
   "language": "python",
   "name": "python3"
  },
  "language_info": {
   "codemirror_mode": {
    "name": "ipython",
    "version": 3
   },
   "file_extension": ".py",
   "mimetype": "text/x-python",
   "name": "python",
   "nbconvert_exporter": "python",
   "pygments_lexer": "ipython3",
   "version": "3.7.4"
  }
 },
 "nbformat": 4,
 "nbformat_minor": 4
}
