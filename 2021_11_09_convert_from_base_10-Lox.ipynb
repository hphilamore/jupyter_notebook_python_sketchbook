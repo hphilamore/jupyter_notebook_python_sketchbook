{
 "cells": [
  {
   "cell_type": "code",
   "execution_count": 3,
   "metadata": {},
   "outputs": [
    {
     "name": "stdout",
     "output_type": "stream",
     "text": [
      "Enter an integer in base 10 to convert to base b: 110\n",
      "What base would you like to convert it to? 16\n",
      "\n",
      "Steps: \n",
      "6 / 16 = 6 remainder 14\n",
      "6 / 16 = 0 remainder 6\n",
      "\n",
      "Now collect all the remainders\n",
      "[14, 6]\n",
      "\n",
      "Reverse the order of the remainders\n",
      "[6, 14]\n",
      "\n",
      "110 in base 16 is 6E\n"
     ]
    }
   ],
   "source": [
    "# -*- coding: utf-8 -*-\n",
    "\"\"\"\n",
    "Created on Wed Oct 20 18:33:47 2021\n",
    "\n",
    "@author: Lox Tyrrell\n",
    "\"\"\"\n",
    "\n",
    "#Convert from base 10 to base b with steps:\n",
    "\n",
    "Q1 = input(\"Enter an integer in base 10 to convert to base b: \")\n",
    "x = int(Q1)\n",
    "Q2 = input(\"What base would you like to convert it to? \")\n",
    "b = int(Q2)\n",
    "y = 0 \n",
    "base_10 = str(Q1)\n",
    "remainders = []\n",
    "\n",
    "print ()\n",
    "print (\"Steps: \")\n",
    "while x >= b:\n",
    "    y = x % b\n",
    "    x = int(x / b)\n",
    "    print (x, \"/\", b, \"=\", x, \"remainder\", y)\n",
    "    remainders.append(y)\n",
    "    \n",
    "z = int(x / b)\n",
    "j = x % b\n",
    "remainders.append(j)\n",
    "print (x, \"/\", b, \"=\", z, \"remainder\", j)\n",
    "print (\"\")\n",
    "print (\"Now collect all the remainders\")\n",
    "print (remainders)\n",
    "print (\"\")\n",
    "print (\"Reverse the order of the remainders\")\n",
    "\n",
    "remainders.reverse()\n",
    "print (remainders)\n",
    "\n",
    "answer = \"\"\n",
    "for x in remainders:\n",
    "    if x < 10:\n",
    "        answer += str(x)\n",
    "    if x == 10:\n",
    "        answer += \"A\"\n",
    "    if x == 11: \n",
    "        answer += \"B\"\n",
    "    if x == 12: \n",
    "        answer += \"C\"   \n",
    "    if x == 13: \n",
    "        answer += \"D\"  \n",
    "    if x == 14: \n",
    "        answer += \"E\"\n",
    "    if x == 15: \n",
    "        answer += \"F\"\n",
    "    if x == 16: \n",
    "        answer += \"G\"\n",
    "    if x == 17: \n",
    "        answer += \"H\"\n",
    "    if x == 18: \n",
    "        answer += \"I\"\n",
    "    if x == 19: \n",
    "        answer += \"J\"\n",
    "\n",
    "print (\"\")\n",
    "print(base_10, \"in base\", b, \"is\", answer)"
   ]
  },
  {
   "cell_type": "code",
   "execution_count": null,
   "metadata": {},
   "outputs": [],
   "source": []
  }
 ],
 "metadata": {
  "kernelspec": {
   "display_name": "Python 3",
   "language": "python",
   "name": "python3"
  },
  "language_info": {
   "codemirror_mode": {
    "name": "ipython",
    "version": 3
   },
   "file_extension": ".py",
   "mimetype": "text/x-python",
   "name": "python",
   "nbconvert_exporter": "python",
   "pygments_lexer": "ipython3",
   "version": "3.8.3"
  }
 },
 "nbformat": 4,
 "nbformat_minor": 4
}
