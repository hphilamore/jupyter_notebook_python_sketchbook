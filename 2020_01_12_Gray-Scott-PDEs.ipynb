{
 "cells": [
  {
   "cell_type": "code",
   "execution_count": 3,
   "metadata": {},
   "outputs": [
    {
     "data": {
      "image/png": "[encoded data removed]",
      "text/plain": [
       "<Figure size 288x288 with 1 Axes>"
      ]
     },
     "metadata": {},
     "output_type": "display_data"
    }
   ],
   "source": [
    "# -----------------------------------------------------------------------------\n",
    "# From Numpy to Python\n",
    "# Copyright (2017) Nicolas P. Rougier - BSD license\n",
    "# More information at https://github.com/rougier/numpy-book\n",
    "#\n",
    "# https://github.com/rougier/numpy-tutorial/blob/master/README.rst\n",
    "#    \n",
    "# -----------------------------------------------------------------------------\n",
    "import numpy as np\n",
    "import matplotlib.pyplot as plt\n",
    "from matplotlib.animation import FuncAnimation\n",
    "\n",
    "\n",
    "# Parameters from http://www.aliensaint.com/uo/java/rd/\n",
    "# -----------------------------------------------------\n",
    "n = 256\n",
    "Du, Dv, F, k = 0.16, 0.08, 0.035, 0.065  # Bacteria 1\n",
    "# Du, Dv, F, k = 0.14, 0.06, 0.035, 0.065  # Bacteria 2\n",
    "# Du, Dv, F, k = 0.16, 0.08, 0.060, 0.062  # Coral\n",
    "# Du, Dv, F, k = 0.19, 0.05, 0.060, 0.062  # Fingerprint\n",
    "# Du, Dv, F, k = 0.10, 0.10, 0.018, 0.050  # Spirals\n",
    "# Du, Dv, F, k = 0.12, 0.08, 0.020, 0.050  # Spirals Dense\n",
    "# Du, Dv, F, k = 0.10, 0.16, 0.020, 0.050  # Spirals Fast\n",
    "# Du, Dv, F, k = 0.16, 0.08, 0.020, 0.055  # Unstable\n",
    "# Du, Dv, F, k = 0.16, 0.08, 0.050, 0.065  # Worms 1\n",
    "# Du, Dv, F, k = 0.16, 0.08, 0.054, 0.063  # Worms 2\n",
    "# Du, Dv, F, k = 0.16, 0.08, 0.035, 0.060  # Zebrafish\n",
    "\n",
    "\n",
    "Z = np.zeros((n+2, n+2), [('U', np.double),\n",
    "                          ('V', np.double)])\n",
    "U, V = Z['U'], Z['V']\n",
    "u, v = U[1:-1, 1:-1], V[1:-1, 1:-1]\n",
    "\n",
    "r = 20\n",
    "u[...] = 1.0\n",
    "U[n//2-r:n//2+r, n//2-r:n//2+r] = 0.50\n",
    "V[n//2-r:n//2+r, n//2-r:n//2+r] = 0.25\n",
    "u += 0.05*np.random.uniform(-1, +1, (n, n))\n",
    "v += 0.05*np.random.uniform(-1, +1, (n, n))\n",
    "\n",
    "\n",
    "def update(frame):\n",
    "    global U, V, u, v, im\n",
    "\n",
    "    for i in range(10):\n",
    "        Lu = (                  U[0:-2, 1:-1] +\n",
    "              U[1:-1, 0:-2] - 4*U[1:-1, 1:-1] + U[1:-1, 2:] +\n",
    "                                U[2:  , 1:-1])\n",
    "        Lv = (                  V[0:-2, 1:-1] +\n",
    "              V[1:-1, 0:-2] - 4*V[1:-1, 1:-1] + V[1:-1, 2:] +\n",
    "                                V[2:  , 1:-1])\n",
    "        uvv = u*v*v\n",
    "        u += (Du*Lu - uvv + F*(1-u))\n",
    "        v += (Dv*Lv + uvv - (F+k)*v)\n",
    "\n",
    "    im.set_data(V)\n",
    "    im.set_clim(vmin=V.min(), vmax=V.max())\n",
    "\n",
    "fig = plt.figure(figsize=(4, 4))\n",
    "fig.add_axes([0.0, 0.0, 1.0, 1.0], frameon=False)\n",
    "im = plt.imshow(V, interpolation='bicubic', cmap=plt.cm.viridis)\n",
    "plt.xticks([]), plt.yticks([])\n",
    "animation = FuncAnimation(fig, update, interval=10, frames=300)\n",
    "animation.save('gray-scott-1.mp4', fps=40, dpi=80, bitrate=-1, codec=\"libx264\",\n",
    "               extra_args=['-pix_fmt', 'yuv420p'],\n",
    "               metadata={'artist':'Nicolas P. Rougier'})\n",
    "#plt.show()"
   ]
  },
  {
   "cell_type": "code",
   "execution_count": null,
   "metadata": {},
   "outputs": [],
   "source": []
  }
 ],
 "metadata": {
  "kernelspec": {
   "display_name": "Python 3",
   "language": "python",
   "name": "python3"
  },
  "language_info": {
   "codemirror_mode": {
    "name": "ipython",
    "version": 3
   },
   "file_extension": ".py",
   "mimetype": "text/x-python",
   "name": "python",
   "nbconvert_exporter": "python",
   "pygments_lexer": "ipython3",
   "version": "3.7.4"
  }
 },
 "nbformat": 4,
 "nbformat_minor": 2
}
