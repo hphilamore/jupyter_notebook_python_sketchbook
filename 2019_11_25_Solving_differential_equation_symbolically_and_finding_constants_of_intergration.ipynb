{
 "cells": [
  {
   "cell_type": "markdown",
   "metadata": {},
   "source": [
    "### This method uses fewer steps than the previous version "
   ]
  },
  {
   "cell_type": "markdown",
   "metadata": {},
   "source": [
    "### Parachutist\n",
    "\n",
    "Find the variation of speed with time of a parachutist subject to a drag force of $kv^{2}$.\n",
    "\n",
    "The equations to solve is\n",
    "\n",
    "$$\n",
    "\\frac{m}{k} \\frac{dv}{dt} = \\alpha^{2} - v^{2}\n",
    "$$\n",
    "\n",
    "where $m$ is mass, $k$ is a prescribed constant, $v$ is the velocity, $t$ is time and $\\alpha^{2} = mg/k$ ($g$ is acceleration due to gravity).\n",
    "\n",
    "We specify the symbols, unknown function $v$ and the differential equation"
   ]
  },
  {
   "cell_type": "code",
   "execution_count": 2,
   "metadata": {},
   "outputs": [],
   "source": [
    "import sympy as sp\n",
    "from sympy import dsolve, solve, symbols, Symbol, Function, Eq, pprint, init_printing\n",
    "\n",
    "# This initialises pretty printing\n",
    "init_printing() \n",
    "from IPython.display import display"
   ]
  },
  {
   "cell_type": "code",
   "execution_count": 3,
   "metadata": {},
   "outputs": [
    {
     "data": {
      "image/png": "[encoded data removed]",
      "text/latex": [
       "$$\\frac{m}{k} \\frac{d}{d t} v{\\left (t \\right )} = \\alpha^{2} - v^{2}{\\left (t \\right )}$$"
      ],
      "text/plain": [
       "  d                    \n",
       "m⋅──(v(t))             \n",
       "  dt          2    2   \n",
       "────────── = α  - v (t)\n",
       "    k                  "
      ]
     },
     "metadata": {},
     "output_type": "display_data"
    }
   ],
   "source": [
    "# create symbolic equation\n",
    "t, m, k, alpha, C1 = symbols(\"t m k alpha C1\")\n",
    "v = Function(\"v\")\n",
    "eqn = Eq((m/k)*v(t).diff(t), alpha*alpha - v(t)*v(t))\n",
    "display(eqn)"
   ]
  },
  {
   "cell_type": "code",
   "execution_count": 4,
   "metadata": {
    "scrolled": true
   },
   "outputs": [
    {
     "data": {
      "image/png": "[encoded data removed]",
      "text/latex": [
       "$$v{\\left (t \\right )} = - \\frac{\\alpha}{\\tanh{\\left (\\frac{\\alpha k}{m} \\left(C_{1} - t\\right) \\right )}}$$"
      ],
      "text/plain": [
       "              -α         \n",
       "v(t) = ──────────────────\n",
       "           ⎛α⋅k⋅(C₁ - t)⎞\n",
       "       tanh⎜────────────⎟\n",
       "           ⎝     m      ⎠"
      ]
     },
     "metadata": {},
     "output_type": "display_data"
    }
   ],
   "source": [
    "# find the general solution\n",
    "gen_sol = dsolve(eqn, v(t))\n",
    "display(gen_sol)"
   ]
  },
  {
   "cell_type": "code",
   "execution_count": 6,
   "metadata": {},
   "outputs": [
    {
     "data": {
      "image/png": "[encoded data removed]",
      "text/latex": [
       "$$0 = - \\frac{\\alpha}{\\tanh{\\left (\\frac{C_{1} \\alpha}{m} k \\right )}}$$"
      ],
      "text/plain": [
       "        -α      \n",
       "0 = ────────────\n",
       "        ⎛C₁⋅α⋅k⎞\n",
       "    tanh⎜──────⎟\n",
       "        ⎝  m   ⎠"
      ]
     },
     "metadata": {},
     "output_type": "display_data"
    }
   ],
   "source": [
    "# substitute in initial condition\n",
    "cnts = gen_sol.subs([(t,    0),       # x = 0 --> subs 0 for x\n",
    "                     (v(0), 0)])      # f(0) = 0 --> subs 0 for f(0)\n",
    "\n",
    "display(cnts)"
   ]
  },
  {
   "cell_type": "code",
   "execution_count": 16,
   "metadata": {},
   "outputs": [
    {
     "data": {
      "image/png": "[encoded data removed]",
      "text/latex": [
       "$$\\left [ \\frac{\\tilde{\\infty} m}{\\alpha k}, \\quad - \\frac{i \\pi m}{2 \\alpha k}, \\quad \\frac{i \\pi m}{2 \\alpha k}\\right ]$$"
      ],
      "text/plain": [
       "⎡zoo⋅m  -ⅈ⋅π⋅m   ⅈ⋅π⋅m⎤\n",
       "⎢─────, ───────, ─────⎥\n",
       "⎣ α⋅k    2⋅α⋅k   2⋅α⋅k⎦"
      ]
     },
     "metadata": {},
     "output_type": "display_data"
    }
   ],
   "source": [
    "# solve the equation for C1\n",
    "C1 = symbols(\"C1\")  # generic constants\n",
    "C_1 = solve(cnts, C1)\n",
    "display(C_1)"
   ]
  },
  {
   "cell_type": "code",
   "execution_count": 17,
   "metadata": {},
   "outputs": [
    {
     "ename": "ValueError",
     "evalue": "\nWhen a single argument is passed to subs it should be a dictionary of\nold: new pairs or an iterable of (old, new) tuples.",
     "output_type": "error",
     "traceback": [
      "\u001b[0;31m---------------------------------------------------------------------------\u001b[0m",
      "\u001b[0;31mValueError\u001b[0m                                Traceback (most recent call last)",
      "\u001b[0;32m<ipython-input-17-c2d6111f87f1>\u001b[0m in \u001b[0;36m<module>\u001b[0;34m()\u001b[0m\n\u001b[1;32m      1\u001b[0m \u001b[0;31m# substitue the value of C1 into the general solution\u001b[0m\u001b[0;34m\u001b[0m\u001b[0;34m\u001b[0m\u001b[0m\n\u001b[0;32m----> 2\u001b[0;31m \u001b[0mode2_sol\u001b[0m \u001b[0;34m=\u001b[0m \u001b[0mgen_sol\u001b[0m\u001b[0;34m.\u001b[0m\u001b[0msubs\u001b[0m\u001b[0;34m(\u001b[0m\u001b[0mC_1\u001b[0m\u001b[0;34m[\u001b[0m\u001b[0;36m1\u001b[0m\u001b[0;34m]\u001b[0m\u001b[0;34m)\u001b[0m\u001b[0;34m\u001b[0m\u001b[0m\n\u001b[0m\u001b[1;32m      3\u001b[0m \u001b[0mdisplay\u001b[0m\u001b[0;34m(\u001b[0m\u001b[0mode2_sol\u001b[0m\u001b[0;34m)\u001b[0m\u001b[0;34m\u001b[0m\u001b[0m\n",
      "\u001b[0;32m/anaconda3/lib/python3.6/site-packages/sympy/core/basic.py\u001b[0m in \u001b[0;36msubs\u001b[0;34m(self, *args, **kwargs)\u001b[0m\n\u001b[1;32m    851\u001b[0m                    \u001b[0mWhen\u001b[0m \u001b[0ma\u001b[0m \u001b[0msingle\u001b[0m \u001b[0margument\u001b[0m \u001b[0;32mis\u001b[0m \u001b[0mpassed\u001b[0m \u001b[0mto\u001b[0m \u001b[0msubs\u001b[0m\u001b[0;34m\u001b[0m\u001b[0m\n\u001b[1;32m    852\u001b[0m                    \u001b[0mit\u001b[0m \u001b[0mshould\u001b[0m \u001b[0mbe\u001b[0m \u001b[0ma\u001b[0m \u001b[0mdictionary\u001b[0m \u001b[0mof\u001b[0m \u001b[0mold\u001b[0m\u001b[0;34m:\u001b[0m \u001b[0mnew\u001b[0m \u001b[0mpairs\u001b[0m \u001b[0;32mor\u001b[0m \u001b[0man\u001b[0m \u001b[0miterable\u001b[0m\u001b[0;34m\u001b[0m\u001b[0m\n\u001b[0;32m--> 853\u001b[0;31m                    of (old, new) tuples.\"\"\"))\n\u001b[0m\u001b[1;32m    854\u001b[0m         \u001b[0;32melif\u001b[0m \u001b[0mlen\u001b[0m\u001b[0;34m(\u001b[0m\u001b[0margs\u001b[0m\u001b[0;34m)\u001b[0m \u001b[0;34m==\u001b[0m \u001b[0;36m2\u001b[0m\u001b[0;34m:\u001b[0m\u001b[0;34m\u001b[0m\u001b[0m\n\u001b[1;32m    855\u001b[0m             \u001b[0msequence\u001b[0m \u001b[0;34m=\u001b[0m \u001b[0;34m[\u001b[0m\u001b[0margs\u001b[0m\u001b[0;34m]\u001b[0m\u001b[0;34m\u001b[0m\u001b[0m\n",
      "\u001b[0;31mValueError\u001b[0m: \nWhen a single argument is passed to subs it should be a dictionary of\nold: new pairs or an iterable of (old, new) tuples."
     ]
    }
   ],
   "source": [
    "# substitue the value of C1 into the general solution \n",
    "ode2_sol = gen_sol.subs(C_1[1])\n",
    "display(ode2_sol)"
   ]
  },
  {
   "cell_type": "code",
   "execution_count": null,
   "metadata": {},
   "outputs": [],
   "source": []
  },
  {
   "cell_type": "code",
   "execution_count": 4,
   "metadata": {},
   "outputs": [
    {
     "data": {
      "image/png": "[encoded data removed]",
      "text/latex": [
       "$$C_{1} = \\frac{m}{\\alpha k} \\log{\\left (- \\sqrt{- \\frac{\\left(\\alpha - v{\\left (t \\right )}\\right) e^{\\frac{2 \\alpha}{m} k t}}{\\alpha + v{\\left (t \\right )}}} \\right )}$$"
      ],
      "text/plain": [
       "          ⎛        _______________________⎞\n",
       "          ⎜       ╱              2⋅α⋅k⋅t  ⎟\n",
       "          ⎜      ╱               ───────  ⎟\n",
       "          ⎜     ╱                   m     ⎟\n",
       "          ⎜    ╱    -(α - v(t))⋅ℯ         ⎟\n",
       "     m⋅log⎜-  ╱     ───────────────────── ⎟\n",
       "          ⎝ ╲╱             α + v(t)       ⎠\n",
       "C₁ = ──────────────────────────────────────\n",
       "                      α⋅k                  "
      ]
     },
     "metadata": {},
     "output_type": "display_data"
    }
   ],
   "source": [
    "# create symbolic equation  \n",
    "C_1 = Eq(C1, gen_sol_C1)\n",
    "display(C_1)"
   ]
  },
  {
   "cell_type": "markdown",
   "metadata": {
    "slideshow": {
     "slide_type": "slide"
    }
   },
   "source": [
    "### Finding constant C1\n",
    "Initial value problem.\n",
    "\n",
    "Use $x=0, \\quad f(x)=0$ to find `C1`."
   ]
  },
  {
   "cell_type": "code",
   "execution_count": 5,
   "metadata": {
    "scrolled": true
   },
   "outputs": [
    {
     "data": {
      "image/png": "[encoded data removed]",
      "text/latex": [
       "$$C_{1} = \\frac{m}{\\alpha k} \\log{\\left (- \\sqrt{- \\frac{\\left(\\alpha - v{\\left (t \\right )}\\right) e^{\\frac{2 \\alpha}{m} k t}}{\\alpha + v{\\left (t \\right )}}} \\right )}$$"
      ],
      "text/plain": [
       "          ⎛        _______________________⎞\n",
       "          ⎜       ╱              2⋅α⋅k⋅t  ⎟\n",
       "          ⎜      ╱               ───────  ⎟\n",
       "          ⎜     ╱                   m     ⎟\n",
       "          ⎜    ╱    -(α - v(t))⋅ℯ         ⎟\n",
       "     m⋅log⎜-  ╱     ───────────────────── ⎟\n",
       "          ⎝ ╲╱             α + v(t)       ⎠\n",
       "C₁ = ──────────────────────────────────────\n",
       "                      α⋅k                  "
      ]
     },
     "metadata": {},
     "output_type": "display_data"
    }
   ],
   "source": [
    "C__1 = C_1.subs([(t,    0),       # x = 0 --> subs 0 for x\n",
    "                 (v(0), 0)])      # f(0) = 0 --> subs 0 for f(0)\n",
    "\n",
    "display(C_1)"
   ]
  },
  {
   "cell_type": "markdown",
   "metadata": {},
   "source": [
    "##### What does this code do?\n",
    "\n",
    "`subs` takes a list of the substitutions we want to make as arguments.\n",
    "\n",
    "Each substitution is given as a tuple: *(original value, value to substitute in)*\n",
    "\n",
    "The original value is replaced by the value to substitute in wherever it appears in the general solution."
   ]
  },
  {
   "cell_type": "markdown",
   "metadata": {},
   "source": [
    "`C_1` is the name given to the expression `C1 = 0`"
   ]
  },
  {
   "cell_type": "markdown",
   "metadata": {
    "slideshow": {
     "slide_type": "slide"
    }
   },
   "source": [
    "Substitute `C1` into the general solution, noting if `C1` appears on left or right of equation `C_1`"
   ]
  },
  {
   "cell_type": "code",
   "execution_count": 6,
   "metadata": {},
   "outputs": [
    {
     "data": {
      "image/png": "[encoded data removed]",
      "text/latex": [
       "$$v{\\left (t \\right )} = - \\frac{\\alpha}{\\tanh{\\left (\\frac{\\alpha k}{m} \\left(- t - \\frac{i \\pi m}{2 \\alpha k}\\right) \\right )}}$$"
      ],
      "text/plain": [
       "                -α           \n",
       "v(t) = ──────────────────────\n",
       "           ⎛    ⎛     ⅈ⋅π⋅m⎞⎞\n",
       "           ⎜α⋅k⋅⎜-t - ─────⎟⎟\n",
       "           ⎜    ⎝     2⋅α⋅k⎠⎟\n",
       "       tanh⎜────────────────⎟\n",
       "           ⎝       m        ⎠"
      ]
     },
     "metadata": {},
     "output_type": "display_data"
    }
   ],
   "source": [
    "# Method 1, C1 rhs\n",
    "#ode_sol = gen_sol.subs([(C__1.rhs, C__1.lhs)])\n",
    "\n",
    "# Method 2, C1 lhs\n",
    "ode_sol = gen_sol.subs([(C__1.lhs, C__1.rhs)])\n",
    "\n",
    "display (ode_sol) "
   ]
  },
  {
   "cell_type": "code",
   "execution_count": null,
   "metadata": {},
   "outputs": [],
   "source": []
  },
  {
   "cell_type": "code",
   "execution_count": null,
   "metadata": {},
   "outputs": [],
   "source": []
  }
 ],
 "metadata": {
  "kernelspec": {
   "display_name": "Python 3",
   "language": "python",
   "name": "python3"
  },
  "language_info": {
   "codemirror_mode": {
    "name": "ipython",
    "version": 3
   },
   "file_extension": ".py",
   "mimetype": "text/x-python",
   "name": "python",
   "nbconvert_exporter": "python",
   "pygments_lexer": "ipython3",
   "version": "3.6.5"
  }
 },
 "nbformat": 4,
 "nbformat_minor": 2
}
