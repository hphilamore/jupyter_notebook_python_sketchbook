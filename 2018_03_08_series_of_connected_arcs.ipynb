{
 "cells": [
  {
   "cell_type": "code",
   "execution_count": 75,
   "metadata": {},
   "outputs": [],
   "source": [
    "import numpy as np\n",
    "from numpy import pi as pi\n",
    "import matplotlib.pyplot as plt\n",
    "%matplotlib inline"
   ]
  },
  {
   "cell_type": "code",
   "execution_count": 76,
   "metadata": {},
   "outputs": [],
   "source": [
    "radius = 27\n",
    "alpha = 0.93\n",
    "bi_state = 0\n",
    "\n",
    "start_x, start_y = 1, 1  # midpoint of first chord\n",
    "\n",
    "chord = 2 * radius * np.sin(alpha / 2)\n",
    "\n",
    "sagitta = radius * (1 - np.cos(alpha / 2))\n",
    "\n",
    "origin_y = start_y\n",
    "\n",
    "if bi_state:\n",
    "    origin_x = start_x - (radius - sagitta)\n",
    "else: \n",
    "    origin_x =  start_x + (radius - sagitta)\n",
    "    \n",
    "arc_start = 0 - (alpha / 2)\n",
    "arc_end = 0 + (alpha / 2)\n",
    "\n",
    "numsegments = 1000\n",
    "\n",
    "alpha_inc = np.linspace(arc_start, arc_end, numsegments)\n",
    "\n",
    "y = origin_y + radius * np.sin(alpha_inc)\n",
    "if bi_state:\n",
    "    x = origin_x + radius * np.cos(alpha_inc)\n",
    "else: \n",
    "    x = origin_x - radius * np.cos(alpha_inc)\n",
    "    \n",
    "\n",
    "\n",
    "beta = (pi / 2) - (alpha / 2)\n"
   ]
  },
  {
   "cell_type": "code",
   "execution_count": 77,
   "metadata": {},
   "outputs": [],
   "source": [
    "l = 5\n",
    "\n",
    "tangent_x = [x[-1] - l * np.cos(beta), \n",
    "             x[-1], \n",
    "             x[-1] + l * np.cos(beta)]\n",
    "\n",
    "if bi_state:    \n",
    "    tangent_y = [y[-1] + l * np.sin(beta), \n",
    "                 y[-1], \n",
    "                 y[-1] - l * np.sin(beta)]\n",
    "\n",
    "else: \n",
    "    tangent_y = [y[-1] - l * np.sin(beta), \n",
    "                 y[-1], \n",
    "                 y[-1] + l * np.sin(beta)]"
   ]
  },
  {
   "cell_type": "code",
   "execution_count": 78,
   "metadata": {},
   "outputs": [
    {
     "data": {
      "text/plain": [
       "(-52.689838313822015,\n",
       " 3.556658967324858,\n",
       " -12.541612594337023,\n",
       " 19.01072042237063)"
      ]
     },
     "execution_count": 78,
     "metadata": {},
     "output_type": "execute_result"
    },
    {
     "data": {
      "image/png": "[encoded data removed]",
      "text/plain": [
       "<Figure size 432x288 with 1 Axes>"
      ]
     },
     "metadata": {},
     "output_type": "display_data"
    }
   ],
   "source": [
    "plt.plot(start_x,start_y, 'ro')\n",
    "plt.plot(x,y)\n",
    "plt.plot(tangent_x,tangent_y)\n",
    "plt.xlim(0, 40)\n",
    "plt.ylim(0, 40)\n",
    "plt.axis('equal')"
   ]
  },
  {
   "cell_type": "code",
   "execution_count": 79,
   "metadata": {},
   "outputs": [],
   "source": [
    "# # testing\n",
    "\n",
    "# tangent_length = 5\n",
    "# tangent_x = [x[-1]]\n",
    "# tangent_y = [y[-1]]\n",
    "# tangent_x = [x[-1] - tangent_length * np.cos(beta), \n",
    "#              x[-1], \n",
    "#              x[-1] + tangent_length * np.cos(beta)]\n",
    "\n",
    "# tangent_y = [y[-1] + tangent_length * np.sin(beta), \n",
    "#              y[-1], \n",
    "#              y[-1] - tangent_length * np.sin(beta)]\n",
    "\n",
    "\n",
    "# circ_inc = np.linspace(0, (2 * pi) , numsegments)\n",
    "\n",
    "# x_circ = start_x + radius * np.cos(circ_inc)\n",
    "# y_circ = start_y + radius * np.sin(circ_inc)\n",
    "\n",
    "# plt.plot(start_x,start_y)\n",
    "# plt.plot(x,y)\n",
    "# plt.plot(tangent_x,tangent_y, 'ro-')\n",
    "# #plt.plot(x_circ, y_circ, 'c--')\n",
    "# plt.plot(x,y)\n",
    "# plt.xlim(0, 40)\n",
    "# plt.ylim(0, 40)\n",
    "# plt.axis('equal')"
   ]
  },
  {
   "cell_type": "code",
   "execution_count": 80,
   "metadata": {},
   "outputs": [
    {
     "ename": "SyntaxError",
     "evalue": "unexpected EOF while parsing (<ipython-input-80-8d9c4f92d169>, line 8)",
     "output_type": "error",
     "traceback": [
      "\u001b[0;36m  File \u001b[0;32m\"<ipython-input-80-8d9c4f92d169>\"\u001b[0;36m, line \u001b[0;32m8\u001b[0m\n\u001b[0;31m    \u001b[0m\n\u001b[0m    ^\u001b[0m\n\u001b[0;31mSyntaxError\u001b[0m\u001b[0;31m:\u001b[0m unexpected EOF while parsing\n"
     ]
    }
   ],
   "source": [
    "#\n",
    "arcstart_x, arcstart_y = x[-1], y[-1]\n",
    "\n",
    "bi_state, prev_state = 1, section_dir\n",
    "\n",
    "if section_dir != prev_dir:\n",
    "    # mirror the arc origin \n",
    "    origin_y = origin_y + (2 * radius) * np.sin(alpha_inc)\n",
    "    \n",
    "    if bi_state:\n",
    "        origin_x = origin_x + (2 * radius) * np.cos(alpha_inc)        \n",
    "    else: \n",
    "        origin_x = origin_x - (2 * radius) * np.cos(alpha_inc) \n",
    "\n"
   ]
  },
  {
   "cell_type": "code",
   "execution_count": null,
   "metadata": {
    "collapsed": true
   },
   "outputs": [],
   "source": []
  },
  {
   "cell_type": "code",
   "execution_count": null,
   "metadata": {
    "collapsed": true
   },
   "outputs": [],
   "source": []
  },
  {
   "cell_type": "code",
   "execution_count": null,
   "metadata": {
    "collapsed": true
   },
   "outputs": [],
   "source": []
  }
 ],
 "metadata": {
  "kernelspec": {
   "display_name": "PMW_actuator",
   "language": "python",
   "name": "pmw_actuator"
  },
  "language_info": {
   "codemirror_mode": {
    "name": "ipython",
    "version": 3
   },
   "file_extension": ".py",
   "mimetype": "text/x-python",
   "name": "python",
   "nbconvert_exporter": "python",
   "pygments_lexer": "ipython3",
   "version": "3.6.2"
  }
 },
 "nbformat": 4,
 "nbformat_minor": 2
}
