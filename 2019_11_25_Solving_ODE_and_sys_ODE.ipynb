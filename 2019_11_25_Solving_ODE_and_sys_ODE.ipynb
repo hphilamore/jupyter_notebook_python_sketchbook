{
 "cells": [
  {
   "cell_type": "markdown",
   "metadata": {},
   "source": [
    "### Solve an ODE and find constants of integration using initial values."
   ]
  },
  {
   "cell_type": "code",
   "execution_count": 1,
   "metadata": {},
   "outputs": [],
   "source": [
    "import numpy as np\n",
    "import sympy as sp\n",
    "from sympy import dsolve, solve, symbols, Symbol, Function, Eq, pprint, init_printing\n",
    "\n",
    "# This initialises pretty printing\n",
    "init_printing() \n",
    "from IPython.display import display"
   ]
  },
  {
   "cell_type": "code",
   "execution_count": 2,
   "metadata": {},
   "outputs": [
    {
     "data": {
      "image/png": "[encoded data removed]",
      "text/latex": [
       "$$\\frac{d}{d t} v{\\left (t \\right )} = - t^{2} - e^{m}$$"
      ],
      "text/plain": [
       "d             2    m\n",
       "──(v(t)) = - t  - ℯ \n",
       "dt                  "
      ]
     },
     "metadata": {},
     "output_type": "display_data"
    }
   ],
   "source": [
    "# create symbolic equation\n",
    "t, m, C1 = symbols(\"t m C1\")\n",
    "v = Function(\"v\")\n",
    "eqn = Eq(v(t).diff(t), -t**2 - sp.exp(m))\n",
    "display(eqn)"
   ]
  },
  {
   "cell_type": "code",
   "execution_count": 3,
   "metadata": {
    "scrolled": true
   },
   "outputs": [
    {
     "data": {
      "image/png": "[encoded data removed]",
      "text/latex": [
       "$$v{\\left (t \\right )} = C_{1} - \\frac{t^{3}}{3} - t e^{m}$$"
      ],
      "text/plain": [
       "             3       \n",
       "            t       m\n",
       "v(t) = C₁ - ── - t⋅ℯ \n",
       "            3        "
      ]
     },
     "metadata": {},
     "output_type": "display_data"
    }
   ],
   "source": [
    "# find the general solution\n",
    "gen_sol = dsolve(eqn, v(t))\n",
    "display(gen_sol)"
   ]
  },
  {
   "cell_type": "code",
   "execution_count": 9,
   "metadata": {},
   "outputs": [
    {
     "data": {
      "image/png": "[encoded data removed]",
      "text/latex": [
       "$$5 = C_{1} - e^{m} - \\frac{1}{3}$$"
      ],
      "text/plain": [
       "          m   1\n",
       "5 = C₁ - ℯ  - ─\n",
       "              3"
      ]
     },
     "metadata": {},
     "output_type": "display_data"
    }
   ],
   "source": [
    "# substitute in initial condition\n",
    "cnts = gen_sol.subs([(t,    1),       # x = 0 --> subs 0 for x\n",
    "                     (v(1), 5)])      # f(0) = 0 --> subs 0 for f(0)\n",
    "\n",
    "display(cnts)"
   ]
  },
  {
   "cell_type": "code",
   "execution_count": 5,
   "metadata": {},
   "outputs": [
    {
     "data": {
      "image/png": "[encoded data removed]",
      "text/latex": [
       "$$\\left \\{ C_{1} : e^{m} + \\frac{16}{3}\\right \\}$$"
      ],
      "text/plain": [
       "⎧     m   16⎫\n",
       "⎨C₁: ℯ  + ──⎬\n",
       "⎩         3 ⎭"
      ]
     },
     "metadata": {},
     "output_type": "display_data"
    }
   ],
   "source": [
    "# solve the equation for C1\n",
    "#C1 = symbols(\"C1\")  # generic constants\n",
    "C_1 = solve([cnts], (C1))\n",
    "display(C_1)"
   ]
  },
  {
   "cell_type": "code",
   "execution_count": 6,
   "metadata": {},
   "outputs": [
    {
     "data": {
      "image/png": "[encoded data removed]",
      "text/latex": [
       "$$v{\\left (t \\right )} = - \\frac{t^{3}}{3} - t e^{m} + e^{m} + \\frac{16}{3}$$"
      ],
      "text/plain": [
       "          3                 \n",
       "         t       m    m   16\n",
       "v(t) = - ── - t⋅ℯ  + ℯ  + ──\n",
       "         3                3 "
      ]
     },
     "metadata": {},
     "output_type": "display_data"
    }
   ],
   "source": [
    "# substitue the value of C1 into the general solution \n",
    "ode_sol = gen_sol.subs(C_1)\n",
    "display(ode_sol)"
   ]
  },
  {
   "cell_type": "code",
   "execution_count": 7,
   "metadata": {},
   "outputs": [
    {
     "data": {
      "image/png": "[encoded data removed]",
      "text/latex": [
       "$$v{\\left (1.5707963267949 \\right )} = - 0.570796326794897 e^{m} + 4.04140513832084$$"
      ],
      "text/plain": [
       "                                          m                   \n",
       "v(1.5707963267949) = - 0.570796326794897⋅ℯ  + 4.04140513832084"
      ]
     },
     "metadata": {},
     "output_type": "display_data"
    }
   ],
   "source": [
    "# find v(t) for specific value of t\n",
    "spec_sol = ode_sol.subs([(t, np.pi/2)])\n",
    "display(spec_sol) "
   ]
  },
  {
   "cell_type": "markdown",
   "metadata": {},
   "source": [
    "### Solving higher order differntial euations as a system of ODEs"
   ]
  },
  {
   "cell_type": "code",
   "execution_count": 8,
   "metadata": {},
   "outputs": [
    {
     "name": "stdout",
     "output_type": "stream",
     "text": [
      "<class 'sympy.core.relational.Equality'>\n"
     ]
    }
   ],
   "source": [
    "print(type(gen_sol))"
   ]
  },
  {
   "cell_type": "code",
   "execution_count": null,
   "metadata": {},
   "outputs": [],
   "source": []
  }
 ],
 "metadata": {
  "kernelspec": {
   "display_name": "Python 3",
   "language": "python",
   "name": "python3"
  },
  "language_info": {
   "codemirror_mode": {
    "name": "ipython",
    "version": 3
   },
   "file_extension": ".py",
   "mimetype": "text/x-python",
   "name": "python",
   "nbconvert_exporter": "python",
   "pygments_lexer": "ipython3",
   "version": "3.8.3"
  }
 },
 "nbformat": 4,
 "nbformat_minor": 2
}
