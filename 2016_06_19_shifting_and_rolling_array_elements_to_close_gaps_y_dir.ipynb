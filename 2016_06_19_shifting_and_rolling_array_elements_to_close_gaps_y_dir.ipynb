{
 "cells": [
  {
   "cell_type": "markdown",
   "metadata": {},
   "source": []
  },
  {
   "cell_type": "code",
   "execution_count": 115,
   "metadata": {
    "collapsed": true
   },
   "outputs": [],
   "source": [
    "import numpy as np\n",
    "from scipy.ndimage.interpolation import shift\n",
    "from collections import deque, namedtuple"
   ]
  },
  {
   "cell_type": "code",
   "execution_count": 116,
   "metadata": {
    "collapsed": true
   },
   "outputs": [],
   "source": [
    "def npshift(seq, n):\n",
    "    return np.concatenate((seq[-n:], seq[:-n]))"
   ]
  },
  {
   "cell_type": "code",
   "execution_count": 117,
   "metadata": {
    "collapsed": false
   },
   "outputs": [],
   "source": [
    "bot_map = np.array(\n",
    "      [[ 0,  1,  0,  0,  0, 0,  1,  0,  0,  0],\n",
    "       [ 0,  1,  0,  0,  0, 0,  1,  0,  0,  0],\n",
    "       [ 0,  1,  0,  0,  0, 0,  1,  0,  0,  0],\n",
    "       [ 0,  1,  0,  0,  0, 0,  0,  0,  0,  0],\n",
    "       [ 0,  1,  0,  0,  0, 0,  0,  0,  0,  0],\n",
    "       [ 0,  1,  0,  0,  0, 0,  0,  0,  0,  0],\n",
    "       [ 0,  1,  0,  0,  0, 0,  1,  0,  0,  0],\n",
    "       [ 0,  1,  0,  0,  0, 0,  1,  0,  0,  0],\n",
    "       [ 0,  1,  0,  0,  0, 0,  0,  0,  0,  0],\n",
    "       [ 0,  1,  0,  0,  0, 0,  1,  0,  0,  0]])\n",
    "\n",
    "explorer_bot_map = np.array(\n",
    "      [[ 0,  1,  0,  0,  0, 0,  1,  0,  0,  0],\n",
    "       [ 0,  1,  0,  0,  0, 0,  1,  0,  0,  0],\n",
    "       [ 0,  1,  0,  0,  0, 0,  1,  0,  0,  0],\n",
    "       [ 0,  1,  0,  0,  0, 0,  0,  0,  0,  0],\n",
    "       [ 0,  1,  0,  0,  0, 0,  0,  0,  0,  0],\n",
    "       [ 0,  1,  0,  0,  0, 0,  0,  0,  0,  0],\n",
    "       [ 0,  1,  0,  0,  0, 0,  1,  0,  0,  0],\n",
    "       [ 0,  1,  0,  0,  0, 0,  1,  0,  0,  0],\n",
    "       [ 0,  1,  0,  0,  0, 0,  0,  0,  0,  0],\n",
    "       [ 0,  1,  0,  0,  0, 0,  1,  0,  0,  0]])"
   ]
  },
  {
   "cell_type": "code",
   "execution_count": 118,
   "metadata": {
    "collapsed": false
   },
   "outputs": [
    {
     "data": {
      "text/plain": [
       "[(-1, -1), (-1, 0), (-1, 1), (0, 1), (1, 1), (1, 0), (1, -1), (0, -1)]"
      ]
     },
     "execution_count": 118,
     "metadata": {},
     "output_type": "execute_result"
    }
   ],
   "source": [
    "neighbours = [(-1, -1), (-1, 0), (-1, 1), (0, 1), (1, 1), (1, 0),\n",
    "                      (1, -1), (0, -1)]\n",
    "neighbours"
   ]
  },
  {
   "cell_type": "code",
   "execution_count": 119,
   "metadata": {
    "collapsed": true
   },
   "outputs": [],
   "source": [
    "Location = namedtuple(\"Location\", (\"x\", \"y\"))"
   ]
  },
  {
   "cell_type": "code",
   "execution_count": 120,
   "metadata": {
    "collapsed": true
   },
   "outputs": [],
   "source": [
    "tail = Location(6,6)\n",
    "recruit_range = 5"
   ]
  },
  {
   "cell_type": "markdown",
   "metadata": {},
   "source": [
    "y direction"
   ]
  },
  {
   "cell_type": "code",
   "execution_count": 121,
   "metadata": {
    "collapsed": false
   },
   "outputs": [
    {
     "name": "stdout",
     "output_type": "stream",
     "text": [
      "1\n",
      "[1 0 1]\n"
     ]
    }
   ],
   "source": [
    "for ny, nx in neighbours[5:6]: # ny = 1\n",
    "#for ny, nx in neighbours[1:2]: # ny = -1\n",
    "\n",
    "    x, y = tail.x + nx, tail.y + ny\n",
    "\n",
    "    if ny:\n",
    "        print(ny)\n",
    "        start_point = y\n",
    "        end_point =  np.clip(y + (ny * recruit_range) ,0, len(bot_map[0]))\n",
    "        direction = ny        \n",
    "        near_bots = bot_map[:,x][start_point : end_point : direction]\n",
    "        print(near_bots)"
   ]
  },
  {
   "cell_type": "code",
   "execution_count": 122,
   "metadata": {
    "collapsed": false
   },
   "outputs": [
    {
     "name": "stdout",
     "output_type": "stream",
     "text": [
      "[1 0]\n",
      "[0 1]\n"
     ]
    }
   ],
   "source": [
    "_near_bots =(near_bots[:-1])\n",
    "_near_bots_offset =(near_bots[1:])\n",
    "print(_near_bots)\n",
    "print(_near_bots_offset)"
   ]
  },
  {
   "cell_type": "markdown",
   "metadata": {},
   "source": [
    "The indices of transition points between occupied and unoccupied cells:\n",
    "Indices of first cells in transition pairs \"_near_bots.index(i)\"\n",
    "Indices of second cells in transition pairs and hence the shift distance required \"_near_bots.index(i)+1\""
   ]
  },
  {
   "cell_type": "code",
   "execution_count": 123,
   "metadata": {
    "collapsed": false
   },
   "outputs": [
    {
     "name": "stdout",
     "output_type": "stream",
     "text": [
      "[[1]\n",
      " [2]]\n",
      "[1]\n"
     ]
    }
   ],
   "source": [
    "transition_points = np.argwhere(_near_bots!=_near_bots_offset) + 1\n",
    "shift_distance = transition_points[0]\n",
    "print(transition_points)\n",
    "print(shift_distance)"
   ]
  },
  {
   "cell_type": "markdown",
   "metadata": {},
   "source": [
    "Construct a new map showing only explorer bots not in relay chains. \n",
    "For now we will use the map of all explorer bots. \n",
    "Check the index of the first trasnition point is occupied by a bot:"
   ]
  },
  {
   "cell_type": "code",
   "execution_count": 124,
   "metadata": {
    "collapsed": false
   },
   "outputs": [],
   "source": [
    "if explorer_bot_map[:,x][y + ny * shift_distance]:\n",
    "    print(explorer_bot_map[:,x][y + ny * shift_distance])                        "
   ]
  },
  {
   "cell_type": "code",
   "execution_count": 125,
   "metadata": {
    "collapsed": false
   },
   "outputs": [
    {
     "name": "stdout",
     "output_type": "stream",
     "text": [
      "[0 0 0]\n"
     ]
    },
    {
     "data": {
      "text/plain": [
       "array([], shape=(0, 1), dtype=int64)"
      ]
     },
     "execution_count": 125,
     "metadata": {},
     "output_type": "execute_result"
    }
   ],
   "source": [
    "    near_bots = explorer_bot_map[y, start_point : end_point : direction]\n",
    "    print(near_bots)\n",
    "    _near_bots = near_bots[:-1]\n",
    "    _near_bots_offset = near_bots[1:]\n",
    "    transition_points = np.argwhere(_near_bots!=_near_bots_offset) + 1\n",
    "    transition_points"
   ]
  },
  {
   "cell_type": "markdown",
   "metadata": {},
   "source": [
    "Check for a second transition back to unoccupied space within the sense range.\n",
    "If not transition back to unoccupied space occurs, default to the last cell in the sense window:"
   ]
  },
  {
   "cell_type": "code",
   "execution_count": 126,
   "metadata": {
    "collapsed": false
   },
   "outputs": [
    {
     "data": {
      "text/plain": [
       "3"
      ]
     },
     "execution_count": 126,
     "metadata": {},
     "output_type": "execute_result"
    }
   ],
   "source": [
    "    try:\n",
    "        last_bot = transition_points[1]\n",
    "    except IndexError:\n",
    "        last_bot = len(near_bots)\n",
    "    last_bot"
   ]
  },
  {
   "cell_type": "code",
   "execution_count": 127,
   "metadata": {
    "collapsed": false
   },
   "outputs": [
    {
     "data": {
      "text/plain": [
       "4"
      ]
     },
     "execution_count": 127,
     "metadata": {},
     "output_type": "execute_result"
    }
   ],
   "source": [
    "last_bot += 1\n",
    "last_bot"
   ]
  },
  {
   "cell_type": "code",
   "execution_count": 128,
   "metadata": {
    "collapsed": false
   },
   "outputs": [],
   "source": [
    "bot_map = np.array(\n",
    "      [[ 0,  1,  0,  0,  0, 0,  1,  0,  0,  0],\n",
    "       [ 0,  1,  0,  0,  0, 0,  1,  0,  0,  0],\n",
    "       [ 0,  1,  0,  0,  0, 0,  1,  0,  0,  0],\n",
    "       [ 0,  1,  0,  0,  0, 0,  0,  0,  0,  0],\n",
    "       [ 0,  1,  0,  0,  0, 0,  0,  0,  0,  0],\n",
    "       [ 0,  1,  0,  0,  0, 0,  0,  0,  0,  0],\n",
    "       [ 0,  1,  0,  0,  0, 0,  1,  0,  0,  0],\n",
    "       [ 0,  1,  0,  0,  0, 0,  1,  0,  0,  0],\n",
    "       [ 0,  1,  0,  0,  0, 0,  0,  0,  0,  0],\n",
    "       [ 0,  1,  0,  0,  0, 0,  1,  0,  0,  0]])"
   ]
  },
  {
   "cell_type": "code",
   "execution_count": 129,
   "metadata": {
    "collapsed": false
   },
   "outputs": [
    {
     "name": "stdout",
     "output_type": "stream",
     "text": [
      "[1]\n",
      "1\n",
      "[1 0 1]\n",
      "[0 1 1]\n"
     ]
    },
    {
     "name": "stderr",
     "output_type": "stream",
     "text": [
      "/home/hemma/.local/lib/python3.5/site-packages/ipykernel/__main__.py:2: VisibleDeprecationWarning: converting an array with ndim > 0 to an index will result in an error in the future\n",
      "  from ipykernel import kernelapp as app\n"
     ]
    }
   ],
   "source": [
    "    start_point = y\n",
    "    end_point = np.clip(y + (last_bot * ny), 0, len(bot_map[0]))\n",
    "    print(shift_distance)\n",
    "    \n",
    "    if ny == 1:\n",
    "        print(ny)\n",
    "        print(bot_map[:,x][start_point: end_point: direction]) \n",
    "\n",
    "        bot_map[:,x][start_point: end_point:direction] =\\\n",
    "            npshift(bot_map[:,x][start_point: end_point:direction], (shift_distance * -ny))\n",
    "        \n",
    "        print(bot_map[:,x][start_point: end_point]) \n",
    "                                                  \n",
    "    elif ny == -1:  \n",
    "        print(ny)\n",
    "        print(bot_map[:,x][start_point : end_point : direction])\n",
    "        \n",
    "        bot_map[:,x][start_point: end_point:direction] =\\\n",
    "             npshift(bot_map[:,x][start_point: end_point:direction], (shift_distance * ny))\n",
    "            \n",
    "       \n",
    "        print(bot_map[:,x][start_point : end_point : direction])\n",
    "\n"
   ]
  },
  {
   "cell_type": "code",
   "execution_count": 130,
   "metadata": {
    "collapsed": false
   },
   "outputs": [
    {
     "data": {
      "text/plain": [
       "array([[0, 1, 0, 0, 0, 0, 1, 0, 0, 0],\n",
       "       [0, 1, 0, 0, 0, 0, 1, 0, 0, 0],\n",
       "       [0, 1, 0, 0, 0, 0, 1, 0, 0, 0],\n",
       "       [0, 1, 0, 0, 0, 0, 0, 0, 0, 0],\n",
       "       [0, 1, 0, 0, 0, 0, 0, 0, 0, 0],\n",
       "       [0, 1, 0, 0, 0, 0, 0, 0, 0, 0],\n",
       "       [0, 1, 0, 0, 0, 0, 1, 0, 0, 0],\n",
       "       [0, 1, 0, 0, 0, 0, 0, 0, 0, 0],\n",
       "       [0, 1, 0, 0, 0, 0, 1, 0, 0, 0],\n",
       "       [0, 1, 0, 0, 0, 0, 1, 0, 0, 0]])"
      ]
     },
     "execution_count": 130,
     "metadata": {},
     "output_type": "execute_result"
    }
   ],
   "source": [
    "bot_map"
   ]
  },
  {
   "cell_type": "code",
   "execution_count": 131,
   "metadata": {
    "collapsed": false
   },
   "outputs": [
    {
     "name": "stdout",
     "output_type": "stream",
     "text": [
      "[0 1 1]\n"
     ]
    }
   ],
   "source": [
    "seq = bot_map[:,x][start_point: end_point: direction]\n",
    "n = 3\n",
    "print(seq)"
   ]
  },
  {
   "cell_type": "code",
   "execution_count": 132,
   "metadata": {
    "collapsed": false
   },
   "outputs": [
    {
     "name": "stdout",
     "output_type": "stream",
     "text": [
      "[0 1 1]\n"
     ]
    }
   ],
   "source": [
    "print(np.concatenate((seq[-n:], seq[:-n])))"
   ]
  },
  {
   "cell_type": "code",
   "execution_count": null,
   "metadata": {
    "collapsed": true
   },
   "outputs": [],
   "source": []
  }
 ],
 "metadata": {
  "kernelspec": {
   "display_name": "Python 3",
   "language": "python",
   "name": "python3"
  },
  "language_info": {
   "codemirror_mode": {
    "name": "ipython",
    "version": 3
   },
   "file_extension": ".py",
   "mimetype": "text/x-python",
   "name": "python",
   "nbconvert_exporter": "python",
   "pygments_lexer": "ipython3",
   "version": "3.5.1+"
  }
 },
 "nbformat": 4,
 "nbformat_minor": 0
}
