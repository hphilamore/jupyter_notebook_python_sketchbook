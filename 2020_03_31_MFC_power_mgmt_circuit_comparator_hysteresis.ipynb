{
 "cells": [
  {
   "cell_type": "markdown",
   "metadata": {},
   "source": [
    "Find the resisters needed for comparator hysteresis, power management systems a and b, when:\n",
    "- $V_{cc} \\neq V_{in}$ ($V_{cc}$ = constant)\n",
    "- $V_{cc} = V_{in}$ (`_s` self powered)\n",
    "\n"
   ]
  },
  {
   "cell_type": "code",
   "execution_count": 1,
   "metadata": {},
   "outputs": [],
   "source": [
    "import numpy as np"
   ]
  },
  {
   "cell_type": "markdown",
   "metadata": {},
   "source": [
    "https://www.maximintegrated.com/en/design/technical-documents/app-notes/3/3616.html\n",
    "\n",
    "<br><img src=\"img/comparator.png\" alt=\"Drawing\" style=\"width: 500px;\"/>"
   ]
  },
  {
   "cell_type": "markdown",
   "metadata": {},
   "source": [
    "#### A function for each step"
   ]
  },
  {
   "cell_type": "code",
   "execution_count": 2,
   "metadata": {},
   "outputs": [],
   "source": [
    "# Step 1 : Calculate  R3\n",
    "\n",
    "def calc_R3(Vref, ir3=0.2E-6, Vcc=5):\n",
    "    \n",
    "    R3a = Vref / ir3\n",
    "    \n",
    "    R3b = (Vcc - Vref) / ir3\n",
    "    \n",
    "    R3 = [r for r in [R3a, R3b] if r>0] # only +ve values\n",
    "    \n",
    "    return( round( min(R3), -4) )                     # return minimum positive value of R3"
   ]
  },
  {
   "cell_type": "code",
   "execution_count": 3,
   "metadata": {},
   "outputs": [],
   "source": [
    "# Step 2 : Decide hysteresis bandwidth\n",
    "\n",
    "def Vhb(Vth, Vtl):\n",
    "    return Vth - Vtl"
   ]
  },
  {
   "cell_type": "code",
   "execution_count": 4,
   "metadata": {},
   "outputs": [],
   "source": [
    "# Step 3 : Calculate R1\n",
    "\n",
    "def calc_R1(R3, Vhb, Vcc=5):\n",
    "    return round( R3 * Vhb / Vcc, -4 )"
   ]
  },
  {
   "cell_type": "code",
   "execution_count": 5,
   "metadata": {},
   "outputs": [],
   "source": [
    "# Step 4 : Choose Vth\n",
    "# Vth = 5.2"
   ]
  },
  {
   "cell_type": "code",
   "execution_count": 6,
   "metadata": {},
   "outputs": [],
   "source": [
    "# Step 5 : Calculate R2\n",
    "def calc_R2(R1, R3, Vref, Vth):\n",
    "    return round( Vref / ( ((Vth - Vref)/R1) - (Vref/R3) ), -4)\n"
   ]
  },
  {
   "cell_type": "code",
   "execution_count": 7,
   "metadata": {},
   "outputs": [],
   "source": [
    "# Step 5 : Verify threshold voltages\n",
    "\n",
    "def VTH(R1, R2, R3, Vref):\n",
    "    return Vref * R1 * ((1/R1) + (1/R2) + (1/R3))\n",
    "\n",
    "def VTL(R1, R3, Vth, Vcc=5):\n",
    "    return Vth - (R1 * Vcc / R3)"
   ]
  },
  {
   "cell_type": "markdown",
   "metadata": {},
   "source": [
    "#### Find resister values for each system config"
   ]
  },
  {
   "cell_type": "code",
   "execution_count": 8,
   "metadata": {},
   "outputs": [],
   "source": [
    "# System A \n",
    "# a : comparator:LTC1540, 1.8V voltage regulator:LT3009\n",
    "Vref_a = 1.18\n",
    "Vth_a = 5.2\n",
    "Vtl_a = 2\n",
    "\n",
    "# System B \n",
    "# b : comparator:MAX9117, 1.8V voltage regulator:TPS7A02\n",
    "Vref_b = 1.25\n",
    "Vth_b = 2.8\n",
    "Vtl_b = 1.6\n"
   ]
  },
  {
   "cell_type": "code",
   "execution_count": 9,
   "metadata": {},
   "outputs": [
    {
     "name": "stdout",
     "output_type": "stream",
     "text": [
      "5.900e+06 4.100e+06\n",
      "6.250e+06 1.750e+06\n"
     ]
    }
   ],
   "source": [
    "# Step 1 : Calculate  R3 \n",
    "R3a = calc_R3(Vref_a)\n",
    "R3a_s = calc_R3(Vref_a, Vcc=Vtl_a)\n",
    "\n",
    "R3b = calc_R3(Vref_b)\n",
    "R3b_s = calc_R3(Vref_b, Vcc=Vtl_b)\n",
    "\n",
    "print('{:.3e}'.format(R3a), \n",
    "      '{:.3e}'.format(R3a_s))\n",
    "print('{:.3e}'.format(R3b), \n",
    "      '{:.3e}'.format(R3b_s))"
   ]
  },
  {
   "cell_type": "code",
   "execution_count": 10,
   "metadata": {},
   "outputs": [],
   "source": [
    "# Step 2 : Decide hysteresis bandwidth\n",
    "\n",
    "Vhb_a = Vhb(Vth_a, Vtl_a)\n",
    "Vhb_b = Vhb(Vth_b, Vtl_b)"
   ]
  },
  {
   "cell_type": "code",
   "execution_count": 11,
   "metadata": {},
   "outputs": [
    {
     "name": "stdout",
     "output_type": "stream",
     "text": [
      "3.780e+06 6.560e+06\n",
      "1.500e+06 1.310e+06\n"
     ]
    }
   ],
   "source": [
    "# Step 3 : Calculate R1\n",
    "\n",
    "R1a = calc_R1(R3a, Vhb_a)\n",
    "R1a_s = calc_R1(R3a_s, Vhb_a, Vcc=Vtl_a)\n",
    "R1b = calc_R1(R3b, Vhb_b)\n",
    "R1b_s = calc_R1(R3b_s, Vhb_b, Vcc=Vtl_b)\n",
    "\n",
    "print('{:.3e}'.format(R1a), \n",
    "      '{:.3e}'.format(R1a_s))\n",
    "print('{:.3e}'.format(R1b), \n",
    "      '{:.3e}'.format(R1b_s))"
   ]
  },
  {
   "cell_type": "code",
   "execution_count": 12,
   "metadata": {},
   "outputs": [
    {
     "name": "stdout",
     "output_type": "stream",
     "text": [
      "1.370000e+06 3.630000e+06\n",
      "1.500000e+06 2.670000e+06\n"
     ]
    }
   ],
   "source": [
    "# Step 5 : Calculate R2\n",
    "R2a = calc_R2(R1a, R3a, Vref_a, Vth_a)\n",
    "R2a_s = calc_R2(R1a_s, R3a_s, Vref_a, Vth_a)\n",
    "\n",
    "R2b = calc_R2(R1b, R3b, Vref_b, Vth_b)\n",
    "R2b_s = calc_R2(R1b_s, R3b_s, Vref_b, Vth_b)\n",
    "\n",
    "print('{:.6e}'.format(R2a), \n",
    "      '{:.6e}'.format(R2a_s))\n",
    "\n",
    "print('{:.6e}'.format(R2b), \n",
    "      '{:.6e}'.format(R2b_s))"
   ]
  },
  {
   "cell_type": "code",
   "execution_count": 13,
   "metadata": {},
   "outputs": [],
   "source": [
    "# def calc_R2(R1, R3):\n",
    "#     return 1 / (3.7/(Vref*R1) - 1/R1 - 1/R3)\n",
    "\n",
    "# R2 = calc_R2(2.88, 6)\n",
    "\n",
    "# print('{:.3e}'.format(R2))"
   ]
  },
  {
   "cell_type": "code",
   "execution_count": 15,
   "metadata": {},
   "outputs": [
    {
     "name": "stdout",
     "output_type": "stream",
     "text": [
      "Vtha =5.192e+00\n",
      "Vtla =1.988e+00\n",
      "\n",
      "Vtha_s =5.200e+00\n",
      "Vtla_s =2.000e+00\n",
      "\n",
      "Vthb =2.800e+00\n",
      "Vtlb =1.600e+00\n",
      "\n",
      "Vthb_s =2.799e+00\n",
      "Vtlb_s =1.601e+00\n"
     ]
    }
   ],
   "source": [
    "VTHa = VTH(R1a, R2a, R3a, Vref_a)\n",
    "VTLa = VTL(R1a, R3a, VTHa)\n",
    "\n",
    "VTHa_s = VTH(R1a_s, R2a_s, R3a_s, Vref_a)\n",
    "VTLa_s = VTL(R1a_s, R3a_s, VTHa_s, Vcc=Vtl_a)\n",
    "\n",
    "VTHb = VTH(R1b, R2b, R3b, Vref_b)\n",
    "VTLb = VTL(R1b, R3b, VTHb)\n",
    "\n",
    "VTHb_s = VTH(R1b_s, R2b_s, R3b_s, Vref_b)\n",
    "VTLb_s = VTL(R1b_s, R3b_s, VTHb_s, Vcc=Vtl_b)\n",
    "\n",
    "\n",
    "print('Vtha =' + '{:.3e}'.format(VTHa) + '\\n' + 'Vtla =' + '{:.3e}'.format(VTLa))\n",
    "print()\n",
    "print('Vtha_s =' + '{:.3e}'.format(VTHa_s) + '\\n' + 'Vtla_s =' + '{:.3e}'.format(VTLa_s))\n",
    "print()\n",
    "print('Vthb =' + '{:.3e}'.format(VTHb) + '\\n' + 'Vtlb =' + '{:.3e}'.format(VTLb))\n",
    "print()\n",
    "print('Vthb_s =' + '{:.3e}'.format(VTHb_s) + '\\n' + 'Vtlb_s =' + '{:.3e}'.format(VTLb_s))"
   ]
  },
  {
   "cell_type": "markdown",
   "metadata": {},
   "source": [
    "<br><img src=\"img/Power_mgmt_circuit_calculations-page-001.jpg\" alt=\"Drawing\" style=\"width: 1500px;\"/>\n",
    "\n",
    "<br><img src=\"img/Power_mgmt_circuit_calculations-page-002.jpg\" alt=\"Drawing\" style=\"width: 1500px;\"/>\n",
    "\n",
    "<br><img src=\"img/Power_mgmt_circuit_calculations-page-003.jpg\" alt=\"Drawing\" style=\"width: 1500px;\"/>\n",
    "\n",
    "<br><img src=\"img/Power_mgmt_circuit_calculations-page-004.jpg\" alt=\"Drawing\" style=\"width: 1500px;\"/>\n",
    "\n"
   ]
  },
  {
   "cell_type": "code",
   "execution_count": null,
   "metadata": {},
   "outputs": [],
   "source": []
  },
  {
   "cell_type": "code",
   "execution_count": null,
   "metadata": {},
   "outputs": [],
   "source": []
  }
 ],
 "metadata": {
  "kernelspec": {
   "display_name": "Python 3",
   "language": "python",
   "name": "python3"
  },
  "language_info": {
   "codemirror_mode": {
    "name": "ipython",
    "version": 3
   },
   "file_extension": ".py",
   "mimetype": "text/x-python",
   "name": "python",
   "nbconvert_exporter": "python",
   "pygments_lexer": "ipython3",
   "version": "3.7.4"
  }
 },
 "nbformat": 4,
 "nbformat_minor": 2
}
