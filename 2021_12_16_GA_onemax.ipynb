{
 "cells": [
  {
   "cell_type": "markdown",
   "metadata": {},
   "source": [
    "Genetic Algorithm for OneMax\n",
    "https://machinelearningmastery.com/simple-genetic-algorithm-from-scratch-in-python/"
   ]
  },
  {
   "cell_type": "markdown",
   "metadata": {},
   "source": [
    "Example:\n",
    "\n",
    "The onemax() function takes a bitstring of integer values as input and returns the negative sum of the values.\n",
    "\n",
    "__Minimization__ problem. "
   ]
  },
  {
   "cell_type": "code",
   "execution_count": 70,
   "metadata": {},
   "outputs": [],
   "source": [
    "import numpy as np\n",
    "from numpy.random import randint\n",
    "from numpy.random import rand\n",
    "import matplotlib.pyplot as plt\n",
    "%matplotlib inline"
   ]
  },
  {
   "cell_type": "code",
   "execution_count": 71,
   "metadata": {},
   "outputs": [],
   "source": [
    "def onemax(x):\n",
    "    \"\"\"objective/fitness function to be minimized \"\"\"\n",
    "    return -sum(x)"
   ]
  },
  {
   "cell_type": "code",
   "execution_count": 72,
   "metadata": {},
   "outputs": [],
   "source": [
    "\n",
    "def selection(pop, scores, k=3):\n",
    "    \"\"\"\n",
    "    tournament selection\n",
    "    \n",
    "    \"\"\"\n",
    "    sample_idxs = randint(0, len(pop), k)       # select k random indexes for individuals to sample\n",
    "    \n",
    "    sample = [scores[i] for i in sample_idxs]   # score of each individual\n",
    "    \n",
    "    best_sample_idx = np.argmin(sample)         # ID of best score in sample (tournament)\n",
    "    \n",
    "    best_pop_idx = sample_idxs[best_sample_idx] # population ID of best score in sample\n",
    "    \n",
    "    return pop[best_pop_idx]                    # return best individual in tournament"
   ]
  },
  {
   "cell_type": "code",
   "execution_count": 73,
   "metadata": {},
   "outputs": [],
   "source": [
    "def crossover(p1, p2, r_cross):\n",
    "    \"\"\"\n",
    "    crossover two parents to create two children\n",
    "    \"\"\"\n",
    "    c1, c2 = p1.copy(), p2.copy()    # children are copies of parents by default\n",
    "    \n",
    "    if rand() < r_cross:             # check if randomly selected value below threshold r_cross\n",
    "        \n",
    "        pt = randint(1, len(p1)-2)   # select crossover point that is not on either end of the string\n",
    "        \n",
    "        c1 = p1[:pt] + p2[pt:]       # perform crossover\n",
    "        c2 = p2[:pt] + p1[pt:]\n",
    "        \n",
    "    return [c1, c2]"
   ]
  },
  {
   "cell_type": "code",
   "execution_count": 78,
   "metadata": {},
   "outputs": [],
   "source": [
    "\n",
    "def mutation(bitstring, r_mut):\n",
    "    \"\"\"\n",
    "    mutation operator\n",
    "    \"\"\"\n",
    "    \n",
    "    for i in range(len(bitstring)):\n",
    "        \n",
    "        if rand() < r_mut:                     # check for a mutation\n",
    "            \n",
    "            bitstring[i] = 1 - bitstring[i]    # flip the bit\n",
    "            \n",
    "    return bitstring"
   ]
  },
  {
   "cell_type": "code",
   "execution_count": 79,
   "metadata": {},
   "outputs": [],
   "source": [
    "# genetic algorithm\n",
    "def genetic_algorithm(objective, n_bits, n_iter, n_pop, r_cross, r_mut):\n",
    "    \n",
    "    \"\"\"\n",
    "    Minimises objective function.\n",
    "    \"\"\"\n",
    "    \n",
    "    # initial population of random bitstring individuals\n",
    "    # bitstring can be made from Boolean values True and False, string values ‘0’ and ‘1’, or integer values 0 and 1 \n",
    "    pop = [randint(0, 2, n_bits).tolist() for _ in range(n_pop)]\n",
    "    \n",
    "    #print(np.matrix(pop))\n",
    "    \n",
    "    # initiailse list to store best solution each round\n",
    "    log_best = []  \n",
    "    \n",
    "    # initialise variables that update when new best found to track best overall solution\n",
    "    best_gen, best_score, best_sol = 0, objective(pop[0]), pop[0] # track best overall solution\n",
    "    \n",
    "    \n",
    "    for gen in range(n_iter):                   # cycle through each generation\n",
    "        \n",
    "        \n",
    "        scores = [objective(c) for c in pop]    # evaluate all chromosomes in the population\n",
    "        \n",
    "        best = min(scores)                      # choose the best chromosome\n",
    "        \n",
    "        best_ID = np.argmin(scores)              # find its position in the list \n",
    "        \n",
    "        log_best.append(best)                   # store best solution this round\n",
    "        \n",
    "        if best < best_score:                   # if new best found, update vars and print msg\n",
    "            best_gen = gen\n",
    "            best_score = best\n",
    "            best_sol = pop[best_ID]          \n",
    "            print(f\"Gen {gen}, best score = {best}, chromosome = {pop[best_ID]}\")\n",
    "        \n",
    "        # select parents\n",
    "        # run tournament selection n_pop times to get n_pop winners (population size does not change)\n",
    "        selected = [selection(pop, scores) for _ in range(n_pop)] \n",
    "        \n",
    "        # create the next generation\n",
    "        children = []\n",
    "        \n",
    "        for i in range(0, n_pop, 2):             # select parents in pairs\n",
    "            p1, p2 = selected[i], selected[i+1]\n",
    "            \n",
    "            for c in crossover(p1, p2, r_cross): # crossover each pair to give two children\n",
    "                \n",
    "                c = mutation(c, r_mut)               # mutate each child\n",
    "                \n",
    "                children.append(c)               # store for next generation\n",
    "                \n",
    "        \n",
    "        # replace population\n",
    "        pop = children\n",
    "        \n",
    "    return best, log_best\n",
    "        \n",
    "        \n",
    "        "
   ]
  },
  {
   "cell_type": "code",
   "execution_count": 80,
   "metadata": {},
   "outputs": [
    {
     "name": "stdout",
     "output_type": "stream",
     "text": [
      "Gen 0, best score = -15, chromosome = [1, 1, 1, 1, 1, 0, 1, 1, 1, 1, 0, 1, 1, 1, 1, 1, 1, 0, 0, 0]\n",
      "Gen 1, best score = -16, chromosome = [1, 1, 1, 1, 1, 1, 0, 1, 1, 1, 0, 1, 1, 1, 1, 0, 0, 1, 1, 1]\n",
      "Gen 2, best score = -18, chromosome = [1, 0, 1, 1, 1, 1, 1, 1, 1, 0, 1, 1, 1, 1, 1, 1, 1, 1, 1, 1]\n",
      "Gen 3, best score = -19, chromosome = [1, 1, 1, 1, 1, 1, 1, 1, 1, 1, 1, 1, 1, 1, 1, 1, 1, 0, 1, 1]\n",
      "Gen 6, best score = -20, chromosome = [1, 1, 1, 1, 1, 1, 1, 1, 1, 1, 1, 1, 1, 1, 1, 1, 1, 1, 1, 1]\n"
     ]
    }
   ],
   "source": [
    "\n",
    "n_iter = 100     # define the total iterations\n",
    "\n",
    "n_bits = 20      # bits\n",
    "\n",
    "n_pop = 100      # define the population size (n individuals)\n",
    "\n",
    "r_cross = 0.9    # crossover rate\n",
    "\n",
    "r_mut = 1.0 / float(n_bits) # mutation rate\n",
    "\n",
    "best, best_log = genetic_algorithm(onemax, n_bits, n_iter, n_pop, r_cross, r_mut)"
   ]
  },
  {
   "cell_type": "code",
   "execution_count": 81,
   "metadata": {},
   "outputs": [
    {
     "name": "stdout",
     "output_type": "stream",
     "text": [
      "7\n"
     ]
    },
    {
     "data": {
      "text/plain": [
       "[<matplotlib.lines.Line2D at 0x7fcc108a5850>]"
      ]
     },
     "execution_count": 81,
     "metadata": {},
     "output_type": "execute_result"
    },
    {
     "data": {
      "image/png": "[encoded data removed]",
      "text/plain": [
       "<Figure size 432x288 with 1 Axes>"
      ]
     },
     "metadata": {
      "needs_background": "light"
     },
     "output_type": "display_data"
    }
   ],
   "source": [
    "print(np.argmin(log_best))\n",
    "      \n",
    "plt.plot(best_log)"
   ]
  },
  {
   "cell_type": "code",
   "execution_count": null,
   "metadata": {},
   "outputs": [],
   "source": []
  },
  {
   "cell_type": "code",
   "execution_count": null,
   "metadata": {},
   "outputs": [],
   "source": []
  },
  {
   "cell_type": "code",
   "execution_count": null,
   "metadata": {},
   "outputs": [],
   "source": []
  },
  {
   "cell_type": "code",
   "execution_count": null,
   "metadata": {},
   "outputs": [],
   "source": []
  }
 ],
 "metadata": {
  "kernelspec": {
   "display_name": "Python 3",
   "language": "python",
   "name": "python3"
  },
  "language_info": {
   "codemirror_mode": {
    "name": "ipython",
    "version": 3
   },
   "file_extension": ".py",
   "mimetype": "text/x-python",
   "name": "python",
   "nbconvert_exporter": "python",
   "pygments_lexer": "ipython3",
   "version": "3.7.4"
  }
 },
 "nbformat": 4,
 "nbformat_minor": 2
}
