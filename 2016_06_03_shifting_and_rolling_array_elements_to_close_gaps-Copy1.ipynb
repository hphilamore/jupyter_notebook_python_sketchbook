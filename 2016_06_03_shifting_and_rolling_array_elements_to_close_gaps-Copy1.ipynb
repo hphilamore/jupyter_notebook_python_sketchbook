{
 "cells": [
  {
   "cell_type": "markdown",
   "metadata": {},
   "source": [
    "Shift elements within a given range around an index location to cloe gaps around the location  "
   ]
  },
  {
   "cell_type": "code",
   "execution_count": 6,
   "metadata": {
    "collapsed": true
   },
   "outputs": [],
   "source": [
    "import numpy as np\n",
    "from scipy.ndimage.interpolation import shift\n",
    "from collections import deque, namedtuple"
   ]
  },
  {
   "cell_type": "code",
   "execution_count": 7,
   "metadata": {
    "collapsed": true
   },
   "outputs": [],
   "source": [
    "Location = namedtuple(\"Location\", (\"x\", \"y\"))"
   ]
  },
  {
   "cell_type": "code",
   "execution_count": 8,
   "metadata": {
    "collapsed": true
   },
   "outputs": [],
   "source": [
    "neighbours = [(-1, -1), (-1, 0), (-1, 1), (0, 1), (1, 1), (1, 0),\n",
    "                      (1, -1), (0, -1)]"
   ]
  },
  {
   "cell_type": "code",
   "execution_count": 9,
   "metadata": {
    "collapsed": true
   },
   "outputs": [],
   "source": [
    "bot_map = np.array(\n",
    "      [[ 0,  1,  0,  0,  0, 0,  1,  0,  0,  0],\n",
    "       [ 0.,  0.,  0.,  0.,  0., 0.,  1.,  0.,  0.,  0.],\n",
    "       [ 0.,  1.,  0.,  1.,  0., 0.,  1.,  0.,  0.,  0.],\n",
    "       [ 0.,  0.,  0.,  0.,  0., 0.,  1.,  0.,  0.,  0.],\n",
    "       [ 0.,  1.,  0.,  0.,  2., 0.,  4.,  0.,  0.,  0.],\n",
    "       [ 0.,  1.,  0.,  0.,  0., 0.,  1.,  0.,  0.,  0.],\n",
    "       [ 0.,  0.,  0.,  0.,  0., 0.,  1.,  0.,  0.,  0.],\n",
    "       [ 0.,  1.,  0.,  1.,  0., 0.,  1.,  0.,  0.,  0.],\n",
    "       [ 0.,  0.,  0.,  0.,  0., 0.,  1.,  0.,  0.,  0.],\n",
    "       [ 0.,  0.,  0.,  1.,  0., 0.,  1.,  0.,  0.,  0.]])"
   ]
  },
  {
   "cell_type": "code",
   "execution_count": 10,
   "metadata": {
    "collapsed": false
   },
   "outputs": [],
   "source": [
    "tail = Location(3,4)       "
   ]
  },
  {
   "cell_type": "code",
   "execution_count": 14,
   "metadata": {
    "collapsed": true
   },
   "outputs": [],
   "source": [
    "for ny, nx in neighbours:\n",
    "    # first evaulate the x direction (-/+)\n",
    "    x, y = tail.x, tail.y    "
   ]
  },
  {
   "cell_type": "code",
   "execution_count": 16,
   "metadata": {
    "collapsed": false
   },
   "outputs": [
    {
     "data": {
      "text/plain": [
       "array([], dtype=float64)"
      ]
     },
     "execution_count": 16,
     "metadata": {},
     "output_type": "execute_result"
    }
   ],
   "source": [
    "# near_bots = self.bot_map[y, x + nx: x + nx + (nx * BOT_DEFAULTS[\"recruit_range\"]): nx]\n",
    "near_bots = bot_map[y, x + nx: x + nx + (nx * 5): nx]\n",
    "near_bots"
   ]
  },
  {
   "cell_type": "code",
   "execution_count": 33,
   "metadata": {
    "collapsed": false
   },
   "outputs": [
    {
     "name": "stderr",
     "output_type": "stream",
     "text": [
      "/home/hemma/.local/lib/python3.5/site-packages/ipykernel/__main__.py:1: VisibleDeprecationWarning: converting an array with ndim > 0 to an index will result in an error in the future\n",
      "  if __name__ == '__main__':\n"
     ]
    },
    {
     "data": {
      "text/plain": [
       "array([[0, 0, 0, 1]])"
      ]
     },
     "execution_count": 33,
     "metadata": {},
     "output_type": "execute_result"
    }
   ],
   "source": [
    "a = bot_map[y, x+nx: x+(nx*sense_range): nx]\n",
    "a"
   ]
  },
  {
   "cell_type": "markdown",
   "metadata": {},
   "source": [
    "Indices in array element 0 (which is a list!) where the current value does not equal the next (left to right) i.e. there is a bot at the next location!"
   ]
  },
  {
   "cell_type": "code",
   "execution_count": 34,
   "metadata": {
    "collapsed": false
   },
   "outputs": [
    {
     "data": {
      "text/plain": [
       "(array([2]),)"
      ]
     },
     "execution_count": 34,
     "metadata": {},
     "output_type": "execute_result"
    }
   ],
   "source": [
    "c = np.where(a[0][:-1]!=a[0][1:])\n",
    "c"
   ]
  },
  {
   "cell_type": "markdown",
   "metadata": {},
   "source": [
    "...add 1 to each value to get the next bot location."
   ]
  },
  {
   "cell_type": "code",
   "execution_count": 35,
   "metadata": {
    "collapsed": false
   },
   "outputs": [
    {
     "data": {
      "text/plain": [
       "array([3])"
      ]
     },
     "execution_count": 35,
     "metadata": {},
     "output_type": "execute_result"
    }
   ],
   "source": [
    "d = c[0]+1\n",
    "d"
   ]
  },
  {
   "cell_type": "markdown",
   "metadata": {},
   "source": [
    "Check if the occupied location is occupied by an explorer bot and hence a potential recruit.\n",
    "n.b. explorer map should have current relay chain members removed."
   ]
  },
  {
   "cell_type": "code",
   "execution_count": 36,
   "metadata": {
    "collapsed": false
   },
   "outputs": [
    {
     "data": {
      "text/plain": [
       "3"
      ]
     },
     "execution_count": 36,
     "metadata": {},
     "output_type": "execute_result"
    }
   ],
   "source": [
    "if near_bots.any():\n",
    "print(near_bots)\n",
    "next_cell_different = np.where(\n",
    "    near_bots[0][:-1] != near_bots[0][1:])\n",
    "# add 1 to make these values useful\n",
    "next_cell_different += 1\n",
    "# is the first near bot on the explorer - relay chain map?\n",
    "first_bot = near_bot[0]\n",
    "# generate a map of explorers - those already in relay chains\n",
    "near_bots_map = np.ma.make_mask(self.explore_mode_map) * 1\n",
    "\n",
    "for existing_relay in Relay_Chain.relay_chain_maps:\n",
    "    near_bots_map -= np.ma.make_mask(existing_relay) * 1\n",
    "\n",
    "if near_bot_map[y, x + nx + nx * next_cell_different[0]]:\n",
    "    print(\n",
    "    near_bot_map[y, x + nx + nx * next_cell_different[0]])\n",
    "\n",
    "near_explorer_bots = self.bot_map[y, x + nx: x + nx + (\n",
    "nx * BOT_DEFAULTS[\"recruit_range\"]): nx]\n",
    "next_cell_different = np.where(\n",
    "    near_explorer_bots[0][:-1] != near_explorer_bots[0][1:])\n",
    "next_cell_different += 1\n",
    "\n",
    "try:\n",
    "    last_bot = near_explorer_bots[1]\n",
    "except IndexError:\n",
    "    last_bot = len(near_explorer_bots)\n",
    "\n",
    "# shuffle bots to close gap\n",
    "\n",
    "if nx == 1:\n",
    "    self.bot_map[y][x + nx: x + nx + last_bot * nx] = shift(\n",
    "        self.bot_map[y][x + nx: x + nx + last_bot],\n",
    "        next_cell_different[0] * nx)\n",
    "\n",
    "elif nx == -1:\n",
    "    self.bot_map[y][x + nx + last_bot * nx:x + nx] = shift(\n",
    "        self.bot_map[y][x + nx + last_bot * nx:x + nx],\n",
    "        next_cell_different[0] * nx)"
   ]
  },
  {
   "cell_type": "code",
   "execution_count": 37,
   "metadata": {
    "collapsed": false
   },
   "outputs": [
    {
     "name": "stdout",
     "output_type": "stream",
     "text": [
      "[1]\n"
     ]
    }
   ],
   "source": [
    "if explorer_bot_map[y, x + nx + nx*(e)]:\n",
    "    print(explorer_bot_map[y, x + nx + nx*(e)])"
   ]
  },
  {
   "cell_type": "markdown",
   "metadata": {},
   "source": [
    "There is! \n",
    "Now find where the line of potential recruits within the sense range stops by finding the second point at which the value on the explorer bot map changes from occupied to unoccupied.\n",
    "(i.e.Repeat the operation used for the bot_map.)"
   ]
  },
  {
   "cell_type": "code",
   "execution_count": 38,
   "metadata": {
    "collapsed": false
   },
   "outputs": [
    {
     "name": "stderr",
     "output_type": "stream",
     "text": [
      "/home/hemma/.local/lib/python3.5/site-packages/ipykernel/__main__.py:1: VisibleDeprecationWarning: converting an array with ndim > 0 to an index will result in an error in the future\n",
      "  if __name__ == '__main__':\n"
     ]
    },
    {
     "data": {
      "text/plain": [
       "array([[0, 0, 0, 1]])"
      ]
     },
     "execution_count": 38,
     "metadata": {},
     "output_type": "execute_result"
    }
   ],
   "source": [
    "g = explorer_bot_map[y,x+nx:x+(nx*sense_range):nx]\n",
    "g"
   ]
  },
  {
   "cell_type": "code",
   "execution_count": 39,
   "metadata": {
    "collapsed": false
   },
   "outputs": [
    {
     "data": {
      "text/plain": [
       "(array([2]),)"
      ]
     },
     "execution_count": 39,
     "metadata": {},
     "output_type": "execute_result"
    }
   ],
   "source": [
    "h = np.where(g[0][:-1]!=g[0][1:])\n",
    "h"
   ]
  },
  {
   "cell_type": "markdown",
   "metadata": {},
   "source": [
    "And, like before add 1 to each value"
   ]
  },
  {
   "cell_type": "code",
   "execution_count": 40,
   "metadata": {
    "collapsed": false
   },
   "outputs": [
    {
     "data": {
      "text/plain": [
       "array([3])"
      ]
     },
     "execution_count": 40,
     "metadata": {},
     "output_type": "execute_result"
    }
   ],
   "source": [
    "i = h[0]+1\n",
    "i"
   ]
  },
  {
   "cell_type": "code",
   "execution_count": 41,
   "metadata": {
    "collapsed": false
   },
   "outputs": [
    {
     "data": {
      "text/plain": [
       "3"
      ]
     },
     "execution_count": 41,
     "metadata": {},
     "output_type": "execute_result"
    }
   ],
   "source": [
    "j = i[0]\n",
    "j"
   ]
  },
  {
   "cell_type": "markdown",
   "metadata": {},
   "source": [
    "Does a second point exist where the value changes from occupied back to unoccupied? If so, store this value. If not, "
   ]
  },
  {
   "cell_type": "code",
   "execution_count": 42,
   "metadata": {
    "collapsed": false
   },
   "outputs": [
    {
     "data": {
      "text/plain": [
       "4"
      ]
     },
     "execution_count": 42,
     "metadata": {},
     "output_type": "execute_result"
    }
   ],
   "source": [
    "try:\n",
    "    k = e[0][1]\n",
    "except IndexError:\n",
    "    k = len(g[0])\n",
    "k"
   ]
  },
  {
   "cell_type": "code",
   "execution_count": 75,
   "metadata": {
    "collapsed": false
   },
   "outputs": [],
   "source": [
    "y=2\n",
    "x1=1\n",
    "x2=2\n",
    "if nx == 1:\n",
    "    bot_map[y][x1+nx:x2+k] = shift(bot_map[y][x1+nx:x2+k],2)\n",
    "    \n",
    "elif nx == -1:\n",
    "    bot_map[y][x2+(k*nx): x1+nx] = shift(bot_map[y][x2+(k*nx): x1+nx],2)\n"
   ]
  },
  {
   "cell_type": "code",
   "execution_count": 74,
   "metadata": {
    "collapsed": false
   },
   "outputs": [],
   "source": [
    "bot_map = np.array([[0,0,0,0,1,1,1,0,0,1,1,0], \n",
    "                    [0,0,0,0,1,1,1,0,0,0,1,0], \n",
    "                    [0,0,0,0,1,1,1,0,0,0,1,0], \n",
    "                    [0,0,0,0,1,1,1,0,0,1,1,0]])"
   ]
  },
  {
   "cell_type": "markdown",
   "metadata": {},
   "source": [
    "to shift a section of a row"
   ]
  },
  {
   "cell_type": "code",
   "execution_count": 53,
   "metadata": {
    "collapsed": false
   },
   "outputs": [
    {
     "name": "stdout",
     "output_type": "stream",
     "text": [
      "[[0 0 0 0 1 1 1 0 0 1 1 0]\n",
      " [0 0 0 0 1 1 1 0 0 0 1 0]\n",
      " [0 0 0 0 1 1 4 0 0 0 1 0]\n",
      " [0 0 0 0 1 1 1 0 0 1 1 0]]\n"
     ]
    },
    {
     "data": {
      "text/plain": [
       "array([[0, 0, 0, 0, 1, 1, 1, 0, 0, 1, 1, 0],\n",
       "       [0, 0, 0, 0, 0, 0, 1, 0, 0, 0, 1, 0],\n",
       "       [0, 0, 0, 0, 1, 1, 4, 0, 0, 0, 1, 0],\n",
       "       [0, 0, 0, 0, 1, 1, 1, 0, 0, 1, 1, 0]])"
      ]
     },
     "execution_count": 53,
     "metadata": {},
     "output_type": "execute_result"
    }
   ],
   "source": [
    "from scipy.ndimage.interpolation import shift\n",
    "# print(bot_map)\n",
    "# print(bot_map[1,:][1:4])\n",
    "# bot_map[0,:][1:4] = shift(bot_map[0,:][1:4], 3)\n",
    "# bot_map\n",
    "print(bot_map)\n",
    "bot_map[1][4:6] = shift(bot_map[1][4:6],2)\n",
    "bot_map"
   ]
  },
  {
   "cell_type": "markdown",
   "metadata": {},
   "source": [
    "to shift a section of a column"
   ]
  },
  {
   "cell_type": "code",
   "execution_count": 40,
   "metadata": {
    "collapsed": false
   },
   "outputs": [
    {
     "name": "stdout",
     "output_type": "stream",
     "text": [
      "[0 1 0]\n"
     ]
    },
    {
     "data": {
      "text/plain": [
       "array([[0, 0, 0, 0, 1, 1, 1, 0, 0, 0, 0, 0],\n",
       "       [0, 0, 0, 0, 1, 1, 1, 0, 0, 0, 0, 0],\n",
       "       [0, 0, 0, 0, 1, 1, 1, 0, 0, 1, 0, 0],\n",
       "       [0, 0, 0, 0, 1, 1, 1, 0, 0, 1, 0, 0]])"
      ]
     },
     "execution_count": 40,
     "metadata": {},
     "output_type": "execute_result"
    }
   ],
   "source": [
    "print(bot_map[:,-3][0:3])\n",
    "bot_map[:,-3][0:3] = shift(bot_map[:,-3][0:3],1)\n",
    "bot_map"
   ]
  },
  {
   "cell_type": "code",
   "execution_count": 21,
   "metadata": {
    "collapsed": false
   },
   "outputs": [
    {
     "ename": "NameError",
     "evalue": "name 'p' is not defined",
     "output_type": "error",
     "traceback": [
      "\u001b[1;31m---------------------------------------------------------------------------\u001b[0m",
      "\u001b[1;31mNameError\u001b[0m                                 Traceback (most recent call last)",
      "\u001b[1;32m<ipython-input-21-e45b901341bf>\u001b[0m in \u001b[0;36m<module>\u001b[1;34m()\u001b[0m\n\u001b[1;32m----> 1\u001b[1;33m \u001b[0mshift\u001b[0m\u001b[1;33m(\u001b[0m\u001b[0mp\u001b[0m\u001b[1;33m,\u001b[0m\u001b[1;36m3\u001b[0m\u001b[1;33m)\u001b[0m\u001b[1;33m\u001b[0m\u001b[0m\n\u001b[0m",
      "\u001b[1;31mNameError\u001b[0m: name 'p' is not defined"
     ]
    }
   ],
   "source": [
    "shift(p,3)"
   ]
  },
  {
   "cell_type": "code",
   "execution_count": null,
   "metadata": {
    "collapsed": true
   },
   "outputs": [],
   "source": []
  },
  {
   "cell_type": "code",
   "execution_count": null,
   "metadata": {
    "collapsed": true
   },
   "outputs": [],
   "source": []
  }
 ],
 "metadata": {
  "kernelspec": {
   "display_name": "Python 3",
   "language": "python",
   "name": "python3"
  },
  "language_info": {
   "codemirror_mode": {
    "name": "ipython",
    "version": 3
   },
   "file_extension": ".py",
   "mimetype": "text/x-python",
   "name": "python",
   "nbconvert_exporter": "python",
   "pygments_lexer": "ipython3",
   "version": "3.5.1+"
  }
 },
 "nbformat": 4,
 "nbformat_minor": 0
}
