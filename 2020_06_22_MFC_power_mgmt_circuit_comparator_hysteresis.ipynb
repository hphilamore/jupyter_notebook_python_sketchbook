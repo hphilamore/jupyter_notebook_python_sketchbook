{
 "cells": [
  {
   "cell_type": "markdown",
   "metadata": {},
   "source": [
    "Find the resisters needed for comparator hysteresis, power management systems a and b, when:\n",
    "- $V_{cc} \\neq V_{in}$ ($V_{cc}$ = constant)\n",
    "- $V_{cc} = V_{in}$ (`_s` self powered)"
   ]
  },
  {
   "cell_type": "code",
   "execution_count": 2,
   "metadata": {},
   "outputs": [],
   "source": [
    "import numpy as np"
   ]
  },
  {
   "cell_type": "markdown",
   "metadata": {},
   "source": [
    "https://www.maximintegrated.com/en/design/technical-documents/app-notes/3/3616.html\n",
    "\n",
    "<br><img src=\"img/comparator.png\" alt=\"Drawing\" style=\"width: 500px;\"/>"
   ]
  },
  {
   "cell_type": "markdown",
   "metadata": {},
   "source": [
    "#### A function for each step"
   ]
  },
  {
   "cell_type": "code",
   "execution_count": 117,
   "metadata": {},
   "outputs": [],
   "source": [
    "# Step 1 : Calculate  R3\n",
    "\n",
    "def calc_R3(Vref, ir3=0.2E-6, Vcc=5):\n",
    "    \n",
    "    R3a = Vref / ir3\n",
    "    \n",
    "    R3b = (Vcc - Vref) / ir3\n",
    "    \n",
    "    R3 = [r for r in [R3a, R3b] if r>0] # only +ve values\n",
    "    \n",
    "    return( round( min(R3), -4) )                     # return minimum positive value of R3"
   ]
  },
  {
   "cell_type": "code",
   "execution_count": 118,
   "metadata": {},
   "outputs": [],
   "source": [
    "# Step 2 : Decide hysteresis bandwidth\n",
    "\n",
    "def VHB(Vth, Vtl):\n",
    "    return Vth - Vtl"
   ]
  },
  {
   "cell_type": "code",
   "execution_count": 119,
   "metadata": {},
   "outputs": [],
   "source": [
    "# Step 3 : Calculate R1\n",
    "\n",
    "def calc_R1(R3, Vhb, Vcc=5):\n",
    "    return round( R3 * Vhb / Vcc, -4 )"
   ]
  },
  {
   "cell_type": "code",
   "execution_count": 120,
   "metadata": {},
   "outputs": [],
   "source": [
    "# Step 4 : Choose Vth\n",
    "# Vth = 5.2"
   ]
  },
  {
   "cell_type": "code",
   "execution_count": 121,
   "metadata": {},
   "outputs": [],
   "source": [
    "# Step 5 : Calculate R2\n",
    "def calc_R2(R1, R3, Vref, Vth):\n",
    "    return round( Vref / ( ((Vth - Vref)/R1) - (Vref/R3) ), -4)\n"
   ]
  },
  {
   "cell_type": "code",
   "execution_count": 122,
   "metadata": {},
   "outputs": [],
   "source": [
    "# Step 5 : Verify threshold voltages\n",
    "\n",
    "def VTH(R1, R2, R3, Vref):\n",
    "    return Vref * R1 * ((1/R1) + (1/R2) + (1/R3))\n",
    "\n",
    "def VTL(R1, R3, Vth, Vcc=5):\n",
    "    return Vth - (R1 * Vcc / R3)"
   ]
  },
  {
   "cell_type": "markdown",
   "metadata": {},
   "source": [
    "#### Find resister values for each system config"
   ]
  },
  {
   "cell_type": "code",
   "execution_count": 130,
   "metadata": {},
   "outputs": [],
   "source": [
    "# comparator:LTC1540\n",
    "# 1.8V voltage regulator: TPS7A02 \n",
    "# Vref = 1.18\n",
    "# Vth = 5#3.46\n",
    "# Vtl = 2.3\n",
    "\n",
    "Vref = 1.18\n",
    "Vth = 5.2\n",
    "Vtl = 2\n"
   ]
  },
  {
   "cell_type": "code",
   "execution_count": 131,
   "metadata": {},
   "outputs": [
    {
     "name": "stdout",
     "output_type": "stream",
     "text": [
      "5.900e+06 5.600e+06\n"
     ]
    }
   ],
   "source": [
    "# Step 1 : Calculate  R3 \n",
    "R3 = calc_R3(Vref)\n",
    "R3_s = calc_R3(Vref, Vcc=Vtl)\n",
    "\n",
    "\n",
    "\n",
    "print('{:.3e}'.format(R3a), \n",
    "      '{:.3e}'.format(R3a_s))\n"
   ]
  },
  {
   "cell_type": "code",
   "execution_count": 132,
   "metadata": {},
   "outputs": [
    {
     "data": {
      "text/plain": [
       "3.2"
      ]
     },
     "execution_count": 132,
     "metadata": {},
     "output_type": "execute_result"
    }
   ],
   "source": [
    "# Step 2 : Decide hysteresis bandwidth\n",
    "\n",
    "Vhb = VHB(Vth, Vtl)\n",
    "Vhb"
   ]
  },
  {
   "cell_type": "code",
   "execution_count": 133,
   "metadata": {},
   "outputs": [
    {
     "name": "stdout",
     "output_type": "stream",
     "text": [
      "1.370e+06 2.820e+06\n"
     ]
    }
   ],
   "source": [
    "# Step 3 : Calculate R1\n",
    "\n",
    "R1 = calc_R1(R3, Vhb)\n",
    "R1_s = calc_R1(R3_s, Vhb, Vcc=Vtl)\n",
    "\n",
    "\n",
    "print('{:.3e}'.format(R1a), \n",
    "      '{:.3e}'.format(R1a_s))\n"
   ]
  },
  {
   "cell_type": "code",
   "execution_count": 134,
   "metadata": {},
   "outputs": [
    {
     "name": "stdout",
     "output_type": "stream",
     "text": [
      "1.370000e+06 3.630000e+06\n"
     ]
    }
   ],
   "source": [
    "# Step 5 : Calculate R2\n",
    "R2 = calc_R2(R1, R3, Vref, Vth)\n",
    "R2_s = calc_R2(R1_s, R3_s, Vref, Vth)\n",
    "\n",
    "\n",
    "\n",
    "print('{:.6e}'.format(R2), \n",
    "      '{:.6e}'.format(R2_s))\n",
    "\n"
   ]
  },
  {
   "cell_type": "code",
   "execution_count": 135,
   "metadata": {},
   "outputs": [],
   "source": [
    "# def calc_R2(R1, R3):\n",
    "#     return 1 / (3.7/(Vref*R1) - 1/R1 - 1/R3)\n",
    "\n",
    "# R2 = calc_R2(2.88, 6)\n",
    "\n",
    "# print('{:.3e}'.format(R2))"
   ]
  },
  {
   "cell_type": "code",
   "execution_count": 136,
   "metadata": {},
   "outputs": [
    {
     "name": "stdout",
     "output_type": "stream",
     "text": [
      "Vtha =5.192e+00\n",
      "Vtla =1.997e+00\n",
      "\n",
      "Vtha_s =5.200e+00\n",
      "Vtla_s =2.000e+00\n",
      "\n"
     ]
    }
   ],
   "source": [
    "Vth_ = VTH(R1, R2, R3, Vref)\n",
    "Vtl_ = VTL(R1, R3, Vth)\n",
    "\n",
    "Vth_s_ = VTH(R1_s, R2_s, R3_s, Vref)\n",
    "Vtl_s_ = VTL(R1_s, R3_s, Vth_s_, Vcc=Vtl)\n",
    "\n",
    "\n",
    "\n",
    "print('Vtha =' + '{:.3e}'.format(Vth_) + '\\n' + 'Vtla =' + '{:.3e}'.format(Vtl_))\n",
    "print()\n",
    "print('Vtha_s =' + '{:.3e}'.format(Vth_s_) + '\\n' + 'Vtla_s =' + '{:.3e}'.format(Vtl_s_))\n",
    "print()\n"
   ]
  },
  {
   "cell_type": "markdown",
   "metadata": {},
   "source": [
    "<br><img src=\"img/Power_mgmt_circuit_calculations-page-001.jpg\" alt=\"Drawing\" style=\"width: 2000px;\"/>\n",
    "\n",
    "<br><img src=\"img/Power_mgmt_circuit_calculations-page-002.jpg\" alt=\"Drawing\" style=\"width: 2000px;\"/>\n",
    "\n",
    "<br><img src=\"img/Power_mgmt_circuit_calculations-page-003.jpg\" alt=\"Drawing\" style=\"width: 2000px;\"/>\n",
    "\n",
    "<br><img src=\"img/Power_mgmt_circuit_calculations-page-004.jpg\" alt=\"Drawing\" style=\"width: 2000px;\"/>\n",
    "\n"
   ]
  },
  {
   "cell_type": "code",
   "execution_count": null,
   "metadata": {},
   "outputs": [],
   "source": []
  },
  {
   "cell_type": "code",
   "execution_count": null,
   "metadata": {},
   "outputs": [],
   "source": []
  }
 ],
 "metadata": {
  "kernelspec": {
   "display_name": "Python 3",
   "language": "python",
   "name": "python3"
  },
  "language_info": {
   "codemirror_mode": {
    "name": "ipython",
    "version": 3
   },
   "file_extension": ".py",
   "mimetype": "text/x-python",
   "name": "python",
   "nbconvert_exporter": "python",
   "pygments_lexer": "ipython3",
   "version": "3.8.3"
  }
 },
 "nbformat": 4,
 "nbformat_minor": 2
}
