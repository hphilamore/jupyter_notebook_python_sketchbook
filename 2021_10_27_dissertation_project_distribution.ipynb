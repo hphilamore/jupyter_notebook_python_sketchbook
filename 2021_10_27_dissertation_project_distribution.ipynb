{
 "cells": [
  {
   "cell_type": "markdown",
   "metadata": {},
   "source": [
    "# Project allocation "
   ]
  },
  {
   "cell_type": "code",
   "execution_count": 79,
   "metadata": {},
   "outputs": [],
   "source": [
    "import numpy \n",
    "import pandas as pd\n"
   ]
  },
  {
   "cell_type": "code",
   "execution_count": 80,
   "metadata": {},
   "outputs": [
    {
     "data": {
      "text/html": [
       "<div>\n",
       "<style scoped>\n",
       "    .dataframe tbody tr th:only-of-type {\n",
       "        vertical-align: middle;\n",
       "    }\n",
       "\n",
       "    .dataframe tbody tr th {\n",
       "        vertical-align: top;\n",
       "    }\n",
       "\n",
       "    .dataframe thead th {\n",
       "        text-align: right;\n",
       "    }\n",
       "</style>\n",
       "<table border=\"1\" class=\"dataframe\">\n",
       "  <thead>\n",
       "    <tr style=\"text-align: right;\">\n",
       "      <th></th>\n",
       "      <th>MSc Robotics</th>\n",
       "      <th>MSc BioRobotics</th>\n",
       "      <th>MSc Aerial Robotics</th>\n",
       "      <th>UoB</th>\n",
       "      <th>UWE</th>\n",
       "      <th>username</th>\n",
       "      <th>firstname</th>\n",
       "      <th>surname</th>\n",
       "      <th>full_name</th>\n",
       "      <th>email</th>\n",
       "      <th>profile</th>\n",
       "      <th>can_be_main_supervisor</th>\n",
       "      <th>max_students</th>\n",
       "    </tr>\n",
       "  </thead>\n",
       "  <tbody>\n",
       "    <tr>\n",
       "      <td>0</td>\n",
       "      <td>X</td>\n",
       "      <td>NaN</td>\n",
       "      <td>NaN</td>\n",
       "      <td>NaN</td>\n",
       "      <td>X</td>\n",
       "      <td>l-aitchison</td>\n",
       "      <td>Laurence</td>\n",
       "      <td>Aitchison</td>\n",
       "      <td>Laurence Aitchison</td>\n",
       "      <td>Laurence.aitchison@bristol.ac.uk</td>\n",
       "      <td>My group uses Bayesian inference to reason abo...</td>\n",
       "      <td>1.0</td>\n",
       "      <td>1.0</td>\n",
       "    </tr>\n",
       "    <tr>\n",
       "      <td>1</td>\n",
       "      <td>X</td>\n",
       "      <td>NaN</td>\n",
       "      <td>NaN</td>\n",
       "      <td>X</td>\n",
       "      <td>NaN</td>\n",
       "      <td>k-aplin</td>\n",
       "      <td>Karen</td>\n",
       "      <td>Aplin</td>\n",
       "      <td>Karen Aplin</td>\n",
       "      <td>karen.aplin@bristol.ac.uk</td>\n",
       "      <td>My research is interdisciplinary, science-driv...</td>\n",
       "      <td>1.0</td>\n",
       "      <td>3.0</td>\n",
       "    </tr>\n",
       "    <tr>\n",
       "      <td>2</td>\n",
       "      <td>X</td>\n",
       "      <td>NaN</td>\n",
       "      <td>NaN</td>\n",
       "      <td>X</td>\n",
       "      <td>NaN</td>\n",
       "      <td>d-barton</td>\n",
       "      <td>David</td>\n",
       "      <td>Barton</td>\n",
       "      <td>David Barton</td>\n",
       "      <td>david.barton@bristol.ac.uk</td>\n",
       "      <td>Research interests\\n- Dynamics (differential e...</td>\n",
       "      <td>1.0</td>\n",
       "      <td>1.0</td>\n",
       "    </tr>\n",
       "    <tr>\n",
       "      <td>3</td>\n",
       "      <td>X</td>\n",
       "      <td>NaN</td>\n",
       "      <td>NaN</td>\n",
       "      <td>NaN</td>\n",
       "      <td>X</td>\n",
       "      <td>a-bolouri</td>\n",
       "      <td>Amir</td>\n",
       "      <td>Bolouri</td>\n",
       "      <td>Amir Bolouri</td>\n",
       "      <td>Amir.Bolouri@uwe.ac.uk</td>\n",
       "      <td>Associate Professor in Manufacturing</td>\n",
       "      <td>1.0</td>\n",
       "      <td>1.0</td>\n",
       "    </tr>\n",
       "    <tr>\n",
       "      <td>4</td>\n",
       "      <td>X</td>\n",
       "      <td>NaN</td>\n",
       "      <td>NaN</td>\n",
       "      <td>NaN</td>\n",
       "      <td>X</td>\n",
       "      <td>a-c-etoundi</td>\n",
       "      <td>Appolinaire</td>\n",
       "      <td>C. Etoundi</td>\n",
       "      <td>Appolinaire C. Etoundi</td>\n",
       "      <td>Appolinaire.Etoundi@uwe.ac.uk</td>\n",
       "      <td>With technological evolution and increase of t...</td>\n",
       "      <td>1.0</td>\n",
       "      <td>5.0</td>\n",
       "    </tr>\n",
       "  </tbody>\n",
       "</table>\n",
       "</div>"
      ],
      "text/plain": [
       "  MSc Robotics MSc BioRobotics MSc Aerial Robotics   UoB UWE      username  \\\n",
       "0            X             NaN                  NaN  NaN    X  l-aitchison   \n",
       "1            X             NaN                  NaN    X  NaN      k-aplin   \n",
       "2            X             NaN                  NaN    X  NaN     d-barton   \n",
       "3            X             NaN                  NaN  NaN    X    a-bolouri   \n",
       "4            X             NaN                  NaN  NaN    X  a-c-etoundi   \n",
       "\n",
       "     firstname     surname               full_name  \\\n",
       "0     Laurence   Aitchison      Laurence Aitchison   \n",
       "1        Karen       Aplin             Karen Aplin   \n",
       "2        David      Barton            David Barton   \n",
       "3         Amir     Bolouri            Amir Bolouri   \n",
       "4  Appolinaire  C. Etoundi  Appolinaire C. Etoundi   \n",
       "\n",
       "                              email  \\\n",
       "0  Laurence.aitchison@bristol.ac.uk   \n",
       "1         karen.aplin@bristol.ac.uk   \n",
       "2        david.barton@bristol.ac.uk   \n",
       "3            Amir.Bolouri@uwe.ac.uk   \n",
       "4     Appolinaire.Etoundi@uwe.ac.uk   \n",
       "\n",
       "                                             profile  can_be_main_supervisor  \\\n",
       "0  My group uses Bayesian inference to reason abo...                     1.0   \n",
       "1  My research is interdisciplinary, science-driv...                     1.0   \n",
       "2  Research interests\\n- Dynamics (differential e...                     1.0   \n",
       "3               Associate Professor in Manufacturing                     1.0   \n",
       "4  With technological evolution and increase of t...                     1.0   \n",
       "\n",
       "   max_students  \n",
       "0           1.0  \n",
       "1           3.0  \n",
       "2           1.0  \n",
       "3           1.0  \n",
       "4           5.0  "
      ]
     },
     "execution_count": 80,
     "metadata": {},
     "output_type": "execute_result"
    }
   ],
   "source": [
    "supervisors = pd.read_excel('data/project_database_2021.xlsx', sheet_name='supervisors')\n",
    "supervisors.rename(columns={'full name': 'full_name'}, inplace=True)\n",
    "supervisors.head(5)"
   ]
  },
  {
   "cell_type": "code",
   "execution_count": 81,
   "metadata": {},
   "outputs": [
    {
     "data": {
      "text/html": [
       "<div>\n",
       "<style scoped>\n",
       "    .dataframe tbody tr th:only-of-type {\n",
       "        vertical-align: middle;\n",
       "    }\n",
       "\n",
       "    .dataframe tbody tr th {\n",
       "        vertical-align: top;\n",
       "    }\n",
       "\n",
       "    .dataframe thead th {\n",
       "        text-align: right;\n",
       "    }\n",
       "</style>\n",
       "<table border=\"1\" class=\"dataframe\">\n",
       "  <thead>\n",
       "    <tr style=\"text-align: right;\">\n",
       "      <th></th>\n",
       "      <th>id</th>\n",
       "      <th>s</th>\n",
       "      <th>T</th>\n",
       "      <th>mail_ID</th>\n",
       "      <th>name</th>\n",
       "      <th>full_name</th>\n",
       "      <th>register</th>\n",
       "      <th>email</th>\n",
       "      <th>dept</th>\n",
       "      <th>N_proj</th>\n",
       "      <th>kwords</th>\n",
       "      <th>prog</th>\n",
       "    </tr>\n",
       "  </thead>\n",
       "  <tbody>\n",
       "    <tr>\n",
       "      <td>0</td>\n",
       "      <td>3</td>\n",
       "      <td>2021-10-12 22:23:23</td>\n",
       "      <td>2021-10-12 22:24:31</td>\n",
       "      <td>hp12384@bristol.ac.uk</td>\n",
       "      <td>Hemma Philamore</td>\n",
       "      <td>Hemma Philamore</td>\n",
       "      <td>Yes</td>\n",
       "      <td>hemma.philamore@gmail.com</td>\n",
       "      <td>Engineering Mathematics</td>\n",
       "      <td>3.0</td>\n",
       "      <td>soft robotics, bio-hybrid robots</td>\n",
       "      <td>MSc Robotics;MSc BioRobotics;</td>\n",
       "    </tr>\n",
       "    <tr>\n",
       "      <td>1</td>\n",
       "      <td>5</td>\n",
       "      <td>2021-10-13 08:39:38</td>\n",
       "      <td>2021-10-13 08:41:22</td>\n",
       "      <td>anonymous</td>\n",
       "      <td>NaN</td>\n",
       "      <td>Helmut Hauser</td>\n",
       "      <td>Yes</td>\n",
       "      <td>helmut.hauser@bristol.ac.uk</td>\n",
       "      <td>Engineering Mathematics</td>\n",
       "      <td>3.0</td>\n",
       "      <td>morphological computation, locomotion, soft ro...</td>\n",
       "      <td>MSc BioRobotics;MSc Robotics;</td>\n",
       "    </tr>\n",
       "    <tr>\n",
       "      <td>2</td>\n",
       "      <td>6</td>\n",
       "      <td>2021-10-13 09:35:01</td>\n",
       "      <td>2021-10-13 09:35:15</td>\n",
       "      <td>anonymous</td>\n",
       "      <td>NaN</td>\n",
       "      <td>Nikolai Bode</td>\n",
       "      <td>No</td>\n",
       "      <td>NaN</td>\n",
       "      <td>NaN</td>\n",
       "      <td>NaN</td>\n",
       "      <td>NaN</td>\n",
       "      <td>NaN</td>\n",
       "    </tr>\n",
       "    <tr>\n",
       "      <td>3</td>\n",
       "      <td>7</td>\n",
       "      <td>2021-10-13 09:13:45</td>\n",
       "      <td>2021-10-13 09:38:42</td>\n",
       "      <td>anonymous</td>\n",
       "      <td>NaN</td>\n",
       "      <td>Dandan Zhang</td>\n",
       "      <td>Yes</td>\n",
       "      <td>ye21623@bristol.ac.uk</td>\n",
       "      <td>Engineering Mathematics</td>\n",
       "      <td>5.0</td>\n",
       "      <td>Robot learning ( Machine Learning and Deep Lea...</td>\n",
       "      <td>MSc BioRobotics;MSc Robotics;</td>\n",
       "    </tr>\n",
       "    <tr>\n",
       "      <td>4</td>\n",
       "      <td>8</td>\n",
       "      <td>2021-10-13 10:18:46</td>\n",
       "      <td>2021-10-13 10:18:56</td>\n",
       "      <td>anonymous</td>\n",
       "      <td>NaN</td>\n",
       "      <td>Tom Hill</td>\n",
       "      <td>No</td>\n",
       "      <td>NaN</td>\n",
       "      <td>NaN</td>\n",
       "      <td>NaN</td>\n",
       "      <td>NaN</td>\n",
       "      <td>NaN</td>\n",
       "    </tr>\n",
       "  </tbody>\n",
       "</table>\n",
       "</div>"
      ],
      "text/plain": [
       "   id                   s                   T                mail_ID  \\\n",
       "0   3 2021-10-12 22:23:23 2021-10-12 22:24:31  hp12384@bristol.ac.uk   \n",
       "1   5 2021-10-13 08:39:38 2021-10-13 08:41:22              anonymous   \n",
       "2   6 2021-10-13 09:35:01 2021-10-13 09:35:15              anonymous   \n",
       "3   7 2021-10-13 09:13:45 2021-10-13 09:38:42              anonymous   \n",
       "4   8 2021-10-13 10:18:46 2021-10-13 10:18:56              anonymous   \n",
       "\n",
       "              name        full_name register                        email  \\\n",
       "0  Hemma Philamore  Hemma Philamore      Yes    hemma.philamore@gmail.com   \n",
       "1              NaN    Helmut Hauser      Yes  helmut.hauser@bristol.ac.uk   \n",
       "2              NaN     Nikolai Bode       No                          NaN   \n",
       "3              NaN     Dandan Zhang      Yes        ye21623@bristol.ac.uk   \n",
       "4              NaN         Tom Hill       No                          NaN   \n",
       "\n",
       "                      dept  N_proj  \\\n",
       "0  Engineering Mathematics     3.0   \n",
       "1  Engineering Mathematics     3.0   \n",
       "2                      NaN     NaN   \n",
       "3  Engineering Mathematics     5.0   \n",
       "4                      NaN     NaN   \n",
       "\n",
       "                                              kwords  \\\n",
       "0                   soft robotics, bio-hybrid robots   \n",
       "1  morphological computation, locomotion, soft ro...   \n",
       "2                                                NaN   \n",
       "3  Robot learning ( Machine Learning and Deep Lea...   \n",
       "4                                                NaN   \n",
       "\n",
       "                            prog  \n",
       "0  MSc Robotics;MSc BioRobotics;  \n",
       "1  MSc BioRobotics;MSc Robotics;  \n",
       "2                            NaN  \n",
       "3  MSc BioRobotics;MSc Robotics;  \n",
       "4                            NaN  "
      ]
     },
     "execution_count": 81,
     "metadata": {},
     "output_type": "execute_result"
    }
   ],
   "source": [
    "cols = ['id', 's', 'T', 'mail_ID', 'name', 'full_name', 'register', 'email', 'dept', 'N_proj', 'kwords', 'prog']\n",
    "resp = pd.read_excel('data/project_database_2021.xlsx', sheet_name='response_round_1', names=cols)\n",
    "resp.head(5)"
   ]
  },
  {
   "cell_type": "code",
   "execution_count": 95,
   "metadata": {},
   "outputs": [
    {
     "name": "stdout",
     "output_type": "stream",
     "text": [
      "N primary supervisors contacted initially:  47\n",
      "N responded (total):  32\n",
      "N responded primary supervisors:  17\n",
      "N did not respond primary supervisors:  30\n",
      "N responded new (PDRAs?):  15\n",
      "N total projects:  59.0\n",
      "Response rate (primary supervisors): 0.3617021276595745\n",
      "Forecast total projects (assume unresponsive supervisors submit 3 projects each) 149.0\n",
      "{'David Barton', 'Antonia Tzemanaki', 'Namid Shatil', 'Kevin McAreavey', 'Kerstin Eder', 'Lucia Marucci', 'Tom Richardson', 'Karen Aplin', 'Walterio Mayol-Cuevas', 'Zeke Steer', 'Emma Milner', 'Dima Damen', 'Ahmed Khalil', 'Weiru Liu', 'Chris Hutson', 'Yanan Liu', 'Mark Schenk', 'Yongzhao Hua', 'Sabine Hauert', 'Dimitra Simeonidou', 'Marc Holderied', 'Yao Lu', 'Jonathan Lawry', 'Janis Stolzenwald', 'Andrew  Calway ', 'Jonathan Rossiter', 'Sebastian  East ', 'Steve Burrow ', 'Alan Champneys', 'Michael Elkington'}\n"
     ]
    }
   ],
   "source": [
    "all_resp = resp.full_name                                     # total responses\n",
    "\n",
    "withdraw = resp[resp.register == 'No'].full_name   # init primary supervisors who withdrew\n",
    "#N_withdraw = resp[resp.register == 'No'].shape[0]                                   # number of primary supervisors who withdrew\n",
    "\n",
    "init = supervisors[supervisors.UoB == 'X'].full_name.append(supers_withdraw) # init primary supervisors \n",
    "\n",
    "init_resp    = set(supers_init) & set(resp.full_name) \n",
    "\n",
    "init_no_resp = set(supers_init) - set(resp.full_name)\n",
    "\n",
    "new          = set(resp.full_name) - set(supers_init)\n",
    "\n",
    "N_projects = sum(resp.N_proj.dropna())\n",
    "\n",
    "\n",
    "\n",
    "\n",
    "\n",
    "print('N primary supervisors contacted initially: ', len(init))\n",
    "\n",
    "print('N responded (total): ', len(all_resp))\n",
    "\n",
    "print('N responded primary supervisors: ', len(init_resp))\n",
    "\n",
    "print('N did not respond primary supervisors: ', len(init_no_resp))\n",
    "\n",
    "print('N responded new (PDRAs?): ', len(new))\n",
    "\n",
    "print('N total projects: ', N_projects)\n",
    "\n",
    "print('Response rate (primary supervisors):', len(init_resp)/len(init))\n",
    "\n",
    "print('Forecast total projects (assume unresponsive supervisors submit 3 projects each)', N_projects + 3*len(init_no_resp))\n",
    "\n",
    "print(init_no_resp)"
   ]
  },
  {
   "cell_type": "markdown",
   "metadata": {},
   "source": [
    "\n",
    "After poking supervisors\n",
    "- How many more problems do we need to match total student number? \n",
    "- How many more problems do we need to match student number across each program? \n",
    "- Which departments contributed (freq distribution)?\n",
    "- Which programmes are projects suitable for (freq distriution)? "
   ]
  },
  {
   "cell_type": "code",
   "execution_count": 11,
   "metadata": {},
   "outputs": [
    {
     "name": "stdout",
     "output_type": "stream",
     "text": [
      "['How', 'is', 'the', 'weather?']\n"
     ]
    },
    {
     "data": {
      "text/plain": [
       "'How is the weather?'"
      ]
     },
     "execution_count": 11,
     "metadata": {},
     "output_type": "execute_result"
    }
   ],
   "source": [
    "# Take a sentence and add each word\n",
    "# to the WordList\n",
    "WordList = []\n",
    "Sentence = \"How is the weather?\"\n",
    "for Word in Sentence.split(\" \"):\n",
    "    WordList.append(Word)\n",
    "print(WordList)\n",
    "\n",
    "\" \".join(WordList)"
   ]
  },
  {
   "cell_type": "code",
   "execution_count": 12,
   "metadata": {},
   "outputs": [
    {
     "data": {
      "text/plain": [
       "set"
      ]
     },
     "execution_count": 12,
     "metadata": {},
     "output_type": "execute_result"
    }
   ],
   "source": [
    "type({3, 5, '4'})"
   ]
  },
  {
   "cell_type": "code",
   "execution_count": 20,
   "metadata": {},
   "outputs": [
    {
     "data": {
      "text/plain": [
       "10.0"
      ]
     },
     "execution_count": 20,
     "metadata": {},
     "output_type": "execute_result"
    }
   ],
   "source": [
    "type(20/2)\n",
    "20/2"
   ]
  },
  {
   "cell_type": "code",
   "execution_count": 21,
   "metadata": {},
   "outputs": [
    {
     "data": {
      "text/plain": [
       "[1, 1, 3]"
      ]
     },
     "execution_count": 21,
     "metadata": {},
     "output_type": "execute_result"
    }
   ],
   "source": [
    "A = [1, 2, 3]\n",
    "A[1] = A[1]-1\n",
    "A"
   ]
  },
  {
   "cell_type": "code",
   "execution_count": 24,
   "metadata": {},
   "outputs": [
    {
     "name": "stdout",
     "output_type": "stream",
     "text": [
      "-2\n"
     ]
    }
   ],
   "source": [
    "Numbers = [1,2,3,4]\n",
    "Total = 0\n",
    "for item in Numbers:\n",
    "    if item%2 != 0:\n",
    "        Total += item\n",
    "    else:\n",
    "        Total -= item\n",
    "print(Total)"
   ]
  },
  {
   "cell_type": "code",
   "execution_count": 26,
   "metadata": {},
   "outputs": [
    {
     "data": {
      "text/plain": [
       "4"
      ]
     },
     "execution_count": 26,
     "metadata": {},
     "output_type": "execute_result"
    }
   ],
   "source": [
    "A = [x+x for x in range(5)]\n",
    "B = A[2]\n",
    "B"
   ]
  },
  {
   "cell_type": "code",
   "execution_count": 29,
   "metadata": {},
   "outputs": [
    {
     "name": "stdout",
     "output_type": "stream",
     "text": [
      "set()\n"
     ]
    }
   ],
   "source": [
    "A = {1, 2, 3, 4}\n",
    "B = {5}\n",
    "print(A&B)"
   ]
  },
  {
   "cell_type": "code",
   "execution_count": 31,
   "metadata": {},
   "outputs": [
    {
     "data": {
      "text/plain": [
       "-5"
      ]
     },
     "execution_count": 31,
     "metadata": {},
     "output_type": "execute_result"
    }
   ],
   "source": [
    "A = [9,-5,4,7]\n",
    "A.sort()\n",
    "B = A[0]\n",
    "B"
   ]
  },
  {
   "cell_type": "code",
   "execution_count": null,
   "metadata": {},
   "outputs": [],
   "source": []
  }
 ],
 "metadata": {
  "kernelspec": {
   "display_name": "Python 3",
   "language": "python",
   "name": "python3"
  },
  "language_info": {
   "codemirror_mode": {
    "name": "ipython",
    "version": 3
   },
   "file_extension": ".py",
   "mimetype": "text/x-python",
   "name": "python",
   "nbconvert_exporter": "python",
   "pygments_lexer": "ipython3",
   "version": "3.8.3"
  }
 },
 "nbformat": 4,
 "nbformat_minor": 2
}
