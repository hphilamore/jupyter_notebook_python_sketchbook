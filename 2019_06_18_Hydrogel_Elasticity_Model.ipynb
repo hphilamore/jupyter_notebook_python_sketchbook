{
 "cells": [
  {
   "cell_type": "code",
   "execution_count": 6,
   "metadata": {},
   "outputs": [],
   "source": [
    "import numpy as np\n",
    "import matplotlib.pyplot as plt"
   ]
  },
  {
   "cell_type": "markdown",
   "metadata": {},
   "source": [
    "## Thin walled pressure vessel \n",
    "Physics forum example"
   ]
  },
  {
   "cell_type": "code",
   "execution_count": 45,
   "metadata": {},
   "outputs": [],
   "source": [
    "E = 69 * 1_000\n",
    "r0 = 1\n",
    "t0 = 0.001\n",
    "#r = np.arange(0.01, 0.1, 0.001)\n",
    "r = np.arange(1, 10, 0.1)\n",
    "# print(r)"
   ]
  },
  {
   "cell_type": "code",
   "execution_count": 46,
   "metadata": {},
   "outputs": [],
   "source": [
    "s = r/r0 - 1\n",
    "# print(s)"
   ]
  },
  {
   "cell_type": "code",
   "execution_count": 47,
   "metadata": {},
   "outputs": [],
   "source": [
    "P = 2 * E * (r - r0) * t0 * r0 / r**3\n",
    "# print(P)"
   ]
  },
  {
   "cell_type": "code",
   "execution_count": 48,
   "metadata": {},
   "outputs": [
    {
     "data": {
      "text/plain": [
       "[<matplotlib.lines.Line2D at 0x1190f3a90>]"
      ]
     },
     "execution_count": 48,
     "metadata": {},
     "output_type": "execute_result"
    },
    {
     "data": {
      "image/png": "[encoded data removed]",
      "text/plain": [
       "<Figure size 432x288 with 1 Axes>"
      ]
     },
     "metadata": {},
     "output_type": "display_data"
    }
   ],
   "source": [
    "# s = r/r0\n",
    "plt.plot(s + 1, P)"
   ]
  },
  {
   "cell_type": "markdown",
   "metadata": {},
   "source": [
    "Lecture notes example "
   ]
  },
  {
   "cell_type": "code",
   "execution_count": 49,
   "metadata": {},
   "outputs": [],
   "source": [
    "E = 69 * 1_000\n",
    "r0 = 1\n",
    "t0 = 0.001\n",
    "#r = np.arange(0.01, 0.1, 0.001)\n",
    "r = np.arange(1, 10, 0.1)\n",
    "#P = 4 * E * (r - r0) * t0 / r**2\n",
    "P = 4 * E * (r - r0) * t0 / r**2"
   ]
  },
  {
   "cell_type": "code",
   "execution_count": 50,
   "metadata": {},
   "outputs": [
    {
     "data": {
      "text/plain": [
       "[<matplotlib.lines.Line2D at 0x11921ee80>]"
      ]
     },
     "execution_count": 50,
     "metadata": {},
     "output_type": "execute_result"
    },
    {
     "data": {
      "image/png": "[encoded data removed]",
      "text/plain": [
       "<Figure size 432x288 with 1 Axes>"
      ]
     },
     "metadata": {},
     "output_type": "display_data"
    }
   ],
   "source": [
    "#plt.plot(s + 1, P)\n",
    "plt.plot(r, P)"
   ]
  },
  {
   "cell_type": "code",
   "execution_count": 51,
   "metadata": {},
   "outputs": [
    {
     "data": {
      "text/plain": [
       "[-b/c]"
      ]
     },
     "execution_count": 51,
     "metadata": {},
     "output_type": "execute_result"
    }
   ],
   "source": [
    "from sympy import solve, symbols, Symbol, Function, Eq, pprint \n",
    "a,b,c,d,e = symbols('a,b,c,d,e')\n",
    "#a, b, c, x = symbols('a, b, c, x')\n",
    "a = (b+c*d)/e\n",
    "#l = a\n",
    "r = solve(a,d)\n",
    "#l = d\n",
    "r\n",
    "\n"
   ]
  },
  {
   "cell_type": "markdown",
   "metadata": {},
   "source": [
    "Re-arranging functions with sympy\n",
    "\n",
    "https://stackoverflow.com/questions/50284390/rearranging-and-solving-an-equation-in-python"
   ]
  },
  {
   "cell_type": "code",
   "execution_count": 52,
   "metadata": {},
   "outputs": [],
   "source": [
    "import numpy as np\n",
    "import sympy\n",
    "a,b,c,d,e = sympy.symbols('a,b,c,d,e')\n"
   ]
  },
  {
   "cell_type": "code",
   "execution_count": 53,
   "metadata": {},
   "outputs": [],
   "source": [
    "aexpr = (b+c*d)/e\n",
    "aeq = sympy.Eq(a, aexpr)\n"
   ]
  },
  {
   "cell_type": "code",
   "execution_count": 54,
   "metadata": {},
   "outputs": [
    {
     "name": "stdout",
     "output_type": "stream",
     "text": [
      "    b + c⋅d\n",
      "a = ───────\n",
      "       e   \n"
     ]
    }
   ],
   "source": [
    "sympy.pprint(aeq)\n"
   ]
  },
  {
   "cell_type": "code",
   "execution_count": 59,
   "metadata": {},
   "outputs": [
    {
     "data": {
      "text/plain": [
       "a*e - c*d"
      ]
     },
     "execution_count": 59,
     "metadata": {},
     "output_type": "execute_result"
    }
   ],
   "source": [
    "bexpr = sympy.solve(aeq, b)[0]\n",
    "bexpr\n"
   ]
  },
  {
   "cell_type": "code",
   "execution_count": 60,
   "metadata": {},
   "outputs": [
    {
     "name": "stdout",
     "output_type": "stream",
     "text": [
      "a⋅e - c⋅d\n"
     ]
    }
   ],
   "source": [
    "beq = sympy.Eq(b, bexpr)\n",
    "sympy.pprint(bexpr)\n"
   ]
  },
  {
   "cell_type": "markdown",
   "metadata": {},
   "source": [
    "## Thick spherical pressure vessel\n",
    "\n",
    "http://mms2.ensmp.fr/emms_paris/plasticite3D/exercices/eSpherePress.pdf\n",
    "\n",
    "http://solidmechanics.org/text/Chapter4_1/Chapter4_1.htm#Sect4_1_4\n",
    "\n",
    "<img src=\"img/thick_shell.png\" alt=\"Drawing\" style=\"width: 400px;\"/> \n",
    "\n",
    "<img src=\"img/thick_shell_eqtn.png\" alt=\"Drawing\" style=\"width: 400px;\"/> \n",
    "\n",
    "<img src=\"img/thick_shell_val_subs.png\" alt=\"Drawing\" style=\"width: 400px;\"/> \n",
    "\n",
    "Radius r replaced with bfinal (final outer diameter ofthe shell) as this is the radius we are concerned with. \n"
   ]
  },
  {
   "cell_type": "code",
   "execution_count": 61,
   "metadata": {},
   "outputs": [],
   "source": [
    "ai, af, bi, bf, v , E , P , P_= sympy.symbols('ai, af, bi, bf, v , E , P, P_')\n",
    "# ai = inner radius, initial\n",
    "# af = inner radius, final\n",
    "# bi= outer radius, initial\n",
    "# bf = outer radius, final\n",
    "# v = poisson ratio (0.5 for ruber)\n",
    "# E = Youngs moduls\n",
    "# P = internal pressure "
   ]
  },
  {
   "cell_type": "code",
   "execution_count": 62,
   "metadata": {},
   "outputs": [
    {
     "name": "stdout",
     "output_type": "stream",
     "text": [
      "                ⎛                       1.0⎞                  -1.0\n",
      "                ⎜  3   ⎛  3     3     3⎞   ⎟ ⎛  3     3     3⎞    \n",
      "    E⋅(bf - bi)⋅⎝bf  - ⎝ai  + bf  - bi ⎠   ⎠⋅⎝ai  + bf  - bi ⎠    \n",
      "P = ──────────────────────────────────────────────────────────────\n",
      "                                      bf⋅(v + 1)                  \n",
      "                      bf⋅(-2⋅v + 1) + ──────────                  \n",
      "                                          2                       \n"
     ]
    },
    {
     "data": {
      "text/plain": [
       "[<matplotlib.lines.Line2D at 0x11916dcf8>]"
      ]
     },
     "execution_count": 62,
     "metadata": {},
     "output_type": "execute_result"
    },
    {
     "data": {
      "image/png": "[encoded data removed]",
      "text/plain": [
       "<Figure size 432x288 with 1 Axes>"
      ]
     },
     "metadata": {},
     "output_type": "display_data"
    }
   ],
   "source": [
    "r = np.arange(1, 10, 0.1)\n",
    "af = (bf**3 - bi**3 + ai**3) ** (1./3)\n",
    "P_expr = E * ((bf**3 - af**3) / af**3) * 1/( (1 - 2*v) * bf + (1 + v) * bf**3 / (2*bf**2) ) * (bf - bi)\n",
    "P_eq = sympy.Eq(P, P_expr)\n",
    "sympy.pprint(P_eq)\n",
    "\n",
    "rads = []\n",
    "pressures = []\n",
    "\n",
    "for r in range(0, 100):\n",
    "    rad_init = 1\n",
    "    delta_r = r/100\n",
    "    rad_fin = rad_init + delta_r\n",
    "    rads.append(1 + delta_r)\n",
    "    pressures.append(P_expr.subs(E, 69 * 1_000).subs(ai,0.5).subs(bi, rad_init).subs(bf, rad_fin).subs(v, 0.5))\n",
    "    \n",
    "    \n",
    "plt.plot(rads, pressures)"
   ]
  },
  {
   "cell_type": "code",
   "execution_count": 63,
   "metadata": {},
   "outputs": [
    {
     "data": {
      "text/plain": [
       "-1.46132935746951e-7"
      ]
     },
     "execution_count": 63,
     "metadata": {},
     "output_type": "execute_result"
    }
   ],
   "source": [
    "P_expr.subs(E, 3.48e-6).subs(ai,12700).subs(bi, 8031).subs(bf, r).subs(v, 1000+273)"
   ]
  },
  {
   "cell_type": "code",
   "execution_count": 64,
   "metadata": {},
   "outputs": [
    {
     "name": "stdout",
     "output_type": "stream",
     "text": [
      "                                                          1.0\n",
      "            ⎛                bf⋅(v + 1)⎞ ⎛  3     3     3⎞   \n",
      "          P⋅⎜bf⋅(-2⋅v + 1) + ──────────⎟⋅⎝ai  + bf  - bi ⎠   \n",
      "            ⎝                    2     ⎠                     \n",
      "bf = bi + ───────────────────────────────────────────────────\n",
      "                       ⎛                       1.0⎞          \n",
      "                       ⎜  3   ⎛  3     3     3⎞   ⎟          \n",
      "                     E⋅⎝bf  - ⎝ai  + bf  - bi ⎠   ⎠          \n"
     ]
    }
   ],
   "source": [
    "bf_expr = (af**3 / (bf**3 - af**3)) * ( (1 - 2*v) * bf + (1 + v) * bf**3 / (2*bf**2) ) * (P/E) + bi\n",
    "bf_eq = sympy.Eq(bf, bf_expr)\n",
    "sympy.pprint(bf_eq)"
   ]
  },
  {
   "cell_type": "code",
   "execution_count": 69,
   "metadata": {},
   "outputs": [],
   "source": [
    "# re-arrange for P\n",
    "P_expr = sympy.solve(bf_eq, P)[0]"
   ]
  },
  {
   "cell_type": "code",
   "execution_count": 66,
   "metadata": {},
   "outputs": [],
   "source": [
    "\n",
    "#P_expr = 0.666666666666667*E*(ai**3*bf - ai**3*bi - bf*bi**3 + bi**4)/(bf*(ai**3*v - ai**3 + bf**3*v - bf**3 - bi**3*v + bi**3))\n",
    "\n"
   ]
  },
  {
   "cell_type": "code",
   "execution_count": 67,
   "metadata": {},
   "outputs": [
    {
     "name": "stdout",
     "output_type": "stream",
     "text": [
      "                        ⎛  3        3           3     4⎞\n",
      "    0.666666666666667⋅E⋅⎝ai ⋅bf - ai ⋅bi - bf⋅bi  + bi ⎠\n",
      "P = ────────────────────────────────────────────────────\n",
      "           ⎛  3       3     3       3     3       3⎞    \n",
      "        bf⋅⎝ai ⋅v - ai  + bf ⋅v - bf  - bi ⋅v + bi ⎠    \n"
     ]
    }
   ],
   "source": [
    "P_eq = sympy.Eq(P, P_expr)\n",
    "sympy.pprint(P_eq)"
   ]
  },
  {
   "cell_type": "code",
   "execution_count": 68,
   "metadata": {},
   "outputs": [
    {
     "data": {
      "text/plain": [
       "2.0"
      ]
     },
     "execution_count": 68,
     "metadata": {},
     "output_type": "execute_result"
    }
   ],
   "source": [
    "8**(1/3)"
   ]
  },
  {
   "cell_type": "code",
   "execution_count": null,
   "metadata": {},
   "outputs": [],
   "source": []
  },
  {
   "cell_type": "code",
   "execution_count": null,
   "metadata": {},
   "outputs": [],
   "source": []
  },
  {
   "cell_type": "code",
   "execution_count": null,
   "metadata": {},
   "outputs": [],
   "source": []
  }
 ],
 "metadata": {
  "kernelspec": {
   "display_name": "Python 3",
   "language": "python",
   "name": "python3"
  },
  "language_info": {
   "codemirror_mode": {
    "name": "ipython",
    "version": 3
   },
   "file_extension": ".py",
   "mimetype": "text/x-python",
   "name": "python",
   "nbconvert_exporter": "python",
   "pygments_lexer": "ipython3",
   "version": "3.8.3"
  }
 },
 "nbformat": 4,
 "nbformat_minor": 2
}
